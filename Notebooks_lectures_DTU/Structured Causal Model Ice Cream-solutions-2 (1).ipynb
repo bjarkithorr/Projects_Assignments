{
 "cells": [
  {
   "cell_type": "markdown",
   "id": "a7abef09",
   "metadata": {},
   "source": [
    "*Francisco Pereira [camara@dtu.dk], DTU Management*\n",
    "\n",
    "# Advanced Business Analytics\n",
    "\n",
    "## Lecture 9 - Causality - Part 2: Ice Cream Sales\n",
    "\n",
    "...so let's now try to solve our Ice Cream sales problem from the perspective of Structure Causal Models. \n",
    "\n",
    "From a conversation with the Scuba operators and the Ice Cream sales company, you concluded that people do go diving regardless of the temperature (you can always have a thick wet suit!), while people from the ice cream shops (and the hotels) say that with high temperature there's clearly more clients. So you designed the following causal graph:"
   ]
  },
  {
   "cell_type": "markdown",
   "id": "f3c41184",
   "metadata": {},
   "source": [
    "<img src=\"http://mlsm.man.dtu.dk/scm.png\" alt=\"Drawing\" style=\"width: 600px;\"/>"
   ]
  },
  {
   "cell_type": "markdown",
   "id": "2980adea",
   "metadata": {},
   "source": [
    "Having this, you can now estimate your Structural Causal Model with the data available. "
   ]
  },
  {
   "cell_type": "code",
   "execution_count": 1,
   "id": "f1851dd7",
   "metadata": {},
   "outputs": [],
   "source": [
    "import numpy as np\n",
    "import pandas as pd\n",
    "import matplotlib.pyplot as plt\n",
    "from sklearn.neural_network import MLPClassifier, MLPRegressor\n",
    "from sklearn.model_selection import train_test_split\n",
    "from sklearn.gaussian_process import GaussianProcessClassifier, GaussianProcessRegressor\n",
    "from sklearn.ensemble import RandomForestClassifier, RandomForestRegressor, GradientBoostingClassifier, GradientBoostingRegressor\n",
    "from sklearn.linear_model import LogisticRegression, LinearRegression\n",
    "from sklearn.neural_network import MLPRegressor\n",
    "from sklearn.ensemble import GradientBoostingRegressor\n",
    "from sklearn.gaussian_process import GaussianProcessRegressor\n",
    "from sklearn.linear_model import LinearRegression\n",
    "from sklearn.model_selection import train_test_split\n",
    "from sklearn.multioutput import MultiOutputRegressor\n",
    "\n",
    "\n",
    "from sklearn.metrics import mean_squared_error, mean_absolute_error,r2_score\n",
    "from sklearn.metrics import accuracy_score\n",
    "\n",
    "\n"
   ]
  },
  {
   "cell_type": "code",
   "execution_count": 2,
   "id": "2c3ce2d9",
   "metadata": {},
   "outputs": [],
   "source": [
    "import warnings\n",
    "warnings.filterwarnings('ignore')"
   ]
  },
  {
   "cell_type": "code",
   "execution_count": 3,
   "id": "9d97ab8f",
   "metadata": {},
   "outputs": [],
   "source": [
    "dataset=pd.read_csv(\"ice_cream_sales.csv\")"
   ]
  },
  {
   "cell_type": "markdown",
   "id": "b34b819e",
   "metadata": {},
   "source": [
    "We created an SCM dictionary for you, and the code to learn it. "
   ]
  },
  {
   "cell_type": "code",
   "execution_count": 4,
   "id": "fcd2dce7",
   "metadata": {},
   "outputs": [],
   "source": [
    "scm={}"
   ]
  },
  {
   "cell_type": "code",
   "execution_count": 5,
   "id": "5ce5d128",
   "metadata": {},
   "outputs": [],
   "source": [
    "#Creates an assignment function for a cause-effect relationship in the SCM\n",
    "#\n",
    "def generate_ML_assignment(trainset, testset, x_features, y_feature, model):\n",
    "    model.fit(trainset[x_features], trainset[y_feature])\n",
    "    score=model.score(testset[x_features], testset[y_feature])\n",
    "    \n",
    "    print(\"training performance:\", model.score(trainset[x_features], trainset[y_feature]))\n",
    "    print(\"testset performance:\",  score)\n",
    "    print(\"-\"*20+\"\\n\")\n",
    "              \n",
    "    \n",
    "    return model\n",
    "    "
   ]
  },
  {
   "cell_type": "markdown",
   "id": "fc25dd8a",
   "metadata": {},
   "source": [
    "We're doing the very same train/test data split as before, so that we can make a comparison!"
   ]
  },
  {
   "cell_type": "code",
   "execution_count": 6,
   "id": "41e2f073",
   "metadata": {},
   "outputs": [],
   "source": [
    "train, test=train_test_split(dataset, shuffle=False)"
   ]
  },
  {
   "cell_type": "markdown",
   "id": "c7774421",
   "metadata": {},
   "source": [
    "We saw that the Gradient Boosting model was the best before, so let's use it in the SCM for now (note that you could use different models for each cause-effect relationship!)"
   ]
  },
  {
   "cell_type": "code",
   "execution_count": 7,
   "id": "16345d4d",
   "metadata": {},
   "outputs": [],
   "source": [
    "SCM_ML_MODEL=GradientBoostingRegressor\n"
   ]
  },
  {
   "cell_type": "markdown",
   "id": "31c20950",
   "metadata": {},
   "source": [
    "Now, let's follow the graph above. We can see that \"Tourists\" is only dependent on temperature"
   ]
  },
  {
   "cell_type": "code",
   "execution_count": 8,
   "id": "6dbd47fb",
   "metadata": {},
   "outputs": [
    {
     "name": "stdout",
     "output_type": "stream",
     "text": [
      "training performance: 0.9838428401924272\n",
      "testset performance: 0.974082313973503\n",
      "--------------------\n",
      "\n"
     ]
    }
   ],
   "source": [
    "causes=['Temperature']\n",
    "effects=['Tourists']\n",
    "scm['Tourists']={'model':generate_ML_assignment(train, test, causes, effects, SCM_ML_MODEL()), 'causes': causes, 'effects':effects}"
   ]
  },
  {
   "cell_type": "markdown",
   "id": "f159dfe1",
   "metadata": {},
   "source": [
    "Do you want to make the models for Ice Cream and for Scuba?"
   ]
  },
  {
   "cell_type": "code",
   "execution_count": 9,
   "id": "652b9671",
   "metadata": {},
   "outputs": [
    {
     "name": "stdout",
     "output_type": "stream",
     "text": [
      "training performance: 0.9978024714375499\n",
      "testset performance: 0.9943361479611919\n",
      "--------------------\n",
      "\n"
     ]
    }
   ],
   "source": [
    "causes=['Temperature', 'Tourists']\n",
    "effects=['Ice_Cream']\n",
    "scm['Ice_Cream']={'model':generate_ML_assignment(train, test, causes, effects, SCM_ML_MODEL()), 'causes':causes, 'effects':effects}"
   ]
  },
  {
   "cell_type": "code",
   "execution_count": 10,
   "id": "39cb402a",
   "metadata": {},
   "outputs": [
    {
     "name": "stdout",
     "output_type": "stream",
     "text": [
      "training performance: 0.9589685112810257\n",
      "testset performance: 0.9433893696045019\n",
      "--------------------\n",
      "\n"
     ]
    }
   ],
   "source": [
    "causes=[ 'Tourists']\n",
    "effects=['Scuba']\n",
    "scm['Scuba']={'model':generate_ML_assignment(train, test, causes, effects, SCM_ML_MODEL()), 'causes':causes, 'effects':effects}"
   ]
  },
  {
   "cell_type": "markdown",
   "id": "dc35e57c",
   "metadata": {},
   "source": [
    "Take a look at the scm that you created:"
   ]
  },
  {
   "cell_type": "code",
   "execution_count": 11,
   "id": "0b8a9e3a",
   "metadata": {},
   "outputs": [
    {
     "data": {
      "text/plain": [
       "{'Tourists': {'model': GradientBoostingRegressor(alpha=0.9, criterion='friedman_mse', init=None,\n",
       "                            learning_rate=0.1, loss='ls', max_depth=3,\n",
       "                            max_features=None, max_leaf_nodes=None,\n",
       "                            min_impurity_decrease=0.0, min_impurity_split=None,\n",
       "                            min_samples_leaf=1, min_samples_split=2,\n",
       "                            min_weight_fraction_leaf=0.0, n_estimators=100,\n",
       "                            n_iter_no_change=None, presort='auto',\n",
       "                            random_state=None, subsample=1.0, tol=0.0001,\n",
       "                            validation_fraction=0.1, verbose=0, warm_start=False),\n",
       "  'causes': ['Temperature'],\n",
       "  'effects': ['Tourists']},\n",
       " 'Ice_Cream': {'model': GradientBoostingRegressor(alpha=0.9, criterion='friedman_mse', init=None,\n",
       "                            learning_rate=0.1, loss='ls', max_depth=3,\n",
       "                            max_features=None, max_leaf_nodes=None,\n",
       "                            min_impurity_decrease=0.0, min_impurity_split=None,\n",
       "                            min_samples_leaf=1, min_samples_split=2,\n",
       "                            min_weight_fraction_leaf=0.0, n_estimators=100,\n",
       "                            n_iter_no_change=None, presort='auto',\n",
       "                            random_state=None, subsample=1.0, tol=0.0001,\n",
       "                            validation_fraction=0.1, verbose=0, warm_start=False),\n",
       "  'causes': ['Temperature', 'Tourists'],\n",
       "  'effects': ['Ice_Cream']},\n",
       " 'Scuba': {'model': GradientBoostingRegressor(alpha=0.9, criterion='friedman_mse', init=None,\n",
       "                            learning_rate=0.1, loss='ls', max_depth=3,\n",
       "                            max_features=None, max_leaf_nodes=None,\n",
       "                            min_impurity_decrease=0.0, min_impurity_split=None,\n",
       "                            min_samples_leaf=1, min_samples_split=2,\n",
       "                            min_weight_fraction_leaf=0.0, n_estimators=100,\n",
       "                            n_iter_no_change=None, presort='auto',\n",
       "                            random_state=None, subsample=1.0, tol=0.0001,\n",
       "                            validation_fraction=0.1, verbose=0, warm_start=False),\n",
       "  'causes': ['Tourists'],\n",
       "  'effects': ['Scuba']}}"
      ]
     },
     "execution_count": 11,
     "metadata": {},
     "output_type": "execute_result"
    }
   ],
   "source": [
    "scm"
   ]
  },
  {
   "cell_type": "markdown",
   "id": "a9d3a0cb",
   "metadata": {},
   "source": [
    "-------------"
   ]
  },
  {
   "cell_type": "markdown",
   "id": "3c73a518",
   "metadata": {},
   "source": [
    "Now it's time to create the forward inference for the full SCM. This is a function that, given a dataset, will propagate across the graph (from \"causes\" to \"effects\") to predict all possible nodes. We will make the code for you. "
   ]
  },
  {
   "cell_type": "markdown",
   "id": "ff95d098",
   "metadata": {},
   "source": [
    "First, we have a code that verifies, for a certain SCM assignment function, if we already have the data (the \"causes\" for that SCM assignment function) to run that function, and thus generate the \"effects\""
   ]
  },
  {
   "cell_type": "code",
   "execution_count": 12,
   "id": "bd1eb60e",
   "metadata": {},
   "outputs": [],
   "source": [
    "#Extract the data for applying a cause-effect function\n",
    "#Sometimes we don't have access to all the data, but are \"allowed\" to marginalize the missing data\n",
    "#This marginalization in this case is trivially done by averaging in the dataset (e.g. imagine we had instead a marginal distribution)\n",
    "\n",
    "def get_sufficient_causes_df(sufficient_causes, causes_df, dataset):\n",
    "    causes=causes_df.columns\n",
    "    unsatisfied=[cause for cause in sufficient_causes if cause not in causes]\n",
    "    #print(len(unsatisfied))\n",
    "    if len(unsatisfied)==0:   #all the data is available, just send it back, it is ready to calculate effects!\n",
    "        return causes_df[sufficient_causes]\n",
    "    \n",
    "                  #if not all data is available,\n",
    "    return None   #we cannot execute this cause-effect function\n",
    "    \n",
    "    \n",
    "        \n",
    "        "
   ]
  },
  {
   "cell_type": "markdown",
   "id": "430e3179",
   "metadata": {},
   "source": [
    "This is where we do the actual inference. \n",
    "\n",
    "**note: this code is recursive, maybe you never saw this before. A recursive function is one where it calls itself. ;-) It is very helpful to traverse a graph. Try to understand how it works.**"
   ]
  },
  {
   "cell_type": "code",
   "execution_count": 13,
   "id": "77c0dba4",
   "metadata": {},
   "outputs": [],
   "source": [
    "#The general idea of this function is to always propagate from causes to effects. So, whenever you have the data that \n",
    "#you can apply to a certain SCM assignment(i.e. a function Effects=f(Causes)), it just makes the prediction of that\n",
    "#\"effect\", and adds it to the existing \"causes\" list. Then, it proceeds to the next SCM assignments\n",
    "\n",
    "def forward_inference(SCM, causes_df, effects, dataset=None):\n",
    "    applied_causes=[]\n",
    "    causes=causes_df.columns\n",
    "    new_causes_df=causes_df.copy()\n",
    "    new_SCM={}\n",
    "    for ce_function in SCM.keys():    #for each SCM assginment function\n",
    "        sufficient_causes=SCM[ce_function]['causes']    #get it's \"causes\"\n",
    "        if set(SCM[ce_function]['effects']).issubset(causes):   #and its effects\n",
    "            #If we have already infered the effect before (either because it is already known or it is an intervention),\n",
    "            #we need to ignore it\n",
    "            continue\n",
    "       \n",
    "        #check if the current dataset has the causes for this SCM assignment\n",
    "        sufficient_causes_df=get_sufficient_causes_df(sufficient_causes, new_causes_df, dataset)\n",
    "        if not isinstance(sufficient_causes_df, pd.DataFrame):  #if not (i.e. the \"get_sufficient_causes_df\" returned None),\n",
    "            new_SCM[ce_function]=SCM[ce_function]               #we need to keep this SCM assignment in our dictionary, \n",
    "            continue                                            #so that we can apply it later\n",
    "\n",
    "        #otherwise, we're ready to propagate from causes to effects\n",
    "        applied_causes+=sufficient_causes\n",
    "        new_causes=SCM[ce_function]['effects']\n",
    "        new_causes_df[new_causes[0]]=SCM[ce_function]['model'].predict(sufficient_causes_df) #untested for multiple effects (i.e. the \"effects\" model that we learn each time only has one output variable)\n",
    "\n",
    "        satisfied_effects=[effect for effect in new_causes_df.columns if effect in effects]\n",
    "        if satisfied_effects==effects:\n",
    "            #we have satisfied the required effects (the original target variable, in our example it is \"Ice Cream\")\n",
    "            #so we can just return the DF, which has everything we need!\n",
    "            return new_causes_df[satisfied_effects]\n",
    "\n",
    "    #calling recursion (applying the same thing until our target effect is calculated)\n",
    "    return forward_inference(new_SCM, new_causes_df, effects, dataset)\n",
    "        \n",
    "    \n",
    "        \n",
    "        \n",
    "        "
   ]
  },
  {
   "cell_type": "markdown",
   "id": "e03ce188",
   "metadata": {},
   "source": [
    "---------------"
   ]
  },
  {
   "cell_type": "markdown",
   "id": "2e35f698",
   "metadata": {},
   "source": [
    "## Testing with original dataset"
   ]
  },
  {
   "cell_type": "markdown",
   "id": "f9583a41",
   "metadata": {},
   "source": [
    "Let's now run the original test set, so that we can compare with the other models we created before"
   ]
  },
  {
   "cell_type": "code",
   "execution_count": 14,
   "id": "a54ed649",
   "metadata": {},
   "outputs": [],
   "source": [
    "x_features=['Tourists', 'Temperature', 'Scuba']"
   ]
  },
  {
   "cell_type": "markdown",
   "id": "6573e130",
   "metadata": {},
   "source": [
    "Let's start with the \"Tourists\" model first:"
   ]
  },
  {
   "cell_type": "code",
   "execution_count": 15,
   "id": "df426d25",
   "metadata": {},
   "outputs": [],
   "source": [
    "tourist_predictions=forward_inference(scm, test[x_features], ['Tourists'])"
   ]
  },
  {
   "cell_type": "code",
   "execution_count": 16,
   "id": "f1448222",
   "metadata": {},
   "outputs": [
    {
     "data": {
      "text/plain": [
       "1.0"
      ]
     },
     "execution_count": 16,
     "metadata": {},
     "output_type": "execute_result"
    }
   ],
   "source": [
    "r2_score(test['Tourists'], tourist_predictions)"
   ]
  },
  {
   "cell_type": "code",
   "execution_count": 17,
   "id": "c9812bde",
   "metadata": {},
   "outputs": [
    {
     "data": {
      "text/plain": [
       "0.0"
      ]
     },
     "execution_count": 17,
     "metadata": {},
     "output_type": "execute_result"
    }
   ],
   "source": [
    "mean_absolute_error(test['Tourists'], tourist_predictions)"
   ]
  },
  {
   "cell_type": "markdown",
   "id": "01c9ae19",
   "metadata": {},
   "source": [
    "Do you want to try now with the \"Ice_Cream\" variable?"
   ]
  },
  {
   "cell_type": "code",
   "execution_count": 18,
   "id": "a14cba9a",
   "metadata": {},
   "outputs": [],
   "source": [
    "ice_cream_predictions=forward_inference(scm, test[x_features], ['Ice_Cream'])"
   ]
  },
  {
   "cell_type": "code",
   "execution_count": 19,
   "id": "50193709",
   "metadata": {},
   "outputs": [
    {
     "data": {
      "text/plain": [
       "0.9943361479611919"
      ]
     },
     "execution_count": 19,
     "metadata": {},
     "output_type": "execute_result"
    }
   ],
   "source": [
    "r2_score(test['Ice_Cream'], ice_cream_predictions)"
   ]
  },
  {
   "cell_type": "code",
   "execution_count": 20,
   "id": "a6cb24a0",
   "metadata": {},
   "outputs": [
    {
     "data": {
      "text/plain": [
       "85.60562165279865"
      ]
     },
     "execution_count": 20,
     "metadata": {},
     "output_type": "execute_result"
    }
   ],
   "source": [
    "mean_absolute_error(test['Ice_Cream'], ice_cream_predictions)"
   ]
  },
  {
   "cell_type": "markdown",
   "id": "c62953d1",
   "metadata": {},
   "source": [
    "----------------"
   ]
  },
  {
   "cell_type": "markdown",
   "id": "71f6037c",
   "metadata": {},
   "source": [
    "### Testing in new distribution"
   ]
  },
  {
   "cell_type": "markdown",
   "id": "7d79b4b6",
   "metadata": {},
   "source": [
    "Now it's the big moment... let's try with the low season test dataset!"
   ]
  },
  {
   "cell_type": "code",
   "execution_count": 21,
   "id": "1a3345c1",
   "metadata": {},
   "outputs": [],
   "source": [
    "lowseasondataset=pd.read_csv(\"lowseason_campaign.csv\")"
   ]
  },
  {
   "cell_type": "code",
   "execution_count": 22,
   "id": "3649c721",
   "metadata": {},
   "outputs": [],
   "source": [
    "Ice_Cream_new_dist_prediction=forward_inference(scm, lowseasondataset[x_features], ['Ice_Cream'])"
   ]
  },
  {
   "cell_type": "code",
   "execution_count": 23,
   "id": "f1d83715",
   "metadata": {},
   "outputs": [
    {
     "data": {
      "text/plain": [
       "0.3575997649377337"
      ]
     },
     "execution_count": 23,
     "metadata": {},
     "output_type": "execute_result"
    }
   ],
   "source": [
    "r2_score(lowseasondataset['Ice_Cream'], Ice_Cream_new_dist_prediction)"
   ]
  },
  {
   "cell_type": "code",
   "execution_count": 24,
   "id": "ad83d091",
   "metadata": {},
   "outputs": [
    {
     "data": {
      "text/plain": [
       "205.21112067309312"
      ]
     },
     "execution_count": 24,
     "metadata": {},
     "output_type": "execute_result"
    }
   ],
   "source": [
    "mean_absolute_error(lowseasondataset['Ice_Cream'], Ice_Cream_new_dist_prediction)"
   ]
  },
  {
   "cell_type": "code",
   "execution_count": 25,
   "id": "b04b0b82",
   "metadata": {},
   "outputs": [
    {
     "data": {
      "text/plain": [
       "Text(0, 0.5, 'Predicted')"
      ]
     },
     "execution_count": 25,
     "metadata": {},
     "output_type": "execute_result"
    },
    {
     "data": {
      "image/png": "[encoded data removed]",
      "text/plain": [
       "<Figure size 432x288 with 1 Axes>"
      ]
     },
     "metadata": {
      "needs_background": "light"
     },
     "output_type": "display_data"
    }
   ],
   "source": [
    "plt.scatter(lowseasondataset['Ice_Cream'], Ice_Cream_new_dist_prediction)\n",
    "plt.xlabel(\"Observed\")\n",
    "plt.ylabel(\"Predicted\")\n",
    "\n"
   ]
  },
  {
   "cell_type": "markdown",
   "id": "fa982cf4",
   "metadata": {},
   "source": [
    "Interesting, no? You can make much better predictions when you correctly follow the causal graph! In practice, what you did was an \"intervention\" in the \"Tourists\" variable, which affected both the \"Scuba\" and the \"Ice Cream\" variables. For the latter, the effect is lower than before (do you want to check?) because in cold weather people don't buy as many ice creams..."
   ]
  },
  {
   "cell_type": "code",
   "execution_count": null,
   "id": "eb415fba",
   "metadata": {},
   "outputs": [],
   "source": []
  }
 ],
 "metadata": {
  "kernelspec": {
   "display_name": "Python 3 (ipykernel)",
   "language": "python",
   "name": "python3"
  },
  "language_info": {
   "codemirror_mode": {
    "name": "ipython",
    "version": 3
   },
   "file_extension": ".py",
   "mimetype": "text/x-python",
   "name": "python",
   "nbconvert_exporter": "python",
   "pygments_lexer": "ipython3",
   "version": "3.7.9"
  },
  "toc": {
   "base_numbering": 1,
   "nav_menu": {},
   "number_sections": true,
   "sideBar": true,
   "skip_h1_title": false,
   "title_cell": "Table of Contents",
   "title_sidebar": "Contents",
   "toc_cell": false,
   "toc_position": {},
   "toc_section_display": true,
   "toc_window_display": false
  }
 },
 "nbformat": 4,
 "nbformat_minor": 5
}
