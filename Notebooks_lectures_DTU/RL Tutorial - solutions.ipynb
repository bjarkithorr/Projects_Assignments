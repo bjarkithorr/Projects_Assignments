{
 "cells": [
  {
   "cell_type": "markdown",
   "metadata": {},
   "source": [
    "# Reinforcement Learning Tutorial - Taxi pickup problem\n",
    "\n",
    "Welcome to the practical component of this Reinforcement Learning (RL) tutorial! \n",
    "\n",
    "In order to experiment with different RL algorithms and understand how they work, their characteristics, and important challanges in RL, we have prepared a relatively simple toy problem. The idea was to have a problem that is easy to understand and relate to, but at the same time is computatinally efficient (we cannot wait 1h for an algorithm to run in the context of a tutorial) and one where learned policies can be easily visualized. \n",
    "\n",
    "<img src=\"http://mlsm.man.dtu.dk/env.gif\"/>\n",
    "\n",
    "**Problem:** The problem that we will consider is the Taxi pickup problem, where to goal is to pickup customers in a simple 5x5 grid world in order to maximize profit. Real-world extensions of this toy problem could be, for example: \n",
    "\n",
    "- Dynamic routing of a fleet of autonomous vehicles (e.g. each vehicle needs to decide where to roam and which routes to take)\n",
    "\n",
    "- Rebalancing in shared mobility services (e.g. SHARENOW or Green Mobility)\n",
    "\n",
    "- Managing a fleet of autonomous vehicles in a warehouse\n",
    "\n",
    "- Etc.\n",
    "\n",
    "**Environments:** We will consider 3 environments of increasing complexity:\n",
    "\n",
    "1. An environment where there is only a single request at a fixed location, and all the taxi needs to learn to do is to go to that location and pickup the customer. The episode terminates after.\n",
    "\n",
    "2. An environment with 3 different pickup locations. The customers spawn at these locations with different rates. Every time a customer is picked up the taxi is teleported to a random dropout location and continues from there.\n",
    "\n",
    "3. An environment where requests can appear anywhere in the map at any time.\n",
    "\n",
    "**Actions:** For all environments, at each time step, the taxi is allowed to take one of the following 5 actions:\n",
    "- 0: move south\n",
    "- 1: move north\n",
    "- 2: move east \n",
    "- 3: move west \n",
    "- 4: pickup passenger\n",
    "\n",
    "Before we move on, let's make sure that you have installed all the necessary Python packages. Uncomment the following lines of code and run them:"
   ]
  },
  {
   "cell_type": "code",
   "execution_count": null,
   "metadata": {},
   "outputs": [],
   "source": [
    "#!pip install numpy scipy matplotlib"
   ]
  },
  {
   "cell_type": "code",
   "execution_count": 1,
   "metadata": {},
   "outputs": [],
   "source": [
    "#!pip install gym"
   ]
  },
  {
   "cell_type": "code",
   "execution_count": 2,
   "metadata": {},
   "outputs": [],
   "source": [
    "#!pip install keras"
   ]
  },
  {
   "cell_type": "code",
   "execution_count": 3,
   "metadata": {},
   "outputs": [],
   "source": [
    "#!pip install keras-rl2"
   ]
  },
  {
   "cell_type": "markdown",
   "metadata": {},
   "source": [
    "**The following is necessary for Colab:**"
   ]
  },
  {
   "cell_type": "code",
   "execution_count": null,
   "metadata": {},
   "outputs": [],
   "source": [
    "!wget http://mlsm.man.dtu.dk/taxi_env.py"
   ]
  },
  {
   "cell_type": "markdown",
   "metadata": {},
   "source": [
    "### Imports\n",
    "\n",
    "Next we are going to import the Python packages that we will be using:"
   ]
  },
  {
   "cell_type": "code",
   "execution_count": 4,
   "metadata": {},
   "outputs": [],
   "source": [
    "import time\n",
    "import random\n",
    "import numpy as np\n",
    "import matplotlib.pyplot as plt\n",
    "from IPython.display import clear_output\n",
    "\n",
    "from keras.models import Sequential\n",
    "from keras.layers import Dense, Activation, Flatten, Embedding, Reshape\n",
    "from keras.optimizers import Adam\n",
    "\n",
    "from rl.agents.dqn import DQNAgent\n",
    "from rl.policy import BoltzmannQPolicy, EpsGreedyQPolicy\n",
    "from rl.memory import SequentialMemory\n",
    "\n",
    "import gym\n",
    "\n",
    "from taxi_env import TaxiPickupEnvSimplified, TaxiPickupEnvStandard, TaxiPickupEnvAdvanced\n",
    "\n",
    "plt.style.use(\"ggplot\")"
   ]
  },
  {
   "cell_type": "markdown",
   "metadata": {},
   "source": [
    "# Part 1: Simplified environment (Q-learning)\n",
    "\n",
    "In this first part, we will consider a very simple environment where the goal is to drive the taxi to the target location indicated in the grid world by a red 'T'. The taxi is represented by a yellow rectangle. The 5x5 grid world has a few maze-like walls that prevent the taxi to take certain actions when in some positions (i.e. the action has no effect). The taxi has no intermediate rewards. Only one final big reward when it accomplishes the goal (reach the target and take action \"pickup\"). Note also that the taxi has no information about the environment besides its current position (row and column). It has no idea how the environment works and what leads to high rewards!\n",
    "\n",
    "Let's formalize the MDP for this problem:\n",
    "\n",
    "**Actions:** north, south, east, west, pickup\n",
    "\n",
    "**State:** position of the taxi (5x5=25 possible states)\n",
    "\n",
    "**Reward:** +20 if taxi at target location (\"T\") and action is \"pickup\", else -1 (penalty for time elapsed); trying to pickup in a location different than the target also leads to penalty of -10.\n",
    "\n",
    "Implementation details: we have implemented the environment as a class extension of the popular OpenAI Gym. The ``TaxiPickupEnvSimplified`` class therefore extends the ``discrete.Env`` of OpenAI Gym, and provides the following methods:\n",
    "\n",
    "- ``state = env.reset()`` - resets the environment to a random initial state and returns that state;\n",
    "\n",
    "- ``new_state, reward, done, info = env.step(action)`` - takes the ``action`` passed in the argument (integer) and returns the new state, the reward obtained, a boolean ``done`` indicating whether the episode has terminated, and some extra ``info`` (not relevant to this environment);\n",
    "\n",
    "- ``env.render()`` - visualizes the current state of the environment;\n",
    "\n",
    "- ``env.close()`` - terminates the environment.\n",
    "\n",
    "Suggestion: have a look at the ``taxi_env.py`` file to see how the environment dynamics in the ``step()`` function of the ``TaxiPickupEnvSimplified`` class are implemented.\n",
    "\n",
    "### Run Random Policy\n",
    "\n",
    "Let us start by exploring the environment and the functionality described above using a random policy (i.e. taking random actions in the environment). Analyze the code below and run it (note that you can stop execution at any time). Make sure that everything makes sense to you."
   ]
  },
  {
   "cell_type": "code",
   "execution_count": 5,
   "metadata": {},
   "outputs": [
    {
     "name": "stdout",
     "output_type": "stream",
     "text": [
      "+---------+\n",
      "| : | : : |\n",
      "| : | : :\u001b[43m \u001b[0m|\n",
      "| : : : : |\n",
      "| | : | : |\n",
      "|\u001b[31mT\u001b[0m| : | : |\n",
      "+---------+\n",
      "T: 15; Total earnings: 0\n",
      "Action: South; Reward: -1\n"
     ]
    }
   ],
   "source": [
    "env = TaxiPickupEnvSimplified()\n",
    "env.reset()\n",
    "for _ in range(1000):\n",
    "    try:\n",
    "        env.render()\n",
    "        env.step(env.action_space.sample()) # take a random action\n",
    "        time.sleep(1)\n",
    "        clear_output(wait=True)\n",
    "    except KeyboardInterrupt:\n",
    "        break\n",
    "env.close()"
   ]
  },
  {
   "cell_type": "markdown",
   "metadata": {},
   "source": [
    "We can check properties of the environment ``env`` such as the action space and the observation/state space using the code below. You can check other properties available by writting \"env.\" and then pressing TAB in a cell, although they are not necessary for this tutorial."
   ]
  },
  {
   "cell_type": "code",
   "execution_count": 6,
   "metadata": {},
   "outputs": [
    {
     "name": "stdout",
     "output_type": "stream",
     "text": [
      "Action Space Discrete(5)\n",
      "State Space Discrete(25)\n"
     ]
    }
   ],
   "source": [
    "print(\"Action Space {}\".format(env.action_space))\n",
    "print(\"State Space {}\".format(env.observation_space))"
   ]
  },
  {
   "cell_type": "markdown",
   "metadata": {},
   "source": [
    "### Tabular Q-learning\n",
    "\n",
    "You will now implement a Q-learning algorithm for learning an implicit policy that tries to optimize rewards in the environment described above. \n",
    "\n",
    "Since the states are discrete, we can represent the Q-function using a table with 25 rows (because there are 5x5 possible states) and 5 columns (because there are 5 possible actions). Each cell then contains the expected future rewards when the agent takes a certain action when in a given state. The Q-learning algorithm can then be summarized as follows:\n",
    "\n",
    "1. initialize Q-table $\\hat{Q}_\\phi$ (e.g. with zeros);\n",
    "2. set learning rate $\\alpha$, discount factor $\\gamma$ and initial exploration parameter $\\epsilon$;\n",
    "3. repeat until maximum number of episodes has been reached:\n",
    "    1. reset environment;\n",
    "    2. repeat until episode ends or maximum number of steps is reached:\n",
    "        1. choose action $a_i$ from $\\epsilon$-greedy policy: with probability $\\epsilon$ select a random action $a_i$, otherwise select $a_i = \\arg \\max_{a_i} \\hat{Q}_\\phi(s_i,a_i)$;\n",
    "        2. take action $a_i$ in the environment and observe new state $s'_i$ and reward $r(s_i,a_i)$;\n",
    "        3. compute target values $y_i \\leftarrow r(s_i,a_i) + \\gamma \\max_{a'_i} \\hat{Q}_\\phi(s'_i,a'_i)$;\n",
    "        4. update Q-table: $\\hat{Q}_\\phi(s_i,a_i) \\leftarrow (1-\\alpha) \\hat{Q}_\\phi(s_i,a_i) + \\alpha y_i $;\n",
    "    3. decay exploration parameter $\\epsilon$;\n",
    "    \n",
    "Note that the algorithm described above uses an $\\epsilon$-greedy exploration policy. In practice, one usually decays the value of $\\epsilon$ over time, until a minimum value of $\\epsilon$ is reached. Also, we will keep track of the rewards over time for later analysis and plotting.\n",
    "\n",
    "So, let us begin by making the necessary initializations:"
   ]
  },
  {
   "cell_type": "code",
   "execution_count": 7,
   "metadata": {},
   "outputs": [],
   "source": [
    "#Setting the hyperparameters\n",
    "              \n",
    "alpha = 0.6 #learning rate                 \n",
    "discount_factor = 0.98               \n",
    "epsilon = 1                  \n",
    "max_epsilon = 1\n",
    "min_epsilon = 0.01         \n",
    "decay = 0.001\n",
    "\n",
    "train_episodes = 5000   \n",
    "# test_episodes = 100          \n",
    "max_episode_len = 200\n",
    "\n",
    "#Initializing the Q-table\n",
    "Q = np.zeros((env.observation_space.n, env.action_space.n))\n",
    "#Creating lists to keep track of reward and epsilon values\n",
    "training_rewards = []  \n",
    "epsilons = []\n",
    "episode = 0"
   ]
  },
  {
   "cell_type": "markdown",
   "metadata": {},
   "source": [
    "And now, it is time to implement the Q-learning algorithm as described above. Can you do it? (the skeleton of the code is already there)"
   ]
  },
  {
   "cell_type": "code",
   "execution_count": 8,
   "metadata": {
    "scrolled": false
   },
   "outputs": [
    {
     "name": "stdout",
     "output_type": "stream",
     "text": [
      "[Episode 200] Avg reward over last 10 episodes: -88.600\n",
      "alpha=0.600; eps=0.821\n",
      "[Episode 400] Avg reward over last 10 episodes: -27.500\n",
      "alpha=0.600; eps=0.674\n",
      "[Episode 600] Avg reward over last 10 episodes: -0.700\n",
      "alpha=0.600; eps=0.554\n",
      "[Episode 800] Avg reward over last 10 episodes: 0.200\n",
      "alpha=0.600; eps=0.455\n",
      "[Episode 1000] Avg reward over last 10 episodes: 3.100\n",
      "alpha=0.600; eps=0.375\n",
      "[Episode 1200] Avg reward over last 10 episodes: 4.600\n",
      "alpha=0.600; eps=0.308\n",
      "[Episode 1400] Avg reward over last 10 episodes: 14.300\n",
      "alpha=0.600; eps=0.254\n",
      "[Episode 1600] Avg reward over last 10 episodes: 10.400\n",
      "alpha=0.600; eps=0.210\n",
      "[Episode 1800] Avg reward over last 10 episodes: 11.600\n",
      "alpha=0.600; eps=0.174\n",
      "[Episode 2000] Avg reward over last 10 episodes: 12.000\n",
      "alpha=0.600; eps=0.144\n",
      "[Episode 2200] Avg reward over last 10 episodes: 14.000\n",
      "alpha=0.600; eps=0.120\n",
      "[Episode 2400] Avg reward over last 10 episodes: 13.300\n",
      "alpha=0.600; eps=0.100\n",
      "[Episode 2600] Avg reward over last 10 episodes: 14.800\n",
      "alpha=0.600; eps=0.084\n",
      "[Episode 2800] Avg reward over last 10 episodes: 14.400\n",
      "alpha=0.600; eps=0.070\n",
      "[Episode 3000] Avg reward over last 10 episodes: 12.900\n",
      "alpha=0.600; eps=0.059\n",
      "[Episode 3200] Avg reward over last 10 episodes: 13.700\n",
      "alpha=0.600; eps=0.050\n",
      "[Episode 3400] Avg reward over last 10 episodes: 14.100\n",
      "alpha=0.600; eps=0.043\n",
      "[Episode 3600] Avg reward over last 10 episodes: 14.100\n",
      "alpha=0.600; eps=0.037\n",
      "[Episode 3800] Avg reward over last 10 episodes: 15.200\n",
      "alpha=0.600; eps=0.032\n",
      "[Episode 4000] Avg reward over last 10 episodes: 13.800\n",
      "alpha=0.600; eps=0.028\n",
      "[Episode 4200] Avg reward over last 10 episodes: 15.400\n",
      "alpha=0.600; eps=0.025\n",
      "[Episode 4400] Avg reward over last 10 episodes: 16.100\n",
      "alpha=0.600; eps=0.022\n",
      "[Episode 4600] Avg reward over last 10 episodes: 14.000\n",
      "alpha=0.600; eps=0.020\n",
      "[Episode 4800] Avg reward over last 10 episodes: 14.600\n",
      "alpha=0.600; eps=0.018\n",
      "[Episode 5000] Avg reward over last 10 episodes: 15.300\n",
      "alpha=0.600; eps=0.017\n",
      "Training score over time: -2.3712\n"
     ]
    }
   ],
   "source": [
    "for _ in range(train_episodes):\n",
    "    episode += 1\n",
    "    if episode % 200 == 0 and episode != 0:\n",
    "        print(\"[Episode %d] Avg reward over last 10 episodes: %.3f\" % (episode, np.mean(training_rewards[-10:])))\n",
    "        print(\"alpha=%.3f; eps=%.3f\" % (alpha, epsilon))\n",
    "        \n",
    "    # Reseting the environment each time as per requirement\n",
    "    state = env.reset()    \n",
    "    \n",
    "    # Starting the tracker for the rewards\n",
    "    total_training_rewards = 0\n",
    "    for step in range(max_episode_len):\n",
    "        \n",
    "        # Choosing an action given the states based on a random number\n",
    "        exp_exp_tradeoff = random.uniform(0, 1) \n",
    "        \n",
    "        ### SECOND option for choosing the initial action - exploit     \n",
    "        # If the random number is larger than epsilon: employing exploitation \n",
    "        # and selecting best action \n",
    "        if exp_exp_tradeoff > epsilon:\n",
    "            action = np.argmax(Q[state,:]) \n",
    "        \n",
    "        ### FIRST option for choosing the initial action - explore       \n",
    "        # Otherwise, employing exploration: choosing a random action \n",
    "        else:\n",
    "            action = env.action_space.sample()\n",
    "        \n",
    "        ### performing the action and getting the reward     \n",
    "        # Taking the action and getting the reward and outcome state\n",
    "        new_state, reward, done, info = env.step(action)\n",
    "\n",
    "        ### update the Q-table\n",
    "        # Updating the Q-table using the Bellman equation\n",
    "        Q[state, action] = Q[state, action]+alpha*(reward+discount_factor*np.max(Q[new_state, :])-Q[state, action]) \n",
    "        \n",
    "        # Increasing our total reward and updating the state\n",
    "        total_training_rewards += reward      \n",
    "        state = new_state         \n",
    "        \n",
    "        # Ending the episode\n",
    "        if done == True:\n",
    "            break\n",
    "            \n",
    "    # Cutting down on exploration by reducing the epsilon \n",
    "    epsilon = min_epsilon+(max_epsilon-min_epsilon)*np.exp(-decay*episode)\n",
    "    \n",
    "    # Adding the total reward and reduced epsilon values\n",
    "    training_rewards.append(total_training_rewards)\n",
    "    epsilons.append(epsilon)\n",
    "    \n",
    "print (\"Training score over time: \" + str(sum(training_rewards)/train_episodes))"
   ]
  },
  {
   "cell_type": "markdown",
   "metadata": {},
   "source": [
    "Did the rewards improve?\n",
    "\n",
    "Let's plot the evolutions of episodic rewards over time:"
   ]
  },
  {
   "cell_type": "code",
   "execution_count": 9,
   "metadata": {},
   "outputs": [
    {
     "data": {
      "image/png": "[encoded data removed]",
      "text/plain": [
       "<Figure size 432x288 with 1 Axes>"
      ]
     },
     "metadata": {},
     "output_type": "display_data"
    }
   ],
   "source": [
    "plt.plot(training_rewards);"
   ]
  },
  {
   "cell_type": "markdown",
   "metadata": {},
   "source": [
    "And also the values of $\\epsilon$ (useful for debugging purposes and tweaking the decay rate):"
   ]
  },
  {
   "cell_type": "code",
   "execution_count": 10,
   "metadata": {},
   "outputs": [
    {
     "data": {
      "image/png": "[encoded data removed]",
      "text/plain": [
       "<Figure size 432x288 with 1 Axes>"
      ]
     },
     "metadata": {},
     "output_type": "display_data"
    }
   ],
   "source": [
    "plt.plot(epsilons);"
   ]
  },
  {
   "cell_type": "markdown",
   "metadata": {},
   "source": [
    "We can now visualize the (implicit) policy learned in the Q-table to see if it corresponds to good behaviour in practice:"
   ]
  },
  {
   "cell_type": "code",
   "execution_count": 11,
   "metadata": {},
   "outputs": [
    {
     "name": "stdout",
     "output_type": "stream",
     "text": [
      "+---------+\n",
      "| : | : : |\n",
      "| : | : : |\n",
      "| : : : : |\n",
      "| | : | : |\n",
      "|\u001b[43m\u001b[31mT\u001b[0m\u001b[0m| : | : |\n",
      "+---------+\n",
      "T: 6; Total earnings: 0\n",
      "Action: South; Reward: -1\n"
     ]
    }
   ],
   "source": [
    "env = TaxiPickupEnvSimplified()\n",
    "state = env.reset()\n",
    "for _ in range(1000):\n",
    "    try:\n",
    "        env.render()\n",
    "        action = np.argmax(Q[state,:])\n",
    "        state, reward, done, info = env.step(action)\n",
    "        time.sleep(1)\n",
    "        clear_output(wait=True)\n",
    "        if done == True:\n",
    "            env.render()\n",
    "            break\n",
    "    except KeyboardInterrupt:\n",
    "        break\n",
    "env.close()"
   ]
  },
  {
   "cell_type": "markdown",
   "metadata": {},
   "source": [
    "How good is the policy learned? Does it do what you expected it to do?\n",
    "\n",
    "We can further inspect the Q-values for different actions for when the taxi is in a certain position:"
   ]
  },
  {
   "cell_type": "code",
   "execution_count": 12,
   "metadata": {},
   "outputs": [
    {
     "name": "stdout",
     "output_type": "stream",
     "text": [
      "Q-values for different actions a when taxi in location (1, 2)\n",
      "Action a=South\t Q[s,a]=899.1\n",
      "Action a=North\t Q[s,a]=861.5\n",
      "Action a=East\t Q[s,a]=861.5\n",
      "Action a=West\t Q[s,a]=880.1\n",
      "Action a=Pickup\t Q[s,a]=871.1\n"
     ]
    }
   ],
   "source": [
    "taxi_loc = (1,2)\n",
    "print(\"Q-values for different actions a when taxi in location\", taxi_loc)\n",
    "for a in range(env.nA):\n",
    "    print(\"Action a=%s\\t Q[s,a]=%.1f\" % (env.action_names[a], Q[env.encode(taxi_loc),a]))"
   ]
  },
  {
   "cell_type": "markdown",
   "metadata": {},
   "source": [
    "If all went well, the maximum Q-value should correspond to the action that takes the taxi towards the target the most from that position.\n",
    "\n",
    "Lastly, we can derive the value function (value table, in this case) that correspond to that Q-table. Remember, the value function tells us the value of being in a certain state (i.e. expected future rewards averaged over all possible actions according to the current policy $\\pi$):\n",
    "\n",
    "\\begin{align}\n",
    "V^\\pi(s) = \\mathbb{E}_{a \\sim \\pi(a|s)}[ Q^\\pi(s,a) ]  \\nonumber\n",
    "\\end{align}\n",
    "\n",
    "Since in Q-learning, the agent always chooses the action that maximizes $Q^\\pi(s_t,a_t)$ (well, unless during training where it uses $\\epsilon$-greedy to explore), the value function is simply given by:\n",
    "\n",
    "\\begin{align}\n",
    "V^\\pi(s) = \\max_a  Q^\\pi(s,a)   \\nonumber\n",
    "\\end{align}\n",
    "\n",
    "Let's compute the value table and visualize it by color-coding it according to its values:"
   ]
  },
  {
   "cell_type": "code",
   "execution_count": 13,
   "metadata": {},
   "outputs": [
    {
     "data": {
      "image/png": "[encoded data removed]",
      "text/plain": [
       "<Figure size 432x288 with 1 Axes>"
      ]
     },
     "metadata": {},
     "output_type": "display_data"
    }
   ],
   "source": [
    "V = np.zeros((env.num_rows, env.num_columns))\n",
    "for s in range(env.nS):\n",
    "    taxi_row, taxi_col = env.decode(s)\n",
    "    V[taxi_row, taxi_col] = max([Q[s,a] for a in range(env.nA)]) # max Q-value for all possible actions\n",
    "\n",
    "plt.imshow(V)\n",
    "plt.title(\"Value function V(s)\")\n",
    "plt.grid(False)\n",
    "plt.show()"
   ]
  },
  {
   "cell_type": "markdown",
   "metadata": {},
   "source": [
    "Does the result make sense to you? The closer the taxi is to the objective, the higher the value of that state should be."
   ]
  },
  {
   "cell_type": "markdown",
   "metadata": {},
   "source": [
    "# Part 2: Standard environment (Q-learning)\n",
    "\n",
    "In this part, we will consider a more interesting version of the taxi pickup problem. There will now be 3 possible pickups locations (represented in Red, Green and Blue) where customers arrive with different rates. The number of customers currently waiting at a given pickups location is shown as a red, green and blue counters in the map. The goal is for the taxi to pickup customers and maximize reward. To simplify the environment implementation, when a customer is picked up, the taxi teleports to the destination and continues from there. \n",
    "\n",
    "With these changes, we now have a more complex environment and therefore we need a more complex representation to encode its state. There are still 5x5=25 possible locations for the taxi to be, but now, there can also be $2^3=8$ types of situations: \n",
    "\n",
    "- no customers waiting in any location\n",
    "\n",
    "- customers waiting in red location, and no customers waiting elsewhere\n",
    "\n",
    "- customers waiting in green location, and no customers waiting elsewhere \n",
    "\n",
    "- customers waiting in blue location, and no customers waiting elsewhere \n",
    "\n",
    "- customers waiting in red and green locations, and no customers waiting in blue location\n",
    "\n",
    "- customers waiting in red and blue locations, and no customers waiting in green location\n",
    "\n",
    "- customers waiting in green and blue locations, and no customers waiting in red location\n",
    "\n",
    "- customers waiting in all 3 locations\n",
    "\n",
    "Note that we do not differentiate between having 1 or 2 or N customers waiting at a location to simplify things.\n",
    "\n",
    "Therefore, the state representation of the environment now has $5\\times5\\times2^3 = 200$ dimensions, and we need to estimate Q-values for all possible actions $a \\in \\mathcal{A}$ for all those 200 possible states! That is starting to look like a challanging task, right? And this is still a tiny 5x5 grid world... (more on scalability later :-)\n",
    "\n",
    "In summary, the new MDP for this problem can be formalized as:\n",
    "\n",
    "**Actions:** north, south, east, west, pickup\n",
    "\n",
    "**State:** position of the taxi and status of requests at 3 different locations: $5\\times5\\times2^3 = 200$ dimensions\n",
    "\n",
    "**Reward:** +20 if taxi at a pickup location where there are requests and action is \"pickup\", else -1 (penalty for time elapsed); trying to pickup in a location different than the target also leads to penalty of -10.\n",
    "\n",
    "### Run Random Policy\n",
    "\n",
    "We start again by trying out the environmenet using a random policy (note that you can stop execution at any time):"
   ]
  },
  {
   "cell_type": "code",
   "execution_count": 14,
   "metadata": {},
   "outputs": [
    {
     "name": "stdout",
     "output_type": "stream",
     "text": [
      "+---------+\n",
      "| :\u001b[31m0\u001b[0m| : : |\n",
      "| : | : : |\n",
      "| : : :\u001b[43m \u001b[0m: |\n",
      "| | : | : |\n",
      "|\u001b[32m0\u001b[0m| : |\u001b[34m0\u001b[0m: |\n",
      "+---------+\n",
      "T: 5; Total earnings: 0\n",
      "Action: South; Reward: -1\n"
     ]
    }
   ],
   "source": [
    "env = TaxiPickupEnvStandard()\n",
    "env.reset()\n",
    "for _ in range(1000):\n",
    "    try:\n",
    "        env.render()\n",
    "        env.step(env.action_space.sample()) # take a random action\n",
    "        time.sleep(1)\n",
    "        clear_output(wait=True)\n",
    "    except KeyboardInterrupt:\n",
    "        break\n",
    "env.close()"
   ]
  },
  {
   "cell_type": "code",
   "execution_count": 15,
   "metadata": {},
   "outputs": [
    {
     "name": "stdout",
     "output_type": "stream",
     "text": [
      "Action Space Discrete(5)\n",
      "State Space Discrete(200)\n"
     ]
    }
   ],
   "source": [
    "print(\"Action Space {}\".format(env.action_space))\n",
    "print(\"State Space {}\".format(env.observation_space))"
   ]
  },
  {
   "cell_type": "markdown",
   "metadata": {},
   "source": [
    "### Tabular Q-learning\n",
    "\n",
    "We will now apply the same Q-learning algorithm that you've implemented above for the simplified environment. Can you take care of the missing code blocks?"
   ]
  },
  {
   "cell_type": "code",
   "execution_count": 16,
   "metadata": {},
   "outputs": [],
   "source": [
    "#Setting the hyperparameters\n",
    "              \n",
    "alpha = 0.6 #learning rate                 \n",
    "discount_factor = 0.98               \n",
    "epsilon = 1                  \n",
    "max_epsilon = 1\n",
    "min_epsilon = 0.01         \n",
    "decay = 0.001\n",
    "\n",
    "train_episodes = 10000           \n",
    "max_episode_len = 200\n",
    "\n",
    "#Initializing the Q-table\n",
    "Q = np.zeros((env.observation_space.n, env.action_space.n))\n",
    "\n",
    "#Creating lists to keep track of reward and epsilon values\n",
    "training_rewards = []  \n",
    "epsilons = []\n",
    "episode = 0"
   ]
  },
  {
   "cell_type": "code",
   "execution_count": 17,
   "metadata": {
    "scrolled": false
   },
   "outputs": [
    {
     "name": "stdout",
     "output_type": "stream",
     "text": [
      "[Episode 200] Avg reward over last 10 episodes: -356.600\n",
      "alpha=0.600; eps=0.821\n",
      "[Episode 400] Avg reward over last 10 episodes: -176.600\n",
      "alpha=0.600; eps=0.674\n",
      "[Episode 600] Avg reward over last 10 episodes: -91.100\n",
      "alpha=0.600; eps=0.554\n",
      "[Episode 800] Avg reward over last 10 episodes: 71.200\n",
      "alpha=0.600; eps=0.455\n",
      "[Episode 1000] Avg reward over last 10 episodes: 98.500\n",
      "alpha=0.600; eps=0.375\n",
      "[Episode 1200] Avg reward over last 10 episodes: 163.900\n",
      "alpha=0.600; eps=0.308\n",
      "[Episode 1400] Avg reward over last 10 episodes: 205.000\n",
      "alpha=0.600; eps=0.254\n",
      "[Episode 1600] Avg reward over last 10 episodes: 230.800\n",
      "alpha=0.600; eps=0.210\n",
      "[Episode 1800] Avg reward over last 10 episodes: 206.500\n",
      "alpha=0.600; eps=0.174\n",
      "[Episode 2000] Avg reward over last 10 episodes: 305.800\n",
      "alpha=0.600; eps=0.144\n",
      "[Episode 2200] Avg reward over last 10 episodes: 282.100\n",
      "alpha=0.600; eps=0.120\n",
      "[Episode 2400] Avg reward over last 10 episodes: 339.100\n",
      "alpha=0.600; eps=0.100\n",
      "[Episode 2600] Avg reward over last 10 episodes: 342.400\n",
      "alpha=0.600; eps=0.084\n",
      "[Episode 2800] Avg reward over last 10 episodes: 297.700\n",
      "alpha=0.600; eps=0.070\n",
      "[Episode 3000] Avg reward over last 10 episodes: 319.600\n",
      "alpha=0.600; eps=0.059\n",
      "[Episode 3200] Avg reward over last 10 episodes: 325.900\n",
      "alpha=0.600; eps=0.050\n",
      "[Episode 3400] Avg reward over last 10 episodes: 355.300\n",
      "alpha=0.600; eps=0.043\n",
      "[Episode 3600] Avg reward over last 10 episodes: 376.900\n",
      "alpha=0.600; eps=0.037\n",
      "[Episode 3800] Avg reward over last 10 episodes: 356.500\n",
      "alpha=0.600; eps=0.032\n",
      "[Episode 4000] Avg reward over last 10 episodes: 441.100\n",
      "alpha=0.600; eps=0.028\n",
      "[Episode 4200] Avg reward over last 10 episodes: 338.200\n",
      "alpha=0.600; eps=0.025\n",
      "[Episode 4400] Avg reward over last 10 episodes: 377.500\n",
      "alpha=0.600; eps=0.022\n",
      "[Episode 4600] Avg reward over last 10 episodes: 316.000\n",
      "alpha=0.600; eps=0.020\n",
      "[Episode 4800] Avg reward over last 10 episodes: 384.100\n",
      "alpha=0.600; eps=0.018\n",
      "[Episode 5000] Avg reward over last 10 episodes: 359.200\n",
      "alpha=0.600; eps=0.017\n",
      "[Episode 5200] Avg reward over last 10 episodes: 390.100\n",
      "alpha=0.600; eps=0.015\n",
      "[Episode 5400] Avg reward over last 10 episodes: 306.700\n",
      "alpha=0.600; eps=0.014\n",
      "[Episode 5600] Avg reward over last 10 episodes: 392.500\n",
      "alpha=0.600; eps=0.014\n",
      "[Episode 5800] Avg reward over last 10 episodes: 394.900\n",
      "alpha=0.600; eps=0.013\n",
      "[Episode 6000] Avg reward over last 10 episodes: 418.900\n",
      "alpha=0.600; eps=0.012\n",
      "[Episode 6200] Avg reward over last 10 episodes: 295.600\n",
      "alpha=0.600; eps=0.012\n",
      "[Episode 6400] Avg reward over last 10 episodes: 363.100\n",
      "alpha=0.600; eps=0.012\n",
      "[Episode 6600] Avg reward over last 10 episodes: 394.900\n",
      "alpha=0.600; eps=0.011\n",
      "[Episode 6800] Avg reward over last 10 episodes: 307.000\n",
      "alpha=0.600; eps=0.011\n",
      "[Episode 7000] Avg reward over last 10 episodes: 339.100\n",
      "alpha=0.600; eps=0.011\n",
      "[Episode 7200] Avg reward over last 10 episodes: 363.100\n",
      "alpha=0.600; eps=0.011\n",
      "[Episode 7400] Avg reward over last 10 episodes: 384.400\n",
      "alpha=0.600; eps=0.011\n",
      "[Episode 7600] Avg reward over last 10 episodes: 400.900\n",
      "alpha=0.600; eps=0.010\n",
      "[Episode 7800] Avg reward over last 10 episodes: 431.800\n",
      "alpha=0.600; eps=0.010\n",
      "[Episode 8000] Avg reward over last 10 episodes: 379.600\n",
      "alpha=0.600; eps=0.010\n",
      "[Episode 8200] Avg reward over last 10 episodes: 338.800\n",
      "alpha=0.600; eps=0.010\n",
      "[Episode 8400] Avg reward over last 10 episodes: 368.500\n",
      "alpha=0.600; eps=0.010\n",
      "[Episode 8600] Avg reward over last 10 episodes: 364.600\n",
      "alpha=0.600; eps=0.010\n",
      "[Episode 8800] Avg reward over last 10 episodes: 466.300\n",
      "alpha=0.600; eps=0.010\n",
      "[Episode 9000] Avg reward over last 10 episodes: 391.900\n",
      "alpha=0.600; eps=0.010\n",
      "[Episode 9200] Avg reward over last 10 episodes: 441.100\n",
      "alpha=0.600; eps=0.010\n",
      "[Episode 9400] Avg reward over last 10 episodes: 373.000\n",
      "alpha=0.600; eps=0.010\n",
      "[Episode 9600] Avg reward over last 10 episodes: 394.900\n",
      "alpha=0.600; eps=0.010\n",
      "[Episode 9800] Avg reward over last 10 episodes: 341.500\n",
      "alpha=0.600; eps=0.010\n",
      "[Episode 10000] Avg reward over last 10 episodes: 406.600\n",
      "alpha=0.600; eps=0.010\n",
      "Training score over time: 292.0597\n"
     ]
    }
   ],
   "source": [
    "for _ in range(train_episodes):\n",
    "    episode += 1\n",
    "    if episode % 200 == 0 and episode != 0:\n",
    "        print(\"[Episode %d] Avg reward over last 10 episodes: %.3f\" % (episode, np.mean(training_rewards[-10:])))\n",
    "        print(\"alpha=%.3f; eps=%.3f\" % (alpha, epsilon))\n",
    "        \n",
    "    # Reseting the environment each time as per requirement\n",
    "    state = env.reset()    \n",
    "    \n",
    "    # Starting the tracker for the rewards\n",
    "    total_training_rewards = 0\n",
    "    for step in range(max_episode_len):\n",
    "        \n",
    "        # Choosing an action given the states based on a random number\n",
    "        exp_exp_tradeoff = random.uniform(0, 1) \n",
    "        \n",
    "        ### SECOND option for choosing the initial action - exploit     \n",
    "        # If the random number is larger than epsilon: employing exploitation \n",
    "        # and selecting best action \n",
    "        if exp_exp_tradeoff > epsilon:\n",
    "            action = np.argmax(Q[state,:]) \n",
    "        \n",
    "        ### FIRST option for choosing the initial action - explore       \n",
    "        # Otherwise, employing exploration: choosing a random action \n",
    "        else:\n",
    "            action = env.action_space.sample()\n",
    "        \n",
    "        ### performing the action and getting the reward     \n",
    "        # Taking the action and getting the reward and outcome state\n",
    "        new_state, reward, done, info = env.step(action)\n",
    "\n",
    "        ### update the Q-table\n",
    "        # Updating the Q-table using the Bellman equation\n",
    "        Q[state, action] = Q[state, action]+alpha*(reward+discount_factor*np.max(Q[new_state, :])-Q[state, action]) \n",
    "        \n",
    "        # Increasing our total reward and updating the state\n",
    "        total_training_rewards += reward      \n",
    "        state = new_state         \n",
    "        \n",
    "        # Ending the episode\n",
    "        if done == True:\n",
    "            break\n",
    "            \n",
    "    # Cutting down on exploration by reducing the epsilon \n",
    "    epsilon = min_epsilon+(max_epsilon-min_epsilon)*np.exp(-decay*episode)\n",
    "    \n",
    "    # Adding the total reward and reduced epsilon values\n",
    "    training_rewards.append(total_training_rewards)\n",
    "    epsilons.append(epsilon)\n",
    "    \n",
    "print (\"Training score over time: \" + str(sum(training_rewards)/train_episodes))"
   ]
  },
  {
   "cell_type": "markdown",
   "metadata": {},
   "source": [
    "How do the results? Let's have a look at the rewards over time:"
   ]
  },
  {
   "cell_type": "code",
   "execution_count": 18,
   "metadata": {},
   "outputs": [
    {
     "data": {
      "image/png": "[encoded data removed]",
      "text/plain": [
       "<Figure size 432x288 with 1 Axes>"
      ]
     },
     "metadata": {},
     "output_type": "display_data"
    }
   ],
   "source": [
    "plt.plot(training_rewards);"
   ]
  },
  {
   "cell_type": "markdown",
   "metadata": {},
   "source": [
    "And also the values of $\\epsilon$ (useful for debugging purposes and tweaking the decay rate):"
   ]
  },
  {
   "cell_type": "code",
   "execution_count": 19,
   "metadata": {},
   "outputs": [
    {
     "data": {
      "image/png": "[encoded data removed]",
      "text/plain": [
       "<Figure size 432x288 with 1 Axes>"
      ]
     },
     "metadata": {},
     "output_type": "display_data"
    }
   ],
   "source": [
    "plt.plot(epsilons);"
   ]
  },
  {
   "cell_type": "markdown",
   "metadata": {},
   "source": [
    "Let's visualize the behaviour of the learned policy in practice:"
   ]
  },
  {
   "cell_type": "code",
   "execution_count": 20,
   "metadata": {},
   "outputs": [
    {
     "name": "stdout",
     "output_type": "stream",
     "text": [
      "+---------+\n",
      "| :\u001b[31m0\u001b[0m| : : |\n",
      "| : | : : |\n",
      "| : : : : |\n",
      "| | : | : |\n",
      "|\u001b[43m\u001b[32m3\u001b[0m\u001b[0m| : |\u001b[34m0\u001b[0m: |\n",
      "+---------+\n",
      "T: 41; Total earnings: 120\n",
      "Action: South; Reward: -1\n"
     ]
    }
   ],
   "source": [
    "env = TaxiPickupEnvStandard()\n",
    "state = env.reset()\n",
    "for _ in range(1000):\n",
    "    try:\n",
    "        env.render()\n",
    "        action = np.argmax(Q[state,:])\n",
    "        state, reward, done, info = env.step(action)\n",
    "        time.sleep(1)\n",
    "        clear_output(wait=True)\n",
    "        if done == True:\n",
    "            env.render()\n",
    "            break\n",
    "    except KeyboardInterrupt:\n",
    "        break\n",
    "env.close()"
   ]
  },
  {
   "cell_type": "markdown",
   "metadata": {},
   "source": [
    "Hopefully you managed to learn a policy that maybe does not perform perfectly, but does a pretty good job at maximizing rewards. \n",
    "\n",
    "Now try editing the ``TaxiPickupEnvStandard`` class in the file ``taxi_env.py`` and change either the request rate of one of the locations to be (much) higher than the others (i.e. simulating that one location is more popular than the others), or change the earnings of one of the locations such that pickups in that location lead to (much) higher rewards (e.g. simulating a \"fancy\" part of town where customers give very generous tips). Re-run the Q-learning algorithm and notice how the learned policy changes and how new behaviours emerge :-)\n",
    "\n",
    "Hint: Look for the following lines in the ``taxi_env.py`` file:\n",
    "\n",
    "``self.req_rates = req_rates = [5e-2, 5e-2, 5e-2]``\n",
    "\n",
    "``if pickup_loc == 0: \n",
    "    reward = 20 \n",
    "elif pickup_loc == 1:\n",
    "    reward = 20 \n",
    "elif pickup_loc == 2:\n",
    "    reward = 20 ``\n",
    "\n",
    "**Important: You will have to reload the TaxiPickupEnvStandard class in order for changes in taxi_env.py to take effect. Use the following code to reload. If that doesn't work, then restart the Python kernel from the Jupyter menus on the top.**\n",
    "\n",
    "``import importlib\n",
    "importlib.reload(taxi_env)``"
   ]
  },
  {
   "cell_type": "markdown",
   "metadata": {},
   "source": [
    "# Part 3: Advanced environment (Deep Q-learning)\n",
    "\n",
    "In this part, we will consider a more complex environment where pickup requests can appear anywhere on our 5x5 grid world. When there are requests in a map cell, we will represent that with a red counter showing the number of requests in that cell.\n",
    "\n",
    "### Run Random Policy\n",
    "\n",
    "As we have been doing before, let's start by having a look at how that environment looks like using a random policy:"
   ]
  },
  {
   "cell_type": "code",
   "execution_count": 21,
   "metadata": {},
   "outputs": [
    {
     "name": "stdout",
     "output_type": "stream",
     "text": [
      "+---------+\n",
      "| : | : : |\n",
      "|\u001b[43m \u001b[0m: | : : |\n",
      "| : : : : |\n",
      "| | : | : |\n",
      "| | : | : |\n",
      "+---------+\n",
      "T: 3; Total earnings: 0\n",
      "Action: West; Reward: -1\n"
     ]
    }
   ],
   "source": [
    "env = TaxiPickupEnvAdvanced()\n",
    "env.reset()\n",
    "for _ in range(1000):\n",
    "    try:\n",
    "        env.render()\n",
    "        state = env.step(env.action_space.sample()) # take a random action\n",
    "        time.sleep(1)\n",
    "        clear_output(wait=True)\n",
    "    except KeyboardInterrupt:\n",
    "        break\n",
    "env.close()"
   ]
  },
  {
   "cell_type": "code",
   "execution_count": 22,
   "metadata": {},
   "outputs": [
    {
     "name": "stdout",
     "output_type": "stream",
     "text": [
      "Action Space Discrete(5)\n"
     ]
    }
   ],
   "source": [
    "print(\"Action Space {}\".format(env.action_space))"
   ]
  },
  {
   "cell_type": "markdown",
   "metadata": {},
   "source": [
    "### Deep Q-learning (DQN)\n",
    "\n",
    "As you probably realized already, when we start considering more interesting and more realistic problems, the dimensionality of the state space can quickly become unmanegeable for standard tabular Q-learning approaches. In the environment from Part 2, with just 3 possible pickup locations, the number of possible (discrete) states was already $5\\times5\\times2^3 = 200$. This is not a problem just because of memory requirements, but the learning task of fitting Q-table becomes much more complex (observations becomes sparser - curse of dimensionality)! Not only that, but what happens when the states are continuous rather than discrete? We definitely need a way of tackling these problems...\n",
    "\n",
    "This is where function approximation comes in! In this tutorial, we will use neural networks as function approximators. This is also by far the most popular approach in the recent RL literature. To makes things easier, we will rely on 2 Python packages - keras and keras-rl - that abstract away many of the complexities involved in creating a neural network and using it for deep Q-learning.\n",
    "\n",
    "**Optional: Implementing neural networks in Keras** (if you want, you may skip this part and treat the neural network as black-box function approximator)\n",
    "\n",
    "Bulding a multi-layer neural network in Keras is fairly easy. We start by creating an object of the class \"Sequential\" (indicating that the neural network consists of sequence of layers):\n",
    "\n",
    "```python\n",
    "model = Sequential()\n",
    "```\n",
    "\n",
    "Now we can add layers to our neural network model. For examply, we can add a fully connected (dense) layer with 50 neurons and using a ReLU (rectified linear unit) activation function as follows:\n",
    "\n",
    "```python\n",
    "model.add(Dense(50, input_dim=30, activation='relu'))\n",
    "```\n",
    "\n",
    "A similar approach can be used for other types of layers such as Convolutional Layers. The following line adds a Convolutional layer with 20 filters of 3x3 convolutions:\n",
    "\n",
    "```python\n",
    "model.add(Conv2D(20, kernel_size=(3, 3), activation=\"relu\"))\n",
    "```\n",
    "We can now keep adding more hidden layers, or add the final Dense layer. Note that since this is a regression problem (i.e. we want the neural network to output Q-value for the different possible actions given the state passed as input to it), the last layer (output layer) of network must necessarily have as many neurons/outputs as there are actions in our RL problem and it must use a linear activation:\n",
    "\n",
    "```python\n",
    "model.add(Dense(env.nA, activation='linear'))\n",
    "```\n",
    "\n",
    "**MDP formulation**:\n",
    "\n",
    "Armed with the power of neural networks for function approximation, we can build a more complex representation of the environment state. In this case, we will represent the state using 4 5x5 matrices containing:\n",
    "\n",
    "- Matrix 1: position of the taxi, one-hot encoded (i.e. with \"1\" in the place where the taxi is located, and zeros else where). For example:\n",
    "\n",
    "``[[0,0,0,0,0],\n",
    " [0,0,0,0,0],\n",
    " [0,0,0,0,0],\n",
    " [0,0,0,1,0],\n",
    " [0,0,0,0,0]]``\n",
    "\n",
    "- Matrix 2: number of pickup requests in each cell. For example:\n",
    "\n",
    "``[[0,0,0,0,0],\n",
    " [0,0,0,1,0],\n",
    " [0,0,0,0,0],\n",
    " [2,0,0,0,4],\n",
    " [0,0,1,0,0]]``\n",
    " \n",
    "- Matrix 3: information about the presence of walls to the east. In this case:\n",
    "\n",
    "``[[0,1,0,0,0],\n",
    " [0,1,0,0,0],\n",
    " [0,0,0,0,0],\n",
    " [1,0,1,0,0],\n",
    " [1,0,1,0,0]]``\n",
    " \n",
    "- Matrix 4: information about the presence of walls to the west. In this case:\n",
    "\n",
    "``[[0,0,1,0,0],\n",
    " [0,0,1,0,0],\n",
    " [0,0,0,0,0],\n",
    " [0,1,0,1,0],\n",
    " [0,1,0,1,0]]``\n",
    " \n",
    "We can stack these 4 matrices together to create a 5x5x4 tensor that represents the state of the environment, and feed it to the neural network as input. The idea is for the neural network to learn to approximate the Q-values (i.e. expected future rewards) for the different possible actions given the state that was passed as input.\n",
    "\n",
    "Aside: we are not arguing that this is necessarily the best state representation for this problem. In fact, coming up with good state representation is a key challenge in deep RL and it can determine how fast your agent learns and how the policies that it learns can be. This state representation seems to perform acceptably well for this problem, so we will proceed with it.\n",
    "\n",
    "In summary, the new MDP for this revised version of the problem can be formalized as:\n",
    "\n",
    "**Actions:** north, south, east, west, pickup\n",
    "\n",
    "**State:** 5x5x4 tensor representing the position of the taxi, the number of requests in each cell and the locations of the \"walls\"\n",
    "\n",
    "**Reward:** +20 if taxi at a pickup location where there are requests and action is \"pickup\", else -1 (penalty for time elapsed); trying to pickup in a location different than the target also leads to penalty of -10.\n",
    "\n",
    "The code below creates a neural network in Keras that performs well in this environment:"
   ]
  },
  {
   "cell_type": "code",
   "execution_count": 23,
   "metadata": {},
   "outputs": [
    {
     "name": "stdout",
     "output_type": "stream",
     "text": [
      "Model: \"sequential\"\n",
      "_________________________________________________________________\n",
      "Layer (type)                 Output Shape              Param #   \n",
      "=================================================================\n",
      "reshape (Reshape)            (None, 5, 5, 4)           0         \n",
      "_________________________________________________________________\n",
      "conv2d (Conv2D)              (None, 3, 3, 20)          740       \n",
      "_________________________________________________________________\n",
      "flatten (Flatten)            (None, 180)               0         \n",
      "_________________________________________________________________\n",
      "dense (Dense)                (None, 5)                 905       \n",
      "=================================================================\n",
      "Total params: 1,645\n",
      "Trainable params: 1,645\n",
      "Non-trainable params: 0\n",
      "_________________________________________________________________\n",
      "None\n"
     ]
    }
   ],
   "source": [
    "import keras\n",
    "from keras.models import Sequential\n",
    "from keras.layers import Dense, Activation, Flatten, Embedding, Reshape, Conv2D, MaxPooling2D, Input\n",
    "from keras.optimizers import Adam\n",
    "\n",
    "# First, we build a very simple neural network model in Keras\n",
    "model = Sequential()\n",
    "model.add(Input(shape=(1, env.num_rows, env.num_columns, 4)))\n",
    "model.add(Reshape(target_shape=(env.num_rows, env.num_columns, 4)))\n",
    "model.add(Conv2D(20, kernel_size=(3, 3), activation=\"relu\"))\n",
    "model.add(Flatten())\n",
    "model.add(Dense(env.nA, activation='linear'))\n",
    "print(model.summary())"
   ]
  },
  {
   "cell_type": "markdown",
   "metadata": {},
   "source": [
    "Now that we have the neural network in place, it is time to use it as a function approximator for the Q-function of our RL agent. This can be easily done using the Keras-rl package in Python. The code below creates a deep Q-learning agent using $\\epsilon$-greedy exploration:"
   ]
  },
  {
   "cell_type": "code",
   "execution_count": 24,
   "metadata": {},
   "outputs": [],
   "source": [
    "from rl.agents.dqn import DQNAgent\n",
    "from rl.policy import BoltzmannQPolicy, EpsGreedyQPolicy, LinearAnnealedPolicy\n",
    "from rl.memory import SequentialMemory\n",
    "\n",
    "# Then, define DQN agent in Keras-RL\n",
    "memory = SequentialMemory(limit=200000, window_length=1)\n",
    "policy = LinearAnnealedPolicy(EpsGreedyQPolicy(), \n",
    "                              attr='eps', value_max=1., value_min=.1, value_test=.05, nb_steps=100000)\n",
    "dqn = DQNAgent(model=model, nb_actions=env.nA, memory=memory, policy=policy, \n",
    "               nb_steps_warmup=500, target_model_update=1e-2, enable_double_dqn=True, enable_dueling_network=True)\n",
    "dqn.compile(Adam(lr=1e-3), metrics=['mae'])"
   ]
  },
  {
   "cell_type": "markdown",
   "metadata": {},
   "source": [
    "In essence, we are doing the exact some thing as we did before: Q-learning with $\\epsilon$-greedy exploration. The key difference is in the way that we approximate the Q-function: before we used a table, and now we are using a neural network. \n",
    "\n",
    "As you can probably guess from the code above, we are also using a few popular RL techniques that improve the stability and convergence of Q-learning algorithms:\n",
    "\n",
    "- Experience replay: we add a ``memory`` that allows the RL agent to \"re-live\" past experience but accounting for the latest knowledge that it has about the Q-function.\n",
    "\n",
    "- Double deep Q networks (``enable_double_dqn=True``)\n",
    "\n",
    "- Dueling networks (``enable_dueling_network=True``)\n",
    "\n",
    "These fall outside of the scope of this tutorial, but they are explained in detail in the aditional materials provided in the last slides.\n",
    "\n",
    "We can now run our deep Q-learning algorithm (in this case for 400000 steps, where each episode has a maximum of 200 steps):"
   ]
  },
  {
   "cell_type": "code",
   "execution_count": 25,
   "metadata": {
    "scrolled": false
   },
   "outputs": [
    {
     "name": "stdout",
     "output_type": "stream",
     "text": [
      "Training for 400000 steps ...\n",
      "Interval 1 (0 steps performed)\n",
      "WARNING:tensorflow:From /home/rodr/env36/lib/python3.6/site-packages/tensorflow/python/keras/engine/training_v1.py:2070: Model.state_updates (from tensorflow.python.keras.engine.training) is deprecated and will be removed in a future version.\n",
      "Instructions for updating:\n",
      "This property should not be used in TensorFlow 2.0, as updates are applied automatically.\n",
      "10000/10000 [==============================] - 79s 8ms/step - reward: -1.4167\n",
      "50 episodes - episode_reward: -283.340 [-488.000, 124.000] - loss: 13.864 - mae: 14.810 - mean_q: 13.563 - mean_eps: 0.953\n",
      "\n",
      "Interval 2 (10000 steps performed)\n",
      "10000/10000 [==============================] - 84s 8ms/step - reward: -1.1464\n",
      "50 episodes - episode_reward: -229.280 [-482.000, -53.000] - loss: 61.906 - mae: 100.863 - mean_q: 129.805 - mean_eps: 0.865\n",
      "\n",
      "Interval 3 (20000 steps performed)\n",
      "10000/10000 [==============================] - 85s 8ms/step - reward: -0.7825\n",
      "50 episodes - episode_reward: -156.500 [-356.000, 52.000] - loss: 120.319 - mae: 157.243 - mean_q: 200.484 - mean_eps: 0.775\n",
      "\n",
      "Interval 4 (30000 steps performed)\n",
      "10000/10000 [==============================] - 87s 9ms/step - reward: -0.8218\n",
      "50 episodes - episode_reward: -164.360 [-431.000, 79.000] - loss: 150.138 - mae: 172.814 - mean_q: 220.014 - mean_eps: 0.685\n",
      "\n",
      "Interval 5 (40000 steps performed)\n",
      "10000/10000 [==============================] - 85s 8ms/step - reward: -0.4246\n",
      "50 episodes - episode_reward: -84.920 [-266.000, 178.000] - loss: 147.101 - mae: 170.613 - mean_q: 217.219 - mean_eps: 0.595\n",
      "\n",
      "Interval 6 (50000 steps performed)\n",
      "10000/10000 [==============================] - 84s 8ms/step - reward: -0.2839\n",
      "50 episodes - episode_reward: -56.780 [-380.000, 139.000] - loss: 138.279 - mae: 166.424 - mean_q: 211.918 - mean_eps: 0.505\n",
      "\n",
      "Interval 7 (60000 steps performed)\n",
      "10000/10000 [==============================] - 85s 9ms/step - reward: -0.0844\n",
      "50 episodes - episode_reward: -16.880 [-305.000, 289.000] - loss: 131.326 - mae: 160.701 - mean_q: 204.763 - mean_eps: 0.415\n",
      "\n",
      "Interval 8 (70000 steps performed)\n",
      "10000/10000 [==============================] - 89s 9ms/step - reward: -0.0808\n",
      "50 episodes - episode_reward: -16.160 [-203.000, 322.000] - loss: 124.536 - mae: 155.065 - mean_q: 197.676 - mean_eps: 0.325\n",
      "\n",
      "Interval 9 (80000 steps performed)\n",
      "10000/10000 [==============================] - 91s 9ms/step - reward: 0.4091\n",
      "50 episodes - episode_reward: 81.820 [-122.000, 340.000] - loss: 120.329 - mae: 149.466 - mean_q: 190.719 - mean_eps: 0.235\n",
      "\n",
      "Interval 10 (90000 steps performed)\n",
      "10000/10000 [==============================] - 100s 10ms/step - reward: 0.5168\n",
      "50 episodes - episode_reward: 103.360 [-212.000, 301.000] - loss: 118.402 - mae: 146.347 - mean_q: 186.832 - mean_eps: 0.145\n",
      "\n",
      "Interval 11 (100000 steps performed)\n",
      "10000/10000 [==============================] - 103s 10ms/step - reward: 0.6410\n",
      "50 episodes - episode_reward: 128.200 [-101.000, 322.000] - loss: 111.443 - mae: 143.151 - mean_q: 182.838 - mean_eps: 0.100\n",
      "\n",
      "Interval 12 (110000 steps performed)\n",
      "10000/10000 [==============================] - 106s 11ms/step - reward: 0.6218\n",
      "50 episodes - episode_reward: 124.360 [-281.000, 433.000] - loss: 112.999 - mae: 140.996 - mean_q: 180.107 - mean_eps: 0.100\n",
      "\n",
      "Interval 13 (120000 steps performed)\n",
      "10000/10000 [==============================] - 113s 11ms/step - reward: 0.6725\n",
      "50 episodes - episode_reward: 134.500 [-110.000, 445.000] - loss: 112.871 - mae: 140.308 - mean_q: 179.259 - mean_eps: 0.100\n",
      "\n",
      "Interval 14 (130000 steps performed)\n",
      "10000/10000 [==============================] - 121s 12ms/step - reward: 0.7004\n",
      "50 episodes - episode_reward: 140.080 [-149.000, 310.000] - loss: 103.204 - mae: 138.896 - mean_q: 177.507 - mean_eps: 0.100\n",
      "\n",
      "Interval 15 (140000 steps performed)\n",
      "10000/10000 [==============================] - 127s 13ms/step - reward: 0.7316\n",
      "50 episodes - episode_reward: 146.320 [-125.000, 442.000] - loss: 107.858 - mae: 138.842 - mean_q: 177.452 - mean_eps: 0.100\n",
      "\n",
      "Interval 16 (150000 steps performed)\n",
      "10000/10000 [==============================] - 130s 13ms/step - reward: 0.8297\n",
      "50 episodes - episode_reward: 165.940 [-218.000, 463.000] - loss: 108.652 - mae: 137.403 - mean_q: 175.693 - mean_eps: 0.100\n",
      "\n",
      "Interval 17 (160000 steps performed)\n",
      "10000/10000 [==============================] - 134s 13ms/step - reward: 0.6950\n",
      "50 episodes - episode_reward: 139.000 [-65.000, 418.000] - loss: 103.314 - mae: 138.933 - mean_q: 177.631 - mean_eps: 0.100\n",
      "\n",
      "Interval 18 (170000 steps performed)\n",
      "10000/10000 [==============================] - 137s 14ms/step - reward: 0.8165\n",
      "50 episodes - episode_reward: 163.300 [-101.000, 454.000] - loss: 109.281 - mae: 137.635 - mean_q: 175.972 - mean_eps: 0.100\n",
      "\n",
      "Interval 19 (180000 steps performed)\n",
      "10000/10000 [==============================] - 141s 14ms/step - reward: 0.8834\n",
      "50 episodes - episode_reward: 176.680 [-119.000, 451.000] - loss: 104.310 - mae: 136.172 - mean_q: 174.136 - mean_eps: 0.100\n",
      "\n",
      "Interval 20 (190000 steps performed)\n",
      "10000/10000 [==============================] - 146s 15ms/step - reward: 1.0703\n",
      "50 episodes - episode_reward: 214.060 [-71.000, 568.000] - loss: 104.492 - mae: 138.203 - mean_q: 176.699 - mean_eps: 0.100\n",
      "\n",
      "Interval 21 (200000 steps performed)\n",
      "10000/10000 [==============================] - 146s 15ms/step - reward: 1.0397\n",
      "50 episodes - episode_reward: 207.940 [-320.000, 529.000] - loss: 103.676 - mae: 137.530 - mean_q: 175.820 - mean_eps: 0.100\n",
      "\n",
      "Interval 22 (210000 steps performed)\n",
      "10000/10000 [==============================] - 150s 15ms/step - reward: 1.0115\n",
      "50 episodes - episode_reward: 202.300 [-20.000, 430.000] - loss: 98.044 - mae: 135.766 - mean_q: 173.634 - mean_eps: 0.100\n",
      "\n",
      "Interval 23 (220000 steps performed)\n",
      "10000/10000 [==============================] - 147s 15ms/step - reward: 1.1036\n",
      "50 episodes - episode_reward: 220.720 [-158.000, 442.000] - loss: 95.857 - mae: 132.720 - mean_q: 169.901 - mean_eps: 0.100\n",
      "\n",
      "Interval 24 (230000 steps performed)\n",
      "10000/10000 [==============================] - 148s 15ms/step - reward: 1.0448\n",
      "50 episodes - episode_reward: 208.960 [-47.000, 487.000] - loss: 95.440 - mae: 134.750 - mean_q: 172.646 - mean_eps: 0.100\n",
      "\n",
      "Interval 25 (240000 steps performed)\n",
      "10000/10000 [==============================] - 147s 15ms/step - reward: 1.1735\n",
      "50 episodes - episode_reward: 234.700 [-23.000, 526.000] - loss: 96.831 - mae: 134.193 - mean_q: 171.912 - mean_eps: 0.100\n",
      "\n",
      "Interval 26 (250000 steps performed)\n",
      "10000/10000 [==============================] - 148s 15ms/step - reward: 1.2107\n",
      "50 episodes - episode_reward: 242.140 [85.000, 493.000] - loss: 94.963 - mae: 134.702 - mean_q: 172.558 - mean_eps: 0.100\n",
      "\n",
      "Interval 27 (260000 steps performed)\n",
      "10000/10000 [==============================] - 150s 15ms/step - reward: 1.0400\n",
      "50 episodes - episode_reward: 208.000 [-191.000, 598.000] - loss: 94.262 - mae: 131.226 - mean_q: 168.279 - mean_eps: 0.100\n",
      "\n",
      "Interval 28 (270000 steps performed)\n",
      "10000/10000 [==============================] - 147s 15ms/step - reward: 1.0481\n",
      "50 episodes - episode_reward: 209.620 [-29.000, 466.000] - loss: 91.323 - mae: 130.995 - mean_q: 168.052 - mean_eps: 0.100\n",
      "\n",
      "Interval 29 (280000 steps performed)\n",
      "10000/10000 [==============================] - 147s 15ms/step - reward: 1.0829\n",
      "50 episodes - episode_reward: 216.580 [10.000, 619.000] - loss: 90.271 - mae: 130.014 - mean_q: 166.781 - mean_eps: 0.100\n",
      "\n",
      "Interval 30 (290000 steps performed)\n",
      "10000/10000 [==============================] - 148s 15ms/step - reward: 0.9863\n",
      "50 episodes - episode_reward: 197.260 [16.000, 409.000] - loss: 90.761 - mae: 129.471 - mean_q: 166.080 - mean_eps: 0.100\n",
      "\n",
      "Interval 31 (300000 steps performed)\n",
      "10000/10000 [==============================] - 150s 15ms/step - reward: 0.9986\n",
      "50 episodes - episode_reward: 199.720 [-494.000, 475.000] - loss: 86.779 - mae: 130.439 - mean_q: 167.338 - mean_eps: 0.100\n",
      "\n",
      "Interval 32 (310000 steps performed)\n",
      "10000/10000 [==============================] - 148s 15ms/step - reward: 1.1933\n",
      "50 episodes - episode_reward: 238.660 [-104.000, 583.000] - loss: 90.127 - mae: 129.817 - mean_q: 166.561 - mean_eps: 0.100\n",
      "\n",
      "Interval 33 (320000 steps performed)\n",
      "10000/10000 [==============================] - 149s 15ms/step - reward: 1.1966\n",
      "50 episodes - episode_reward: 239.320 [-47.000, 442.000] - loss: 90.131 - mae: 128.967 - mean_q: 165.490 - mean_eps: 0.100\n",
      "\n",
      "Interval 34 (330000 steps performed)\n",
      "10000/10000 [==============================] - 150s 15ms/step - reward: 1.1570\n",
      "50 episodes - episode_reward: 231.400 [46.000, 523.000] - loss: 88.005 - mae: 127.427 - mean_q: 163.484 - mean_eps: 0.100\n",
      "\n",
      "Interval 35 (340000 steps performed)\n",
      "10000/10000 [==============================] - 147s 15ms/step - reward: 1.1498\n",
      "50 episodes - episode_reward: 229.960 [1.000, 475.000] - loss: 84.153 - mae: 125.840 - mean_q: 161.503 - mean_eps: 0.100\n",
      "\n",
      "Interval 36 (350000 steps performed)\n",
      "10000/10000 [==============================] - 151s 15ms/step - reward: 0.9935\n",
      "50 episodes - episode_reward: 198.700 [-65.000, 346.000] - loss: 87.436 - mae: 125.071 - mean_q: 160.527 - mean_eps: 0.100\n",
      "\n",
      "Interval 37 (360000 steps performed)\n",
      "10000/10000 [==============================] - 150s 15ms/step - reward: 1.1450\n",
      "50 episodes - episode_reward: 229.000 [-23.000, 442.000] - loss: 84.708 - mae: 126.072 - mean_q: 161.753 - mean_eps: 0.100\n",
      "\n",
      "Interval 38 (370000 steps performed)\n",
      "10000/10000 [==============================] - 148s 15ms/step - reward: 1.1603\n",
      "50 episodes - episode_reward: 232.060 [37.000, 496.000] - loss: 85.924 - mae: 125.394 - mean_q: 160.972 - mean_eps: 0.100\n",
      "\n",
      "Interval 39 (380000 steps performed)\n",
      "10000/10000 [==============================] - 151s 15ms/step - reward: 1.1504\n",
      "50 episodes - episode_reward: 230.080 [76.000, 466.000] - loss: 83.842 - mae: 125.963 - mean_q: 161.638 - mean_eps: 0.100\n",
      "\n",
      "Interval 40 (390000 steps performed)\n",
      "10000/10000 [==============================] - 151s 15ms/step - reward: 1.2896\n",
      "done, took 5105.105 seconds\n"
     ]
    },
    {
     "data": {
      "text/plain": [
       "<tensorflow.python.keras.callbacks.History at 0x7f2825c83a20>"
      ]
     },
     "execution_count": 25,
     "metadata": {},
     "output_type": "execute_result"
    }
   ],
   "source": [
    "dqn.fit(env, nb_steps=400000, visualize=False, verbose=1, nb_max_episode_steps=200, log_interval=10000)"
   ]
  },
  {
   "cell_type": "markdown",
   "metadata": {},
   "source": [
    "Once the RL agent is learned, we can visualize the learned policy by exploiting the call-back functionality in Keras (don't worry if this code is a bit confusing for you as a first time Keras user; focus on the results that you obtained instead):"
   ]
  },
  {
   "cell_type": "code",
   "execution_count": 26,
   "metadata": {},
   "outputs": [],
   "source": [
    "from keras.callbacks import Callback\n",
    "\n",
    "class Visualizer(Callback):\n",
    "    def __init__(self, env):\n",
    "        self.env = env\n",
    "    \n",
    "    def on_action_end(self, action, logs):\n",
    "        \"\"\" Render environment at the end of each action \"\"\"\n",
    "        self.env.render(mode='human')\n",
    "        time.sleep(1)\n",
    "        clear_output(wait=True)"
   ]
  },
  {
   "cell_type": "code",
   "execution_count": 27,
   "metadata": {
    "scrolled": false
   },
   "outputs": [
    {
     "name": "stdout",
     "output_type": "stream",
     "text": [
      "+---------+\n",
      "| : | : : |\n",
      "|\u001b[31m2\u001b[0m: | : : |\n",
      "|\u001b[31m1\u001b[0m:\u001b[43m \u001b[0m: : : |\n",
      "| | : | : |\n",
      "| |\u001b[31m1\u001b[0m: | : |\n",
      "+---------+\n",
      "T: 98; Total earnings: 360\n",
      "Action: North; Reward: -1\n"
     ]
    }
   ],
   "source": [
    "try:\n",
    "    dqn.test(env, nb_episodes=5, callbacks=[Visualizer(env)], nb_max_episode_steps=99, visualize=False, verbose=0)\n",
    "except KeyboardInterrupt:\n",
    "    pass"
   ]
  },
  {
   "cell_type": "markdown",
   "metadata": {},
   "source": [
    "How are the results? Does the policy do what you would expect it to do? Or does it sometimes behaves strangely (i.e. not perfectly)? When I ran this code I managed to obtain a pretty good policy in a relatively short amount of time, but you can try doing a few tweaks to see if you improve. For example, try:\n",
    "\n",
    "- Increasing the number of training steps ``nb_steps=400000``\n",
    "\n",
    "- Increasing the maximum length of each episode ``nb_max_episode_steps=200``\n",
    "\n",
    "- Increasing the complexity of the neural network (e.g. more layers or more neurons per layer)\n",
    "\n",
    "- Changing the learning rate of the neural network optimizer ``Adam(lr=1e-3)``\n",
    "\n",
    "- Other hyper-parameters of the RL algorithm (e.g. memory size, decay rate of $\\epsilon$-greedy, etc.):\n",
    "\n",
    "``memory = SequentialMemory(limit=200000, window_length=1)\n",
    "policy = LinearAnnealedPolicy(EpsGreedyQPolicy(), \n",
    "                              attr='eps', value_max=1., value_min=.1, value_test=.05, nb_steps=100000)\n",
    "dqn = DQNAgent(model=model, nb_actions=env.nA, memory=memory, policy=policy, \n",
    "               nb_steps_warmup=500, target_model_update=1e-2, enable_double_dqn=True, enable_dueling_network=True)``"
   ]
  },
  {
   "cell_type": "markdown",
   "metadata": {},
   "source": [
    "That's it! We hope that you enjoyed this brief introduction to the world of reinforcement learning :-)"
   ]
  }
 ],
 "metadata": {
  "kernelspec": {
   "display_name": "Python 3 (ipykernel)",
   "language": "python",
   "name": "python3"
  },
  "language_info": {
   "codemirror_mode": {
    "name": "ipython",
    "version": 3
   },
   "file_extension": ".py",
   "mimetype": "text/x-python",
   "name": "python",
   "nbconvert_exporter": "python",
   "pygments_lexer": "ipython3",
   "version": "3.7.9"
  },
  "toc": {
   "base_numbering": 1,
   "nav_menu": {},
   "number_sections": true,
   "sideBar": true,
   "skip_h1_title": false,
   "title_cell": "Table of Contents",
   "title_sidebar": "Contents",
   "toc_cell": false,
   "toc_position": {},
   "toc_section_display": true,
   "toc_window_display": false
  }
 },
 "nbformat": 4,
 "nbformat_minor": 2
}
