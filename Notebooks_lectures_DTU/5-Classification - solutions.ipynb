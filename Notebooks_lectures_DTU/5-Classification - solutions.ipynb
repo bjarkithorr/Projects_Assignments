{
 "cells": [
  {
   "cell_type": "markdown",
   "metadata": {},
   "source": [
    "# Data Sciences and GIS for Mobility\n",
    "\n",
    "## Lecture 5 - Classification"
   ]
  },
  {
   "cell_type": "markdown",
   "metadata": {},
   "source": [
    "So, it's time to learn about Classification models. This notebook will run you through the essential concepts, and give examples on how to run multiple Classification algorithms.\n"
   ]
  },
  {
   "cell_type": "markdown",
   "metadata": {},
   "source": [
    "As always, let's do some imports. "
   ]
  },
  {
   "cell_type": "code",
   "execution_count": 1,
   "metadata": {},
   "outputs": [],
   "source": [
    "import numpy as np\n",
    "import matplotlib.pyplot as plt\n",
    "import pandas as pd\n",
    "%matplotlib inline"
   ]
  },
  {
   "cell_type": "markdown",
   "metadata": {},
   "source": [
    "-----"
   ]
  },
  {
   "cell_type": "markdown",
   "metadata": {},
   "source": [
    "## Part 1 - Logistic Regression"
   ]
  },
  {
   "cell_type": "markdown",
   "metadata": {},
   "source": [
    "_The first model of the lecture relates with Logistic Regression. It is important that you understand the mechanics well, because their are applicable in other types of Classification models_"
   ]
  },
  {
   "cell_type": "markdown",
   "metadata": {},
   "source": [
    "We want you to understand the intuition behind the logit function, so let's work on the basics. Imagine you want to make a function that determines the probability of some event (let's call it x). The \"event\" x could simply mean that \"the input data corresponds to class 1\" (in which case, ~x means \"the input data corresponds to class 0\"). "
   ]
  },
  {
   "cell_type": "markdown",
   "metadata": {},
   "source": [
    "So, to plot such a function, let's just create a vector with values between 0 and 1"
   ]
  },
  {
   "cell_type": "code",
   "execution_count": 2,
   "metadata": {},
   "outputs": [],
   "source": [
    "px=np.arange(0.0001, 1, 0.001)"
   ]
  },
  {
   "cell_type": "markdown",
   "metadata": {},
   "source": [
    "So, now we determine the odds ratio function"
   ]
  },
  {
   "cell_type": "code",
   "execution_count": 3,
   "metadata": {},
   "outputs": [],
   "source": [
    "y=px/(1-px)"
   ]
  },
  {
   "cell_type": "markdown",
   "metadata": {},
   "source": [
    "...and plot it"
   ]
  },
  {
   "cell_type": "code",
   "execution_count": 4,
   "metadata": {},
   "outputs": [
    {
     "data": {
      "image/png": "[encoded data removed]",
      "text/plain": [
       "<Figure size 432x288 with 1 Axes>"
      ]
     },
     "metadata": {
      "needs_background": "light"
     },
     "output_type": "display_data"
    }
   ],
   "source": [
    "plt.plot(y,px)\n",
    "plt.xlim([0,50])\n",
    "plt.xlabel(\"odds ratio\")\n",
    "plt.ylabel(\"p(x)\");"
   ]
  },
  {
   "cell_type": "markdown",
   "metadata": {},
   "source": [
    "As said in the class, this function form is not ideal at all. What happens if we apply the log?"
   ]
  },
  {
   "cell_type": "code",
   "execution_count": 5,
   "metadata": {},
   "outputs": [],
   "source": [
    "y=np.log(px/(1-px))"
   ]
  },
  {
   "cell_type": "markdown",
   "metadata": {},
   "source": [
    "It will be clear with in plot"
   ]
  },
  {
   "cell_type": "code",
   "execution_count": 6,
   "metadata": {},
   "outputs": [
    {
     "data": {
      "image/png": "[encoded data removed]",
      "text/plain": [
       "<Figure size 432x288 with 1 Axes>"
      ]
     },
     "metadata": {
      "needs_background": "light"
     },
     "output_type": "display_data"
    }
   ],
   "source": [
    "plt.plot(y,px)\n",
    "#plt.xlim([0,50])\n",
    "plt.xlabel(\"logit\")\n",
    "plt.ylabel(\"p(x)\");"
   ]
  },
  {
   "cell_type": "markdown",
   "metadata": {},
   "source": [
    "ok, now it seems much more balanced, doesn't it? \n",
    "\n",
    "Understanding this function is important:\n",
    "- What is the probability of x (p(x)) when the log odds ratio is 0? \n",
    "\n",
    "- What is the odds ratio itself? \n",
    "\n",
    "- What about the extremes (when is it 1 and when is it 0?)?"
   ]
  },
  {
   "cell_type": "markdown",
   "metadata": {},
   "source": [
    "------"
   ]
  },
  {
   "cell_type": "markdown",
   "metadata": {},
   "source": [
    "Let's start playing with data. First we need to load:"
   ]
  },
  {
   "cell_type": "code",
   "execution_count": 7,
   "metadata": {},
   "outputs": [],
   "source": [
    "f=pd.read_csv(\"NYC_taxis_weather_2016_with_dummies.csv\")"
   ]
  },
  {
   "cell_type": "markdown",
   "metadata": {},
   "source": [
    "Take a look at the dataframe yourself"
   ]
  },
  {
   "cell_type": "code",
   "execution_count": 8,
   "metadata": {},
   "outputs": [
    {
     "data": {
      "text/html": [
       "<div>\n",
       "<style scoped>\n",
       "    .dataframe tbody tr th:only-of-type {\n",
       "        vertical-align: middle;\n",
       "    }\n",
       "\n",
       "    .dataframe tbody tr th {\n",
       "        vertical-align: top;\n",
       "    }\n",
       "\n",
       "    .dataframe thead th {\n",
       "        text-align: right;\n",
       "    }\n",
       "</style>\n",
       "<table border=\"1\" class=\"dataframe\">\n",
       "  <thead>\n",
       "    <tr style=\"text-align: right;\">\n",
       "      <th></th>\n",
       "      <th>datetime</th>\n",
       "      <th>pickups1</th>\n",
       "      <th>pickups17_lag1</th>\n",
       "      <th>pickups17_lag2</th>\n",
       "      <th>pickups1_lag1</th>\n",
       "      <th>pickups1_lag2</th>\n",
       "      <th>pickups21_lag1</th>\n",
       "      <th>pickups21_lag2</th>\n",
       "      <th>pickups28_lag1</th>\n",
       "      <th>pickups28_lag2</th>\n",
       "      <th>...</th>\n",
       "      <th>fog</th>\n",
       "      <th>rain_drizzle</th>\n",
       "      <th>time_of_day_afternoon</th>\n",
       "      <th>time_of_day_afternoon rush</th>\n",
       "      <th>time_of_day_evening</th>\n",
       "      <th>time_of_day_lunch time</th>\n",
       "      <th>time_of_day_morning</th>\n",
       "      <th>time_of_day_morning rush</th>\n",
       "      <th>time_of_day_night</th>\n",
       "      <th>is_weekend</th>\n",
       "    </tr>\n",
       "  </thead>\n",
       "  <tbody>\n",
       "    <tr>\n",
       "      <th>0</th>\n",
       "      <td>2016-01-01 00:00:00</td>\n",
       "      <td>162</td>\n",
       "      <td>202.0</td>\n",
       "      <td>307.0</td>\n",
       "      <td>109.0</td>\n",
       "      <td>171.0</td>\n",
       "      <td>198.0</td>\n",
       "      <td>306.0</td>\n",
       "      <td>40.0</td>\n",
       "      <td>54.0</td>\n",
       "      <td>...</td>\n",
       "      <td>0</td>\n",
       "      <td>0</td>\n",
       "      <td>0</td>\n",
       "      <td>0</td>\n",
       "      <td>0</td>\n",
       "      <td>0</td>\n",
       "      <td>0</td>\n",
       "      <td>0</td>\n",
       "      <td>1</td>\n",
       "      <td>False</td>\n",
       "    </tr>\n",
       "    <tr>\n",
       "      <th>1</th>\n",
       "      <td>2016-01-01 00:15:00</td>\n",
       "      <td>251</td>\n",
       "      <td>394.0</td>\n",
       "      <td>202.0</td>\n",
       "      <td>162.0</td>\n",
       "      <td>109.0</td>\n",
       "      <td>312.0</td>\n",
       "      <td>198.0</td>\n",
       "      <td>29.0</td>\n",
       "      <td>40.0</td>\n",
       "      <td>...</td>\n",
       "      <td>0</td>\n",
       "      <td>0</td>\n",
       "      <td>0</td>\n",
       "      <td>0</td>\n",
       "      <td>0</td>\n",
       "      <td>0</td>\n",
       "      <td>0</td>\n",
       "      <td>0</td>\n",
       "      <td>1</td>\n",
       "      <td>False</td>\n",
       "    </tr>\n",
       "    <tr>\n",
       "      <th>2</th>\n",
       "      <td>2016-01-01 00:30:00</td>\n",
       "      <td>310</td>\n",
       "      <td>420.0</td>\n",
       "      <td>394.0</td>\n",
       "      <td>251.0</td>\n",
       "      <td>162.0</td>\n",
       "      <td>699.0</td>\n",
       "      <td>312.0</td>\n",
       "      <td>16.0</td>\n",
       "      <td>29.0</td>\n",
       "      <td>...</td>\n",
       "      <td>0</td>\n",
       "      <td>0</td>\n",
       "      <td>0</td>\n",
       "      <td>0</td>\n",
       "      <td>0</td>\n",
       "      <td>0</td>\n",
       "      <td>0</td>\n",
       "      <td>0</td>\n",
       "      <td>1</td>\n",
       "      <td>False</td>\n",
       "    </tr>\n",
       "    <tr>\n",
       "      <th>3</th>\n",
       "      <td>2016-01-01 00:45:00</td>\n",
       "      <td>338</td>\n",
       "      <td>310.0</td>\n",
       "      <td>420.0</td>\n",
       "      <td>310.0</td>\n",
       "      <td>251.0</td>\n",
       "      <td>482.0</td>\n",
       "      <td>699.0</td>\n",
       "      <td>3.0</td>\n",
       "      <td>16.0</td>\n",
       "      <td>...</td>\n",
       "      <td>0</td>\n",
       "      <td>0</td>\n",
       "      <td>0</td>\n",
       "      <td>0</td>\n",
       "      <td>0</td>\n",
       "      <td>0</td>\n",
       "      <td>0</td>\n",
       "      <td>0</td>\n",
       "      <td>1</td>\n",
       "      <td>False</td>\n",
       "    </tr>\n",
       "    <tr>\n",
       "      <th>4</th>\n",
       "      <td>2016-01-01 01:00:00</td>\n",
       "      <td>369</td>\n",
       "      <td>403.0</td>\n",
       "      <td>310.0</td>\n",
       "      <td>338.0</td>\n",
       "      <td>310.0</td>\n",
       "      <td>459.0</td>\n",
       "      <td>482.0</td>\n",
       "      <td>2.0</td>\n",
       "      <td>3.0</td>\n",
       "      <td>...</td>\n",
       "      <td>0</td>\n",
       "      <td>0</td>\n",
       "      <td>0</td>\n",
       "      <td>0</td>\n",
       "      <td>0</td>\n",
       "      <td>0</td>\n",
       "      <td>0</td>\n",
       "      <td>0</td>\n",
       "      <td>1</td>\n",
       "      <td>False</td>\n",
       "    </tr>\n",
       "    <tr>\n",
       "      <th>...</th>\n",
       "      <td>...</td>\n",
       "      <td>...</td>\n",
       "      <td>...</td>\n",
       "      <td>...</td>\n",
       "      <td>...</td>\n",
       "      <td>...</td>\n",
       "      <td>...</td>\n",
       "      <td>...</td>\n",
       "      <td>...</td>\n",
       "      <td>...</td>\n",
       "      <td>...</td>\n",
       "      <td>...</td>\n",
       "      <td>...</td>\n",
       "      <td>...</td>\n",
       "      <td>...</td>\n",
       "      <td>...</td>\n",
       "      <td>...</td>\n",
       "      <td>...</td>\n",
       "      <td>...</td>\n",
       "      <td>...</td>\n",
       "      <td>...</td>\n",
       "    </tr>\n",
       "    <tr>\n",
       "      <th>17467</th>\n",
       "      <td>2016-06-30 22:45:00</td>\n",
       "      <td>316</td>\n",
       "      <td>639.0</td>\n",
       "      <td>624.0</td>\n",
       "      <td>318.0</td>\n",
       "      <td>291.0</td>\n",
       "      <td>406.0</td>\n",
       "      <td>305.0</td>\n",
       "      <td>201.0</td>\n",
       "      <td>189.0</td>\n",
       "      <td>...</td>\n",
       "      <td>0</td>\n",
       "      <td>0</td>\n",
       "      <td>0</td>\n",
       "      <td>0</td>\n",
       "      <td>1</td>\n",
       "      <td>0</td>\n",
       "      <td>0</td>\n",
       "      <td>0</td>\n",
       "      <td>0</td>\n",
       "      <td>False</td>\n",
       "    </tr>\n",
       "    <tr>\n",
       "      <th>17468</th>\n",
       "      <td>2016-06-30 23:00:00</td>\n",
       "      <td>299</td>\n",
       "      <td>593.0</td>\n",
       "      <td>639.0</td>\n",
       "      <td>316.0</td>\n",
       "      <td>318.0</td>\n",
       "      <td>347.0</td>\n",
       "      <td>406.0</td>\n",
       "      <td>168.0</td>\n",
       "      <td>201.0</td>\n",
       "      <td>...</td>\n",
       "      <td>0</td>\n",
       "      <td>0</td>\n",
       "      <td>0</td>\n",
       "      <td>0</td>\n",
       "      <td>0</td>\n",
       "      <td>0</td>\n",
       "      <td>0</td>\n",
       "      <td>0</td>\n",
       "      <td>1</td>\n",
       "      <td>False</td>\n",
       "    </tr>\n",
       "    <tr>\n",
       "      <th>17469</th>\n",
       "      <td>2016-06-30 23:15:00</td>\n",
       "      <td>283</td>\n",
       "      <td>617.0</td>\n",
       "      <td>593.0</td>\n",
       "      <td>299.0</td>\n",
       "      <td>316.0</td>\n",
       "      <td>252.0</td>\n",
       "      <td>347.0</td>\n",
       "      <td>104.0</td>\n",
       "      <td>168.0</td>\n",
       "      <td>...</td>\n",
       "      <td>0</td>\n",
       "      <td>0</td>\n",
       "      <td>0</td>\n",
       "      <td>0</td>\n",
       "      <td>0</td>\n",
       "      <td>0</td>\n",
       "      <td>0</td>\n",
       "      <td>0</td>\n",
       "      <td>1</td>\n",
       "      <td>False</td>\n",
       "    </tr>\n",
       "    <tr>\n",
       "      <th>17470</th>\n",
       "      <td>2016-06-30 23:30:00</td>\n",
       "      <td>276</td>\n",
       "      <td>580.0</td>\n",
       "      <td>617.0</td>\n",
       "      <td>283.0</td>\n",
       "      <td>299.0</td>\n",
       "      <td>246.0</td>\n",
       "      <td>252.0</td>\n",
       "      <td>87.0</td>\n",
       "      <td>104.0</td>\n",
       "      <td>...</td>\n",
       "      <td>0</td>\n",
       "      <td>0</td>\n",
       "      <td>0</td>\n",
       "      <td>0</td>\n",
       "      <td>0</td>\n",
       "      <td>0</td>\n",
       "      <td>0</td>\n",
       "      <td>0</td>\n",
       "      <td>1</td>\n",
       "      <td>False</td>\n",
       "    </tr>\n",
       "    <tr>\n",
       "      <th>17471</th>\n",
       "      <td>2016-06-30 23:45:00</td>\n",
       "      <td>230</td>\n",
       "      <td>595.0</td>\n",
       "      <td>580.0</td>\n",
       "      <td>276.0</td>\n",
       "      <td>283.0</td>\n",
       "      <td>208.0</td>\n",
       "      <td>246.0</td>\n",
       "      <td>129.0</td>\n",
       "      <td>87.0</td>\n",
       "      <td>...</td>\n",
       "      <td>0</td>\n",
       "      <td>0</td>\n",
       "      <td>0</td>\n",
       "      <td>0</td>\n",
       "      <td>0</td>\n",
       "      <td>0</td>\n",
       "      <td>0</td>\n",
       "      <td>0</td>\n",
       "      <td>1</td>\n",
       "      <td>False</td>\n",
       "    </tr>\n",
       "  </tbody>\n",
       "</table>\n",
       "<p>17472 rows × 22 columns</p>\n",
       "</div>"
      ],
      "text/plain": [
       "                  datetime  pickups1  pickups17_lag1  pickups17_lag2  \\\n",
       "0      2016-01-01 00:00:00       162           202.0           307.0   \n",
       "1      2016-01-01 00:15:00       251           394.0           202.0   \n",
       "2      2016-01-01 00:30:00       310           420.0           394.0   \n",
       "3      2016-01-01 00:45:00       338           310.0           420.0   \n",
       "4      2016-01-01 01:00:00       369           403.0           310.0   \n",
       "...                    ...       ...             ...             ...   \n",
       "17467  2016-06-30 22:45:00       316           639.0           624.0   \n",
       "17468  2016-06-30 23:00:00       299           593.0           639.0   \n",
       "17469  2016-06-30 23:15:00       283           617.0           593.0   \n",
       "17470  2016-06-30 23:30:00       276           580.0           617.0   \n",
       "17471  2016-06-30 23:45:00       230           595.0           580.0   \n",
       "\n",
       "       pickups1_lag1  pickups1_lag2  pickups21_lag1  pickups21_lag2  \\\n",
       "0              109.0          171.0           198.0           306.0   \n",
       "1              162.0          109.0           312.0           198.0   \n",
       "2              251.0          162.0           699.0           312.0   \n",
       "3              310.0          251.0           482.0           699.0   \n",
       "4              338.0          310.0           459.0           482.0   \n",
       "...              ...            ...             ...             ...   \n",
       "17467          318.0          291.0           406.0           305.0   \n",
       "17468          316.0          318.0           347.0           406.0   \n",
       "17469          299.0          316.0           252.0           347.0   \n",
       "17470          283.0          299.0           246.0           252.0   \n",
       "17471          276.0          283.0           208.0           246.0   \n",
       "\n",
       "       pickups28_lag1  pickups28_lag2  ...  fog  rain_drizzle  \\\n",
       "0                40.0            54.0  ...    0             0   \n",
       "1                29.0            40.0  ...    0             0   \n",
       "2                16.0            29.0  ...    0             0   \n",
       "3                 3.0            16.0  ...    0             0   \n",
       "4                 2.0             3.0  ...    0             0   \n",
       "...               ...             ...  ...  ...           ...   \n",
       "17467           201.0           189.0  ...    0             0   \n",
       "17468           168.0           201.0  ...    0             0   \n",
       "17469           104.0           168.0  ...    0             0   \n",
       "17470            87.0           104.0  ...    0             0   \n",
       "17471           129.0            87.0  ...    0             0   \n",
       "\n",
       "       time_of_day_afternoon  time_of_day_afternoon rush  time_of_day_evening  \\\n",
       "0                          0                           0                    0   \n",
       "1                          0                           0                    0   \n",
       "2                          0                           0                    0   \n",
       "3                          0                           0                    0   \n",
       "4                          0                           0                    0   \n",
       "...                      ...                         ...                  ...   \n",
       "17467                      0                           0                    1   \n",
       "17468                      0                           0                    0   \n",
       "17469                      0                           0                    0   \n",
       "17470                      0                           0                    0   \n",
       "17471                      0                           0                    0   \n",
       "\n",
       "       time_of_day_lunch time  time_of_day_morning  time_of_day_morning rush  \\\n",
       "0                           0                    0                         0   \n",
       "1                           0                    0                         0   \n",
       "2                           0                    0                         0   \n",
       "3                           0                    0                         0   \n",
       "4                           0                    0                         0   \n",
       "...                       ...                  ...                       ...   \n",
       "17467                       0                    0                         0   \n",
       "17468                       0                    0                         0   \n",
       "17469                       0                    0                         0   \n",
       "17470                       0                    0                         0   \n",
       "17471                       0                    0                         0   \n",
       "\n",
       "       time_of_day_night  is_weekend  \n",
       "0                      1       False  \n",
       "1                      1       False  \n",
       "2                      1       False  \n",
       "3                      1       False  \n",
       "4                      1       False  \n",
       "...                  ...         ...  \n",
       "17467                  0       False  \n",
       "17468                  1       False  \n",
       "17469                  1       False  \n",
       "17470                  1       False  \n",
       "17471                  1       False  \n",
       "\n",
       "[17472 rows x 22 columns]"
      ]
     },
     "execution_count": 8,
     "metadata": {},
     "output_type": "execute_result"
    }
   ],
   "source": [
    "f"
   ]
  },
  {
   "cell_type": "markdown",
   "metadata": {},
   "source": [
    "Yes, the index is no longer the time, let's put it back"
   ]
  },
  {
   "cell_type": "code",
   "execution_count": 9,
   "metadata": {},
   "outputs": [
    {
     "data": {
      "text/html": [
       "<div>\n",
       "<style scoped>\n",
       "    .dataframe tbody tr th:only-of-type {\n",
       "        vertical-align: middle;\n",
       "    }\n",
       "\n",
       "    .dataframe tbody tr th {\n",
       "        vertical-align: top;\n",
       "    }\n",
       "\n",
       "    .dataframe thead th {\n",
       "        text-align: right;\n",
       "    }\n",
       "</style>\n",
       "<table border=\"1\" class=\"dataframe\">\n",
       "  <thead>\n",
       "    <tr style=\"text-align: right;\">\n",
       "      <th></th>\n",
       "      <th>pickups1</th>\n",
       "      <th>pickups17_lag1</th>\n",
       "      <th>pickups17_lag2</th>\n",
       "      <th>pickups1_lag1</th>\n",
       "      <th>pickups1_lag2</th>\n",
       "      <th>pickups21_lag1</th>\n",
       "      <th>pickups21_lag2</th>\n",
       "      <th>pickups28_lag1</th>\n",
       "      <th>pickups28_lag2</th>\n",
       "      <th>temp</th>\n",
       "      <th>...</th>\n",
       "      <th>fog</th>\n",
       "      <th>rain_drizzle</th>\n",
       "      <th>time_of_day_afternoon</th>\n",
       "      <th>time_of_day_afternoon rush</th>\n",
       "      <th>time_of_day_evening</th>\n",
       "      <th>time_of_day_lunch time</th>\n",
       "      <th>time_of_day_morning</th>\n",
       "      <th>time_of_day_morning rush</th>\n",
       "      <th>time_of_day_night</th>\n",
       "      <th>is_weekend</th>\n",
       "    </tr>\n",
       "    <tr>\n",
       "      <th>datetime</th>\n",
       "      <th></th>\n",
       "      <th></th>\n",
       "      <th></th>\n",
       "      <th></th>\n",
       "      <th></th>\n",
       "      <th></th>\n",
       "      <th></th>\n",
       "      <th></th>\n",
       "      <th></th>\n",
       "      <th></th>\n",
       "      <th></th>\n",
       "      <th></th>\n",
       "      <th></th>\n",
       "      <th></th>\n",
       "      <th></th>\n",
       "      <th></th>\n",
       "      <th></th>\n",
       "      <th></th>\n",
       "      <th></th>\n",
       "      <th></th>\n",
       "      <th></th>\n",
       "    </tr>\n",
       "  </thead>\n",
       "  <tbody>\n",
       "    <tr>\n",
       "      <th>2016-01-01 00:00:00</th>\n",
       "      <td>162</td>\n",
       "      <td>202.0</td>\n",
       "      <td>307.0</td>\n",
       "      <td>109.0</td>\n",
       "      <td>171.0</td>\n",
       "      <td>198.0</td>\n",
       "      <td>306.0</td>\n",
       "      <td>40.0</td>\n",
       "      <td>54.0</td>\n",
       "      <td>40.4</td>\n",
       "      <td>...</td>\n",
       "      <td>0</td>\n",
       "      <td>0</td>\n",
       "      <td>0</td>\n",
       "      <td>0</td>\n",
       "      <td>0</td>\n",
       "      <td>0</td>\n",
       "      <td>0</td>\n",
       "      <td>0</td>\n",
       "      <td>1</td>\n",
       "      <td>False</td>\n",
       "    </tr>\n",
       "    <tr>\n",
       "      <th>2016-01-01 00:15:00</th>\n",
       "      <td>251</td>\n",
       "      <td>394.0</td>\n",
       "      <td>202.0</td>\n",
       "      <td>162.0</td>\n",
       "      <td>109.0</td>\n",
       "      <td>312.0</td>\n",
       "      <td>198.0</td>\n",
       "      <td>29.0</td>\n",
       "      <td>40.0</td>\n",
       "      <td>40.4</td>\n",
       "      <td>...</td>\n",
       "      <td>0</td>\n",
       "      <td>0</td>\n",
       "      <td>0</td>\n",
       "      <td>0</td>\n",
       "      <td>0</td>\n",
       "      <td>0</td>\n",
       "      <td>0</td>\n",
       "      <td>0</td>\n",
       "      <td>1</td>\n",
       "      <td>False</td>\n",
       "    </tr>\n",
       "    <tr>\n",
       "      <th>2016-01-01 00:30:00</th>\n",
       "      <td>310</td>\n",
       "      <td>420.0</td>\n",
       "      <td>394.0</td>\n",
       "      <td>251.0</td>\n",
       "      <td>162.0</td>\n",
       "      <td>699.0</td>\n",
       "      <td>312.0</td>\n",
       "      <td>16.0</td>\n",
       "      <td>29.0</td>\n",
       "      <td>40.4</td>\n",
       "      <td>...</td>\n",
       "      <td>0</td>\n",
       "      <td>0</td>\n",
       "      <td>0</td>\n",
       "      <td>0</td>\n",
       "      <td>0</td>\n",
       "      <td>0</td>\n",
       "      <td>0</td>\n",
       "      <td>0</td>\n",
       "      <td>1</td>\n",
       "      <td>False</td>\n",
       "    </tr>\n",
       "    <tr>\n",
       "      <th>2016-01-01 00:45:00</th>\n",
       "      <td>338</td>\n",
       "      <td>310.0</td>\n",
       "      <td>420.0</td>\n",
       "      <td>310.0</td>\n",
       "      <td>251.0</td>\n",
       "      <td>482.0</td>\n",
       "      <td>699.0</td>\n",
       "      <td>3.0</td>\n",
       "      <td>16.0</td>\n",
       "      <td>40.4</td>\n",
       "      <td>...</td>\n",
       "      <td>0</td>\n",
       "      <td>0</td>\n",
       "      <td>0</td>\n",
       "      <td>0</td>\n",
       "      <td>0</td>\n",
       "      <td>0</td>\n",
       "      <td>0</td>\n",
       "      <td>0</td>\n",
       "      <td>1</td>\n",
       "      <td>False</td>\n",
       "    </tr>\n",
       "    <tr>\n",
       "      <th>2016-01-01 01:00:00</th>\n",
       "      <td>369</td>\n",
       "      <td>403.0</td>\n",
       "      <td>310.0</td>\n",
       "      <td>338.0</td>\n",
       "      <td>310.0</td>\n",
       "      <td>459.0</td>\n",
       "      <td>482.0</td>\n",
       "      <td>2.0</td>\n",
       "      <td>3.0</td>\n",
       "      <td>40.4</td>\n",
       "      <td>...</td>\n",
       "      <td>0</td>\n",
       "      <td>0</td>\n",
       "      <td>0</td>\n",
       "      <td>0</td>\n",
       "      <td>0</td>\n",
       "      <td>0</td>\n",
       "      <td>0</td>\n",
       "      <td>0</td>\n",
       "      <td>1</td>\n",
       "      <td>False</td>\n",
       "    </tr>\n",
       "    <tr>\n",
       "      <th>...</th>\n",
       "      <td>...</td>\n",
       "      <td>...</td>\n",
       "      <td>...</td>\n",
       "      <td>...</td>\n",
       "      <td>...</td>\n",
       "      <td>...</td>\n",
       "      <td>...</td>\n",
       "      <td>...</td>\n",
       "      <td>...</td>\n",
       "      <td>...</td>\n",
       "      <td>...</td>\n",
       "      <td>...</td>\n",
       "      <td>...</td>\n",
       "      <td>...</td>\n",
       "      <td>...</td>\n",
       "      <td>...</td>\n",
       "      <td>...</td>\n",
       "      <td>...</td>\n",
       "      <td>...</td>\n",
       "      <td>...</td>\n",
       "      <td>...</td>\n",
       "    </tr>\n",
       "    <tr>\n",
       "      <th>2016-06-30 22:45:00</th>\n",
       "      <td>316</td>\n",
       "      <td>639.0</td>\n",
       "      <td>624.0</td>\n",
       "      <td>318.0</td>\n",
       "      <td>291.0</td>\n",
       "      <td>406.0</td>\n",
       "      <td>305.0</td>\n",
       "      <td>201.0</td>\n",
       "      <td>189.0</td>\n",
       "      <td>75.7</td>\n",
       "      <td>...</td>\n",
       "      <td>0</td>\n",
       "      <td>0</td>\n",
       "      <td>0</td>\n",
       "      <td>0</td>\n",
       "      <td>1</td>\n",
       "      <td>0</td>\n",
       "      <td>0</td>\n",
       "      <td>0</td>\n",
       "      <td>0</td>\n",
       "      <td>False</td>\n",
       "    </tr>\n",
       "    <tr>\n",
       "      <th>2016-06-30 23:00:00</th>\n",
       "      <td>299</td>\n",
       "      <td>593.0</td>\n",
       "      <td>639.0</td>\n",
       "      <td>316.0</td>\n",
       "      <td>318.0</td>\n",
       "      <td>347.0</td>\n",
       "      <td>406.0</td>\n",
       "      <td>168.0</td>\n",
       "      <td>201.0</td>\n",
       "      <td>75.7</td>\n",
       "      <td>...</td>\n",
       "      <td>0</td>\n",
       "      <td>0</td>\n",
       "      <td>0</td>\n",
       "      <td>0</td>\n",
       "      <td>0</td>\n",
       "      <td>0</td>\n",
       "      <td>0</td>\n",
       "      <td>0</td>\n",
       "      <td>1</td>\n",
       "      <td>False</td>\n",
       "    </tr>\n",
       "    <tr>\n",
       "      <th>2016-06-30 23:15:00</th>\n",
       "      <td>283</td>\n",
       "      <td>617.0</td>\n",
       "      <td>593.0</td>\n",
       "      <td>299.0</td>\n",
       "      <td>316.0</td>\n",
       "      <td>252.0</td>\n",
       "      <td>347.0</td>\n",
       "      <td>104.0</td>\n",
       "      <td>168.0</td>\n",
       "      <td>75.7</td>\n",
       "      <td>...</td>\n",
       "      <td>0</td>\n",
       "      <td>0</td>\n",
       "      <td>0</td>\n",
       "      <td>0</td>\n",
       "      <td>0</td>\n",
       "      <td>0</td>\n",
       "      <td>0</td>\n",
       "      <td>0</td>\n",
       "      <td>1</td>\n",
       "      <td>False</td>\n",
       "    </tr>\n",
       "    <tr>\n",
       "      <th>2016-06-30 23:30:00</th>\n",
       "      <td>276</td>\n",
       "      <td>580.0</td>\n",
       "      <td>617.0</td>\n",
       "      <td>283.0</td>\n",
       "      <td>299.0</td>\n",
       "      <td>246.0</td>\n",
       "      <td>252.0</td>\n",
       "      <td>87.0</td>\n",
       "      <td>104.0</td>\n",
       "      <td>75.7</td>\n",
       "      <td>...</td>\n",
       "      <td>0</td>\n",
       "      <td>0</td>\n",
       "      <td>0</td>\n",
       "      <td>0</td>\n",
       "      <td>0</td>\n",
       "      <td>0</td>\n",
       "      <td>0</td>\n",
       "      <td>0</td>\n",
       "      <td>1</td>\n",
       "      <td>False</td>\n",
       "    </tr>\n",
       "    <tr>\n",
       "      <th>2016-06-30 23:45:00</th>\n",
       "      <td>230</td>\n",
       "      <td>595.0</td>\n",
       "      <td>580.0</td>\n",
       "      <td>276.0</td>\n",
       "      <td>283.0</td>\n",
       "      <td>208.0</td>\n",
       "      <td>246.0</td>\n",
       "      <td>129.0</td>\n",
       "      <td>87.0</td>\n",
       "      <td>75.7</td>\n",
       "      <td>...</td>\n",
       "      <td>0</td>\n",
       "      <td>0</td>\n",
       "      <td>0</td>\n",
       "      <td>0</td>\n",
       "      <td>0</td>\n",
       "      <td>0</td>\n",
       "      <td>0</td>\n",
       "      <td>0</td>\n",
       "      <td>1</td>\n",
       "      <td>False</td>\n",
       "    </tr>\n",
       "  </tbody>\n",
       "</table>\n",
       "<p>17472 rows × 21 columns</p>\n",
       "</div>"
      ],
      "text/plain": [
       "                     pickups1  pickups17_lag1  pickups17_lag2  pickups1_lag1  \\\n",
       "datetime                                                                       \n",
       "2016-01-01 00:00:00       162           202.0           307.0          109.0   \n",
       "2016-01-01 00:15:00       251           394.0           202.0          162.0   \n",
       "2016-01-01 00:30:00       310           420.0           394.0          251.0   \n",
       "2016-01-01 00:45:00       338           310.0           420.0          310.0   \n",
       "2016-01-01 01:00:00       369           403.0           310.0          338.0   \n",
       "...                       ...             ...             ...            ...   \n",
       "2016-06-30 22:45:00       316           639.0           624.0          318.0   \n",
       "2016-06-30 23:00:00       299           593.0           639.0          316.0   \n",
       "2016-06-30 23:15:00       283           617.0           593.0          299.0   \n",
       "2016-06-30 23:30:00       276           580.0           617.0          283.0   \n",
       "2016-06-30 23:45:00       230           595.0           580.0          276.0   \n",
       "\n",
       "                     pickups1_lag2  pickups21_lag1  pickups21_lag2  \\\n",
       "datetime                                                             \n",
       "2016-01-01 00:00:00          171.0           198.0           306.0   \n",
       "2016-01-01 00:15:00          109.0           312.0           198.0   \n",
       "2016-01-01 00:30:00          162.0           699.0           312.0   \n",
       "2016-01-01 00:45:00          251.0           482.0           699.0   \n",
       "2016-01-01 01:00:00          310.0           459.0           482.0   \n",
       "...                            ...             ...             ...   \n",
       "2016-06-30 22:45:00          291.0           406.0           305.0   \n",
       "2016-06-30 23:00:00          318.0           347.0           406.0   \n",
       "2016-06-30 23:15:00          316.0           252.0           347.0   \n",
       "2016-06-30 23:30:00          299.0           246.0           252.0   \n",
       "2016-06-30 23:45:00          283.0           208.0           246.0   \n",
       "\n",
       "                     pickups28_lag1  pickups28_lag2  temp  ...  fog  \\\n",
       "datetime                                                   ...        \n",
       "2016-01-01 00:00:00            40.0            54.0  40.4  ...    0   \n",
       "2016-01-01 00:15:00            29.0            40.0  40.4  ...    0   \n",
       "2016-01-01 00:30:00            16.0            29.0  40.4  ...    0   \n",
       "2016-01-01 00:45:00             3.0            16.0  40.4  ...    0   \n",
       "2016-01-01 01:00:00             2.0             3.0  40.4  ...    0   \n",
       "...                             ...             ...   ...  ...  ...   \n",
       "2016-06-30 22:45:00           201.0           189.0  75.7  ...    0   \n",
       "2016-06-30 23:00:00           168.0           201.0  75.7  ...    0   \n",
       "2016-06-30 23:15:00           104.0           168.0  75.7  ...    0   \n",
       "2016-06-30 23:30:00            87.0           104.0  75.7  ...    0   \n",
       "2016-06-30 23:45:00           129.0            87.0  75.7  ...    0   \n",
       "\n",
       "                     rain_drizzle  time_of_day_afternoon  \\\n",
       "datetime                                                   \n",
       "2016-01-01 00:00:00             0                      0   \n",
       "2016-01-01 00:15:00             0                      0   \n",
       "2016-01-01 00:30:00             0                      0   \n",
       "2016-01-01 00:45:00             0                      0   \n",
       "2016-01-01 01:00:00             0                      0   \n",
       "...                           ...                    ...   \n",
       "2016-06-30 22:45:00             0                      0   \n",
       "2016-06-30 23:00:00             0                      0   \n",
       "2016-06-30 23:15:00             0                      0   \n",
       "2016-06-30 23:30:00             0                      0   \n",
       "2016-06-30 23:45:00             0                      0   \n",
       "\n",
       "                     time_of_day_afternoon rush  time_of_day_evening  \\\n",
       "datetime                                                               \n",
       "2016-01-01 00:00:00                           0                    0   \n",
       "2016-01-01 00:15:00                           0                    0   \n",
       "2016-01-01 00:30:00                           0                    0   \n",
       "2016-01-01 00:45:00                           0                    0   \n",
       "2016-01-01 01:00:00                           0                    0   \n",
       "...                                         ...                  ...   \n",
       "2016-06-30 22:45:00                           0                    1   \n",
       "2016-06-30 23:00:00                           0                    0   \n",
       "2016-06-30 23:15:00                           0                    0   \n",
       "2016-06-30 23:30:00                           0                    0   \n",
       "2016-06-30 23:45:00                           0                    0   \n",
       "\n",
       "                     time_of_day_lunch time  time_of_day_morning  \\\n",
       "datetime                                                           \n",
       "2016-01-01 00:00:00                       0                    0   \n",
       "2016-01-01 00:15:00                       0                    0   \n",
       "2016-01-01 00:30:00                       0                    0   \n",
       "2016-01-01 00:45:00                       0                    0   \n",
       "2016-01-01 01:00:00                       0                    0   \n",
       "...                                     ...                  ...   \n",
       "2016-06-30 22:45:00                       0                    0   \n",
       "2016-06-30 23:00:00                       0                    0   \n",
       "2016-06-30 23:15:00                       0                    0   \n",
       "2016-06-30 23:30:00                       0                    0   \n",
       "2016-06-30 23:45:00                       0                    0   \n",
       "\n",
       "                     time_of_day_morning rush  time_of_day_night  is_weekend  \n",
       "datetime                                                                      \n",
       "2016-01-01 00:00:00                         0                  1       False  \n",
       "2016-01-01 00:15:00                         0                  1       False  \n",
       "2016-01-01 00:30:00                         0                  1       False  \n",
       "2016-01-01 00:45:00                         0                  1       False  \n",
       "2016-01-01 01:00:00                         0                  1       False  \n",
       "...                                       ...                ...         ...  \n",
       "2016-06-30 22:45:00                         0                  0       False  \n",
       "2016-06-30 23:00:00                         0                  1       False  \n",
       "2016-06-30 23:15:00                         0                  1       False  \n",
       "2016-06-30 23:30:00                         0                  1       False  \n",
       "2016-06-30 23:45:00                         0                  1       False  \n",
       "\n",
       "[17472 rows x 21 columns]"
      ]
     },
     "execution_count": 9,
     "metadata": {},
     "output_type": "execute_result"
    }
   ],
   "source": [
    "f.set_index(\"datetime\")"
   ]
  },
  {
   "cell_type": "code",
   "execution_count": null,
   "metadata": {},
   "outputs": [],
   "source": []
  },
  {
   "cell_type": "markdown",
   "metadata": {},
   "source": [
    "So, imagine that you are an NYC taxi fleet manager. At each 15 minutes, you goal is to make sure your company has enough cars for very big spikes in demand across the city (like above 90 percentile). If you detect some very big spike in a specific area, you coordinate with the cars in the neighbourhood to go there. \n",
    "\n",
    "For this exercise, let's assume that area 1 is the only truly important for you. Doing this manually would be very tiring (if at all possible), so you rely on your Data Science skills to get a model that does it for you:"
   ]
  },
  {
   "cell_type": "markdown",
   "metadata": {},
   "source": [
    "**At each 15 minutes time interval, predict whether the next time interval will have a demand spike (\"stress\").**"
   ]
  },
  {
   "cell_type": "markdown",
   "metadata": {},
   "source": [
    "Let's first find the actual value above which you call it a \"stress\" situation:"
   ]
  },
  {
   "cell_type": "code",
   "execution_count": 10,
   "metadata": {},
   "outputs": [],
   "source": [
    "stress_threshold=np.percentile(f['pickups1'], 90)"
   ]
  },
  {
   "cell_type": "markdown",
   "metadata": {},
   "source": [
    "How many demand pickups exist above percentile 90? And above other percentiles (e.g. percentile 50)?  "
   ]
  },
  {
   "cell_type": "code",
   "execution_count": 11,
   "metadata": {},
   "outputs": [
    {
     "data": {
      "text/plain": [
       "1748"
      ]
     },
     "execution_count": 11,
     "metadata": {},
     "output_type": "execute_result"
    }
   ],
   "source": [
    "len(f[f.pickups1>stress_threshold])"
   ]
  },
  {
   "cell_type": "code",
   "execution_count": 12,
   "metadata": {},
   "outputs": [
    {
     "data": {
      "text/plain": [
       "8690"
      ]
     },
     "execution_count": 12,
     "metadata": {},
     "output_type": "execute_result"
    }
   ],
   "source": [
    "len(f[f.pickups1>np.percentile(f.pickups1, 50)])"
   ]
  },
  {
   "cell_type": "markdown",
   "metadata": {},
   "source": [
    "Now, let's create a new column (or variable) that is True when it is a \"stress\" scenario, and False when it is not"
   ]
  },
  {
   "cell_type": "code",
   "execution_count": 14,
   "metadata": {},
   "outputs": [],
   "source": [
    "f['stress']=f['pickups1'].apply(lambda x: x>stress_threshold)"
   ]
  },
  {
   "cell_type": "markdown",
   "metadata": {},
   "source": [
    "Do what to inspect this new data that you created? (e.g. use describe(), hist(), etc...)"
   ]
  },
  {
   "cell_type": "code",
   "execution_count": 15,
   "metadata": {},
   "outputs": [
    {
     "data": {
      "text/html": [
       "<div>\n",
       "<style scoped>\n",
       "    .dataframe tbody tr th:only-of-type {\n",
       "        vertical-align: middle;\n",
       "    }\n",
       "\n",
       "    .dataframe tbody tr th {\n",
       "        vertical-align: top;\n",
       "    }\n",
       "\n",
       "    .dataframe thead th {\n",
       "        text-align: right;\n",
       "    }\n",
       "</style>\n",
       "<table border=\"1\" class=\"dataframe\">\n",
       "  <thead>\n",
       "    <tr style=\"text-align: right;\">\n",
       "      <th></th>\n",
       "      <th>pickups1</th>\n",
       "      <th>pickups17_lag1</th>\n",
       "      <th>pickups17_lag2</th>\n",
       "      <th>pickups1_lag1</th>\n",
       "      <th>pickups1_lag2</th>\n",
       "      <th>pickups21_lag1</th>\n",
       "      <th>pickups21_lag2</th>\n",
       "      <th>pickups28_lag1</th>\n",
       "      <th>pickups28_lag2</th>\n",
       "      <th>temp</th>\n",
       "      <th>prcp</th>\n",
       "      <th>fog</th>\n",
       "      <th>rain_drizzle</th>\n",
       "      <th>time_of_day_afternoon</th>\n",
       "      <th>time_of_day_afternoon rush</th>\n",
       "      <th>time_of_day_evening</th>\n",
       "      <th>time_of_day_lunch time</th>\n",
       "      <th>time_of_day_morning</th>\n",
       "      <th>time_of_day_morning rush</th>\n",
       "      <th>time_of_day_night</th>\n",
       "    </tr>\n",
       "  </thead>\n",
       "  <tbody>\n",
       "    <tr>\n",
       "      <th>count</th>\n",
       "      <td>17472.000000</td>\n",
       "      <td>17472.000000</td>\n",
       "      <td>17472.000000</td>\n",
       "      <td>17472.000000</td>\n",
       "      <td>17472.000000</td>\n",
       "      <td>17472.000000</td>\n",
       "      <td>17472.000000</td>\n",
       "      <td>17472.000000</td>\n",
       "      <td>17472.000000</td>\n",
       "      <td>17472.00000</td>\n",
       "      <td>17472.000000</td>\n",
       "      <td>17472.000000</td>\n",
       "      <td>17472.000000</td>\n",
       "      <td>17472.000000</td>\n",
       "      <td>17472.000000</td>\n",
       "      <td>17472.000000</td>\n",
       "      <td>17472.000000</td>\n",
       "      <td>17472.000000</td>\n",
       "      <td>17472.000000</td>\n",
       "      <td>17472.000000</td>\n",
       "    </tr>\n",
       "    <tr>\n",
       "      <th>mean</th>\n",
       "      <td>197.917182</td>\n",
       "      <td>397.725103</td>\n",
       "      <td>397.708620</td>\n",
       "      <td>197.910256</td>\n",
       "      <td>197.904247</td>\n",
       "      <td>276.813301</td>\n",
       "      <td>276.818910</td>\n",
       "      <td>98.999828</td>\n",
       "      <td>98.995536</td>\n",
       "      <td>51.15000</td>\n",
       "      <td>0.099780</td>\n",
       "      <td>0.049451</td>\n",
       "      <td>0.274725</td>\n",
       "      <td>0.125000</td>\n",
       "      <td>0.125000</td>\n",
       "      <td>0.125000</td>\n",
       "      <td>0.083333</td>\n",
       "      <td>0.166667</td>\n",
       "      <td>0.041667</td>\n",
       "      <td>0.333333</td>\n",
       "    </tr>\n",
       "    <tr>\n",
       "      <th>std</th>\n",
       "      <td>105.638241</td>\n",
       "      <td>210.816058</td>\n",
       "      <td>210.811892</td>\n",
       "      <td>105.640104</td>\n",
       "      <td>105.638648</td>\n",
       "      <td>162.654386</td>\n",
       "      <td>162.653703</td>\n",
       "      <td>74.249825</td>\n",
       "      <td>74.250259</td>\n",
       "      <td>15.59174</td>\n",
       "      <td>0.259555</td>\n",
       "      <td>0.216813</td>\n",
       "      <td>0.446389</td>\n",
       "      <td>0.330728</td>\n",
       "      <td>0.330728</td>\n",
       "      <td>0.330728</td>\n",
       "      <td>0.276393</td>\n",
       "      <td>0.372689</td>\n",
       "      <td>0.199832</td>\n",
       "      <td>0.471418</td>\n",
       "    </tr>\n",
       "    <tr>\n",
       "      <th>min</th>\n",
       "      <td>0.000000</td>\n",
       "      <td>0.000000</td>\n",
       "      <td>0.000000</td>\n",
       "      <td>0.000000</td>\n",
       "      <td>0.000000</td>\n",
       "      <td>0.000000</td>\n",
       "      <td>0.000000</td>\n",
       "      <td>0.000000</td>\n",
       "      <td>0.000000</td>\n",
       "      <td>6.90000</td>\n",
       "      <td>0.000000</td>\n",
       "      <td>0.000000</td>\n",
       "      <td>0.000000</td>\n",
       "      <td>0.000000</td>\n",
       "      <td>0.000000</td>\n",
       "      <td>0.000000</td>\n",
       "      <td>0.000000</td>\n",
       "      <td>0.000000</td>\n",
       "      <td>0.000000</td>\n",
       "      <td>0.000000</td>\n",
       "    </tr>\n",
       "    <tr>\n",
       "      <th>25%</th>\n",
       "      <td>100.000000</td>\n",
       "      <td>223.000000</td>\n",
       "      <td>223.000000</td>\n",
       "      <td>100.000000</td>\n",
       "      <td>100.000000</td>\n",
       "      <td>103.000000</td>\n",
       "      <td>103.000000</td>\n",
       "      <td>10.000000</td>\n",
       "      <td>10.000000</td>\n",
       "      <td>39.10000</td>\n",
       "      <td>0.000000</td>\n",
       "      <td>0.000000</td>\n",
       "      <td>0.000000</td>\n",
       "      <td>0.000000</td>\n",
       "      <td>0.000000</td>\n",
       "      <td>0.000000</td>\n",
       "      <td>0.000000</td>\n",
       "      <td>0.000000</td>\n",
       "      <td>0.000000</td>\n",
       "      <td>0.000000</td>\n",
       "    </tr>\n",
       "    <tr>\n",
       "      <th>50%</th>\n",
       "      <td>223.000000</td>\n",
       "      <td>418.000000</td>\n",
       "      <td>418.000000</td>\n",
       "      <td>223.000000</td>\n",
       "      <td>223.000000</td>\n",
       "      <td>331.000000</td>\n",
       "      <td>331.000000</td>\n",
       "      <td>109.000000</td>\n",
       "      <td>109.000000</td>\n",
       "      <td>51.35000</td>\n",
       "      <td>0.000000</td>\n",
       "      <td>0.000000</td>\n",
       "      <td>0.000000</td>\n",
       "      <td>0.000000</td>\n",
       "      <td>0.000000</td>\n",
       "      <td>0.000000</td>\n",
       "      <td>0.000000</td>\n",
       "      <td>0.000000</td>\n",
       "      <td>0.000000</td>\n",
       "      <td>0.000000</td>\n",
       "    </tr>\n",
       "    <tr>\n",
       "      <th>75%</th>\n",
       "      <td>278.000000</td>\n",
       "      <td>529.000000</td>\n",
       "      <td>529.000000</td>\n",
       "      <td>278.000000</td>\n",
       "      <td>278.000000</td>\n",
       "      <td>397.000000</td>\n",
       "      <td>397.000000</td>\n",
       "      <td>160.000000</td>\n",
       "      <td>160.000000</td>\n",
       "      <td>63.40000</td>\n",
       "      <td>0.050000</td>\n",
       "      <td>0.000000</td>\n",
       "      <td>1.000000</td>\n",
       "      <td>0.000000</td>\n",
       "      <td>0.000000</td>\n",
       "      <td>0.000000</td>\n",
       "      <td>0.000000</td>\n",
       "      <td>0.000000</td>\n",
       "      <td>0.000000</td>\n",
       "      <td>1.000000</td>\n",
       "    </tr>\n",
       "    <tr>\n",
       "      <th>max</th>\n",
       "      <td>462.000000</td>\n",
       "      <td>1026.000000</td>\n",
       "      <td>1026.000000</td>\n",
       "      <td>462.000000</td>\n",
       "      <td>462.000000</td>\n",
       "      <td>814.000000</td>\n",
       "      <td>814.000000</td>\n",
       "      <td>323.000000</td>\n",
       "      <td>323.000000</td>\n",
       "      <td>79.60000</td>\n",
       "      <td>1.820000</td>\n",
       "      <td>1.000000</td>\n",
       "      <td>1.000000</td>\n",
       "      <td>1.000000</td>\n",
       "      <td>1.000000</td>\n",
       "      <td>1.000000</td>\n",
       "      <td>1.000000</td>\n",
       "      <td>1.000000</td>\n",
       "      <td>1.000000</td>\n",
       "      <td>1.000000</td>\n",
       "    </tr>\n",
       "  </tbody>\n",
       "</table>\n",
       "</div>"
      ],
      "text/plain": [
       "           pickups1  pickups17_lag1  pickups17_lag2  pickups1_lag1  \\\n",
       "count  17472.000000    17472.000000    17472.000000   17472.000000   \n",
       "mean     197.917182      397.725103      397.708620     197.910256   \n",
       "std      105.638241      210.816058      210.811892     105.640104   \n",
       "min        0.000000        0.000000        0.000000       0.000000   \n",
       "25%      100.000000      223.000000      223.000000     100.000000   \n",
       "50%      223.000000      418.000000      418.000000     223.000000   \n",
       "75%      278.000000      529.000000      529.000000     278.000000   \n",
       "max      462.000000     1026.000000     1026.000000     462.000000   \n",
       "\n",
       "       pickups1_lag2  pickups21_lag1  pickups21_lag2  pickups28_lag1  \\\n",
       "count   17472.000000    17472.000000    17472.000000    17472.000000   \n",
       "mean      197.904247      276.813301      276.818910       98.999828   \n",
       "std       105.638648      162.654386      162.653703       74.249825   \n",
       "min         0.000000        0.000000        0.000000        0.000000   \n",
       "25%       100.000000      103.000000      103.000000       10.000000   \n",
       "50%       223.000000      331.000000      331.000000      109.000000   \n",
       "75%       278.000000      397.000000      397.000000      160.000000   \n",
       "max       462.000000      814.000000      814.000000      323.000000   \n",
       "\n",
       "       pickups28_lag2         temp          prcp           fog  rain_drizzle  \\\n",
       "count    17472.000000  17472.00000  17472.000000  17472.000000  17472.000000   \n",
       "mean        98.995536     51.15000      0.099780      0.049451      0.274725   \n",
       "std         74.250259     15.59174      0.259555      0.216813      0.446389   \n",
       "min          0.000000      6.90000      0.000000      0.000000      0.000000   \n",
       "25%         10.000000     39.10000      0.000000      0.000000      0.000000   \n",
       "50%        109.000000     51.35000      0.000000      0.000000      0.000000   \n",
       "75%        160.000000     63.40000      0.050000      0.000000      1.000000   \n",
       "max        323.000000     79.60000      1.820000      1.000000      1.000000   \n",
       "\n",
       "       time_of_day_afternoon  time_of_day_afternoon rush  time_of_day_evening  \\\n",
       "count           17472.000000                17472.000000         17472.000000   \n",
       "mean                0.125000                    0.125000             0.125000   \n",
       "std                 0.330728                    0.330728             0.330728   \n",
       "min                 0.000000                    0.000000             0.000000   \n",
       "25%                 0.000000                    0.000000             0.000000   \n",
       "50%                 0.000000                    0.000000             0.000000   \n",
       "75%                 0.000000                    0.000000             0.000000   \n",
       "max                 1.000000                    1.000000             1.000000   \n",
       "\n",
       "       time_of_day_lunch time  time_of_day_morning  time_of_day_morning rush  \\\n",
       "count            17472.000000         17472.000000              17472.000000   \n",
       "mean                 0.083333             0.166667                  0.041667   \n",
       "std                  0.276393             0.372689                  0.199832   \n",
       "min                  0.000000             0.000000                  0.000000   \n",
       "25%                  0.000000             0.000000                  0.000000   \n",
       "50%                  0.000000             0.000000                  0.000000   \n",
       "75%                  0.000000             0.000000                  0.000000   \n",
       "max                  1.000000             1.000000                  1.000000   \n",
       "\n",
       "       time_of_day_night  \n",
       "count       17472.000000  \n",
       "mean            0.333333  \n",
       "std             0.471418  \n",
       "min             0.000000  \n",
       "25%             0.000000  \n",
       "50%             0.000000  \n",
       "75%             1.000000  \n",
       "max             1.000000  "
      ]
     },
     "execution_count": 15,
     "metadata": {},
     "output_type": "execute_result"
    }
   ],
   "source": [
    "f.describe()"
   ]
  },
  {
   "cell_type": "markdown",
   "metadata": {},
   "source": [
    "Let's now create our model. The first thing to do is to import the sklearn package that has Logistic Regression, and then just create the respective object."
   ]
  },
  {
   "cell_type": "code",
   "execution_count": 16,
   "metadata": {},
   "outputs": [],
   "source": [
    "from sklearn.linear_model import LogisticRegression\n",
    "LogReg=LogisticRegression()"
   ]
  },
  {
   "cell_type": "markdown",
   "metadata": {},
   "source": [
    "We have a model, but it is \"empty\", so let's create the training and test sets now. \n",
    "\n",
    "We will create the model with 2/3 of the data (training set), and then 1/3 of the data is kept aside for later validation (test set)."
   ]
  },
  {
   "cell_type": "code",
   "execution_count": 17,
   "metadata": {},
   "outputs": [],
   "source": [
    "split=int(len(f)*2.0/3)\n",
    "training=f[:split]\n",
    "test=f[split:]"
   ]
  },
  {
   "cell_type": "markdown",
   "metadata": {},
   "source": [
    "We need to create the x and y for the training and test set now. Notice that the y is the \"target\" variable, i.e. our \"stress\" column, and the x comes from **almost** all other columns. Let's check all columns"
   ]
  },
  {
   "cell_type": "code",
   "execution_count": 18,
   "metadata": {},
   "outputs": [
    {
     "data": {
      "text/plain": [
       "Index(['datetime', 'pickups1', 'pickups17_lag1', 'pickups17_lag2',\n",
       "       'pickups1_lag1', 'pickups1_lag2', 'pickups21_lag1', 'pickups21_lag2',\n",
       "       'pickups28_lag1', 'pickups28_lag2', 'temp', 'prcp', 'fog',\n",
       "       'rain_drizzle', 'time_of_day_afternoon', 'time_of_day_afternoon rush',\n",
       "       'time_of_day_evening', 'time_of_day_lunch time', 'time_of_day_morning',\n",
       "       'time_of_day_morning rush', 'time_of_day_night', 'is_weekend',\n",
       "       'stress'],\n",
       "      dtype='object')"
      ]
     },
     "execution_count": 18,
     "metadata": {},
     "output_type": "execute_result"
    }
   ],
   "source": [
    "training.columns"
   ]
  },
  {
   "cell_type": "markdown",
   "metadata": {},
   "source": [
    "Ok, we need to create the x using EVERYTHING but the 'stress' variable, but also we need to remove \"pickups1\" (**why?**)"
   ]
  },
  {
   "cell_type": "code",
   "execution_count": 19,
   "metadata": {},
   "outputs": [],
   "source": [
    "x_train=training[['pickups17_lag1', 'pickups17_lag2', 'pickups1_lag1',\n",
    "       'pickups1_lag2', 'pickups21_lag1', 'pickups21_lag2', 'pickups28_lag1',\n",
    "       'pickups28_lag2',  'temp', 'prcp','fog', 'rain_drizzle', 'is_weekend', 'time_of_day_afternoon',\n",
    "       'time_of_day_afternoon rush', 'time_of_day_evening',\n",
    "       'time_of_day_lunch time', 'time_of_day_morning',\n",
    "       'time_of_day_morning rush', 'time_of_day_night']]\n",
    "x_test=test[['pickups17_lag1', 'pickups17_lag2', 'pickups1_lag1',\n",
    "       'pickups1_lag2', 'pickups21_lag1', 'pickups21_lag2', 'pickups28_lag1',\n",
    "       'pickups28_lag2',  'temp', 'prcp','fog', 'rain_drizzle', 'is_weekend', 'time_of_day_afternoon',\n",
    "       'time_of_day_afternoon rush', 'time_of_day_evening',\n",
    "       'time_of_day_lunch time', 'time_of_day_morning',\n",
    "       'time_of_day_morning rush', 'time_of_day_night']]"
   ]
  },
  {
   "cell_type": "markdown",
   "metadata": {},
   "source": [
    "To make sure you understand things, don't forget to ALWAYS play with the code here... For example, what's the content of the new lists x_train and x_test?"
   ]
  },
  {
   "cell_type": "code",
   "execution_count": 20,
   "metadata": {},
   "outputs": [
    {
     "data": {
      "text/html": [
       "<div>\n",
       "<style scoped>\n",
       "    .dataframe tbody tr th:only-of-type {\n",
       "        vertical-align: middle;\n",
       "    }\n",
       "\n",
       "    .dataframe tbody tr th {\n",
       "        vertical-align: top;\n",
       "    }\n",
       "\n",
       "    .dataframe thead th {\n",
       "        text-align: right;\n",
       "    }\n",
       "</style>\n",
       "<table border=\"1\" class=\"dataframe\">\n",
       "  <thead>\n",
       "    <tr style=\"text-align: right;\">\n",
       "      <th></th>\n",
       "      <th>0</th>\n",
       "      <th>1</th>\n",
       "      <th>2</th>\n",
       "      <th>3</th>\n",
       "      <th>4</th>\n",
       "    </tr>\n",
       "  </thead>\n",
       "  <tbody>\n",
       "    <tr>\n",
       "      <th>pickups17_lag1</th>\n",
       "      <td>202</td>\n",
       "      <td>394</td>\n",
       "      <td>420</td>\n",
       "      <td>310</td>\n",
       "      <td>403</td>\n",
       "    </tr>\n",
       "    <tr>\n",
       "      <th>pickups17_lag2</th>\n",
       "      <td>307</td>\n",
       "      <td>202</td>\n",
       "      <td>394</td>\n",
       "      <td>420</td>\n",
       "      <td>310</td>\n",
       "    </tr>\n",
       "    <tr>\n",
       "      <th>pickups1_lag1</th>\n",
       "      <td>109</td>\n",
       "      <td>162</td>\n",
       "      <td>251</td>\n",
       "      <td>310</td>\n",
       "      <td>338</td>\n",
       "    </tr>\n",
       "    <tr>\n",
       "      <th>pickups1_lag2</th>\n",
       "      <td>171</td>\n",
       "      <td>109</td>\n",
       "      <td>162</td>\n",
       "      <td>251</td>\n",
       "      <td>310</td>\n",
       "    </tr>\n",
       "    <tr>\n",
       "      <th>pickups21_lag1</th>\n",
       "      <td>198</td>\n",
       "      <td>312</td>\n",
       "      <td>699</td>\n",
       "      <td>482</td>\n",
       "      <td>459</td>\n",
       "    </tr>\n",
       "    <tr>\n",
       "      <th>pickups21_lag2</th>\n",
       "      <td>306</td>\n",
       "      <td>198</td>\n",
       "      <td>312</td>\n",
       "      <td>699</td>\n",
       "      <td>482</td>\n",
       "    </tr>\n",
       "    <tr>\n",
       "      <th>pickups28_lag1</th>\n",
       "      <td>40</td>\n",
       "      <td>29</td>\n",
       "      <td>16</td>\n",
       "      <td>3</td>\n",
       "      <td>2</td>\n",
       "    </tr>\n",
       "    <tr>\n",
       "      <th>pickups28_lag2</th>\n",
       "      <td>54</td>\n",
       "      <td>40</td>\n",
       "      <td>29</td>\n",
       "      <td>16</td>\n",
       "      <td>3</td>\n",
       "    </tr>\n",
       "    <tr>\n",
       "      <th>temp</th>\n",
       "      <td>40.4</td>\n",
       "      <td>40.4</td>\n",
       "      <td>40.4</td>\n",
       "      <td>40.4</td>\n",
       "      <td>40.4</td>\n",
       "    </tr>\n",
       "    <tr>\n",
       "      <th>prcp</th>\n",
       "      <td>0.03</td>\n",
       "      <td>0.03</td>\n",
       "      <td>0.03</td>\n",
       "      <td>0.03</td>\n",
       "      <td>0.03</td>\n",
       "    </tr>\n",
       "    <tr>\n",
       "      <th>fog</th>\n",
       "      <td>0</td>\n",
       "      <td>0</td>\n",
       "      <td>0</td>\n",
       "      <td>0</td>\n",
       "      <td>0</td>\n",
       "    </tr>\n",
       "    <tr>\n",
       "      <th>rain_drizzle</th>\n",
       "      <td>0</td>\n",
       "      <td>0</td>\n",
       "      <td>0</td>\n",
       "      <td>0</td>\n",
       "      <td>0</td>\n",
       "    </tr>\n",
       "    <tr>\n",
       "      <th>is_weekend</th>\n",
       "      <td>False</td>\n",
       "      <td>False</td>\n",
       "      <td>False</td>\n",
       "      <td>False</td>\n",
       "      <td>False</td>\n",
       "    </tr>\n",
       "    <tr>\n",
       "      <th>time_of_day_afternoon</th>\n",
       "      <td>0</td>\n",
       "      <td>0</td>\n",
       "      <td>0</td>\n",
       "      <td>0</td>\n",
       "      <td>0</td>\n",
       "    </tr>\n",
       "    <tr>\n",
       "      <th>time_of_day_afternoon rush</th>\n",
       "      <td>0</td>\n",
       "      <td>0</td>\n",
       "      <td>0</td>\n",
       "      <td>0</td>\n",
       "      <td>0</td>\n",
       "    </tr>\n",
       "    <tr>\n",
       "      <th>time_of_day_evening</th>\n",
       "      <td>0</td>\n",
       "      <td>0</td>\n",
       "      <td>0</td>\n",
       "      <td>0</td>\n",
       "      <td>0</td>\n",
       "    </tr>\n",
       "    <tr>\n",
       "      <th>time_of_day_lunch time</th>\n",
       "      <td>0</td>\n",
       "      <td>0</td>\n",
       "      <td>0</td>\n",
       "      <td>0</td>\n",
       "      <td>0</td>\n",
       "    </tr>\n",
       "    <tr>\n",
       "      <th>time_of_day_morning</th>\n",
       "      <td>0</td>\n",
       "      <td>0</td>\n",
       "      <td>0</td>\n",
       "      <td>0</td>\n",
       "      <td>0</td>\n",
       "    </tr>\n",
       "    <tr>\n",
       "      <th>time_of_day_morning rush</th>\n",
       "      <td>0</td>\n",
       "      <td>0</td>\n",
       "      <td>0</td>\n",
       "      <td>0</td>\n",
       "      <td>0</td>\n",
       "    </tr>\n",
       "    <tr>\n",
       "      <th>time_of_day_night</th>\n",
       "      <td>1</td>\n",
       "      <td>1</td>\n",
       "      <td>1</td>\n",
       "      <td>1</td>\n",
       "      <td>1</td>\n",
       "    </tr>\n",
       "  </tbody>\n",
       "</table>\n",
       "</div>"
      ],
      "text/plain": [
       "                                0      1      2      3      4\n",
       "pickups17_lag1                202    394    420    310    403\n",
       "pickups17_lag2                307    202    394    420    310\n",
       "pickups1_lag1                 109    162    251    310    338\n",
       "pickups1_lag2                 171    109    162    251    310\n",
       "pickups21_lag1                198    312    699    482    459\n",
       "pickups21_lag2                306    198    312    699    482\n",
       "pickups28_lag1                 40     29     16      3      2\n",
       "pickups28_lag2                 54     40     29     16      3\n",
       "temp                         40.4   40.4   40.4   40.4   40.4\n",
       "prcp                         0.03   0.03   0.03   0.03   0.03\n",
       "fog                             0      0      0      0      0\n",
       "rain_drizzle                    0      0      0      0      0\n",
       "is_weekend                  False  False  False  False  False\n",
       "time_of_day_afternoon           0      0      0      0      0\n",
       "time_of_day_afternoon rush      0      0      0      0      0\n",
       "time_of_day_evening             0      0      0      0      0\n",
       "time_of_day_lunch time          0      0      0      0      0\n",
       "time_of_day_morning             0      0      0      0      0\n",
       "time_of_day_morning rush        0      0      0      0      0\n",
       "time_of_day_night               1      1      1      1      1"
      ]
     },
     "execution_count": 20,
     "metadata": {},
     "output_type": "execute_result"
    }
   ],
   "source": [
    "x_train[:5].T"
   ]
  },
  {
   "cell_type": "code",
   "execution_count": 21,
   "metadata": {},
   "outputs": [
    {
     "data": {
      "text/html": [
       "<div>\n",
       "<style scoped>\n",
       "    .dataframe tbody tr th:only-of-type {\n",
       "        vertical-align: middle;\n",
       "    }\n",
       "\n",
       "    .dataframe tbody tr th {\n",
       "        vertical-align: top;\n",
       "    }\n",
       "\n",
       "    .dataframe thead th {\n",
       "        text-align: right;\n",
       "    }\n",
       "</style>\n",
       "<table border=\"1\" class=\"dataframe\">\n",
       "  <thead>\n",
       "    <tr style=\"text-align: right;\">\n",
       "      <th></th>\n",
       "      <th>11648</th>\n",
       "      <th>11649</th>\n",
       "      <th>11650</th>\n",
       "      <th>11651</th>\n",
       "      <th>11652</th>\n",
       "    </tr>\n",
       "  </thead>\n",
       "  <tbody>\n",
       "    <tr>\n",
       "      <th>pickups17_lag1</th>\n",
       "      <td>144</td>\n",
       "      <td>160</td>\n",
       "      <td>173</td>\n",
       "      <td>183</td>\n",
       "      <td>197</td>\n",
       "    </tr>\n",
       "    <tr>\n",
       "      <th>pickups17_lag2</th>\n",
       "      <td>132</td>\n",
       "      <td>144</td>\n",
       "      <td>160</td>\n",
       "      <td>173</td>\n",
       "      <td>183</td>\n",
       "    </tr>\n",
       "    <tr>\n",
       "      <th>pickups1_lag1</th>\n",
       "      <td>73</td>\n",
       "      <td>68</td>\n",
       "      <td>65</td>\n",
       "      <td>82</td>\n",
       "      <td>67</td>\n",
       "    </tr>\n",
       "    <tr>\n",
       "      <th>pickups1_lag2</th>\n",
       "      <td>50</td>\n",
       "      <td>73</td>\n",
       "      <td>68</td>\n",
       "      <td>65</td>\n",
       "      <td>82</td>\n",
       "    </tr>\n",
       "    <tr>\n",
       "      <th>pickups21_lag1</th>\n",
       "      <td>123</td>\n",
       "      <td>160</td>\n",
       "      <td>162</td>\n",
       "      <td>176</td>\n",
       "      <td>231</td>\n",
       "    </tr>\n",
       "    <tr>\n",
       "      <th>pickups21_lag2</th>\n",
       "      <td>98</td>\n",
       "      <td>123</td>\n",
       "      <td>160</td>\n",
       "      <td>162</td>\n",
       "      <td>176</td>\n",
       "    </tr>\n",
       "    <tr>\n",
       "      <th>pickups28_lag1</th>\n",
       "      <td>12</td>\n",
       "      <td>35</td>\n",
       "      <td>22</td>\n",
       "      <td>33</td>\n",
       "      <td>81</td>\n",
       "    </tr>\n",
       "    <tr>\n",
       "      <th>pickups28_lag2</th>\n",
       "      <td>8</td>\n",
       "      <td>12</td>\n",
       "      <td>35</td>\n",
       "      <td>22</td>\n",
       "      <td>33</td>\n",
       "    </tr>\n",
       "    <tr>\n",
       "      <th>temp</th>\n",
       "      <td>49</td>\n",
       "      <td>49</td>\n",
       "      <td>49</td>\n",
       "      <td>49</td>\n",
       "      <td>49</td>\n",
       "    </tr>\n",
       "    <tr>\n",
       "      <th>prcp</th>\n",
       "      <td>0</td>\n",
       "      <td>0</td>\n",
       "      <td>0</td>\n",
       "      <td>0</td>\n",
       "      <td>0</td>\n",
       "    </tr>\n",
       "    <tr>\n",
       "      <th>fog</th>\n",
       "      <td>0</td>\n",
       "      <td>0</td>\n",
       "      <td>0</td>\n",
       "      <td>0</td>\n",
       "      <td>0</td>\n",
       "    </tr>\n",
       "    <tr>\n",
       "      <th>rain_drizzle</th>\n",
       "      <td>1</td>\n",
       "      <td>1</td>\n",
       "      <td>1</td>\n",
       "      <td>1</td>\n",
       "      <td>1</td>\n",
       "    </tr>\n",
       "    <tr>\n",
       "      <th>is_weekend</th>\n",
       "      <td>True</td>\n",
       "      <td>True</td>\n",
       "      <td>True</td>\n",
       "      <td>True</td>\n",
       "      <td>True</td>\n",
       "    </tr>\n",
       "    <tr>\n",
       "      <th>time_of_day_afternoon</th>\n",
       "      <td>0</td>\n",
       "      <td>0</td>\n",
       "      <td>0</td>\n",
       "      <td>0</td>\n",
       "      <td>0</td>\n",
       "    </tr>\n",
       "    <tr>\n",
       "      <th>time_of_day_afternoon rush</th>\n",
       "      <td>0</td>\n",
       "      <td>0</td>\n",
       "      <td>0</td>\n",
       "      <td>0</td>\n",
       "      <td>0</td>\n",
       "    </tr>\n",
       "    <tr>\n",
       "      <th>time_of_day_evening</th>\n",
       "      <td>0</td>\n",
       "      <td>0</td>\n",
       "      <td>0</td>\n",
       "      <td>0</td>\n",
       "      <td>0</td>\n",
       "    </tr>\n",
       "    <tr>\n",
       "      <th>time_of_day_lunch time</th>\n",
       "      <td>0</td>\n",
       "      <td>0</td>\n",
       "      <td>0</td>\n",
       "      <td>0</td>\n",
       "      <td>0</td>\n",
       "    </tr>\n",
       "    <tr>\n",
       "      <th>time_of_day_morning</th>\n",
       "      <td>1</td>\n",
       "      <td>1</td>\n",
       "      <td>1</td>\n",
       "      <td>1</td>\n",
       "      <td>1</td>\n",
       "    </tr>\n",
       "    <tr>\n",
       "      <th>time_of_day_morning rush</th>\n",
       "      <td>0</td>\n",
       "      <td>0</td>\n",
       "      <td>0</td>\n",
       "      <td>0</td>\n",
       "      <td>0</td>\n",
       "    </tr>\n",
       "    <tr>\n",
       "      <th>time_of_day_night</th>\n",
       "      <td>0</td>\n",
       "      <td>0</td>\n",
       "      <td>0</td>\n",
       "      <td>0</td>\n",
       "      <td>0</td>\n",
       "    </tr>\n",
       "  </tbody>\n",
       "</table>\n",
       "</div>"
      ],
      "text/plain": [
       "                           11648 11649 11650 11651 11652\n",
       "pickups17_lag1               144   160   173   183   197\n",
       "pickups17_lag2               132   144   160   173   183\n",
       "pickups1_lag1                 73    68    65    82    67\n",
       "pickups1_lag2                 50    73    68    65    82\n",
       "pickups21_lag1               123   160   162   176   231\n",
       "pickups21_lag2                98   123   160   162   176\n",
       "pickups28_lag1                12    35    22    33    81\n",
       "pickups28_lag2                 8    12    35    22    33\n",
       "temp                          49    49    49    49    49\n",
       "prcp                           0     0     0     0     0\n",
       "fog                            0     0     0     0     0\n",
       "rain_drizzle                   1     1     1     1     1\n",
       "is_weekend                  True  True  True  True  True\n",
       "time_of_day_afternoon          0     0     0     0     0\n",
       "time_of_day_afternoon rush     0     0     0     0     0\n",
       "time_of_day_evening            0     0     0     0     0\n",
       "time_of_day_lunch time         0     0     0     0     0\n",
       "time_of_day_morning            1     1     1     1     1\n",
       "time_of_day_morning rush       0     0     0     0     0\n",
       "time_of_day_night              0     0     0     0     0"
      ]
     },
     "execution_count": 21,
     "metadata": {},
     "output_type": "execute_result"
    }
   ],
   "source": [
    "x_test[:5].T"
   ]
  },
  {
   "cell_type": "markdown",
   "metadata": {},
   "source": [
    "...and now the ys are trivial"
   ]
  },
  {
   "cell_type": "code",
   "execution_count": 22,
   "metadata": {},
   "outputs": [],
   "source": [
    "y_train=training['stress']\n",
    "\n",
    "y_test=test['stress']"
   ]
  },
  {
   "cell_type": "markdown",
   "metadata": {},
   "source": [
    "To make sure you understood, do you want to see what's inside these two vectors?"
   ]
  },
  {
   "cell_type": "code",
   "execution_count": 23,
   "metadata": {},
   "outputs": [
    {
     "data": {
      "text/plain": [
       "0    False\n",
       "1    False\n",
       "2    False\n",
       "3     True\n",
       "4     True\n",
       "Name: stress, dtype: bool"
      ]
     },
     "execution_count": 23,
     "metadata": {},
     "output_type": "execute_result"
    }
   ],
   "source": [
    "y_train[:5]"
   ]
  },
  {
   "cell_type": "markdown",
   "metadata": {},
   "source": [
    "Ok, we have our Xs and Ys! Ready to go... it's totally trivial with sklearn:"
   ]
  },
  {
   "cell_type": "code",
   "execution_count": 24,
   "metadata": {},
   "outputs": [
    {
     "name": "stderr",
     "output_type": "stream",
     "text": [
      "C:\\Users\\bjark\\Anaconda3\\lib\\site-packages\\sklearn\\linear_model\\_logistic.py:762: ConvergenceWarning: lbfgs failed to converge (status=1):\n",
      "STOP: TOTAL NO. of ITERATIONS REACHED LIMIT.\n",
      "\n",
      "Increase the number of iterations (max_iter) or scale the data as shown in:\n",
      "    https://scikit-learn.org/stable/modules/preprocessing.html\n",
      "Please also refer to the documentation for alternative solver options:\n",
      "    https://scikit-learn.org/stable/modules/linear_model.html#logistic-regression\n",
      "  n_iter_i = _check_optimize_result(\n"
     ]
    },
    {
     "data": {
      "text/plain": [
       "LogisticRegression()"
      ]
     },
     "execution_count": 24,
     "metadata": {},
     "output_type": "execute_result"
    }
   ],
   "source": [
    "LogReg.fit(x_train, y_train)"
   ]
  },
  {
   "cell_type": "markdown",
   "metadata": {},
   "source": [
    "Congrats! You trained your first Logistic Regression model. What's its accuracy (**on the test set**)?"
   ]
  },
  {
   "cell_type": "code",
   "execution_count": 25,
   "metadata": {},
   "outputs": [
    {
     "data": {
      "text/plain": [
       "0.923592032967033"
      ]
     },
     "execution_count": 25,
     "metadata": {},
     "output_type": "execute_result"
    }
   ],
   "source": [
    "LogReg.score(x_test,y_test)"
   ]
  },
  {
   "cell_type": "markdown",
   "metadata": {},
   "source": [
    "Do you want to try it on the training set? What do you expect?"
   ]
  },
  {
   "cell_type": "code",
   "execution_count": 26,
   "metadata": {},
   "outputs": [
    {
     "data": {
      "text/plain": [
       "0.9347527472527473"
      ]
     },
     "execution_count": 26,
     "metadata": {},
     "output_type": "execute_result"
    }
   ],
   "source": [
    "LogReg.score(x_train, y_train)"
   ]
  },
  {
   "cell_type": "markdown",
   "metadata": {},
   "source": [
    "If the values tend to be similar, then congrats, it's very likely that your model is not overfitting! :-)\n",
    "\n"
   ]
  },
  {
   "cell_type": "markdown",
   "metadata": {},
   "source": [
    " \n"
   ]
  },
  {
   "cell_type": "markdown",
   "metadata": {},
   "source": [
    "Anyway, accuracy is not everything in a classifier. Another VERY interesting concept is the confusion matrix"
   ]
  },
  {
   "cell_type": "code",
   "execution_count": 27,
   "metadata": {},
   "outputs": [],
   "source": [
    "from sklearn.metrics import confusion_matrix"
   ]
  },
  {
   "cell_type": "markdown",
   "metadata": {},
   "source": [
    "To use it properly, let's first obain the predictions of our model using the test set:"
   ]
  },
  {
   "cell_type": "code",
   "execution_count": 30,
   "metadata": {},
   "outputs": [],
   "source": [
    "ypred=LogReg.predict(x_test)"
   ]
  },
  {
   "cell_type": "markdown",
   "metadata": {},
   "source": [
    "Now, we can compare the predictions with the observations, using the confusion matrix"
   ]
  },
  {
   "cell_type": "code",
   "execution_count": 31,
   "metadata": {},
   "outputs": [
    {
     "data": {
      "text/plain": [
       "array([[5182,   54],\n",
       "       [ 391,  197]], dtype=int64)"
      ]
     },
     "execution_count": 31,
     "metadata": {},
     "output_type": "execute_result"
    }
   ],
   "source": [
    "confusion_matrix(y_test, ypred)"
   ]
  },
  {
   "cell_type": "markdown",
   "metadata": {},
   "source": [
    "...we hope you're not confused!  ;-)"
   ]
  },
  {
   "cell_type": "markdown",
   "metadata": {},
   "source": [
    " \n",
    " "
   ]
  },
  {
   "cell_type": "markdown",
   "metadata": {},
   "source": [
    "A last useful thing about Logistic Regression. It is a parametric model, so its parameters beta (its \"coefficients\") can actually mean something. Let's take a look at them:"
   ]
  },
  {
   "cell_type": "code",
   "execution_count": 32,
   "metadata": {},
   "outputs": [
    {
     "data": {
      "text/plain": [
       "array([[-4.08467302e-03,  5.94449440e-06,  2.92622233e-02,\n",
       "         1.33465289e-02, -7.03300444e-03, -4.08874537e-03,\n",
       "        -7.75402850e-03, -7.13314873e-03, -4.93942731e-02,\n",
       "        -2.56511120e-01, -5.87850188e-01,  7.12095538e-01,\n",
       "        -1.64827289e+00, -1.03652875e+00,  2.67992996e+00,\n",
       "         7.78000772e-01, -7.47139904e-01, -1.97070409e+00,\n",
       "        -4.86704761e-01, -2.66002827e+00]])"
      ]
     },
     "execution_count": 32,
     "metadata": {},
     "output_type": "execute_result"
    }
   ],
   "source": [
    "LogReg.coef_"
   ]
  },
  {
   "cell_type": "markdown",
   "metadata": {},
   "source": [
    "This is a bit confusing. Which coefficient correspond to which variable? Let's make it more interpretable:"
   ]
  },
  {
   "cell_type": "code",
   "execution_count": 33,
   "metadata": {},
   "outputs": [
    {
     "name": "stdout",
     "output_type": "stream",
     "text": [
      "pickups17_lag1=-0.004\n",
      "pickups17_lag2=0.000\n",
      "pickups1_lag1=0.029\n",
      "pickups1_lag2=0.013\n",
      "pickups21_lag1=-0.007\n",
      "pickups21_lag2=-0.004\n",
      "pickups28_lag1=-0.008\n",
      "pickups28_lag2=-0.007\n",
      "temp=-0.049\n",
      "prcp=-0.257\n",
      "fog=-0.588\n",
      "rain_drizzle=0.712\n",
      "is_weekend=-1.648\n",
      "time_of_day_afternoon=-1.037\n",
      "time_of_day_afternoon rush=2.680\n",
      "time_of_day_evening=0.778\n",
      "time_of_day_lunch time=-0.747\n",
      "time_of_day_morning=-1.971\n",
      "time_of_day_morning rush=-0.487\n",
      "time_of_day_night=-2.660\n"
     ]
    }
   ],
   "source": [
    "for cname, val in zip(x_train.columns, LogReg.coef_.tolist()[0]):\n",
    "    print(\"%s=%.3f\"%(cname, val))"
   ]
  },
  {
   "cell_type": "markdown",
   "metadata": {},
   "source": [
    "What do you think of the results? Take a look at the signs. Do they make sense? Try to play with the stress_threshold above (instead of 90 percentile, you can try others...)"
   ]
  },
  {
   "cell_type": "code",
   "execution_count": null,
   "metadata": {},
   "outputs": [],
   "source": []
  },
  {
   "cell_type": "markdown",
   "metadata": {},
   "source": [
    "------"
   ]
  },
  {
   "cell_type": "markdown",
   "metadata": {},
   "source": [
    "## Part 2 - Support Vector Machines\n",
    "\n",
    "See chapter 12 of [The Elements of Statistical Learning](https://web.stanford.edu/~hastie/Papers/ESLII.pdf)"
   ]
  },
  {
   "cell_type": "markdown",
   "metadata": {},
   "source": [
    "In Part 1, we did almost everything for you. But now, we'll just help you with the import:"
   ]
  },
  {
   "cell_type": "code",
   "execution_count": 34,
   "metadata": {},
   "outputs": [],
   "source": [
    "from sklearn.svm import SVC"
   ]
  },
  {
   "cell_type": "markdown",
   "metadata": {},
   "source": [
    "Create the object"
   ]
  },
  {
   "cell_type": "code",
   "execution_count": 35,
   "metadata": {},
   "outputs": [],
   "source": [
    "sv=SVC()"
   ]
  },
  {
   "cell_type": "markdown",
   "metadata": {},
   "source": [
    "Train the model"
   ]
  },
  {
   "cell_type": "code",
   "execution_count": 36,
   "metadata": {},
   "outputs": [
    {
     "data": {
      "text/plain": [
       "SVC()"
      ]
     },
     "execution_count": 36,
     "metadata": {},
     "output_type": "execute_result"
    }
   ],
   "source": [
    "sv.fit(x_train,y_train)"
   ]
  },
  {
   "cell_type": "markdown",
   "metadata": {},
   "source": [
    "Check its accuracy"
   ]
  },
  {
   "cell_type": "code",
   "execution_count": 37,
   "metadata": {},
   "outputs": [
    {
     "data": {
      "text/plain": [
       "0.9433379120879121"
      ]
     },
     "execution_count": 37,
     "metadata": {},
     "output_type": "execute_result"
    }
   ],
   "source": [
    "sv.score(x_test, y_test)"
   ]
  },
  {
   "cell_type": "markdown",
   "metadata": {},
   "source": [
    "Check its confusion matrix"
   ]
  },
  {
   "cell_type": "code",
   "execution_count": 38,
   "metadata": {},
   "outputs": [
    {
     "data": {
      "text/plain": [
       "array([[5127,  109],\n",
       "       [ 221,  367]], dtype=int64)"
      ]
     },
     "execution_count": 38,
     "metadata": {},
     "output_type": "execute_result"
    }
   ],
   "source": [
    "ypred=sv.predict(x_test)\n",
    "confusion_matrix(y_test, ypred)"
   ]
  },
  {
   "cell_type": "markdown",
   "metadata": {},
   "source": [
    "Be critical about it... is it working at all? Before you try playing with the parameters, think about how the model works: it relies HEAVILY on comparing pairs of vectors...\n",
    "\n",
    "...so when their data is somewhat odd (for example having numeric variables, dummies, variables with different ranges), you need to make sure you get everything comparable. For example, you need to make sure every variable falls in the same range or scale."
   ]
  },
  {
   "cell_type": "markdown",
   "metadata": {},
   "source": [
    "Do you want to try?"
   ]
  },
  {
   "cell_type": "code",
   "execution_count": 39,
   "metadata": {},
   "outputs": [],
   "source": [
    "x_train_standard=(x_train-x_train.mean())/x_train.std()\n",
    "x_test_standard=(x_test-x_test.mean())/x_test.std()"
   ]
  },
  {
   "cell_type": "code",
   "execution_count": 40,
   "metadata": {},
   "outputs": [
    {
     "data": {
      "text/plain": [
       "SVC()"
      ]
     },
     "execution_count": 40,
     "metadata": {},
     "output_type": "execute_result"
    }
   ],
   "source": [
    "sv.fit(x_train_standard,y_train)"
   ]
  },
  {
   "cell_type": "code",
   "execution_count": 41,
   "metadata": {},
   "outputs": [
    {
     "data": {
      "text/plain": [
       "0.9443681318681318"
      ]
     },
     "execution_count": 41,
     "metadata": {},
     "output_type": "execute_result"
    }
   ],
   "source": [
    "sv.score(x_test_standard, y_test)"
   ]
  },
  {
   "cell_type": "code",
   "execution_count": 42,
   "metadata": {},
   "outputs": [
    {
     "data": {
      "text/plain": [
       "array([[5119,  117],\n",
       "       [ 207,  381]], dtype=int64)"
      ]
     },
     "execution_count": 42,
     "metadata": {},
     "output_type": "execute_result"
    }
   ],
   "source": [
    "ypred_standard=sv.predict(x_test_standard)\n",
    "confusion_matrix(y_test, ypred_standard)"
   ]
  },
  {
   "cell_type": "markdown",
   "metadata": {},
   "source": [
    "----"
   ]
  },
  {
   "cell_type": "markdown",
   "metadata": {},
   "source": [
    "## Part 3 - Decision Trees\n",
    "\n",
    "See chapter 9.2 of [The Elements of Statistical Learning](https://web.stanford.edu/~hastie/Papers/ESLII.pdf)"
   ]
  },
  {
   "cell_type": "markdown",
   "metadata": {},
   "source": [
    "Here is the Decision Tree object import:"
   ]
  },
  {
   "cell_type": "code",
   "execution_count": 43,
   "metadata": {},
   "outputs": [],
   "source": [
    "from sklearn.tree import DecisionTreeClassifier"
   ]
  },
  {
   "cell_type": "markdown",
   "metadata": {},
   "source": [
    "Create the object"
   ]
  },
  {
   "cell_type": "code",
   "execution_count": 44,
   "metadata": {},
   "outputs": [],
   "source": [
    "dt=DecisionTreeClassifier()"
   ]
  },
  {
   "cell_type": "markdown",
   "metadata": {},
   "source": [
    "Train the model"
   ]
  },
  {
   "cell_type": "code",
   "execution_count": 45,
   "metadata": {},
   "outputs": [
    {
     "data": {
      "text/plain": [
       "DecisionTreeClassifier()"
      ]
     },
     "execution_count": 45,
     "metadata": {},
     "output_type": "execute_result"
    }
   ],
   "source": [
    "dt.fit(x_train, y_train)"
   ]
  },
  {
   "cell_type": "markdown",
   "metadata": {},
   "source": [
    "Check accuracy"
   ]
  },
  {
   "cell_type": "code",
   "execution_count": 46,
   "metadata": {},
   "outputs": [
    {
     "data": {
      "text/plain": [
       "0.9275412087912088"
      ]
     },
     "execution_count": 46,
     "metadata": {},
     "output_type": "execute_result"
    }
   ],
   "source": [
    "dt.score(x_test,y_test)"
   ]
  },
  {
   "cell_type": "markdown",
   "metadata": {},
   "source": [
    "Check confusion matrix"
   ]
  },
  {
   "cell_type": "code",
   "execution_count": 47,
   "metadata": {},
   "outputs": [
    {
     "data": {
      "text/plain": [
       "array([[4978,  258],\n",
       "       [ 164,  424]], dtype=int64)"
      ]
     },
     "execution_count": 47,
     "metadata": {},
     "output_type": "execute_result"
    }
   ],
   "source": [
    "ypred=dt.predict(x_test)\n",
    "confusion_matrix(y_test, ypred)"
   ]
  },
  {
   "cell_type": "markdown",
   "metadata": {},
   "source": [
    "Now, try a random forest. Can you find where it is in sklearn?"
   ]
  },
  {
   "cell_type": "code",
   "execution_count": 48,
   "metadata": {},
   "outputs": [
    {
     "name": "stdout",
     "output_type": "stream",
     "text": [
      "0.9491758241758241\n"
     ]
    }
   ],
   "source": [
    "from sklearn.ensemble import RandomForestClassifier\n",
    "\n",
    "rf=RandomForestClassifier()\n",
    "rf.fit(x_train, y_train)\n",
    "print(rf.score(x_test, y_test))\n",
    "\n",
    "\n"
   ]
  },
  {
   "cell_type": "code",
   "execution_count": 49,
   "metadata": {},
   "outputs": [
    {
     "data": {
      "text/plain": [
       "array([[5115,  121],\n",
       "       [ 175,  413]], dtype=int64)"
      ]
     },
     "execution_count": 49,
     "metadata": {},
     "output_type": "execute_result"
    }
   ],
   "source": [
    "ypred=rf.predict(x_test)\n",
    "confusion_matrix(y_test, ypred)"
   ]
  },
  {
   "cell_type": "code",
   "execution_count": null,
   "metadata": {},
   "outputs": [],
   "source": []
  }
 ],
 "metadata": {
  "kernelspec": {
   "display_name": "Python 3 (ipykernel)",
   "language": "python",
   "name": "python3"
  },
  "language_info": {
   "codemirror_mode": {
    "name": "ipython",
    "version": 3
   },
   "file_extension": ".py",
   "mimetype": "text/x-python",
   "name": "python",
   "nbconvert_exporter": "python",
   "pygments_lexer": "ipython3",
   "version": "3.7.9"
  },
  "toc": {
   "base_numbering": 1,
   "nav_menu": {},
   "number_sections": true,
   "sideBar": true,
   "skip_h1_title": false,
   "title_cell": "Table of Contents",
   "title_sidebar": "Contents",
   "toc_cell": false,
   "toc_position": {},
   "toc_section_display": true,
   "toc_window_display": false
  }
 },
 "nbformat": 4,
 "nbformat_minor": 2
}
