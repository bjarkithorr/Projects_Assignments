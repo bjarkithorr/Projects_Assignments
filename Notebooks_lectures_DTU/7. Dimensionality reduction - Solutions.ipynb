{
 "cells": [
  {
   "cell_type": "markdown",
   "metadata": {},
   "source": [
    "# Week 7 - Dimensionality reduction"
   ]
  },
  {
   "cell_type": "markdown",
   "metadata": {},
   "source": [
    "Welcome to week 7 of our course. Today, we'll focus on dimensionality reduction. In fact, we're approaching the full monty for being a Data Scientist. In other words, in this notebook, you'll experience a lot of the whole process, including data preparation, dimensionality reduction, exploratory analysis (clustering in this case), model building (classification in this case), and evaluation."
   ]
  },
  {
   "cell_type": "markdown",
   "metadata": {},
   "source": [
    "## Part 1 - Covariance, trace, correlation"
   ]
  },
  {
   "cell_type": "markdown",
   "metadata": {},
   "source": [
    "Let's start with the basics: get insights of the concepts of Covariance, trace and correlation. "
   ]
  },
  {
   "cell_type": "markdown",
   "metadata": {},
   "source": [
    "...but first, let's do the usual imports"
   ]
  },
  {
   "cell_type": "code",
   "execution_count": 72,
   "metadata": {},
   "outputs": [],
   "source": [
    "import numpy as np\n",
    "import pandas as pd\n",
    "import matplotlib.pyplot as plt\n",
    "%matplotlib inline"
   ]
  },
  {
   "cell_type": "markdown",
   "metadata": {},
   "source": [
    "We will use a well dataset well-known to you, \"NYC_taxis_weather_2016_with_dummies.csv\". It's amazing the number of things we can do with a single one!... "
   ]
  },
  {
   "cell_type": "code",
   "execution_count": 73,
   "metadata": {},
   "outputs": [],
   "source": [
    "f=pd.read_csv(\"NYC_taxis_weather_2016_with_dummies.csv\")"
   ]
  },
  {
   "cell_type": "code",
   "execution_count": 74,
   "metadata": {},
   "outputs": [
    {
     "data": {
      "text/html": [
       "<div>\n",
       "<style scoped>\n",
       "    .dataframe tbody tr th:only-of-type {\n",
       "        vertical-align: middle;\n",
       "    }\n",
       "\n",
       "    .dataframe tbody tr th {\n",
       "        vertical-align: top;\n",
       "    }\n",
       "\n",
       "    .dataframe thead th {\n",
       "        text-align: right;\n",
       "    }\n",
       "</style>\n",
       "<table border=\"1\" class=\"dataframe\">\n",
       "  <thead>\n",
       "    <tr style=\"text-align: right;\">\n",
       "      <th></th>\n",
       "      <th>datetime</th>\n",
       "      <th>pickups1</th>\n",
       "      <th>pickups17_lag1</th>\n",
       "      <th>pickups17_lag2</th>\n",
       "      <th>pickups1_lag1</th>\n",
       "      <th>pickups1_lag2</th>\n",
       "      <th>pickups21_lag1</th>\n",
       "      <th>pickups21_lag2</th>\n",
       "      <th>pickups28_lag1</th>\n",
       "      <th>pickups28_lag2</th>\n",
       "      <th>...</th>\n",
       "      <th>fog</th>\n",
       "      <th>rain_drizzle</th>\n",
       "      <th>time_of_day_afternoon</th>\n",
       "      <th>time_of_day_afternoon rush</th>\n",
       "      <th>time_of_day_evening</th>\n",
       "      <th>time_of_day_lunch time</th>\n",
       "      <th>time_of_day_morning</th>\n",
       "      <th>time_of_day_morning rush</th>\n",
       "      <th>time_of_day_night</th>\n",
       "      <th>is_weekend</th>\n",
       "    </tr>\n",
       "  </thead>\n",
       "  <tbody>\n",
       "    <tr>\n",
       "      <th>0</th>\n",
       "      <td>2016-01-01 00:00:00</td>\n",
       "      <td>162</td>\n",
       "      <td>202.0</td>\n",
       "      <td>307.0</td>\n",
       "      <td>109.0</td>\n",
       "      <td>171.0</td>\n",
       "      <td>198.0</td>\n",
       "      <td>306.0</td>\n",
       "      <td>40.0</td>\n",
       "      <td>54.0</td>\n",
       "      <td>...</td>\n",
       "      <td>0</td>\n",
       "      <td>0</td>\n",
       "      <td>0</td>\n",
       "      <td>0</td>\n",
       "      <td>0</td>\n",
       "      <td>0</td>\n",
       "      <td>0</td>\n",
       "      <td>0</td>\n",
       "      <td>1</td>\n",
       "      <td>False</td>\n",
       "    </tr>\n",
       "    <tr>\n",
       "      <th>1</th>\n",
       "      <td>2016-01-01 00:15:00</td>\n",
       "      <td>251</td>\n",
       "      <td>394.0</td>\n",
       "      <td>202.0</td>\n",
       "      <td>162.0</td>\n",
       "      <td>109.0</td>\n",
       "      <td>312.0</td>\n",
       "      <td>198.0</td>\n",
       "      <td>29.0</td>\n",
       "      <td>40.0</td>\n",
       "      <td>...</td>\n",
       "      <td>0</td>\n",
       "      <td>0</td>\n",
       "      <td>0</td>\n",
       "      <td>0</td>\n",
       "      <td>0</td>\n",
       "      <td>0</td>\n",
       "      <td>0</td>\n",
       "      <td>0</td>\n",
       "      <td>1</td>\n",
       "      <td>False</td>\n",
       "    </tr>\n",
       "    <tr>\n",
       "      <th>2</th>\n",
       "      <td>2016-01-01 00:30:00</td>\n",
       "      <td>310</td>\n",
       "      <td>420.0</td>\n",
       "      <td>394.0</td>\n",
       "      <td>251.0</td>\n",
       "      <td>162.0</td>\n",
       "      <td>699.0</td>\n",
       "      <td>312.0</td>\n",
       "      <td>16.0</td>\n",
       "      <td>29.0</td>\n",
       "      <td>...</td>\n",
       "      <td>0</td>\n",
       "      <td>0</td>\n",
       "      <td>0</td>\n",
       "      <td>0</td>\n",
       "      <td>0</td>\n",
       "      <td>0</td>\n",
       "      <td>0</td>\n",
       "      <td>0</td>\n",
       "      <td>1</td>\n",
       "      <td>False</td>\n",
       "    </tr>\n",
       "    <tr>\n",
       "      <th>3</th>\n",
       "      <td>2016-01-01 00:45:00</td>\n",
       "      <td>338</td>\n",
       "      <td>310.0</td>\n",
       "      <td>420.0</td>\n",
       "      <td>310.0</td>\n",
       "      <td>251.0</td>\n",
       "      <td>482.0</td>\n",
       "      <td>699.0</td>\n",
       "      <td>3.0</td>\n",
       "      <td>16.0</td>\n",
       "      <td>...</td>\n",
       "      <td>0</td>\n",
       "      <td>0</td>\n",
       "      <td>0</td>\n",
       "      <td>0</td>\n",
       "      <td>0</td>\n",
       "      <td>0</td>\n",
       "      <td>0</td>\n",
       "      <td>0</td>\n",
       "      <td>1</td>\n",
       "      <td>False</td>\n",
       "    </tr>\n",
       "    <tr>\n",
       "      <th>4</th>\n",
       "      <td>2016-01-01 01:00:00</td>\n",
       "      <td>369</td>\n",
       "      <td>403.0</td>\n",
       "      <td>310.0</td>\n",
       "      <td>338.0</td>\n",
       "      <td>310.0</td>\n",
       "      <td>459.0</td>\n",
       "      <td>482.0</td>\n",
       "      <td>2.0</td>\n",
       "      <td>3.0</td>\n",
       "      <td>...</td>\n",
       "      <td>0</td>\n",
       "      <td>0</td>\n",
       "      <td>0</td>\n",
       "      <td>0</td>\n",
       "      <td>0</td>\n",
       "      <td>0</td>\n",
       "      <td>0</td>\n",
       "      <td>0</td>\n",
       "      <td>1</td>\n",
       "      <td>False</td>\n",
       "    </tr>\n",
       "    <tr>\n",
       "      <th>...</th>\n",
       "      <td>...</td>\n",
       "      <td>...</td>\n",
       "      <td>...</td>\n",
       "      <td>...</td>\n",
       "      <td>...</td>\n",
       "      <td>...</td>\n",
       "      <td>...</td>\n",
       "      <td>...</td>\n",
       "      <td>...</td>\n",
       "      <td>...</td>\n",
       "      <td>...</td>\n",
       "      <td>...</td>\n",
       "      <td>...</td>\n",
       "      <td>...</td>\n",
       "      <td>...</td>\n",
       "      <td>...</td>\n",
       "      <td>...</td>\n",
       "      <td>...</td>\n",
       "      <td>...</td>\n",
       "      <td>...</td>\n",
       "      <td>...</td>\n",
       "    </tr>\n",
       "    <tr>\n",
       "      <th>17467</th>\n",
       "      <td>2016-06-30 22:45:00</td>\n",
       "      <td>316</td>\n",
       "      <td>639.0</td>\n",
       "      <td>624.0</td>\n",
       "      <td>318.0</td>\n",
       "      <td>291.0</td>\n",
       "      <td>406.0</td>\n",
       "      <td>305.0</td>\n",
       "      <td>201.0</td>\n",
       "      <td>189.0</td>\n",
       "      <td>...</td>\n",
       "      <td>0</td>\n",
       "      <td>0</td>\n",
       "      <td>0</td>\n",
       "      <td>0</td>\n",
       "      <td>1</td>\n",
       "      <td>0</td>\n",
       "      <td>0</td>\n",
       "      <td>0</td>\n",
       "      <td>0</td>\n",
       "      <td>False</td>\n",
       "    </tr>\n",
       "    <tr>\n",
       "      <th>17468</th>\n",
       "      <td>2016-06-30 23:00:00</td>\n",
       "      <td>299</td>\n",
       "      <td>593.0</td>\n",
       "      <td>639.0</td>\n",
       "      <td>316.0</td>\n",
       "      <td>318.0</td>\n",
       "      <td>347.0</td>\n",
       "      <td>406.0</td>\n",
       "      <td>168.0</td>\n",
       "      <td>201.0</td>\n",
       "      <td>...</td>\n",
       "      <td>0</td>\n",
       "      <td>0</td>\n",
       "      <td>0</td>\n",
       "      <td>0</td>\n",
       "      <td>0</td>\n",
       "      <td>0</td>\n",
       "      <td>0</td>\n",
       "      <td>0</td>\n",
       "      <td>1</td>\n",
       "      <td>False</td>\n",
       "    </tr>\n",
       "    <tr>\n",
       "      <th>17469</th>\n",
       "      <td>2016-06-30 23:15:00</td>\n",
       "      <td>283</td>\n",
       "      <td>617.0</td>\n",
       "      <td>593.0</td>\n",
       "      <td>299.0</td>\n",
       "      <td>316.0</td>\n",
       "      <td>252.0</td>\n",
       "      <td>347.0</td>\n",
       "      <td>104.0</td>\n",
       "      <td>168.0</td>\n",
       "      <td>...</td>\n",
       "      <td>0</td>\n",
       "      <td>0</td>\n",
       "      <td>0</td>\n",
       "      <td>0</td>\n",
       "      <td>0</td>\n",
       "      <td>0</td>\n",
       "      <td>0</td>\n",
       "      <td>0</td>\n",
       "      <td>1</td>\n",
       "      <td>False</td>\n",
       "    </tr>\n",
       "    <tr>\n",
       "      <th>17470</th>\n",
       "      <td>2016-06-30 23:30:00</td>\n",
       "      <td>276</td>\n",
       "      <td>580.0</td>\n",
       "      <td>617.0</td>\n",
       "      <td>283.0</td>\n",
       "      <td>299.0</td>\n",
       "      <td>246.0</td>\n",
       "      <td>252.0</td>\n",
       "      <td>87.0</td>\n",
       "      <td>104.0</td>\n",
       "      <td>...</td>\n",
       "      <td>0</td>\n",
       "      <td>0</td>\n",
       "      <td>0</td>\n",
       "      <td>0</td>\n",
       "      <td>0</td>\n",
       "      <td>0</td>\n",
       "      <td>0</td>\n",
       "      <td>0</td>\n",
       "      <td>1</td>\n",
       "      <td>False</td>\n",
       "    </tr>\n",
       "    <tr>\n",
       "      <th>17471</th>\n",
       "      <td>2016-06-30 23:45:00</td>\n",
       "      <td>230</td>\n",
       "      <td>595.0</td>\n",
       "      <td>580.0</td>\n",
       "      <td>276.0</td>\n",
       "      <td>283.0</td>\n",
       "      <td>208.0</td>\n",
       "      <td>246.0</td>\n",
       "      <td>129.0</td>\n",
       "      <td>87.0</td>\n",
       "      <td>...</td>\n",
       "      <td>0</td>\n",
       "      <td>0</td>\n",
       "      <td>0</td>\n",
       "      <td>0</td>\n",
       "      <td>0</td>\n",
       "      <td>0</td>\n",
       "      <td>0</td>\n",
       "      <td>0</td>\n",
       "      <td>1</td>\n",
       "      <td>False</td>\n",
       "    </tr>\n",
       "  </tbody>\n",
       "</table>\n",
       "<p>17472 rows × 22 columns</p>\n",
       "</div>"
      ],
      "text/plain": [
       "                  datetime  pickups1  pickups17_lag1  pickups17_lag2  \\\n",
       "0      2016-01-01 00:00:00       162           202.0           307.0   \n",
       "1      2016-01-01 00:15:00       251           394.0           202.0   \n",
       "2      2016-01-01 00:30:00       310           420.0           394.0   \n",
       "3      2016-01-01 00:45:00       338           310.0           420.0   \n",
       "4      2016-01-01 01:00:00       369           403.0           310.0   \n",
       "...                    ...       ...             ...             ...   \n",
       "17467  2016-06-30 22:45:00       316           639.0           624.0   \n",
       "17468  2016-06-30 23:00:00       299           593.0           639.0   \n",
       "17469  2016-06-30 23:15:00       283           617.0           593.0   \n",
       "17470  2016-06-30 23:30:00       276           580.0           617.0   \n",
       "17471  2016-06-30 23:45:00       230           595.0           580.0   \n",
       "\n",
       "       pickups1_lag1  pickups1_lag2  pickups21_lag1  pickups21_lag2  \\\n",
       "0              109.0          171.0           198.0           306.0   \n",
       "1              162.0          109.0           312.0           198.0   \n",
       "2              251.0          162.0           699.0           312.0   \n",
       "3              310.0          251.0           482.0           699.0   \n",
       "4              338.0          310.0           459.0           482.0   \n",
       "...              ...            ...             ...             ...   \n",
       "17467          318.0          291.0           406.0           305.0   \n",
       "17468          316.0          318.0           347.0           406.0   \n",
       "17469          299.0          316.0           252.0           347.0   \n",
       "17470          283.0          299.0           246.0           252.0   \n",
       "17471          276.0          283.0           208.0           246.0   \n",
       "\n",
       "       pickups28_lag1  pickups28_lag2  ...  fog  rain_drizzle  \\\n",
       "0                40.0            54.0  ...    0             0   \n",
       "1                29.0            40.0  ...    0             0   \n",
       "2                16.0            29.0  ...    0             0   \n",
       "3                 3.0            16.0  ...    0             0   \n",
       "4                 2.0             3.0  ...    0             0   \n",
       "...               ...             ...  ...  ...           ...   \n",
       "17467           201.0           189.0  ...    0             0   \n",
       "17468           168.0           201.0  ...    0             0   \n",
       "17469           104.0           168.0  ...    0             0   \n",
       "17470            87.0           104.0  ...    0             0   \n",
       "17471           129.0            87.0  ...    0             0   \n",
       "\n",
       "       time_of_day_afternoon  time_of_day_afternoon rush  time_of_day_evening  \\\n",
       "0                          0                           0                    0   \n",
       "1                          0                           0                    0   \n",
       "2                          0                           0                    0   \n",
       "3                          0                           0                    0   \n",
       "4                          0                           0                    0   \n",
       "...                      ...                         ...                  ...   \n",
       "17467                      0                           0                    1   \n",
       "17468                      0                           0                    0   \n",
       "17469                      0                           0                    0   \n",
       "17470                      0                           0                    0   \n",
       "17471                      0                           0                    0   \n",
       "\n",
       "       time_of_day_lunch time  time_of_day_morning  time_of_day_morning rush  \\\n",
       "0                           0                    0                         0   \n",
       "1                           0                    0                         0   \n",
       "2                           0                    0                         0   \n",
       "3                           0                    0                         0   \n",
       "4                           0                    0                         0   \n",
       "...                       ...                  ...                       ...   \n",
       "17467                       0                    0                         0   \n",
       "17468                       0                    0                         0   \n",
       "17469                       0                    0                         0   \n",
       "17470                       0                    0                         0   \n",
       "17471                       0                    0                         0   \n",
       "\n",
       "       time_of_day_night  is_weekend  \n",
       "0                      1       False  \n",
       "1                      1       False  \n",
       "2                      1       False  \n",
       "3                      1       False  \n",
       "4                      1       False  \n",
       "...                  ...         ...  \n",
       "17467                  0       False  \n",
       "17468                  1       False  \n",
       "17469                  1       False  \n",
       "17470                  1       False  \n",
       "17471                  1       False  \n",
       "\n",
       "[17472 rows x 22 columns]"
      ]
     },
     "execution_count": 74,
     "metadata": {},
     "output_type": "execute_result"
    }
   ],
   "source": [
    "f"
   ]
  },
  {
   "cell_type": "markdown",
   "metadata": {},
   "source": [
    "Read the code below. What does it do?"
   ]
  },
  {
   "cell_type": "code",
   "execution_count": 75,
   "metadata": {},
   "outputs": [],
   "source": [
    "\n",
    "\n",
    "f['datetime']=pd.to_datetime(f['datetime'], format=\"%Y-%m-%d %H:%M:%S\")\n",
    "f=f.set_index('datetime')\n",
    "f['date']=np.array([d.date() for d in f.index])\n",
    "\n",
    "grouped=list(set(f['date']))  #transforms f['date'], a series of days WITH repetitions, into a set. Then we convert it back to\n",
    "# a list WITHOUT repititions. To understand this, just check the original value of f['date'], and the output set(f['date'])\n",
    "\n",
    "days={}\n",
    "for g in grouped:\n",
    "    day_ts=np.array(f[f.date==g]['pickups1'])\n",
    "    days[g]=day_ts\n",
    "\n",
    "d=pd.DataFrame(days)\n",
    "dt=d.transpose()"
   ]
  },
  {
   "cell_type": "code",
   "execution_count": 82,
   "metadata": {},
   "outputs": [
    {
     "data": {
      "text/html": [
       "<div>\n",
       "<style scoped>\n",
       "    .dataframe tbody tr th:only-of-type {\n",
       "        vertical-align: middle;\n",
       "    }\n",
       "\n",
       "    .dataframe tbody tr th {\n",
       "        vertical-align: top;\n",
       "    }\n",
       "\n",
       "    .dataframe thead th {\n",
       "        text-align: right;\n",
       "    }\n",
       "</style>\n",
       "<table border=\"1\" class=\"dataframe\">\n",
       "  <thead>\n",
       "    <tr style=\"text-align: right;\">\n",
       "      <th></th>\n",
       "      <th>0</th>\n",
       "      <th>1</th>\n",
       "      <th>2</th>\n",
       "      <th>3</th>\n",
       "      <th>4</th>\n",
       "      <th>5</th>\n",
       "      <th>6</th>\n",
       "      <th>7</th>\n",
       "      <th>8</th>\n",
       "      <th>9</th>\n",
       "      <th>...</th>\n",
       "      <th>86</th>\n",
       "      <th>87</th>\n",
       "      <th>88</th>\n",
       "      <th>89</th>\n",
       "      <th>90</th>\n",
       "      <th>91</th>\n",
       "      <th>92</th>\n",
       "      <th>93</th>\n",
       "      <th>94</th>\n",
       "      <th>95</th>\n",
       "    </tr>\n",
       "  </thead>\n",
       "  <tbody>\n",
       "    <tr>\n",
       "      <th>2016-01-23</th>\n",
       "      <td>229</td>\n",
       "      <td>199</td>\n",
       "      <td>175</td>\n",
       "      <td>153</td>\n",
       "      <td>146</td>\n",
       "      <td>127</td>\n",
       "      <td>113</td>\n",
       "      <td>102</td>\n",
       "      <td>108</td>\n",
       "      <td>94</td>\n",
       "      <td>...</td>\n",
       "      <td>0</td>\n",
       "      <td>0</td>\n",
       "      <td>0</td>\n",
       "      <td>1</td>\n",
       "      <td>1</td>\n",
       "      <td>0</td>\n",
       "      <td>0</td>\n",
       "      <td>0</td>\n",
       "      <td>0</td>\n",
       "      <td>0</td>\n",
       "    </tr>\n",
       "    <tr>\n",
       "      <th>2016-04-29</th>\n",
       "      <td>180</td>\n",
       "      <td>149</td>\n",
       "      <td>142</td>\n",
       "      <td>122</td>\n",
       "      <td>97</td>\n",
       "      <td>78</td>\n",
       "      <td>88</td>\n",
       "      <td>85</td>\n",
       "      <td>72</td>\n",
       "      <td>74</td>\n",
       "      <td>...</td>\n",
       "      <td>297</td>\n",
       "      <td>321</td>\n",
       "      <td>333</td>\n",
       "      <td>310</td>\n",
       "      <td>316</td>\n",
       "      <td>301</td>\n",
       "      <td>292</td>\n",
       "      <td>267</td>\n",
       "      <td>282</td>\n",
       "      <td>268</td>\n",
       "    </tr>\n",
       "    <tr>\n",
       "      <th>2016-02-25</th>\n",
       "      <td>125</td>\n",
       "      <td>134</td>\n",
       "      <td>115</td>\n",
       "      <td>102</td>\n",
       "      <td>85</td>\n",
       "      <td>66</td>\n",
       "      <td>62</td>\n",
       "      <td>45</td>\n",
       "      <td>42</td>\n",
       "      <td>48</td>\n",
       "      <td>...</td>\n",
       "      <td>323</td>\n",
       "      <td>312</td>\n",
       "      <td>357</td>\n",
       "      <td>341</td>\n",
       "      <td>379</td>\n",
       "      <td>301</td>\n",
       "      <td>287</td>\n",
       "      <td>283</td>\n",
       "      <td>228</td>\n",
       "      <td>188</td>\n",
       "    </tr>\n",
       "    <tr>\n",
       "      <th>2016-05-17</th>\n",
       "      <td>112</td>\n",
       "      <td>97</td>\n",
       "      <td>74</td>\n",
       "      <td>64</td>\n",
       "      <td>63</td>\n",
       "      <td>64</td>\n",
       "      <td>42</td>\n",
       "      <td>41</td>\n",
       "      <td>27</td>\n",
       "      <td>23</td>\n",
       "      <td>...</td>\n",
       "      <td>380</td>\n",
       "      <td>357</td>\n",
       "      <td>378</td>\n",
       "      <td>369</td>\n",
       "      <td>304</td>\n",
       "      <td>299</td>\n",
       "      <td>306</td>\n",
       "      <td>251</td>\n",
       "      <td>207</td>\n",
       "      <td>194</td>\n",
       "    </tr>\n",
       "    <tr>\n",
       "      <th>2016-06-11</th>\n",
       "      <td>295</td>\n",
       "      <td>292</td>\n",
       "      <td>243</td>\n",
       "      <td>209</td>\n",
       "      <td>197</td>\n",
       "      <td>197</td>\n",
       "      <td>160</td>\n",
       "      <td>154</td>\n",
       "      <td>129</td>\n",
       "      <td>107</td>\n",
       "      <td>...</td>\n",
       "      <td>264</td>\n",
       "      <td>255</td>\n",
       "      <td>241</td>\n",
       "      <td>216</td>\n",
       "      <td>232</td>\n",
       "      <td>257</td>\n",
       "      <td>247</td>\n",
       "      <td>223</td>\n",
       "      <td>252</td>\n",
       "      <td>247</td>\n",
       "    </tr>\n",
       "    <tr>\n",
       "      <th>...</th>\n",
       "      <td>...</td>\n",
       "      <td>...</td>\n",
       "      <td>...</td>\n",
       "      <td>...</td>\n",
       "      <td>...</td>\n",
       "      <td>...</td>\n",
       "      <td>...</td>\n",
       "      <td>...</td>\n",
       "      <td>...</td>\n",
       "      <td>...</td>\n",
       "      <td>...</td>\n",
       "      <td>...</td>\n",
       "      <td>...</td>\n",
       "      <td>...</td>\n",
       "      <td>...</td>\n",
       "      <td>...</td>\n",
       "      <td>...</td>\n",
       "      <td>...</td>\n",
       "      <td>...</td>\n",
       "      <td>...</td>\n",
       "      <td>...</td>\n",
       "    </tr>\n",
       "    <tr>\n",
       "      <th>2016-05-13</th>\n",
       "      <td>222</td>\n",
       "      <td>194</td>\n",
       "      <td>192</td>\n",
       "      <td>144</td>\n",
       "      <td>136</td>\n",
       "      <td>112</td>\n",
       "      <td>110</td>\n",
       "      <td>74</td>\n",
       "      <td>73</td>\n",
       "      <td>68</td>\n",
       "      <td>...</td>\n",
       "      <td>277</td>\n",
       "      <td>295</td>\n",
       "      <td>277</td>\n",
       "      <td>292</td>\n",
       "      <td>285</td>\n",
       "      <td>268</td>\n",
       "      <td>277</td>\n",
       "      <td>307</td>\n",
       "      <td>285</td>\n",
       "      <td>299</td>\n",
       "    </tr>\n",
       "    <tr>\n",
       "      <th>2016-04-10</th>\n",
       "      <td>306</td>\n",
       "      <td>344</td>\n",
       "      <td>274</td>\n",
       "      <td>257</td>\n",
       "      <td>250</td>\n",
       "      <td>226</td>\n",
       "      <td>205</td>\n",
       "      <td>187</td>\n",
       "      <td>168</td>\n",
       "      <td>169</td>\n",
       "      <td>...</td>\n",
       "      <td>141</td>\n",
       "      <td>147</td>\n",
       "      <td>138</td>\n",
       "      <td>111</td>\n",
       "      <td>120</td>\n",
       "      <td>115</td>\n",
       "      <td>105</td>\n",
       "      <td>87</td>\n",
       "      <td>87</td>\n",
       "      <td>95</td>\n",
       "    </tr>\n",
       "    <tr>\n",
       "      <th>2016-06-20</th>\n",
       "      <td>63</td>\n",
       "      <td>41</td>\n",
       "      <td>57</td>\n",
       "      <td>41</td>\n",
       "      <td>36</td>\n",
       "      <td>25</td>\n",
       "      <td>35</td>\n",
       "      <td>25</td>\n",
       "      <td>23</td>\n",
       "      <td>21</td>\n",
       "      <td>...</td>\n",
       "      <td>287</td>\n",
       "      <td>228</td>\n",
       "      <td>279</td>\n",
       "      <td>274</td>\n",
       "      <td>220</td>\n",
       "      <td>189</td>\n",
       "      <td>152</td>\n",
       "      <td>155</td>\n",
       "      <td>131</td>\n",
       "      <td>136</td>\n",
       "    </tr>\n",
       "    <tr>\n",
       "      <th>2016-02-21</th>\n",
       "      <td>296</td>\n",
       "      <td>298</td>\n",
       "      <td>281</td>\n",
       "      <td>283</td>\n",
       "      <td>293</td>\n",
       "      <td>244</td>\n",
       "      <td>209</td>\n",
       "      <td>180</td>\n",
       "      <td>187</td>\n",
       "      <td>159</td>\n",
       "      <td>...</td>\n",
       "      <td>126</td>\n",
       "      <td>122</td>\n",
       "      <td>115</td>\n",
       "      <td>86</td>\n",
       "      <td>125</td>\n",
       "      <td>96</td>\n",
       "      <td>94</td>\n",
       "      <td>75</td>\n",
       "      <td>70</td>\n",
       "      <td>58</td>\n",
       "    </tr>\n",
       "    <tr>\n",
       "      <th>2016-01-16</th>\n",
       "      <td>193</td>\n",
       "      <td>230</td>\n",
       "      <td>205</td>\n",
       "      <td>201</td>\n",
       "      <td>211</td>\n",
       "      <td>190</td>\n",
       "      <td>172</td>\n",
       "      <td>148</td>\n",
       "      <td>149</td>\n",
       "      <td>141</td>\n",
       "      <td>...</td>\n",
       "      <td>212</td>\n",
       "      <td>235</td>\n",
       "      <td>232</td>\n",
       "      <td>206</td>\n",
       "      <td>228</td>\n",
       "      <td>218</td>\n",
       "      <td>228</td>\n",
       "      <td>233</td>\n",
       "      <td>243</td>\n",
       "      <td>254</td>\n",
       "    </tr>\n",
       "  </tbody>\n",
       "</table>\n",
       "<p>182 rows × 96 columns</p>\n",
       "</div>"
      ],
      "text/plain": [
       "             0    1    2    3    4    5    6    7    8    9   ...   86   87  \\\n",
       "2016-01-23  229  199  175  153  146  127  113  102  108   94  ...    0    0   \n",
       "2016-04-29  180  149  142  122   97   78   88   85   72   74  ...  297  321   \n",
       "2016-02-25  125  134  115  102   85   66   62   45   42   48  ...  323  312   \n",
       "2016-05-17  112   97   74   64   63   64   42   41   27   23  ...  380  357   \n",
       "2016-06-11  295  292  243  209  197  197  160  154  129  107  ...  264  255   \n",
       "...         ...  ...  ...  ...  ...  ...  ...  ...  ...  ...  ...  ...  ...   \n",
       "2016-05-13  222  194  192  144  136  112  110   74   73   68  ...  277  295   \n",
       "2016-04-10  306  344  274  257  250  226  205  187  168  169  ...  141  147   \n",
       "2016-06-20   63   41   57   41   36   25   35   25   23   21  ...  287  228   \n",
       "2016-02-21  296  298  281  283  293  244  209  180  187  159  ...  126  122   \n",
       "2016-01-16  193  230  205  201  211  190  172  148  149  141  ...  212  235   \n",
       "\n",
       "             88   89   90   91   92   93   94   95  \n",
       "2016-01-23    0    1    1    0    0    0    0    0  \n",
       "2016-04-29  333  310  316  301  292  267  282  268  \n",
       "2016-02-25  357  341  379  301  287  283  228  188  \n",
       "2016-05-17  378  369  304  299  306  251  207  194  \n",
       "2016-06-11  241  216  232  257  247  223  252  247  \n",
       "...         ...  ...  ...  ...  ...  ...  ...  ...  \n",
       "2016-05-13  277  292  285  268  277  307  285  299  \n",
       "2016-04-10  138  111  120  115  105   87   87   95  \n",
       "2016-06-20  279  274  220  189  152  155  131  136  \n",
       "2016-02-21  115   86  125   96   94   75   70   58  \n",
       "2016-01-16  232  206  228  218  228  233  243  254  \n",
       "\n",
       "[182 rows x 96 columns]"
      ]
     },
     "execution_count": 82,
     "metadata": {},
     "output_type": "execute_result"
    }
   ],
   "source": [
    "dt"
   ]
  },
  {
   "cell_type": "markdown",
   "metadata": {},
   "source": [
    "After you are sure you understand what dt contains, check its covariance matrix.\n"
   ]
  },
  {
   "cell_type": "code",
   "execution_count": 6,
   "metadata": {},
   "outputs": [
    {
     "data": {
      "text/plain": [
       "array([[6330.9467549 , 5976.90401311, 5754.72308907, ..., 1074.15305689,\n",
       "        1481.83036853, 1921.9690972 ],\n",
       "       [5976.90401311, 6117.94344606, 5746.4491227 , ...,  867.23222634,\n",
       "        1342.16556372, 1760.21859632],\n",
       "       [5754.72308907, 5746.4491227 , 5875.89985429, ...,  513.27126465,\n",
       "         964.90553093, 1382.19170056],\n",
       "       ...,\n",
       "       [1074.15305689,  867.23222634,  513.27126465, ..., 6425.13192884,\n",
       "        5788.43713193, 5724.39645437],\n",
       "       [1481.83036853, 1342.16556372,  964.90553093, ..., 5788.43713193,\n",
       "        5899.31977415, 5733.22233016],\n",
       "       [1921.9690972 , 1760.21859632, 1382.19170056, ..., 5724.39645437,\n",
       "        5733.22233016, 6177.77357173]])"
      ]
     },
     "execution_count": 6,
     "metadata": {},
     "output_type": "execute_result"
    }
   ],
   "source": [
    "np.cov(dt.T) #you could have done dt.cov(), or even np.cov(dt, rowvar=False) which are equivalent..."
   ]
  },
  {
   "cell_type": "markdown",
   "metadata": {},
   "source": [
    "What does the covariance value mean (e.g. between two variables)? If we get a high covariance, does it mean the variables are somehow related, or is it the opposite?\n",
    "\n",
    "To test it, create pairs of numpy vectors, and determine their covariance. "
   ]
  },
  {
   "cell_type": "code",
   "execution_count": 83,
   "metadata": {},
   "outputs": [],
   "source": [
    "v1=np.array([1,2,3,4,5,6])\n",
    "v2=np.array([1,2,3,4,5,6])\n",
    "v3=np.array([9,8,7,6,5,4])\n",
    "v4=np.array([4,2,6,3,.7,8])"
   ]
  },
  {
   "cell_type": "code",
   "execution_count": 8,
   "metadata": {},
   "outputs": [
    {
     "data": {
      "text/plain": [
       "array([[3.5  , 1.31 ],\n",
       "       [1.31 , 7.175]])"
      ]
     },
     "execution_count": 8,
     "metadata": {},
     "output_type": "execute_result"
    }
   ],
   "source": [
    "np.cov(v1, v4)"
   ]
  },
  {
   "cell_type": "markdown",
   "metadata": {},
   "source": [
    "What about the trace of the covariance matrix. Can you calculate it?"
   ]
  },
  {
   "cell_type": "code",
   "execution_count": 84,
   "metadata": {},
   "outputs": [
    {
     "data": {
      "text/plain": [
       "19429"
      ]
     },
     "execution_count": 84,
     "metadata": {},
     "output_type": "execute_result"
    }
   ],
   "source": [
    "np.trace(dt)"
   ]
  },
  {
   "cell_type": "markdown",
   "metadata": {},
   "source": [
    "###Although the trace of the covariance matrix, tr(C), gives you a measure of the total variance, it does not take into account the correlation between variables."
   ]
  },
  {
   "cell_type": "markdown",
   "metadata": {},
   "source": [
    "What is the meaning of the trace of the covariance matrix of a dataset?"
   ]
  },
  {
   "cell_type": "markdown",
   "metadata": {},
   "source": [
    "__R: It corresponds to the total variance in the data__"
   ]
  },
  {
   "cell_type": "markdown",
   "metadata": {},
   "source": [
    "What is the relationship between covariance and correlation? Do you want to calculate the covariance and correlation for dt and the vectors you invented above?"
   ]
  },
  {
   "cell_type": "code",
   "execution_count": 10,
   "metadata": {},
   "outputs": [
    {
     "data": {
      "text/plain": [
       "array([[1.        , 0.26141248],\n",
       "       [0.26141248, 1.        ]])"
      ]
     },
     "execution_count": 10,
     "metadata": {},
     "output_type": "execute_result"
    }
   ],
   "source": [
    "np.corrcoef(v1, v4)"
   ]
  },
  {
   "cell_type": "markdown",
   "metadata": {},
   "source": [
    "## Part 2 - Eigendecomposition"
   ]
  },
  {
   "cell_type": "markdown",
   "metadata": {},
   "source": [
    "You can extract the eigenvalues and eigenvectors of a matrix using the function\n",
    "> np.linalg.eig(...)\n",
    "\n",
    "Check how to use it and apply it to our dataset (follow the slides)?"
   ]
  },
  {
   "cell_type": "code",
   "execution_count": 11,
   "metadata": {},
   "outputs": [],
   "source": [
    "eigenValues, eigenVectors = np.linalg.eig(dt.cov())"
   ]
  },
  {
   "cell_type": "markdown",
   "metadata": {},
   "source": [
    "The slides say that \"As the eigenvectors are orthogonal to each other, the principal components will be uncorrelated.\" Can you confirm that on the data?\n"
   ]
  },
  {
   "cell_type": "code",
   "execution_count": 85,
   "metadata": {},
   "outputs": [
    {
     "data": {
      "text/plain": [
       "-1.5333567748854193e-13"
      ]
     },
     "execution_count": 85,
     "metadata": {},
     "output_type": "execute_result"
    }
   ],
   "source": [
    "np.dot(eigenVectors[0].T, eigenVectors[1])"
   ]
  },
  {
   "cell_type": "markdown",
   "metadata": {},
   "source": [
    "We also say that we \"constrain |u1| such that $u_1^Tu_1=1$\"\n",
    "\n",
    "Can you confirm this on the data (notice that u1 is simply the first eigenvector)"
   ]
  },
  {
   "cell_type": "code",
   "execution_count": 86,
   "metadata": {},
   "outputs": [
    {
     "data": {
      "text/plain": [
       "0.9999999999999409"
      ]
     },
     "execution_count": 86,
     "metadata": {},
     "output_type": "execute_result"
    }
   ],
   "source": [
    "np.linalg.norm(eigenVectors[0])"
   ]
  },
  {
   "cell_type": "markdown",
   "metadata": {},
   "source": [
    "## Part 3 - PCA class in sklearn"
   ]
  },
  {
   "cell_type": "markdown",
   "metadata": {},
   "source": [
    "As always happens in sklearn, and a lot of python packages, there are classes/objects available that perform very complex tasks. In this case, the PCA class helps you do practically everything you need in terms of Principal Components Analsysis. Let's get it running..."
   ]
  },
  {
   "cell_type": "code",
   "execution_count": 87,
   "metadata": {},
   "outputs": [],
   "source": [
    "from sklearn import decomposition"
   ]
  },
  {
   "cell_type": "code",
   "execution_count": 88,
   "metadata": {},
   "outputs": [],
   "source": [
    "pca=decomposition.PCA()"
   ]
  },
  {
   "cell_type": "markdown",
   "metadata": {},
   "source": [
    "As with the other models in sklearn, you estimate it with the fit function"
   ]
  },
  {
   "cell_type": "code",
   "execution_count": 89,
   "metadata": {},
   "outputs": [
    {
     "data": {
      "text/plain": [
       "PCA()"
      ]
     },
     "execution_count": 89,
     "metadata": {},
     "output_type": "execute_result"
    }
   ],
   "source": [
    "pca.fit(dt)"
   ]
  },
  {
   "cell_type": "markdown",
   "metadata": {},
   "source": [
    "Notice that you're supposed to tell how many components it estimates with the parameter \"n_components\". If you don't say anything, it estimates all of them (**and how many is this?**). "
   ]
  },
  {
   "cell_type": "markdown",
   "metadata": {},
   "source": [
    "A very useful functionality of the PCA object is that it provides the explained variance ratio, by each eigenvector, in decreasing order"
   ]
  },
  {
   "cell_type": "code",
   "execution_count": 90,
   "metadata": {},
   "outputs": [
    {
     "data": {
      "text/plain": [
       "array([5.98644549e-01, 2.22098972e-01, 4.27495095e-02, 3.57151677e-02,\n",
       "       1.48385467e-02, 8.60428948e-03, 6.14926807e-03, 4.82005194e-03,\n",
       "       3.84586348e-03, 3.50204319e-03, 2.78437513e-03, 2.45456126e-03,\n",
       "       2.38328391e-03, 2.24063228e-03, 1.99068103e-03, 1.87778851e-03,\n",
       "       1.74893417e-03, 1.67169009e-03, 1.58668842e-03, 1.52070954e-03,\n",
       "       1.44238840e-03, 1.41652014e-03, 1.37723973e-03, 1.31893399e-03,\n",
       "       1.28486641e-03, 1.24463155e-03, 1.20649656e-03, 1.18759206e-03,\n",
       "       1.11743134e-03, 1.07488753e-03, 1.04885617e-03, 1.04315905e-03,\n",
       "       9.84864531e-04, 9.38833581e-04, 9.05785543e-04, 8.65281714e-04,\n",
       "       8.57069695e-04, 8.17746346e-04, 8.13358983e-04, 7.79968703e-04,\n",
       "       7.65578744e-04, 7.34164146e-04, 6.86584478e-04, 6.77837501e-04,\n",
       "       6.62614231e-04, 6.21292590e-04, 6.12495108e-04, 6.03331465e-04,\n",
       "       5.93550677e-04, 5.74493407e-04, 5.58223757e-04, 5.16730296e-04,\n",
       "       4.92362046e-04, 4.73803261e-04, 4.58663055e-04, 4.42850948e-04,\n",
       "       4.35635103e-04, 4.11037956e-04, 3.98189961e-04, 3.82398929e-04,\n",
       "       3.56611330e-04, 3.45907059e-04, 3.27020961e-04, 3.10738896e-04,\n",
       "       2.95934291e-04, 2.88096409e-04, 2.77650646e-04, 2.75708315e-04,\n",
       "       2.74984321e-04, 2.49978009e-04, 2.44019907e-04, 2.23650641e-04,\n",
       "       2.12616670e-04, 1.91607441e-04, 1.81444970e-04, 1.68677457e-04,\n",
       "       1.62255984e-04, 1.47103238e-04, 1.37163224e-04, 1.32892662e-04,\n",
       "       1.28705939e-04, 1.18869132e-04, 1.12235614e-04, 9.83764213e-05,\n",
       "       9.45501880e-05, 8.14681460e-05, 7.93366530e-05, 7.19272699e-05,\n",
       "       6.09699518e-05, 5.65787889e-05, 5.18865349e-05, 4.79524547e-05,\n",
       "       4.37477219e-05, 3.69746840e-05, 2.99328123e-05, 2.70706702e-05])"
      ]
     },
     "execution_count": 90,
     "metadata": {},
     "output_type": "execute_result"
    }
   ],
   "source": [
    "pca.explained_variance_ratio_"
   ]
  },
  {
   "cell_type": "markdown",
   "metadata": {},
   "source": [
    "The typical question is _how many vectors do I need to use, to cover X% of the variance?_"
   ]
  },
  {
   "cell_type": "markdown",
   "metadata": {},
   "source": [
    "...and the typical answer is by creating a cumulative graph (similar to a cumulative distribution function, or CDF). Can you plot one?"
   ]
  },
  {
   "cell_type": "code",
   "execution_count": 91,
   "metadata": {},
   "outputs": [
    {
     "data": {
      "image/png": "[encoded data removed]",
      "text/plain": [
       "<Figure size 432x288 with 1 Axes>"
      ]
     },
     "metadata": {
      "needs_background": "light"
     },
     "output_type": "display_data"
    }
   ],
   "source": [
    "expl=pca.explained_variance_ratio_\n",
    "cdf=[sum(expl[:i+1]) for i in range(len(expl))]\n",
    "plt.plot(range(len(expl)), cdf);\n"
   ]
  },
  {
   "cell_type": "code",
   "execution_count": 96,
   "metadata": {},
   "outputs": [
    {
     "name": "stdout",
     "output_type": "stream",
     "text": [
      "13 0.9508311131408924\n"
     ]
    }
   ],
   "source": [
    "# Can you reduce that number using PCA? How many variables (dimensions) will we need to keep 95% of the dimensionality?\n",
    "\n",
    "i = 0\n",
    "threshold = 0.95\n",
    "while cdf[i] < threshold:\n",
    "    i += 1\n",
    "print(i, cdf[i])"
   ]
  },
  {
   "cell_type": "markdown",
   "metadata": {},
   "source": [
    "Another typical thing to do is to plot the eigenvectors themselves. \n",
    "\n",
    "The field components_ in the PCA object provides the eigenvectors:\n",
    "\n"
   ]
  },
  {
   "cell_type": "code",
   "execution_count": 97,
   "metadata": {},
   "outputs": [
    {
     "data": {
      "text/plain": [
       "array([[ 0.09060596,  0.09523997,  0.10180615, ..., -0.11517392,\n",
       "        -0.09379586, -0.08181419],\n",
       "       [-0.21757189, -0.21650594, -0.20529452, ..., -0.18261751,\n",
       "        -0.18837964, -0.20061803],\n",
       "       [ 0.17963923,  0.15684686,  0.13723983, ...,  0.22654331,\n",
       "         0.21618476,  0.23152708],\n",
       "       ...,\n",
       "       [ 0.03728535,  0.00558026, -0.01202   , ...,  0.03817095,\n",
       "        -0.06210976, -0.00283398],\n",
       "       [-0.01283103,  0.05772351,  0.02526685, ...,  0.01994406,\n",
       "         0.01358793, -0.00463572],\n",
       "       [-0.07195712,  0.05097444, -0.06526331, ..., -0.04506492,\n",
       "         0.03414787,  0.02917291]])"
      ]
     },
     "execution_count": 97,
     "metadata": {},
     "output_type": "execute_result"
    }
   ],
   "source": [
    "pca.components_"
   ]
  },
  {
   "cell_type": "markdown",
   "metadata": {},
   "source": [
    "Do you want to try plotting them?"
   ]
  },
  {
   "cell_type": "code",
   "execution_count": 93,
   "metadata": {},
   "outputs": [
    {
     "data": {
      "image/png": "[encoded data removed]",
      "text/plain": [
       "<Figure size 432x288 with 1 Axes>"
      ]
     },
     "metadata": {
      "needs_background": "light"
     },
     "output_type": "display_data"
    }
   ],
   "source": [
    "for eigenvector in pca.components_:\n",
    "    plt.plot(range(len(eigenvector)), eigenvector)"
   ]
  },
  {
   "cell_type": "markdown",
   "metadata": {},
   "source": [
    "How many vectors do you need, in order to explain 80% of the variance?"
   ]
  },
  {
   "cell_type": "markdown",
   "metadata": {},
   "source": [
    "Can you plot them?"
   ]
  },
  {
   "cell_type": "code",
   "execution_count": 98,
   "metadata": {},
   "outputs": [
    {
     "data": {
      "image/png": "[encoded data removed]",
      "text/plain": [
       "<Figure size 432x288 with 1 Axes>"
      ]
     },
     "metadata": {
      "needs_background": "light"
     },
     "output_type": "display_data"
    }
   ],
   "source": [
    "for eigenvector in pca.components_[:2]:\n",
    "    plt.plot(range(len(eigenvector)), eigenvector)"
   ]
  },
  {
   "cell_type": "markdown",
   "metadata": {},
   "source": [
    "VERY interesting result, isn't it? What's your interpretation?"
   ]
  },
  {
   "cell_type": "markdown",
   "metadata": {},
   "source": [
    "## Part 4 - Correlation vs Covariance in PCA"
   ]
  },
  {
   "cell_type": "markdown",
   "metadata": {},
   "source": [
    "PCA leads to different results, depending on whether it applies eigendecomposition to the correlation or the covariance matrix."
   ]
  },
  {
   "cell_type": "markdown",
   "metadata": {},
   "source": [
    "Above, we used covariance (default), let's now use correlation"
   ]
  },
  {
   "cell_type": "code",
   "execution_count": 99,
   "metadata": {},
   "outputs": [],
   "source": [
    "pca=decomposition.PCA()"
   ]
  },
  {
   "cell_type": "markdown",
   "metadata": {},
   "source": [
    "In practice, you just need to _standardize_ the data. In other words, each column should be removed its mean and divided by its standard deviation. Can you do it?"
   ]
  },
  {
   "cell_type": "code",
   "execution_count": 100,
   "metadata": {},
   "outputs": [],
   "source": [
    "dt_stand = (dt - dt.mean()) / dt.std()"
   ]
  },
  {
   "cell_type": "markdown",
   "metadata": {},
   "source": [
    "Let's estimate the pca model"
   ]
  },
  {
   "cell_type": "code",
   "execution_count": 101,
   "metadata": {},
   "outputs": [
    {
     "data": {
      "text/plain": [
       "PCA()"
      ]
     },
     "execution_count": 101,
     "metadata": {},
     "output_type": "execute_result"
    }
   ],
   "source": [
    "pca.fit(dt_stand)"
   ]
  },
  {
   "cell_type": "markdown",
   "metadata": {},
   "source": [
    "Let's plot the cdf"
   ]
  },
  {
   "cell_type": "code",
   "execution_count": 102,
   "metadata": {},
   "outputs": [
    {
     "data": {
      "text/plain": [
       "[0.43816216418949633,\n",
       " 0.7488767528764213,\n",
       " 0.8075951693648237,\n",
       " 0.8382999600079527,\n",
       " 0.8655156492455517,\n",
       " 0.8807089585498994,\n",
       " 0.8897203143740058,\n",
       " 0.8959421773419395,\n",
       " 0.901208983758404,\n",
       " 0.9062907035999809,\n",
       " 0.9110189727673311,\n",
       " 0.9152377267992076,\n",
       " 0.9191233445801179,\n",
       " 0.9229007489161243,\n",
       " 0.9264723167922014]"
      ]
     },
     "execution_count": 102,
     "metadata": {},
     "output_type": "execute_result"
    },
    {
     "data": {
      "image/png": "[encoded data removed]",
      "text/plain": [
       "<Figure size 432x288 with 1 Axes>"
      ]
     },
     "metadata": {
      "needs_background": "light"
     },
     "output_type": "display_data"
    }
   ],
   "source": [
    "expl=pca.explained_variance_ratio_\n",
    "cdf=[sum(expl[:i+1]) for i in range(len(expl))]\n",
    "plt.plot(range(len(expl)), cdf);\n",
    "cdf[:15]\n"
   ]
  },
  {
   "cell_type": "markdown",
   "metadata": {},
   "source": [
    "Look into the explained variance values. Compare them with the above version."
   ]
  },
  {
   "cell_type": "markdown",
   "metadata": {},
   "source": [
    "Plot the first two eigenvectors. Compare with above"
   ]
  },
  {
   "cell_type": "code",
   "execution_count": 103,
   "metadata": {},
   "outputs": [
    {
     "data": {
      "image/png": "[encoded data removed]",
      "text/plain": [
       "<Figure size 432x288 with 1 Axes>"
      ]
     },
     "metadata": {
      "needs_background": "light"
     },
     "output_type": "display_data"
    }
   ],
   "source": [
    "for eigenvector in pca.components_[:2]:\n",
    "    plt.plot(range(len(eigenvector)), eigenvector)"
   ]
  },
  {
   "cell_type": "markdown",
   "metadata": {},
   "source": [
    "## Part 5 - PCA in clustering"
   ]
  },
  {
   "cell_type": "markdown",
   "metadata": {},
   "source": [
    "Ok, you learned about a technique that represents the data in a different way. How can this help you?..."
   ]
  },
  {
   "cell_type": "markdown",
   "metadata": {},
   "source": [
    "One easy thing you can now do right away is to visualize the first 2 or 3 eigen vectors. With 2, you only need a 2D plot, so let's do it!"
   ]
  },
  {
   "cell_type": "markdown",
   "metadata": {},
   "source": [
    "Estimate a new pca model, using the dt dataset above, with ONLY 2 components\n"
   ]
  },
  {
   "cell_type": "code",
   "execution_count": 107,
   "metadata": {},
   "outputs": [
    {
     "data": {
      "text/plain": [
       "PCA(n_components=2)"
      ]
     },
     "execution_count": 107,
     "metadata": {},
     "output_type": "execute_result"
    }
   ],
   "source": [
    "pca_new=decomposition.PCA(n_components=2)\n",
    "pca_new.fit(dt)"
   ]
  },
  {
   "cell_type": "markdown",
   "metadata": {},
   "source": [
    "Now, the true reason for all of this! For each data point, let's re-represent it with ONLY 2 dimensions... \n"
   ]
  },
  {
   "cell_type": "code",
   "execution_count": 108,
   "metadata": {},
   "outputs": [],
   "source": [
    "X_reduced=pca_new.transform(dt)"
   ]
  },
  {
   "cell_type": "markdown",
   "metadata": {},
   "source": [
    "Confirm that each data point only has 2 dimensions. Notice that we passed from 96 to 2!"
   ]
  },
  {
   "cell_type": "code",
   "execution_count": 109,
   "metadata": {},
   "outputs": [
    {
     "data": {
      "text/plain": [
       "(182, 2)"
      ]
     },
     "execution_count": 109,
     "metadata": {},
     "output_type": "execute_result"
    }
   ],
   "source": [
    "X_reduced.shape"
   ]
  },
  {
   "cell_type": "code",
   "execution_count": 110,
   "metadata": {},
   "outputs": [
    {
     "data": {
      "text/plain": [
       "2"
      ]
     },
     "execution_count": 110,
     "metadata": {},
     "output_type": "execute_result"
    }
   ],
   "source": [
    "len(X_reduced[0])"
   ]
  },
  {
   "cell_type": "markdown",
   "metadata": {},
   "source": [
    "Cool, now let's plot this, where the x axis corresponds to the first dimension, and the y axis to the second one."
   ]
  },
  {
   "cell_type": "code",
   "execution_count": 111,
   "metadata": {},
   "outputs": [
    {
     "data": {
      "image/png": "[encoded data removed]",
      "text/plain": [
       "<Figure size 432x288 with 1 Axes>"
      ]
     },
     "metadata": {
      "needs_background": "light"
     },
     "output_type": "display_data"
    }
   ],
   "source": [
    "plt.scatter(X_reduced[:, 0], X_reduced[:,1]);"
   ]
  },
  {
   "cell_type": "markdown",
   "metadata": {},
   "source": [
    "WOW! There are clearly two clusters... think of the 2 eigenvectors we visualized above. What does this mean? Notice that each data point corresponds to the full pattern of one day of taxi data..."
   ]
  },
  {
   "cell_type": "markdown",
   "metadata": {},
   "source": [
    "-------"
   ]
  },
  {
   "cell_type": "markdown",
   "metadata": {},
   "source": [
    "When we visualize clearly data into clusters like above, we tipically ask ourselves, what's so special about each cluster.\n",
    "\n",
    "For example, would it be that there are \"weekend\" patterns, and \"weekday\" patterns? The best way to find out is to plot it. For example using colors (red for weekend, blue for weekday)"
   ]
  },
  {
   "cell_type": "markdown",
   "metadata": {},
   "source": [
    "In order to do that visualization, we need quite some data preparation. For example, we need to bring that info (\"is_weekend\") into the dataset..."
   ]
  },
  {
   "cell_type": "code",
   "execution_count": 121,
   "metadata": {},
   "outputs": [],
   "source": [
    "dt_reduced=pd.DataFrame(X_reduced)  #X_reduced is still a numpy array, let's create a Pandas DataFrame"
   ]
  },
  {
   "cell_type": "code",
   "execution_count": 120,
   "metadata": {},
   "outputs": [
    {
     "name": "stderr",
     "output_type": "stream",
     "text": [
      "<ipython-input-120-2b9e41e12586>:2: SettingWithCopyWarning: \n",
      "A value is trying to be set on a copy of a slice from a DataFrame.\n",
      "Try using .loc[row_indexer,col_indexer] = value instead\n",
      "\n",
      "See the caveats in the documentation: https://pandas.pydata.org/pandas-docs/stable/user_guide/indexing.html#returning-a-view-versus-a-copy\n",
      "  fnew['date']=dt.index   #bringing the original dates to the data frame\n"
     ]
    }
   ],
   "source": [
    "fnew=dt_reduced[:]  #Let's make a copy, just in case...\n",
    "fnew['date']=dt.index   #bringing the original dates to the data frame"
   ]
  },
  {
   "cell_type": "markdown",
   "metadata": {},
   "source": [
    "We need to add the other info (let's add weather data too, it will be useful later)"
   ]
  },
  {
   "cell_type": "code",
   "execution_count": 122,
   "metadata": {},
   "outputs": [],
   "source": [
    "f_merged=pd.merge(f[['temp', 'prcp', 'fog', 'rain_drizzle', 'is_weekend', 'date']], fnew,  on='date', how='inner').drop_duplicates()"
   ]
  },
  {
   "cell_type": "markdown",
   "metadata": {},
   "source": [
    "Let's index the lines with date"
   ]
  },
  {
   "cell_type": "code",
   "execution_count": 123,
   "metadata": {},
   "outputs": [],
   "source": [
    "f_merged=f_merged.set_index('date')"
   ]
  },
  {
   "cell_type": "markdown",
   "metadata": {},
   "source": [
    "Now, the scatter plot with colors. Take a look at this code. What does it do?"
   ]
  },
  {
   "cell_type": "code",
   "execution_count": 124,
   "metadata": {},
   "outputs": [],
   "source": [
    "def assign_color(x):\n",
    "    if x==True:\n",
    "        return 'red'\n",
    "    else:\n",
    "        return 'blue'\n",
    "colours=[assign_color(x) for x in f_merged['is_weekend']]"
   ]
  },
  {
   "cell_type": "code",
   "execution_count": 125,
   "metadata": {},
   "outputs": [
    {
     "data": {
      "image/png": "[encoded data removed]",
      "text/plain": [
       "<Figure size 432x288 with 1 Axes>"
      ]
     },
     "metadata": {
      "needs_background": "light"
     },
     "output_type": "display_data"
    }
   ],
   "source": [
    "plt.scatter(X_reduced[:, 0], X_reduced[:,1], c=colours, s=10);"
   ]
  },
  {
   "cell_type": "markdown",
   "metadata": {},
   "source": [
    "Hmm... our hypothesis is not that strong. The colors seem pretty mixed up. Do you want to try with other data?"
   ]
  },
  {
   "cell_type": "code",
   "execution_count": 126,
   "metadata": {},
   "outputs": [],
   "source": [
    "def assign_color(x):\n",
    "    if x==True:\n",
    "        return 'red'\n",
    "    else:\n",
    "        return 'blue'\n",
    "colours=[assign_color(x) for x in f_merged['rain_drizzle']]"
   ]
  },
  {
   "cell_type": "code",
   "execution_count": 127,
   "metadata": {},
   "outputs": [
    {
     "data": {
      "image/png": "[encoded data removed]",
      "text/plain": [
       "<Figure size 432x288 with 1 Axes>"
      ]
     },
     "metadata": {
      "needs_background": "light"
     },
     "output_type": "display_data"
    }
   ],
   "source": [
    "plt.scatter(X_reduced[:, 0], X_reduced[:,1], c=colours, s=10);"
   ]
  },
  {
   "cell_type": "markdown",
   "metadata": {},
   "source": [
    "--------------------"
   ]
  },
  {
   "cell_type": "markdown",
   "metadata": {},
   "source": [
    "The natural next step is to see if - not one variable alone - multiple variables can predict the cluster. If yes, then there is some strong correlation, and that would be helpful for prediction (e.g. using weather forecast to predict demand on the following day). \n"
   ]
  },
  {
   "cell_type": "markdown",
   "metadata": {},
   "source": [
    "So we want to build a classifier that receives, as input, the available information about a given day (weather, is_weekend...), and produces, as output, the class (in which of the 2 clusters that day belongs to)."
   ]
  },
  {
   "cell_type": "markdown",
   "metadata": {},
   "source": [
    "Let's start by creating the classes (i.e. the clusters)"
   ]
  },
  {
   "cell_type": "code",
   "execution_count": 128,
   "metadata": {},
   "outputs": [],
   "source": [
    "from sklearn.cluster import KMeans"
   ]
  },
  {
   "cell_type": "code",
   "execution_count": 129,
   "metadata": {},
   "outputs": [],
   "source": [
    "K=2\n",
    "k=KMeans(K)"
   ]
  },
  {
   "cell_type": "code",
   "execution_count": 130,
   "metadata": {},
   "outputs": [
    {
     "data": {
      "text/plain": [
       "KMeans(n_clusters=2)"
      ]
     },
     "execution_count": 130,
     "metadata": {},
     "output_type": "execute_result"
    }
   ],
   "source": [
    "k.fit(dt_reduced)"
   ]
  },
  {
   "cell_type": "markdown",
   "metadata": {},
   "source": [
    "Let's visualize it"
   ]
  },
  {
   "cell_type": "code",
   "execution_count": 131,
   "metadata": {},
   "outputs": [
    {
     "data": {
      "text/plain": [
       "<matplotlib.collections.PathCollection at 0x2054e42a6d0>"
      ]
     },
     "execution_count": 131,
     "metadata": {},
     "output_type": "execute_result"
    },
    {
     "data": {
      "image/png": "[encoded data removed]",
      "text/plain": [
       "<Figure size 432x288 with 1 Axes>"
      ]
     },
     "metadata": {
      "needs_background": "light"
     },
     "output_type": "display_data"
    }
   ],
   "source": [
    "plt.scatter(X_reduced[:, 0], X_reduced[:,1], c=colours, s=10)\n",
    "\n",
    "plt.scatter(k.cluster_centers_[:, 0], k.cluster_centers_[:, 1], s=200, c='black')"
   ]
  },
  {
   "cell_type": "markdown",
   "metadata": {},
   "source": [
    "So, let's create a new column (\"cluster\"), that has the \"class\""
   ]
  },
  {
   "cell_type": "code",
   "execution_count": 141,
   "metadata": {},
   "outputs": [],
   "source": [
    "dt_reduced['cluster']=k.fit_predict(dt_reduced)"
   ]
  },
  {
   "cell_type": "markdown",
   "metadata": {},
   "source": [
    "Again, we need to add weather and date information. Can you do it?"
   ]
  },
  {
   "cell_type": "code",
   "execution_count": 142,
   "metadata": {},
   "outputs": [],
   "source": [
    "fnew=dt_reduced[:]\n",
    "fnew=fnew.set_index(dt.index)\n",
    "fnew.index.names = ['date']\n",
    "fnew=fnew.reset_index()"
   ]
  },
  {
   "cell_type": "code",
   "execution_count": 143,
   "metadata": {},
   "outputs": [],
   "source": [
    "f_days=f.groupby('date').mean()\n",
    "f_days=f_days.reset_index()"
   ]
  },
  {
   "cell_type": "code",
   "execution_count": 145,
   "metadata": {},
   "outputs": [],
   "source": [
    "f_merged=pd.merge(f_days[['temp', 'prcp', 'fog', 'rain_drizzle', 'is_weekend', 'date']], fnew,  on='date', how='right')"
   ]
  },
  {
   "cell_type": "code",
   "execution_count": 146,
   "metadata": {},
   "outputs": [
    {
     "data": {
      "text/plain": [
       "182"
      ]
     },
     "execution_count": 146,
     "metadata": {},
     "output_type": "execute_result"
    }
   ],
   "source": [
    "len(f_merged)"
   ]
  },
  {
   "cell_type": "code",
   "execution_count": 147,
   "metadata": {},
   "outputs": [],
   "source": [
    "f_merged=f_merged.set_index('date')"
   ]
  },
  {
   "cell_type": "code",
   "execution_count": 148,
   "metadata": {},
   "outputs": [],
   "source": [
    "del f_merged[0]\n",
    "del f_merged[1]"
   ]
  },
  {
   "cell_type": "markdown",
   "metadata": {},
   "source": [
    "Now, you have everything to create your classifier. Just pick your favourite one and run it!"
   ]
  },
  {
   "cell_type": "code",
   "execution_count": 149,
   "metadata": {},
   "outputs": [],
   "source": [
    "from sklearn.linear_model import LogisticRegression\n",
    "from sklearn.metrics import confusion_matrix"
   ]
  },
  {
   "cell_type": "code",
   "execution_count": 150,
   "metadata": {},
   "outputs": [],
   "source": [
    "split=int(len(f_merged)*2/3)\n",
    "trainset=f_merged[:split]\n",
    "testset=f_merged[split:]"
   ]
  },
  {
   "cell_type": "code",
   "execution_count": 151,
   "metadata": {},
   "outputs": [],
   "source": [
    "x=trainset[['temp', 'prcp', 'fog', 'rain_drizzle', 'is_weekend']]\n",
    "y=trainset['cluster']\n",
    "x_new=testset[['temp', 'prcp', 'fog', 'rain_drizzle', 'is_weekend']]\n",
    "y_new=testset['cluster']\n"
   ]
  },
  {
   "cell_type": "code",
   "execution_count": 152,
   "metadata": {},
   "outputs": [],
   "source": [
    "lgr=LogisticRegression()"
   ]
  },
  {
   "cell_type": "code",
   "execution_count": 153,
   "metadata": {},
   "outputs": [
    {
     "data": {
      "text/plain": [
       "LogisticRegression()"
      ]
     },
     "execution_count": 153,
     "metadata": {},
     "output_type": "execute_result"
    }
   ],
   "source": [
    "lgr.fit(x,y)"
   ]
  },
  {
   "cell_type": "markdown",
   "metadata": {},
   "source": [
    "Don't forget to evaluate... check the \"score\" and the confusion matrix."
   ]
  },
  {
   "cell_type": "code",
   "execution_count": 154,
   "metadata": {},
   "outputs": [
    {
     "name": "stdout",
     "output_type": "stream",
     "text": [
      "0.9836065573770492\n"
     ]
    }
   ],
   "source": [
    "print(lgr.score(x_new,y_new))\n",
    "y_pred=lgr.predict(x_new)"
   ]
  },
  {
   "cell_type": "code",
   "execution_count": 155,
   "metadata": {},
   "outputs": [
    {
     "data": {
      "text/plain": [
       "array([[43,  1],\n",
       "       [ 0, 17]], dtype=int64)"
      ]
     },
     "execution_count": 155,
     "metadata": {},
     "output_type": "execute_result"
    }
   ],
   "source": [
    "confusion_matrix(y_pred, y_new)"
   ]
  },
  {
   "cell_type": "markdown",
   "metadata": {},
   "source": [
    "Fascinating, isn't it? There is STRONG correlation, then..."
   ]
  },
  {
   "cell_type": "code",
   "execution_count": null,
   "metadata": {},
   "outputs": [],
   "source": []
  },
  {
   "cell_type": "markdown",
   "metadata": {},
   "source": [
    "----------"
   ]
  },
  {
   "cell_type": "markdown",
   "metadata": {},
   "source": [
    "## Part 6 - Multidimensional scaling (MDS)"
   ]
  },
  {
   "cell_type": "markdown",
   "metadata": {},
   "source": [
    "Let's now try a different technique, multidimensional scaling, or MDS. It's in another part of sklearn:"
   ]
  },
  {
   "cell_type": "code",
   "execution_count": 67,
   "metadata": {},
   "outputs": [],
   "source": [
    "from sklearn.manifold import MDS"
   ]
  },
  {
   "cell_type": "markdown",
   "metadata": {},
   "source": [
    "As usual, let's create the object"
   ]
  },
  {
   "cell_type": "code",
   "execution_count": 68,
   "metadata": {},
   "outputs": [],
   "source": [
    "mds=MDS() #by default it maps to 2D (if you want another option, just use the parameter n_components)"
   ]
  },
  {
   "cell_type": "markdown",
   "metadata": {},
   "source": [
    "We will use the original data from above, already in the day time series format. So, the object dt. "
   ]
  },
  {
   "cell_type": "code",
   "execution_count": 69,
   "metadata": {},
   "outputs": [
    {
     "data": {
      "text/plain": [
       "MDS()"
      ]
     },
     "execution_count": 69,
     "metadata": {},
     "output_type": "execute_result"
    }
   ],
   "source": [
    "mds.fit(dt)"
   ]
  },
  {
   "cell_type": "markdown",
   "metadata": {},
   "source": [
    "In MDS, the new data is said to be \"embedded\" in a (normally) 2D space. The attribute that has the corresponding data is called embedding_.\n",
    "\n",
    "Try\n",
    "> mds.embedding_\n",
    "\n",
    "The output is a list of 2D datapoints. Can you visualize it?"
   ]
  },
  {
   "cell_type": "code",
   "execution_count": 70,
   "metadata": {},
   "outputs": [
    {
     "data": {
      "text/plain": [
       "array([[-1929.47920176,  -720.57798618],\n",
       "       [  241.73052429,    99.17551372],\n",
       "       [  233.93510566,   326.8473469 ],\n",
       "       [  207.30161097,   472.02249025],\n",
       "       [  107.08258536,  -498.10944551],\n",
       "       [ -179.98579851,   328.84283105],\n",
       "       [  385.6394742 ,   184.09686227],\n",
       "       [  309.79755195,   130.60806233],\n",
       "       [ -388.23764331, -1236.61969182],\n",
       "       [  285.62238405,  -473.92215311],\n",
       "       [  299.55157252,  -497.43339242],\n",
       "       [  324.33666809,   193.68868154],\n",
       "       [ -579.43923623,   130.53636329],\n",
       "       [ -242.78575584,   275.932047  ],\n",
       "       [   57.29909802,   434.6702125 ],\n",
       "       [  414.20380093,   302.83339895],\n",
       "       [ -551.22331668,  -797.93250549],\n",
       "       [  298.31520984,  -557.11418458],\n",
       "       [   34.31365384,   230.29965055],\n",
       "       [  227.47815075,   280.77274351],\n",
       "       [ -409.68369242,  -515.28926558],\n",
       "       [   58.90145906,   566.72839288],\n",
       "       [ -384.36667936,   311.26765226],\n",
       "       [  347.97282017,  -424.36111844],\n",
       "       [  359.39214395,  -108.61777338],\n",
       "       [ -317.66915733,   282.12356962],\n",
       "       [  279.46847642,   137.60493569],\n",
       "       [ -387.55519235,   261.20290629],\n",
       "       [  135.43669786,   574.62162206],\n",
       "       [ -649.955101  ,  -396.95215914],\n",
       "       [  214.63952305,   106.52763839],\n",
       "       [ -327.75349345,   334.21432523],\n",
       "       [  463.16389001,   337.73611461],\n",
       "       [ -203.34493071,   259.79483656],\n",
       "       [  487.208086  ,   413.4949571 ],\n",
       "       [  -92.08884079,   324.9142106 ],\n",
       "       [  544.80186511,   404.3466746 ],\n",
       "       [  -79.50849164,  -529.01563104],\n",
       "       [ -146.4091454 ,  -100.45291035],\n",
       "       [  141.86484658,   186.44666125],\n",
       "       [  133.49269354,  -549.16860829],\n",
       "       [ -176.79000425,   118.80611119],\n",
       "       [  229.61546737,   151.78366198],\n",
       "       [  -79.62479967,   291.31910074],\n",
       "       [-1422.36081798,  -331.78173729],\n",
       "       [  156.55707551,   352.66259603],\n",
       "       [  221.52584297,  -519.84447393],\n",
       "       [  250.97293718,   176.5066802 ],\n",
       "       [ -303.01708238,   237.04112912],\n",
       "       [  413.21145116,    75.51985764],\n",
       "       [   49.33243731,   377.42876233],\n",
       "       [ -302.46597979,   208.86118866],\n",
       "       [ -622.68428473,   224.72657437],\n",
       "       [ -120.16058795,  -437.19977496],\n",
       "       [ -416.88905502,   246.09892667],\n",
       "       [  357.69842681,   419.40005885],\n",
       "       [  258.22645387,   314.15865973],\n",
       "       [   98.58771646,   461.90993882],\n",
       "       [ -903.96752689,  -597.60577613],\n",
       "       [  537.32259703,  -436.1249834 ],\n",
       "       [  189.0942929 ,    35.3661818 ],\n",
       "       [ -342.28583354,  -716.03141721],\n",
       "       [ -297.57619758,   126.95002218],\n",
       "       [  469.66199103,   426.21944063],\n",
       "       [  192.39564925,   140.92275611],\n",
       "       [  278.46814326,   404.53810813],\n",
       "       [  -14.30450029,   320.8733641 ],\n",
       "       [  141.86481722,   339.50587571],\n",
       "       [ -375.40900106,   283.52157564],\n",
       "       [  194.368134  ,  -464.68033699],\n",
       "       [  174.73599384,  -557.57487311],\n",
       "       [  298.79125938,   420.76878885],\n",
       "       [  314.3381177 ,  -565.90986274],\n",
       "       [  -96.35229329,   222.75435784],\n",
       "       [  589.31400099,   203.10925568],\n",
       "       [ -105.0845751 ,   352.46640888],\n",
       "       [ -103.84784165,   263.59159118],\n",
       "       [  277.78548903,   177.46663476],\n",
       "       [ -321.29316504,   177.97903849],\n",
       "       [ -490.05244176,  -568.72120655],\n",
       "       [    4.88685711,   181.74222459],\n",
       "       [ -306.29872069,  -698.79409771],\n",
       "       [  187.21800932,   424.23402454],\n",
       "       [  243.3800236 ,  -457.7025805 ],\n",
       "       [  -90.80198507,  -809.20458694],\n",
       "       [   17.35942526,   106.25720663],\n",
       "       [  292.18654083,   301.82191558],\n",
       "       [  344.64858253,   312.70710172],\n",
       "       [ -657.82411718,  -792.85812371],\n",
       "       [  426.1892871 ,  -501.25852838],\n",
       "       [  159.98236524,   -42.45452161],\n",
       "       [  -19.13498773,   285.60645325],\n",
       "       [ -287.09679354,   333.03371422],\n",
       "       [  213.8667686 ,   418.10092808],\n",
       "       [  111.13826819,   202.33168841],\n",
       "       [   87.01618169,   424.11977586],\n",
       "       [  175.28887176,   441.89218574],\n",
       "       [ -205.9233722 ,   483.10813447],\n",
       "       [  108.52409046,   297.73209604],\n",
       "       [ -222.42673214,   268.60717875],\n",
       "       [  -51.60005641,   447.70084575],\n",
       "       [  -28.37353001,   358.33321472],\n",
       "       [  162.21024169,  -466.3194269 ],\n",
       "       [  227.73918194,   342.52139483],\n",
       "       [ -861.84957126,  -405.95493424],\n",
       "       [   89.84258703,   316.74984668],\n",
       "       [ -615.19916985,  -310.62783588],\n",
       "       [ -123.60226688,   342.67200592],\n",
       "       [ -148.08817167,  -665.68162887],\n",
       "       [ -281.66932052,  -849.46274769],\n",
       "       [  429.02989406,  -469.01923513],\n",
       "       [  418.61534886,   434.56671169],\n",
       "       [  -85.42250864,   425.84771684],\n",
       "       [ -535.88395222,  -682.42756047],\n",
       "       [ -278.89752477,   208.56594502],\n",
       "       [  174.72486622,   399.53495586],\n",
       "       [  381.93924895,  -464.66750222],\n",
       "       [  250.02053353,    38.72420794],\n",
       "       [  494.3394596 ,   372.25553668],\n",
       "       [  181.49065563,   348.68055685],\n",
       "       [ -427.24151248,  -807.03623827],\n",
       "       [  -71.70009968,   210.03215146],\n",
       "       [    6.38764829,  -251.8635646 ],\n",
       "       [   96.75673881,   100.36704955],\n",
       "       [   38.93412313,   272.47179238],\n",
       "       [ -277.80613965,   180.37365679],\n",
       "       [   84.37609482,  -768.75997772],\n",
       "       [  -99.93787189,   182.67656718],\n",
       "       [  154.99090854,   536.85321032],\n",
       "       [ -161.3546657 ,   158.64615073],\n",
       "       [   86.71782284,   532.84356986],\n",
       "       [  439.76355228,    44.7218012 ],\n",
       "       [  514.60586548,  -494.01441663],\n",
       "       [   95.73082479,   257.01133623],\n",
       "       [  -94.73583552,   386.06285143],\n",
       "       [ -348.64343371,  -828.92553848],\n",
       "       [  120.38693225,    59.66347981],\n",
       "       [  260.02345313,   233.95645995],\n",
       "       [ -718.07242129,  -266.18281314],\n",
       "       [ -416.79184522,  -826.72498249],\n",
       "       [ -296.04131593,  -665.09510415],\n",
       "       [  244.52059383,   414.85070902],\n",
       "       [  410.39269605,   143.94309838],\n",
       "       [  199.86411404,   260.61709099],\n",
       "       [  355.89678296,   401.09162561],\n",
       "       [ -280.79780247,   314.13072443],\n",
       "       [   21.39601661,   325.76247752],\n",
       "       [   30.86448895,   445.60041171],\n",
       "       [ -514.61957757,  -776.24614114],\n",
       "       [ -260.51346379,   244.29241542],\n",
       "       [  292.17578496,  -524.92673319],\n",
       "       [   14.51947683,  -549.06806069],\n",
       "       [ -136.26471896,   528.77479507],\n",
       "       [  144.82184282,    91.58799996],\n",
       "       [ -276.47057743,  -938.87724162],\n",
       "       [ -292.06199184,  -543.54154707],\n",
       "       [    8.30717191,   382.65193185],\n",
       "       [    7.65560822,   295.33278304],\n",
       "       [ -194.07206741,   444.40165251],\n",
       "       [  244.25746846,   362.43315098],\n",
       "       [ -137.13594682,  -829.92581793],\n",
       "       [  592.53020562,   138.04902732],\n",
       "       [  320.28087169,   264.95705875],\n",
       "       [  339.95791725,   178.46806724],\n",
       "       [ -516.07304982,  -624.53524189],\n",
       "       [  -24.60211173,   341.66986741],\n",
       "       [ -123.06882705,   331.41975187],\n",
       "       [  740.52772182,  -397.19139941],\n",
       "       [ -382.95405641,  -597.71362415],\n",
       "       [  304.41269695,   500.76010987],\n",
       "       [  198.8033759 ,  -565.40732397],\n",
       "       [  249.7174499 ,   -53.14900992],\n",
       "       [  462.79730415,   129.23157134],\n",
       "       [ -471.1339958 ,  -729.61787798],\n",
       "       [  126.76148349,    22.42865865],\n",
       "       [  117.96144319,   403.41045707],\n",
       "       [  427.66669706,   336.70787398],\n",
       "       [  278.63592671,   -20.1340463 ],\n",
       "       [  -55.00557723,  -869.04291967],\n",
       "       [ -306.96268356,   133.80119773],\n",
       "       [ -444.33900618,  -872.81194844],\n",
       "       [   -9.70953869,  -534.84335181]])"
      ]
     },
     "execution_count": 70,
     "metadata": {},
     "output_type": "execute_result"
    }
   ],
   "source": [
    "mds.embedding_"
   ]
  },
  {
   "cell_type": "code",
   "execution_count": 71,
   "metadata": {},
   "outputs": [
    {
     "data": {
      "text/plain": [
       "<matplotlib.collections.PathCollection at 0x2054ce385e0>"
      ]
     },
     "execution_count": 71,
     "metadata": {},
     "output_type": "execute_result"
    },
    {
     "data": {
      "image/png": "[encoded data removed]",
      "text/plain": [
       "<Figure size 432x288 with 1 Axes>"
      ]
     },
     "metadata": {
      "needs_background": "light"
     },
     "output_type": "display_data"
    }
   ],
   "source": [
    "plt.scatter(mds.embedding_[:,0], mds.embedding_[:,1])"
   ]
  },
  {
   "cell_type": "markdown",
   "metadata": {},
   "source": [
    "Is it the same as above? Compare it with the PCA results..."
   ]
  },
  {
   "cell_type": "code",
   "execution_count": null,
   "metadata": {},
   "outputs": [],
   "source": []
  },
  {
   "cell_type": "code",
   "execution_count": null,
   "metadata": {},
   "outputs": [],
   "source": [
    "    "
   ]
  }
 ],
 "metadata": {
  "kernelspec": {
   "display_name": "Python 3 (ipykernel)",
   "language": "python",
   "name": "python3"
  },
  "language_info": {
   "codemirror_mode": {
    "name": "ipython",
    "version": 3
   },
   "file_extension": ".py",
   "mimetype": "text/x-python",
   "name": "python",
   "nbconvert_exporter": "python",
   "pygments_lexer": "ipython3",
   "version": "3.7.9"
  },
  "toc": {
   "base_numbering": 1,
   "nav_menu": {},
   "number_sections": true,
   "sideBar": true,
   "skip_h1_title": false,
   "title_cell": "Table of Contents",
   "title_sidebar": "Contents",
   "toc_cell": false,
   "toc_position": {},
   "toc_section_display": true,
   "toc_window_display": false
  }
 },
 "nbformat": 4,
 "nbformat_minor": 2
}
