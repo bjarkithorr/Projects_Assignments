{
 "cells": [
  {
   "cell_type": "markdown",
   "metadata": {},
   "source": [
    "*Christoffer Riis [chrrii@dtu.dk], DTU Management*\n",
    "\n",
    "# Advanced Business Analytics\n",
    "\n",
    "## Lecture 10 - Ensemble models: XGBoost\n",
    "\n",
    "Welcome to this weeks notebook. This time we will look at the technique of *ensembling*. More precisely, we will first look at the ensemble model XGBoost and then investigate the concept of an ensemble of models. So you see that we will look at ensembling on two different scales which can easily be combined to make an ensemble of ensembles.\n",
    "\n",
    "You work for a Data Sciences consulting company and got a new contract with an influencing company that wants to know what makes an Instagram post popular so that they can increase their engagement. To start simple, you will only consider information from the author of the post, metadata about the post and temporal information regarding the post.\n",
    "\n",
    "Your goal is to predict the number of likes (a proxy for engagement) a post will get and then try to explain which components are relevant to get a high engagement."
   ]
  },
  {
   "cell_type": "code",
   "execution_count": 1,
   "metadata": {},
   "outputs": [],
   "source": [
    "import numpy as np\n",
    "import pandas as pd\n",
    "import seaborn as sns\n",
    "from tqdm import tqdm\n",
    "from math import sqrt\n",
    "\n",
    "from sklearn.neural_network import MLPRegressor\n",
    "from sklearn.ensemble import GradientBoostingRegressor, RandomForestRegressor\n",
    "from sklearn.gaussian_process import GaussianProcessRegressor\n",
    "from sklearn.linear_model import LinearRegression\n",
    "from sklearn.model_selection import train_test_split\n",
    "from sklearn.multioutput import MultiOutputRegressor\n",
    "from sklearn.metrics import mean_absolute_error, mean_squared_error\n",
    "\n",
    "# To measure the training time\n",
    "from time import time\n",
    "\n",
    "import matplotlib.pyplot as plt"
   ]
  },
  {
   "cell_type": "markdown",
   "metadata": {},
   "source": [
    "You are given a data set that contains data about approximate 52k Instagram posts posted around November and December in 2019. Before we describe the data, let us first load it. "
   ]
  },
  {
   "cell_type": "code",
   "execution_count": 2,
   "metadata": {},
   "outputs": [],
   "source": [
    "dataset = pd.read_pickle(\"instagram_data.pkl\")"
   ]
  },
  {
   "cell_type": "code",
   "execution_count": 3,
   "metadata": {},
   "outputs": [
    {
     "data": {
      "text/html": [
       "<div>\n",
       "<style scoped>\n",
       "    .dataframe tbody tr th:only-of-type {\n",
       "        vertical-align: middle;\n",
       "    }\n",
       "\n",
       "    .dataframe tbody tr th {\n",
       "        vertical-align: top;\n",
       "    }\n",
       "\n",
       "    .dataframe thead th {\n",
       "        text-align: right;\n",
       "    }\n",
       "</style>\n",
       "<table border=\"1\" class=\"dataframe\">\n",
       "  <thead>\n",
       "    <tr style=\"text-align: right;\">\n",
       "      <th></th>\n",
       "      <th>logFollowers</th>\n",
       "      <th>logFollowing</th>\n",
       "      <th>logPosts</th>\n",
       "      <th>followersStatusRatio</th>\n",
       "      <th>followersFriendsRatio</th>\n",
       "      <th>filter</th>\n",
       "      <th>lang</th>\n",
       "      <th>tagCount</th>\n",
       "      <th>usersTagged</th>\n",
       "      <th>userHasLiked</th>\n",
       "      <th>postedHour</th>\n",
       "      <th>postedDate</th>\n",
       "      <th>postedWeekDay</th>\n",
       "      <th>logLikes</th>\n",
       "      <th>logComments</th>\n",
       "    </tr>\n",
       "  </thead>\n",
       "  <tbody>\n",
       "    <tr>\n",
       "      <th>0</th>\n",
       "      <td>-1.868796</td>\n",
       "      <td>-1.658002</td>\n",
       "      <td>0.698091</td>\n",
       "      <td>0.156228</td>\n",
       "      <td>1.793388</td>\n",
       "      <td>26</td>\n",
       "      <td>24</td>\n",
       "      <td>23</td>\n",
       "      <td>0</td>\n",
       "      <td>0</td>\n",
       "      <td>23</td>\n",
       "      <td>32</td>\n",
       "      <td>1</td>\n",
       "      <td>1.074190</td>\n",
       "      <td>-0.590773</td>\n",
       "    </tr>\n",
       "    <tr>\n",
       "      <th>1</th>\n",
       "      <td>-0.284441</td>\n",
       "      <td>-1.456580</td>\n",
       "      <td>-0.465204</td>\n",
       "      <td>2.447005</td>\n",
       "      <td>7.175676</td>\n",
       "      <td>32</td>\n",
       "      <td>9</td>\n",
       "      <td>17</td>\n",
       "      <td>0</td>\n",
       "      <td>0</td>\n",
       "      <td>22</td>\n",
       "      <td>32</td>\n",
       "      <td>1</td>\n",
       "      <td>0.320418</td>\n",
       "      <td>-0.590773</td>\n",
       "    </tr>\n",
       "    <tr>\n",
       "      <th>2</th>\n",
       "      <td>1.099499</td>\n",
       "      <td>-0.364747</td>\n",
       "      <td>0.310818</td>\n",
       "      <td>4.497349</td>\n",
       "      <td>9.616780</td>\n",
       "      <td>26</td>\n",
       "      <td>9</td>\n",
       "      <td>28</td>\n",
       "      <td>6</td>\n",
       "      <td>0</td>\n",
       "      <td>14</td>\n",
       "      <td>32</td>\n",
       "      <td>1</td>\n",
       "      <td>3.269233</td>\n",
       "      <td>-0.590773</td>\n",
       "    </tr>\n",
       "    <tr>\n",
       "      <th>3</th>\n",
       "      <td>-0.498687</td>\n",
       "      <td>0.685075</td>\n",
       "      <td>0.153836</td>\n",
       "      <td>1.063275</td>\n",
       "      <td>0.680159</td>\n",
       "      <td>26</td>\n",
       "      <td>9</td>\n",
       "      <td>27</td>\n",
       "      <td>0</td>\n",
       "      <td>0</td>\n",
       "      <td>16</td>\n",
       "      <td>32</td>\n",
       "      <td>1</td>\n",
       "      <td>0.971006</td>\n",
       "      <td>-0.590773</td>\n",
       "    </tr>\n",
       "    <tr>\n",
       "      <th>4</th>\n",
       "      <td>0.539883</td>\n",
       "      <td>-0.956624</td>\n",
       "      <td>1.029098</td>\n",
       "      <td>1.252844</td>\n",
       "      <td>9.930328</td>\n",
       "      <td>26</td>\n",
       "      <td>24</td>\n",
       "      <td>4</td>\n",
       "      <td>0</td>\n",
       "      <td>0</td>\n",
       "      <td>1</td>\n",
       "      <td>29</td>\n",
       "      <td>5</td>\n",
       "      <td>1.499073</td>\n",
       "      <td>1.894133</td>\n",
       "    </tr>\n",
       "  </tbody>\n",
       "</table>\n",
       "</div>"
      ],
      "text/plain": [
       "   logFollowers  logFollowing  logPosts  followersStatusRatio  \\\n",
       "0     -1.868796     -1.658002  0.698091              0.156228   \n",
       "1     -0.284441     -1.456580 -0.465204              2.447005   \n",
       "2      1.099499     -0.364747  0.310818              4.497349   \n",
       "3     -0.498687      0.685075  0.153836              1.063275   \n",
       "4      0.539883     -0.956624  1.029098              1.252844   \n",
       "\n",
       "   followersFriendsRatio  filter  lang  tagCount  usersTagged  userHasLiked  \\\n",
       "0               1.793388      26    24        23            0             0   \n",
       "1               7.175676      32     9        17            0             0   \n",
       "2               9.616780      26     9        28            6             0   \n",
       "3               0.680159      26     9        27            0             0   \n",
       "4               9.930328      26    24         4            0             0   \n",
       "\n",
       "   postedHour  postedDate  postedWeekDay  logLikes  logComments  \n",
       "0          23          32              1  1.074190    -0.590773  \n",
       "1          22          32              1  0.320418    -0.590773  \n",
       "2          14          32              1  3.269233    -0.590773  \n",
       "3          16          32              1  0.971006    -0.590773  \n",
       "4           1          29              5  1.499073     1.894133  "
      ]
     },
     "execution_count": 3,
     "metadata": {},
     "output_type": "execute_result"
    }
   ],
   "source": [
    "# if you exceed the recursion limit, try to increase the limit by import sys; sys.setrecursionlimit(3500)\n",
    "dataset.head(5)"
   ]
  },
  {
   "cell_type": "markdown",
   "metadata": {},
   "source": [
    "You see there are 15 features in total: 13 predictive features and two targets (likes and comments). We can divide the predictive features into three categories: author, content and temporal features.\n",
    "\n",
    "The features we will use are:\n",
    "* Author features:\n",
    "    - logFollowers: the log number of followers the user has\n",
    "    - logFollowing: the log number of users the user is following\n",
    "    - logPosts: the log number of posts the user has made\n",
    "    - followersStatusRatio: the number of followers per post\n",
    "    - followersFriendsRatio: the number of followers per \"following\"\n",
    "* Content features:\n",
    "    - filter: type of filter applied to the images\n",
    "    - lang: language of the post\n",
    "    - tagCount: the number of hashtags\n",
    "    - usersTagged: the number of users tagged\n",
    "    - userHasLiked: has the user liked their post\n",
    "* Temporal features:\n",
    "    - postedHour: the posted hour\n",
    "    - postedDate: posted date of the month\n",
    "    - postedWeekDay: posted day of the week"
   ]
  },
  {
   "cell_type": "code",
   "execution_count": 4,
   "metadata": {},
   "outputs": [
    {
     "name": "stdout",
     "output_type": "stream",
     "text": [
      "Features in use:\n",
      " ['logFollowers', 'logFollowing', 'logPosts', 'followersStatusRatio', 'followersFriendsRatio', 'filter', 'lang', 'tagCount', 'usersTagged', 'userHasLiked', 'postedHour', 'postedDate', 'postedWeekDay']\n",
      "Categorical features:\n",
      " ['filter', 'lang', 'postedDate', 'postedWeekDay']\n"
     ]
    }
   ],
   "source": [
    "# Initialize list of features and categorical features. You can specify the feature groups\n",
    "# you will use in the following variable\n",
    "feature_groups = ['author', 'content', 'temporal']\n",
    "\n",
    "# initialize list with features\n",
    "features = []\n",
    "cat_features = []\n",
    "\n",
    "# get the name of features to use\n",
    "if 'author' in feature_groups:\n",
    "    features += ['logFollowers', 'logFollowing', 'logPosts', 'followersStatusRatio', 'followersFriendsRatio']\n",
    "if 'content' in feature_groups:\n",
    "    features += ['filter', 'lang', 'tagCount', 'usersTagged', 'userHasLiked']\n",
    "    cat_features += ['filter', 'lang']\n",
    "if 'temporal' in feature_groups:\n",
    "    features += ['postedHour', 'postedDate', 'postedWeekDay']\n",
    "    cat_features += ['postedDate', 'postedWeekDay']\n",
    "    \n",
    "print(\"Features in use:\\n\", features)\n",
    "print(\"Categorical features:\\n\", cat_features)"
   ]
  },
  {
   "cell_type": "markdown",
   "metadata": {},
   "source": [
    "As always, the best idea is to get familiar with the data by visualizing the data, e.g. with scatter plots, histograms, correlation plots, etc. However, the data set has already been cleaned so if you do visualize the data, you will realize that the features have been both transformed and standardized and are indeed ready for modelling.\n",
    "\n",
    "So here we will jump write to action. Let us now make a prediction model for the number of log(likes) then. For the sake of comparability, later on, we will create the dataset for you."
   ]
  },
  {
   "cell_type": "code",
   "execution_count": 5,
   "metadata": {},
   "outputs": [],
   "source": [
    "# Do the regular split of data\n",
    "x_train, x_test, y_train, y_test=train_test_split(dataset[features], dataset['logLikes'],\n",
    "                                                  shuffle=True, random_state=42)"
   ]
  },
  {
   "cell_type": "markdown",
   "metadata": {},
   "source": [
    "Now, can you find a prediction model you like? For this case, it is fine that you use only train+test set (so, you can just try several models, and see which ones are best in the test set). However, you should at least include the Gradient Boosting Regressor from sklearn to benchmark the performance of XGBoost, which we will include later."
   ]
  },
  {
   "cell_type": "code",
   "execution_count": 6,
   "metadata": {},
   "outputs": [],
   "source": [
    "# Alternative predictors\n",
    "from sklearn.linear_model import ElasticNet\n",
    "from sklearn.neighbors import KNeighborsRegressor\n",
    "from sklearn.tree import DecisionTreeRegressor\n",
    "from sklearn.svm import SVR\n",
    "from sklearn.ensemble import AdaBoostRegressor\n",
    "from sklearn.ensemble import BaggingRegressor\n",
    "from sklearn.ensemble import ExtraTreesRegressor"
   ]
  },
  {
   "cell_type": "code",
   "execution_count": 7,
   "metadata": {},
   "outputs": [],
   "source": [
    "mlp=MLPRegressor()\n",
    "gb=GradientBoostingRegressor()\n",
    "rf=RandomForestRegressor()\n",
    "lr=LinearRegression()\n",
    "\n",
    "# Alternative predictors\n",
    "#en = ElasticNet()\n",
    "#svr = SVR(gamma='scale')\n",
    "#dtr = DecisionTreeRegressor()\n",
    "#knn = KNeighborsRegressor()\n",
    "#ab = AdaBoostRegressor()\n",
    "#br = BaggingRegressor(n_estimators=10)\n",
    "#etr = ExtraTreesRegressor(n_estimators=10)"
   ]
  },
  {
   "cell_type": "code",
   "execution_count": 8,
   "metadata": {},
   "outputs": [],
   "source": [
    "def evaluate_models(models, x_test, y_test, x_train=[], y_train=[]):\n",
    "    if isinstance(x_train, pd.DataFrame):  \n",
    "        fit=True   #just for clarity\n",
    "    else: \n",
    "        fit=False\n",
    "        \n",
    "    for model, name in models:\n",
    "        if fit: \n",
    "            tic = time()\n",
    "            model.fit(x_train, y_train)\n",
    "            toc = time()\n",
    "            preds_train=model.predict(x_train)\n",
    "        preds_test=model.predict(x_test)\n",
    "        print(name+\":\")\n",
    "        if fit:\n",
    "            print(\"Training time: %.2f (sec)\" % (toc-tic))\n",
    "            print(\"RMSE: training performance: %.1f testset performance: %.4f\"%(sqrt(mean_squared_error(y_train, preds_train)),sqrt(mean_squared_error(y_test, preds_test))))\n",
    "            print(\"MAE: training performance: %.1f testset performance: %.4f\"%(mean_absolute_error(y_train, preds_train),mean_absolute_error(y_test, preds_test)))\n",
    "        else:\n",
    "            print(\"RMSE: testset performance: %.4f\"%(sqrt(mean_squared_error(y_test, preds_test))))\n",
    "            print(\"MAE: testset performance: %.4f\"%(mean_absolute_error(y_test, preds_test)))\n",
    "        print(\"-\"*20+\"\\n\")"
   ]
  },
  {
   "cell_type": "code",
   "execution_count": 9,
   "metadata": {},
   "outputs": [
    {
     "name": "stdout",
     "output_type": "stream",
     "text": [
      "MultiLayer Perceptron:\n",
      "Training time: 2.68 (sec)\n",
      "RMSE: training performance: 1.4 testset performance: 1.2637\n",
      "MAE: training performance: 1.0 testset performance: 1.0390\n",
      "--------------------\n",
      "\n",
      "Gradient Boosting:\n",
      "Training time: 6.03 (sec)\n",
      "RMSE: training performance: 1.2 testset performance: 1.2217\n",
      "MAE: training performance: 1.0 testset performance: 1.0084\n",
      "--------------------\n",
      "\n",
      "Random Forest:\n",
      "Training time: 24.82 (sec)\n",
      "RMSE: training performance: 0.5 testset performance: 1.2375\n",
      "MAE: training performance: 0.4 testset performance: 1.0140\n",
      "--------------------\n",
      "\n",
      "Linear Regression:\n",
      "Training time: 0.01 (sec)\n",
      "RMSE: training performance: 1.3 testset performance: 1.2855\n",
      "MAE: training performance: 1.1 testset performance: 1.0651\n",
      "--------------------\n",
      "\n"
     ]
    }
   ],
   "source": [
    "evaluate_models([(mlp, \"MultiLayer Perceptron\"),\n",
    "                 (gb, \"Gradient Boosting\"),\n",
    "                 (rf, \"Random Forest\"),\n",
    "                 (lr, \"Linear Regression\"),\n",
    "                ], x_test, y_test, x_train, y_train)"
   ]
  },
  {
   "cell_type": "markdown",
   "metadata": {},
   "source": [
    "Now try to test the performance of XGBoost (you use it in the same way as you will use a sklearn model).\n",
    "Of course, we should first install the *xgboost* package. Though it should be as easy as just running `!pip install xgboost` you might run into some issues with other packages (but we hope not!). Here, we have included the most common issue on Mac:"
   ]
  },
  {
   "cell_type": "markdown",
   "metadata": {},
   "source": [
    "**OpenMP runtime is not installed**: If you are using a Mac, install OpenMP with Homebrew in your terminal: `brew install libomp`. If don't have brew, install it by running `/usr/bin/ruby -e \"$(curl -fsSL https://raw.githubusercontent.com/Homebrew/install/master/install)\"` in your terminal."
   ]
  },
  {
   "cell_type": "code",
   "execution_count": 10,
   "metadata": {},
   "outputs": [
    {
     "name": "stdout",
     "output_type": "stream",
     "text": [
      "XGBoost:\n",
      "Training time: 1.81 (sec)\n",
      "RMSE: training performance: 1.1 testset performance: 1.2330\n",
      "MAE: training performance: 0.9 testset performance: 1.0098\n",
      "--------------------\n",
      "\n"
     ]
    }
   ],
   "source": [
    "#!pip install xgboost\n",
    "\n",
    "# Import XGBoost for regression\n",
    "from xgboost import XGBRegressor\n",
    "\n",
    "# Make model with defualt paramets\n",
    "xgb = XGBRegressor()\n",
    "\n",
    "# Evaluate the model\n",
    "evaluate_models([(xgb, \"XGBoost\")], x_test, y_test, x_train, y_train)"
   ]
  },
  {
   "cell_type": "markdown",
   "metadata": {},
   "source": [
    "So we see that the predictive performance of XGBoost is almost on par with the GBM from sklearn but is more than 3 times faster to train (at least on my computer: GBM took 5.86 s and XGBoost took 1.7)"
   ]
  },
  {
   "cell_type": "markdown",
   "metadata": {},
   "source": [
    "In the following, we will look at some of the regularization parameters of the GBM and XGBoost. As we will see, the implementation of GBM in sklearn does actually also use a lot of different regularization tricks. Many of these tricks are in fact adapted from the XGBoost framework.\n",
    "\n",
    "In the following, we will look into some of these parameters used for regularization. If you type `gb.get_params()` you will see all the parameters. But instead of focusing on all, we will look into a few of them. \n",
    "\n",
    "If you consider the default values for the two parameters *learning rate* and *maxmimum depth*, you will see that these are different for the sklearn GBM and XGBoost."
   ]
  },
  {
   "cell_type": "markdown",
   "metadata": {},
   "source": [
    "Try to fit the XGBoost with the default values of the sklearn GBM, and vice versa."
   ]
  },
  {
   "cell_type": "code",
   "execution_count": 11,
   "metadata": {},
   "outputs": [
    {
     "data": {
      "text/plain": [
       "{'alpha': 0.9,\n",
       " 'ccp_alpha': 0.0,\n",
       " 'criterion': 'friedman_mse',\n",
       " 'init': None,\n",
       " 'learning_rate': 0.1,\n",
       " 'loss': 'ls',\n",
       " 'max_depth': 3,\n",
       " 'max_features': None,\n",
       " 'max_leaf_nodes': None,\n",
       " 'min_impurity_decrease': 0.0,\n",
       " 'min_impurity_split': None,\n",
       " 'min_samples_leaf': 1,\n",
       " 'min_samples_split': 2,\n",
       " 'min_weight_fraction_leaf': 0.0,\n",
       " 'n_estimators': 100,\n",
       " 'n_iter_no_change': None,\n",
       " 'random_state': None,\n",
       " 'subsample': 1.0,\n",
       " 'tol': 0.0001,\n",
       " 'validation_fraction': 0.1,\n",
       " 'verbose': 0,\n",
       " 'warm_start': False}"
      ]
     },
     "execution_count": 11,
     "metadata": {},
     "output_type": "execute_result"
    }
   ],
   "source": [
    "# Find default values for the two parameters\n",
    "gb.get_params()"
   ]
  },
  {
   "cell_type": "code",
   "execution_count": 12,
   "metadata": {},
   "outputs": [
    {
     "name": "stdout",
     "output_type": "stream",
     "text": [
      "Gradient Boosting:\n",
      "Training time: 5.93 (sec)\n",
      "RMSE: training performance: 1.2 testset performance: 1.2217\n",
      "MAE: training performance: 1.0 testset performance: 1.0084\n",
      "--------------------\n",
      "\n",
      "XGBoost:\n",
      "Training time: 0.78 (sec)\n",
      "RMSE: training performance: 1.2 testset performance: 1.2218\n",
      "MAE: training performance: 1.0 testset performance: 1.0085\n",
      "--------------------\n",
      "\n"
     ]
    }
   ],
   "source": [
    "# Test the performance of XGBoost with the those default values of sklearn GBM\n",
    "gb_params = {\n",
    "    'learning_rate': 0.1,\n",
    "    'max_depth': 3,\n",
    "}\n",
    "\n",
    "xgb_params = {\n",
    "    'learning_rate': 0.1,\n",
    "    'max_depth': 3,\n",
    "}\n",
    "\n",
    "gb=GradientBoostingRegressor()\n",
    "xgb = XGBRegressor()\n",
    "\n",
    "gb.set_params(**gb_params)\n",
    "xgb.set_params(**xgb_params)\n",
    "\n",
    "evaluate_models([(gb, \"Gradient Boosting\"), (xgb, \"XGBoost\")], x_test, y_test, x_train, y_train)"
   ]
  },
  {
   "cell_type": "markdown",
   "metadata": {},
   "source": [
    "Now the predictive performance is almost the same but XGBoost is still much faster (more than 6 times on my computer)!"
   ]
  },
  {
   "cell_type": "markdown",
   "metadata": {},
   "source": [
    "What about the other way around? Now test the performance of GBM with the default values of the XGBoost."
   ]
  },
  {
   "cell_type": "code",
   "execution_count": 13,
   "metadata": {},
   "outputs": [
    {
     "data": {
      "text/plain": [
       "{'objective': 'reg:squarederror',\n",
       " 'base_score': 0.5,\n",
       " 'booster': 'gbtree',\n",
       " 'colsample_bylevel': 1,\n",
       " 'colsample_bynode': 1,\n",
       " 'colsample_bytree': 1,\n",
       " 'gamma': 0,\n",
       " 'gpu_id': -1,\n",
       " 'importance_type': 'gain',\n",
       " 'interaction_constraints': '',\n",
       " 'learning_rate': 0.1,\n",
       " 'max_delta_step': 0,\n",
       " 'max_depth': 3,\n",
       " 'min_child_weight': 1,\n",
       " 'missing': nan,\n",
       " 'monotone_constraints': '()',\n",
       " 'n_estimators': 100,\n",
       " 'n_jobs': 8,\n",
       " 'num_parallel_tree': 1,\n",
       " 'random_state': 0,\n",
       " 'reg_alpha': 0,\n",
       " 'reg_lambda': 1,\n",
       " 'scale_pos_weight': 1,\n",
       " 'subsample': 1,\n",
       " 'tree_method': 'exact',\n",
       " 'validate_parameters': 1,\n",
       " 'verbosity': None}"
      ]
     },
     "execution_count": 13,
     "metadata": {},
     "output_type": "execute_result"
    }
   ],
   "source": [
    "# Find default values for the two parameters\n",
    "xgb.get_params()"
   ]
  },
  {
   "cell_type": "code",
   "execution_count": 14,
   "metadata": {},
   "outputs": [
    {
     "name": "stdout",
     "output_type": "stream",
     "text": [
      "Gradient Boosting:\n",
      "Training time: 11.72 (sec)\n",
      "RMSE: training performance: 1.0 testset performance: 1.2337\n",
      "MAE: training performance: 0.8 testset performance: 1.0089\n",
      "--------------------\n",
      "\n",
      "XGBoost:\n",
      "Training time: 1.70 (sec)\n",
      "RMSE: training performance: 1.1 testset performance: 1.2330\n",
      "MAE: training performance: 0.9 testset performance: 1.0098\n",
      "--------------------\n",
      "\n"
     ]
    }
   ],
   "source": [
    "# Test the performance of GBM with those values \n",
    "gb_params = {\n",
    "    'learning_rate': 0.3,\n",
    "    'max_depth': 6,\n",
    "}\n",
    "\n",
    "xgb_params = {\n",
    "    'learning_rate': 0.3,\n",
    "    'max_depth': 6,\n",
    "}\n",
    "\n",
    "gb=GradientBoostingRegressor()\n",
    "xgb = XGBRegressor()\n",
    "\n",
    "gb.set_params(**gb_params)\n",
    "xgb.set_params(**xgb_params)\n",
    "\n",
    "evaluate_models([(gb, \"Gradient Boosting\"), (xgb, \"XGBoost\")], x_test, y_test, x_train, y_train)"
   ]
  },
  {
   "cell_type": "markdown",
   "metadata": {},
   "source": [
    "Again the predictive performance is approximately the same and the GBM is much slower (approx 12 sec on my computer). This is due to the increased complexity of the trees, which now are allowed to have a maximum depth of 6."
   ]
  },
  {
   "cell_type": "markdown",
   "metadata": {},
   "source": [
    "Another important variable to set is the number of boosting steps to use. The default values for both implementations is 100 estimators (weak predictors / base learners / decision trees). Try to see what happens if you increase the number of weak predictors to 200."
   ]
  },
  {
   "cell_type": "code",
   "execution_count": 15,
   "metadata": {},
   "outputs": [
    {
     "name": "stdout",
     "output_type": "stream",
     "text": [
      "Gradient Boosting:\n",
      "Training time: 12.17 (sec)\n",
      "RMSE: training performance: 1.2 testset performance: 1.2176\n",
      "MAE: training performance: 1.0 testset performance: 1.0034\n",
      "--------------------\n",
      "\n",
      "XGBoost:\n",
      "Training time: 1.64 (sec)\n",
      "RMSE: training performance: 1.2 testset performance: 1.2165\n",
      "MAE: training performance: 1.0 testset performance: 1.0026\n",
      "--------------------\n",
      "\n"
     ]
    }
   ],
   "source": [
    "gb_params = { 'learning_rate': 0.1, 'max_depth': 3, 'n_estimators': 200}\n",
    "xgb_params = {'learning_rate': 0.1, 'max_depth': 3,'n_estimators': 200}\n",
    "\n",
    "gb=GradientBoostingRegressor()\n",
    "xgb = XGBRegressor()\n",
    "\n",
    "gb.set_params(**gb_params)\n",
    "xgb.set_params(**xgb_params)\n",
    "\n",
    "evaluate_models([(gb, \"Gradient Boosting\"), (xgb, \"XGBoost\")], x_test, y_test, x_train, y_train)"
   ]
  },
  {
   "cell_type": "markdown",
   "metadata": {},
   "source": [
    "We see that increasing the number of estimators also give a predictive performance increase for both models. But it also comes with an increase in training time."
   ]
  },
  {
   "cell_type": "markdown",
   "metadata": {},
   "source": [
    "### SHAP (Optional)\n",
    "Here, we will briefly illustrate how to use SHAP to make a very expressive figure which can replace the more traditional *feature importance* plot. (You can see other kinds of plots here: https://github.com/slundberg/shap)"
   ]
  },
  {
   "cell_type": "code",
   "execution_count": 16,
   "metadata": {},
   "outputs": [],
   "source": [
    "# !pip install shap\n",
    "# !pip install delayed # You might need to install delayed as well.\n",
    "import shap"
   ]
  },
  {
   "cell_type": "code",
   "execution_count": 17,
   "metadata": {},
   "outputs": [],
   "source": [
    "# Calcuate the explaining model\n",
    "explainer = shap.Explainer(xgb)\n",
    "\n",
    "# Get the shap values (values that explain the impact)\n",
    "shap_values = explainer(x_train)"
   ]
  },
  {
   "cell_type": "markdown",
   "metadata": {},
   "source": [
    "Now, we will make (what the authors of SHAP call a) *beeswarm* plot. It is rich in information, so let us go through the plot together.\n",
    "\n",
    "On the x-axis, we have the SHAP values, which describes the impact on the model output. Remember that we are predicting the log number of likes, so a SHAP value on 2 says that the output is increased with 2 on that scale. On the y-axis, we have the most important features arranged after importance (tagCount is most important). On the right side, we have a color scale that describes the value of each feature, where red is high and blue is low. Now, we are ready to consider the actual visualization for a single feature. \n",
    "\n",
    "Let us focus on a feature that has a clear pattern: followersStatusRatio (the number of followers per post). Going from right to left, we see the color changes from blue to red, saying that a high value of followersStatusRatio gives an increase in the logLikes and a low value of followersStatusRatio give a decrease in the logLikes. Put it understandable, the more followers you have per post, the more likes each post will get.\n",
    "\n",
    "Now, let us look at the most important feature: tagCount (the number of hashtags). We see that in general the more hashtags the more likes, but if you really want to make a post with many likes, you should use a few hashtags. Awesome, right? All that information from a single plot."
   ]
  },
  {
   "cell_type": "code",
   "execution_count": 18,
   "metadata": {},
   "outputs": [
    {
     "data": {
      "image/png": "[encoded data removed]",
      "text/plain": [
       "<Figure size 576x396 with 2 Axes>"
      ]
     },
     "metadata": {
      "needs_background": "light"
     },
     "output_type": "display_data"
    }
   ],
   "source": [
    "# summarize the effects of all the features\n",
    "shap.plots.beeswarm(shap_values)"
   ]
  },
  {
   "cell_type": "markdown",
   "metadata": {},
   "source": [
    "## Ensemble of models\n",
    "The following code is highly inspired by this blog post: https://machinelearningmastery.com/super-learner-ensemble-in-python/.\n",
    "\n",
    "In the following cells, we will explore how to make an ensemble of models. We have in previous classes talked about how the Netflix challenge was won by using predictions from multiple models, so this can indeed be a very powerful approach. Now we will test this on our Instagram data set: we use the same features and again predict the log likes."
   ]
  },
  {
   "cell_type": "code",
   "execution_count": 19,
   "metadata": {},
   "outputs": [],
   "source": [
    "# example of a super learner model for regression\n",
    "from math import sqrt\n",
    "from numpy import hstack\n",
    "from numpy import vstack\n",
    "from numpy import asarray\n",
    "from sklearn.model_selection import KFold\n",
    "from sklearn.model_selection import train_test_split\n",
    "from sklearn.metrics import mean_squared_error\n",
    "from sklearn.linear_model import LinearRegression"
   ]
  },
  {
   "cell_type": "markdown",
   "metadata": {},
   "source": [
    "We will create a list of base models to use in our ensemble model. Here, we use linear regression, a multilayer perceptron, KNN, a decision tree and XGBoost with two types of configurations. If you want, you can easily add other models. But remember to consider the training time, predictive performance and the diversity of the models."
   ]
  },
  {
   "cell_type": "code",
   "execution_count": 20,
   "metadata": {},
   "outputs": [],
   "source": [
    "# create a list of base-models\n",
    "def get_models():\n",
    "    models = list()\n",
    "    models.append(LinearRegression())\n",
    "    models.append(MLPRegressor())\n",
    "    models.append(KNeighborsRegressor())\n",
    "    models.append(DecisionTreeRegressor())\n",
    "    models.append(XGBRegressor(n_estimators=200, max_depth=3, learning_rate=0.1))\n",
    "    models.append(XGBRegressor(n_estimators=100, max_depth=6, learning_rate=0.3))\n",
    "    return models"
   ]
  },
  {
   "cell_type": "markdown",
   "metadata": {},
   "source": [
    "To make an ensemble of models, we will use cross-validation and the concepts of stacked generalization to avoid overfitting the training data. The idea is summarized in the figure below, but we also describe the steps in the text.\n",
    "\n",
    "In step 1-3, we will do regular k-fold cross-validation on the training set (step 1) and then fit the base models for each data split (step 2). For each of these models, we make predictions on the fold of training data we do not use for fitting the model to obtain *out-of-fold predictions* (step 3). These out-of-fold predictions can now be used to train the *meta-model* without overfitting to the predictions of base models. This is the concept of stacked generalization since we are stacking models but only use \"unseen\" data every time we fit a model.\n",
    "\n",
    "In step 4, we fit the meta-model on the out-of-fold predictions.\n",
    "\n",
    "In step 5, we are now ready to use the model, i.e. make predictions and evaluate. But as you see in the figure,  we also have a step 0, where we fit each base model to the entire training data. We only need the out-of-fold predictions to fit the meta-model, but when we have done that we can instead utilize all the training data to fit the base models for best performance.\n",
    "\n",
    "<img src=\"https://machinelearningmastery.com/wp-content/uploads/2019/10/Diagram-Showing-the-Data-Flow-of-the-Super-Learner-Algorithm.png\" alt=\"Pipeline\" style=\"width: 700px;\"/>\n",
    "(Source: Van der Laan, Mark J., Eric C. Polley, and Alan E. Hubbard. \"Super learner.\" Statistical applications in genetics and molecular biology 6.1 (2007).)\n",
    "\n",
    "\n",
    "In the following, we will make the necessary functions to make and use the meta-model.\n",
    "\n",
    "\n",
    "First, we make a function to collect the out-of-fold predictions from the k-fold cross-validation."
   ]
  },
  {
   "cell_type": "code",
   "execution_count": 21,
   "metadata": {},
   "outputs": [],
   "source": [
    "# collect out-of-fold predictions from k-fold cross validation\n",
    "def get_out_of_fold_predictions(X, y, models):\n",
    "    meta_X, meta_y = list(), list()\n",
    "    # define split of data\n",
    "    n_splits = 10\n",
    "    kfold = KFold(n_splits=n_splits, shuffle=True)\n",
    "    # enumerate splits\n",
    "    for train_ix, test_ix in tqdm(kfold.split(X), total=n_splits):\n",
    "        fold_yhats = list()\n",
    "        # get data\n",
    "        train_X, test_X = X[train_ix], X[test_ix]\n",
    "        train_y, test_y = y[train_ix], y[test_ix]\n",
    "        meta_y.extend(test_y)\n",
    "        # fit and make predictions with each sub-model\n",
    "        for model in models:\n",
    "            model.fit(train_X, train_y)\n",
    "            yhat = model.predict(test_X)\n",
    "            # store columns\n",
    "            fold_yhats.append(yhat.reshape(len(yhat),1))\n",
    "        # store fold yhats as columns\n",
    "        meta_X.append(hstack(fold_yhats))\n",
    "    return vstack(meta_X), asarray(meta_y)"
   ]
  },
  {
   "cell_type": "markdown",
   "metadata": {},
   "source": [
    "We also make a wrapper to fit the base models."
   ]
  },
  {
   "cell_type": "code",
   "execution_count": 22,
   "metadata": {},
   "outputs": [],
   "source": [
    "# fit all base models on the training dataset\n",
    "def fit_base_models(X, y, models):\n",
    "    for model in models:\n",
    "        model.fit(X, y)"
   ]
  },
  {
   "cell_type": "markdown",
   "metadata": {},
   "source": [
    "After we have collected the predictions from the base model, we will fit another model (linear regression) to predict the final predictions. We will use the following model to do so."
   ]
  },
  {
   "cell_type": "code",
   "execution_count": 23,
   "metadata": {},
   "outputs": [],
   "source": [
    "# fit a meta model\n",
    "def fit_meta_model(X, y):\n",
    "    model = LinearRegression()\n",
    "    model.fit(X, y)\n",
    "    return model"
   ]
  },
  {
   "cell_type": "markdown",
   "metadata": {},
   "source": [
    "We will also define a function to evaluate each of the base models. When we train each model for our ensemble model, it would be unwise not to check the performance of each model. It might be that one of them can be excluded due to very bad performance or that it is very slow to fit. Whether to include or exclude a model is highly dependent on the data and the use case."
   ]
  },
  {
   "cell_type": "code",
   "execution_count": 24,
   "metadata": {},
   "outputs": [],
   "source": [
    "# evaluate a list of models on a dataset\n",
    "def evaluate_models(X, y, models):\n",
    "    for model in models:\n",
    "        yhat = model.predict(X)\n",
    "        mse = mean_squared_error(y, yhat)\n",
    "        mae = mean_absolute_error(y, yhat)\n",
    "        print('%s:\\n\\tRMSE %.4f, MAE %.4f' % (model.__class__.__name__, sqrt(mse), mae))"
   ]
  },
  {
   "cell_type": "markdown",
   "metadata": {},
   "source": [
    "Finally, we will make a function to make the predictions with the stacked model. We should stack the predictions for each of the base models to create a new list of inputs to the meta-model. So that is, given our fitted base models, to make predictions with each base model, stack predictions together and then use these predictions as inputs for the meta-model to make the final prediction."
   ]
  },
  {
   "cell_type": "code",
   "execution_count": 25,
   "metadata": {},
   "outputs": [],
   "source": [
    "# make predictions with stacked model\n",
    "def super_learner_predictions(X, models, meta_model):\n",
    "    meta_X = list()\n",
    "    for model in models:\n",
    "        yhat = model.predict(X)\n",
    "        meta_X.append(yhat.reshape(len(yhat), 1))\n",
    "    meta_X = hstack(meta_X)\n",
    "    # predict\n",
    "    return meta_model.predict(meta_X)\n"
   ]
  },
  {
   "cell_type": "markdown",
   "metadata": {},
   "source": [
    "Now, we are ready to use all the functions and make our ensemble of models."
   ]
  },
  {
   "cell_type": "code",
   "execution_count": 26,
   "metadata": {},
   "outputs": [
    {
     "name": "stderr",
     "output_type": "stream",
     "text": [
      "\r",
      "  0%|          | 0/10 [00:00<?, ?it/s]"
     ]
    },
    {
     "name": "stdout",
     "output_type": "stream",
     "text": [
      "Train (39004, 13) (39004,) Test (13002, 13) (13002,)\n",
      "\n",
      "Do cross validation to get out-of-fold predictions..\n"
     ]
    },
    {
     "name": "stderr",
     "output_type": "stream",
     "text": [
      "100%|██████████| 10/10 [01:05<00:00,  6.55s/it]"
     ]
    },
    {
     "name": "stdout",
     "output_type": "stream",
     "text": [
      "Meta data set  (39004, 6) (39004,)\n"
     ]
    },
    {
     "name": "stderr",
     "output_type": "stream",
     "text": [
      "\n"
     ]
    }
   ],
   "source": [
    "# We do the \"lazy\" data split with only a training and test split. \n",
    "# If you should do this correct, you should also make a validation set,\n",
    "X, X_val, y, y_val=train_test_split(dataset[features].values, dataset['logLikes'].values,\n",
    "                                    shuffle=True, random_state=42)\n",
    "print('Train', X.shape, y.shape, 'Test', X_val.shape, y_val.shape)\n",
    "\n",
    "# Get models\n",
    "models = get_models()\n",
    "\n",
    "print(\"\\nDo cross validation to get out-of-fold predictions..\")\n",
    "# Get out of fold predictions, i.e. make predictions with the base models.\n",
    "meta_X, meta_y = get_out_of_fold_predictions(X, y, models)\n",
    "print('Meta data set ', meta_X.shape, meta_y.shape)"
   ]
  },
  {
   "cell_type": "code",
   "execution_count": 27,
   "metadata": {},
   "outputs": [
    {
     "name": "stdout",
     "output_type": "stream",
     "text": [
      "Fitting the base models..\n",
      "Fitting the meta model..\n"
     ]
    }
   ],
   "source": [
    "# Fit base models\n",
    "print(\"Fitting the base models..\")\n",
    "fit_base_models(X, y, models)\n",
    "\n",
    "# Fit the meta model, i.e. make the final prediction given the predictions of the base models.\n",
    "print(\"Fitting the meta model..\")\n",
    "meta_model = fit_meta_model(meta_X, meta_y)"
   ]
  },
  {
   "cell_type": "markdown",
   "metadata": {},
   "source": [
    "Evaluate the models on the test set:"
   ]
  },
  {
   "cell_type": "code",
   "execution_count": 28,
   "metadata": {},
   "outputs": [
    {
     "name": "stdout",
     "output_type": "stream",
     "text": [
      "LinearRegression:\n",
      "\tRMSE 1.2855, MAE 1.0651\n",
      "MLPRegressor:\n",
      "\tRMSE 2.2330, MAE 1.2551\n",
      "KNeighborsRegressor:\n",
      "\tRMSE 1.3618, MAE 1.1075\n",
      "DecisionTreeRegressor:\n",
      "\tRMSE 1.7223, MAE 1.3537\n",
      "XGBRegressor:\n",
      "\tRMSE 1.2165, MAE 1.0026\n",
      "XGBRegressor:\n",
      "\tRMSE 1.2330, MAE 1.0098\n",
      "\n",
      "\n",
      "Super Learner (meta model):\n",
      "\tRMSE 1.2142, MAE 0.9997\n"
     ]
    }
   ],
   "source": [
    "# Evaluate base models (to check the individual performance)\n",
    "evaluate_models(X_val, y_val, models)\n",
    "\n",
    "# Evaluate meta model\n",
    "yhat = super_learner_predictions(X_val, models, meta_model)\n",
    "\n",
    "rmse = sqrt(mean_squared_error(y_val, yhat))\n",
    "mae = mean_absolute_error(y_val, yhat)\n",
    "print(\"\\n\")\n",
    "print('%s:\\n\\tRMSE %.4f, MAE %.4f' % (\"Super Learner (meta model)\", rmse, mae))"
   ]
  },
  {
   "cell_type": "markdown",
   "metadata": {},
   "source": [
    "We see two things: 1) The meta-model is slightly better than the best base model, and 2) XGBoost is just a very good algorithm (at least for this data set). \n",
    "\n",
    "Going back to the goal of predicting the number of likes, we have now found that the ensemble of models is best but maybe not worth the extra effort compared to just applying XGBoost. That said, you should keep in mind that we are predicting the log likes, so the errors will be more significant for the absolute number of likes."
   ]
  }
 ],
 "metadata": {
  "kernelspec": {
   "display_name": "Python 3",
   "language": "python",
   "name": "python3"
  },
  "language_info": {
   "codemirror_mode": {
    "name": "ipython",
    "version": 3
   },
   "file_extension": ".py",
   "mimetype": "text/x-python",
   "name": "python",
   "nbconvert_exporter": "python",
   "pygments_lexer": "ipython3",
   "version": "3.7.9"
  },
  "toc": {
   "base_numbering": 1,
   "nav_menu": {},
   "number_sections": true,
   "sideBar": true,
   "skip_h1_title": false,
   "title_cell": "Table of Contents",
   "title_sidebar": "Contents",
   "toc_cell": false,
   "toc_position": {},
   "toc_section_display": true,
   "toc_window_display": false
  }
 },
 "nbformat": 4,
 "nbformat_minor": 4
}
