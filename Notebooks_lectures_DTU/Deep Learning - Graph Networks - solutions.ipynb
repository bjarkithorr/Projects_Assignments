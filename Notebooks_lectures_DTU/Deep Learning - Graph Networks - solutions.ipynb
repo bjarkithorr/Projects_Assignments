{
 "cells": [
  {
   "cell_type": "markdown",
   "metadata": {
    "id": "PCfR91Ah7hx3"
   },
   "source": [
    "# GNN Notebook\n",
    "*This notebook is based on the colab notebooks at https://pytorch-geometric.readthedocs.io/en/latest/notes/colabs.html*\n",
    "\n",
    "In this notebook we will try out some of the Graph Neural Network methods discussed in Lecture 3. For a recap of the theory go back to the slides from week 3.\n",
    "\n",
    "Luckily for us many of the common GNN models already have available implementations in PyTorch.\n",
    "\n",
    "However, they are implemented in the package `pytorch-geometric` which can be very sensitive to torch and cuda versions when installing. Therefore, unless you are a pip expert, we suggest you upload this notebook to Google Drive and run as a Google Colab Notebook.\n"
   ]
  },
  {
   "cell_type": "markdown",
   "metadata": {
    "id": "zcBg72gu7piL"
   },
   "source": [
    "First we need to install `torch-geometric` on the Google VM as it is not a standard package in Colab"
   ]
  },
  {
   "cell_type": "code",
   "execution_count": 1,
   "metadata": {
    "id": "TlxXfdxQ9FPq"
   },
   "outputs": [],
   "source": [
    "# Install required packages.\n",
    "!pip install -q torch-scatter -f https://pytorch-geometric.com/whl/torch-1.7.0+cu101.html\n",
    "!pip install -q torch-sparse -f https://pytorch-geometric.com/whl/torch-1.7.0+cu101.html\n",
    "!pip install -q torch-geometric"
   ]
  },
  {
   "cell_type": "markdown",
   "metadata": {
    "id": "QrhTBYhz9FxI"
   },
   "source": [
    "Next we need some standard (and by now familiar) packages for training, visualization etc."
   ]
  },
  {
   "cell_type": "code",
   "execution_count": 2,
   "metadata": {
    "id": "j13wiajj9U-B"
   },
   "outputs": [],
   "source": [
    "%matplotlib inline\n",
    "import torch\n",
    "import networkx as nx\n",
    "import matplotlib.pyplot as plt"
   ]
  },
  {
   "cell_type": "markdown",
   "metadata": {
    "id": "VGfL_EwF9VJR"
   },
   "source": [
    "# Node classification"
   ]
  },
  {
   "cell_type": "markdown",
   "metadata": {
    "id": "8ip6_Zor9muz"
   },
   "source": [
    "First we will consider the task of node classification.\n",
    "The goal of the task is to classify unlabeled nodes in a semi-labelled network.\n",
    "To visualize the task lets take at look at one of the most famouse graphs in datascience - the [Zachary's karate club](https://en.wikipedia.org/wiki/Zachary%27s_karate_club).\n",
    "\n",
    "The graph is an overview over which of the 34 students, the nodes in the graph, interacted outside of the karateclub, here indicated by an edge.\n",
    "\n",
    "*''Fun'' fact: This graph is so famous that there is a [Zachary's Karate Club Club](https://networkkarate.tumblr.com/), data scientists are weird like that.*\n"
   ]
  },
  {
   "cell_type": "markdown",
   "metadata": {
    "id": "fFYxp6aTWlAU"
   },
   "source": [
    "Pytorch-Geometric comes with some really nice datasets ready to use, so lets get the KarateClub dataset"
   ]
  },
  {
   "cell_type": "code",
   "execution_count": 3,
   "metadata": {
    "id": "VoOE3o-hSBWT"
   },
   "outputs": [
    {
     "ename": "OSError",
     "evalue": "[WinError 127] The specified procedure could not be found",
     "output_type": "error",
     "traceback": [
      "\u001b[1;31m---------------------------------------------------------------------------\u001b[0m",
      "\u001b[1;31mOSError\u001b[0m                                   Traceback (most recent call last)",
      "\u001b[1;32m<ipython-input-3-ee27979e2ae0>\u001b[0m in \u001b[0;36m<module>\u001b[1;34m\u001b[0m\n\u001b[1;32m----> 1\u001b[1;33m \u001b[1;32mfrom\u001b[0m \u001b[0mtorch_geometric\u001b[0m\u001b[1;33m.\u001b[0m\u001b[0mdatasets\u001b[0m \u001b[1;32mimport\u001b[0m \u001b[0mKarateClub\u001b[0m\u001b[1;33m\u001b[0m\u001b[1;33m\u001b[0m\u001b[0m\n\u001b[0m\u001b[0;32m      2\u001b[0m \u001b[0mdataset\u001b[0m \u001b[1;33m=\u001b[0m \u001b[0mKarateClub\u001b[0m\u001b[1;33m(\u001b[0m\u001b[1;33m)\u001b[0m\u001b[1;33m\u001b[0m\u001b[1;33m\u001b[0m\u001b[0m\n\u001b[0;32m      3\u001b[0m \u001b[0mdata\u001b[0m \u001b[1;33m=\u001b[0m \u001b[0mdataset\u001b[0m\u001b[1;33m[\u001b[0m\u001b[1;36m0\u001b[0m\u001b[1;33m]\u001b[0m\u001b[1;33m\u001b[0m\u001b[1;33m\u001b[0m\u001b[0m\n",
      "\u001b[1;32m~\\Anaconda3\\envs\\BjarkiLord\\lib\\site-packages\\torch_geometric\\__init__.py\u001b[0m in \u001b[0;36m<module>\u001b[1;34m\u001b[0m\n\u001b[0;32m      1\u001b[0m \u001b[1;32mfrom\u001b[0m \u001b[1;33m.\u001b[0m\u001b[0mdebug\u001b[0m \u001b[1;32mimport\u001b[0m \u001b[0mis_debug_enabled\u001b[0m\u001b[1;33m,\u001b[0m \u001b[0mdebug\u001b[0m\u001b[1;33m,\u001b[0m \u001b[0mset_debug\u001b[0m\u001b[1;33m\u001b[0m\u001b[1;33m\u001b[0m\u001b[0m\n\u001b[1;32m----> 2\u001b[1;33m \u001b[1;32mimport\u001b[0m \u001b[0mtorch_geometric\u001b[0m\u001b[1;33m.\u001b[0m\u001b[0mnn\u001b[0m\u001b[1;33m\u001b[0m\u001b[1;33m\u001b[0m\u001b[0m\n\u001b[0m\u001b[0;32m      3\u001b[0m \u001b[1;32mimport\u001b[0m \u001b[0mtorch_geometric\u001b[0m\u001b[1;33m.\u001b[0m\u001b[0mdata\u001b[0m\u001b[1;33m\u001b[0m\u001b[1;33m\u001b[0m\u001b[0m\n\u001b[0;32m      4\u001b[0m \u001b[1;32mimport\u001b[0m \u001b[0mtorch_geometric\u001b[0m\u001b[1;33m.\u001b[0m\u001b[0mdatasets\u001b[0m\u001b[1;33m\u001b[0m\u001b[1;33m\u001b[0m\u001b[0m\n\u001b[0;32m      5\u001b[0m \u001b[1;32mimport\u001b[0m \u001b[0mtorch_geometric\u001b[0m\u001b[1;33m.\u001b[0m\u001b[0mtransforms\u001b[0m\u001b[1;33m\u001b[0m\u001b[1;33m\u001b[0m\u001b[0m\n",
      "\u001b[1;32m~\\Anaconda3\\envs\\BjarkiLord\\lib\\site-packages\\torch_geometric\\nn\\__init__.py\u001b[0m in \u001b[0;36m<module>\u001b[1;34m\u001b[0m\n\u001b[0;32m      1\u001b[0m \u001b[1;32mfrom\u001b[0m \u001b[1;33m.\u001b[0m\u001b[0mmeta\u001b[0m \u001b[1;32mimport\u001b[0m \u001b[0mMetaLayer\u001b[0m\u001b[1;33m\u001b[0m\u001b[1;33m\u001b[0m\u001b[0m\n\u001b[1;32m----> 2\u001b[1;33m \u001b[1;32mfrom\u001b[0m \u001b[1;33m.\u001b[0m\u001b[0mdata_parallel\u001b[0m \u001b[1;32mimport\u001b[0m \u001b[0mDataParallel\u001b[0m\u001b[1;33m\u001b[0m\u001b[1;33m\u001b[0m\u001b[0m\n\u001b[0m\u001b[0;32m      3\u001b[0m \u001b[1;32mfrom\u001b[0m \u001b[1;33m.\u001b[0m\u001b[0mreshape\u001b[0m \u001b[1;32mimport\u001b[0m \u001b[0mReshape\u001b[0m\u001b[1;33m\u001b[0m\u001b[1;33m\u001b[0m\u001b[0m\n\u001b[0;32m      4\u001b[0m \u001b[1;32mfrom\u001b[0m \u001b[1;33m.\u001b[0m\u001b[0mconv\u001b[0m \u001b[1;32mimport\u001b[0m \u001b[1;33m*\u001b[0m  \u001b[1;31m# noqa\u001b[0m\u001b[1;33m\u001b[0m\u001b[1;33m\u001b[0m\u001b[0m\n\u001b[0;32m      5\u001b[0m \u001b[1;32mfrom\u001b[0m \u001b[1;33m.\u001b[0m\u001b[0mnorm\u001b[0m \u001b[1;32mimport\u001b[0m \u001b[1;33m*\u001b[0m  \u001b[1;31m# noqa\u001b[0m\u001b[1;33m\u001b[0m\u001b[1;33m\u001b[0m\u001b[0m\n",
      "\u001b[1;32m~\\Anaconda3\\envs\\BjarkiLord\\lib\\site-packages\\torch_geometric\\nn\\data_parallel.py\u001b[0m in \u001b[0;36m<module>\u001b[1;34m\u001b[0m\n\u001b[0;32m      3\u001b[0m \u001b[1;33m\u001b[0m\u001b[0m\n\u001b[0;32m      4\u001b[0m \u001b[1;32mimport\u001b[0m \u001b[0mtorch\u001b[0m\u001b[1;33m\u001b[0m\u001b[1;33m\u001b[0m\u001b[0m\n\u001b[1;32m----> 5\u001b[1;33m \u001b[1;32mfrom\u001b[0m \u001b[0mtorch_geometric\u001b[0m\u001b[1;33m.\u001b[0m\u001b[0mdata\u001b[0m \u001b[1;32mimport\u001b[0m \u001b[0mBatch\u001b[0m\u001b[1;33m\u001b[0m\u001b[1;33m\u001b[0m\u001b[0m\n\u001b[0m\u001b[0;32m      6\u001b[0m \u001b[1;33m\u001b[0m\u001b[0m\n\u001b[0;32m      7\u001b[0m \u001b[1;33m\u001b[0m\u001b[0m\n",
      "\u001b[1;32m~\\Anaconda3\\envs\\BjarkiLord\\lib\\site-packages\\torch_geometric\\data\\__init__.py\u001b[0m in \u001b[0;36m<module>\u001b[1;34m\u001b[0m\n\u001b[1;32m----> 1\u001b[1;33m \u001b[1;32mfrom\u001b[0m \u001b[1;33m.\u001b[0m\u001b[0mdata\u001b[0m \u001b[1;32mimport\u001b[0m \u001b[0mData\u001b[0m\u001b[1;33m\u001b[0m\u001b[1;33m\u001b[0m\u001b[0m\n\u001b[0m\u001b[0;32m      2\u001b[0m \u001b[1;32mfrom\u001b[0m \u001b[1;33m.\u001b[0m\u001b[0mbatch\u001b[0m \u001b[1;32mimport\u001b[0m \u001b[0mBatch\u001b[0m\u001b[1;33m\u001b[0m\u001b[1;33m\u001b[0m\u001b[0m\n\u001b[0;32m      3\u001b[0m \u001b[1;32mfrom\u001b[0m \u001b[1;33m.\u001b[0m\u001b[0mdataset\u001b[0m \u001b[1;32mimport\u001b[0m \u001b[0mDataset\u001b[0m\u001b[1;33m\u001b[0m\u001b[1;33m\u001b[0m\u001b[0m\n\u001b[0;32m      4\u001b[0m \u001b[1;32mfrom\u001b[0m \u001b[1;33m.\u001b[0m\u001b[0min_memory_dataset\u001b[0m \u001b[1;32mimport\u001b[0m \u001b[0mInMemoryDataset\u001b[0m\u001b[1;33m\u001b[0m\u001b[1;33m\u001b[0m\u001b[0m\n\u001b[0;32m      5\u001b[0m \u001b[1;32mfrom\u001b[0m \u001b[1;33m.\u001b[0m\u001b[0mdataloader\u001b[0m \u001b[1;32mimport\u001b[0m \u001b[0mDataLoader\u001b[0m\u001b[1;33m,\u001b[0m \u001b[0mDataListLoader\u001b[0m\u001b[1;33m,\u001b[0m \u001b[0mDenseDataLoader\u001b[0m\u001b[1;33m\u001b[0m\u001b[1;33m\u001b[0m\u001b[0m\n",
      "\u001b[1;32m~\\Anaconda3\\envs\\BjarkiLord\\lib\\site-packages\\torch_geometric\\data\\data.py\u001b[0m in \u001b[0;36m<module>\u001b[1;34m\u001b[0m\n\u001b[0;32m      6\u001b[0m \u001b[1;32mimport\u001b[0m \u001b[0mtorch\u001b[0m\u001b[1;33m\u001b[0m\u001b[1;33m\u001b[0m\u001b[0m\n\u001b[0;32m      7\u001b[0m \u001b[1;32mimport\u001b[0m \u001b[0mtorch_geometric\u001b[0m\u001b[1;33m\u001b[0m\u001b[1;33m\u001b[0m\u001b[0m\n\u001b[1;32m----> 8\u001b[1;33m \u001b[1;32mfrom\u001b[0m \u001b[0mtorch_sparse\u001b[0m \u001b[1;32mimport\u001b[0m \u001b[0mcoalesce\u001b[0m\u001b[1;33m,\u001b[0m \u001b[0mSparseTensor\u001b[0m\u001b[1;33m\u001b[0m\u001b[1;33m\u001b[0m\u001b[0m\n\u001b[0m\u001b[0;32m      9\u001b[0m from torch_geometric.utils import (contains_isolated_nodes,\n\u001b[0;32m     10\u001b[0m                                    contains_self_loops, is_undirected)\n",
      "\u001b[1;32m~\\Anaconda3\\envs\\BjarkiLord\\lib\\site-packages\\torch_sparse\\__init__.py\u001b[0m in \u001b[0;36m<module>\u001b[1;34m\u001b[0m\n\u001b[0;32m     13\u001b[0m ]:\n\u001b[0;32m     14\u001b[0m     torch.ops.load_library(importlib.machinery.PathFinder().find_spec(\n\u001b[1;32m---> 15\u001b[1;33m         f'{library}_{suffix}', [osp.dirname(__file__)]).origin)\n\u001b[0m\u001b[0;32m     16\u001b[0m \u001b[1;33m\u001b[0m\u001b[0m\n\u001b[0;32m     17\u001b[0m \u001b[1;32mif\u001b[0m \u001b[0mtorch\u001b[0m\u001b[1;33m.\u001b[0m\u001b[0mcuda\u001b[0m\u001b[1;33m.\u001b[0m\u001b[0mis_available\u001b[0m\u001b[1;33m(\u001b[0m\u001b[1;33m)\u001b[0m\u001b[1;33m:\u001b[0m  \u001b[1;31m# pragma: no cover\u001b[0m\u001b[1;33m\u001b[0m\u001b[1;33m\u001b[0m\u001b[0m\n",
      "\u001b[1;32m~\\Anaconda3\\envs\\BjarkiLord\\lib\\site-packages\\torch\\_ops.py\u001b[0m in \u001b[0;36mload_library\u001b[1;34m(self, path)\u001b[0m\n\u001b[0;32m    103\u001b[0m             \u001b[1;31m# static (global) initialization code in order to register custom\u001b[0m\u001b[1;33m\u001b[0m\u001b[1;33m\u001b[0m\u001b[1;33m\u001b[0m\u001b[0m\n\u001b[0;32m    104\u001b[0m             \u001b[1;31m# operators with the JIT.\u001b[0m\u001b[1;33m\u001b[0m\u001b[1;33m\u001b[0m\u001b[1;33m\u001b[0m\u001b[0m\n\u001b[1;32m--> 105\u001b[1;33m             \u001b[0mctypes\u001b[0m\u001b[1;33m.\u001b[0m\u001b[0mCDLL\u001b[0m\u001b[1;33m(\u001b[0m\u001b[0mpath\u001b[0m\u001b[1;33m)\u001b[0m\u001b[1;33m\u001b[0m\u001b[1;33m\u001b[0m\u001b[0m\n\u001b[0m\u001b[0;32m    106\u001b[0m         \u001b[0mself\u001b[0m\u001b[1;33m.\u001b[0m\u001b[0mloaded_libraries\u001b[0m\u001b[1;33m.\u001b[0m\u001b[0madd\u001b[0m\u001b[1;33m(\u001b[0m\u001b[0mpath\u001b[0m\u001b[1;33m)\u001b[0m\u001b[1;33m\u001b[0m\u001b[1;33m\u001b[0m\u001b[0m\n\u001b[0;32m    107\u001b[0m \u001b[1;33m\u001b[0m\u001b[0m\n",
      "\u001b[1;32m~\\Anaconda3\\envs\\BjarkiLord\\lib\\ctypes\\__init__.py\u001b[0m in \u001b[0;36m__init__\u001b[1;34m(self, name, mode, handle, use_errno, use_last_error)\u001b[0m\n\u001b[0;32m    362\u001b[0m \u001b[1;33m\u001b[0m\u001b[0m\n\u001b[0;32m    363\u001b[0m         \u001b[1;32mif\u001b[0m \u001b[0mhandle\u001b[0m \u001b[1;32mis\u001b[0m \u001b[1;32mNone\u001b[0m\u001b[1;33m:\u001b[0m\u001b[1;33m\u001b[0m\u001b[1;33m\u001b[0m\u001b[0m\n\u001b[1;32m--> 364\u001b[1;33m             \u001b[0mself\u001b[0m\u001b[1;33m.\u001b[0m\u001b[0m_handle\u001b[0m \u001b[1;33m=\u001b[0m \u001b[0m_dlopen\u001b[0m\u001b[1;33m(\u001b[0m\u001b[0mself\u001b[0m\u001b[1;33m.\u001b[0m\u001b[0m_name\u001b[0m\u001b[1;33m,\u001b[0m \u001b[0mmode\u001b[0m\u001b[1;33m)\u001b[0m\u001b[1;33m\u001b[0m\u001b[1;33m\u001b[0m\u001b[0m\n\u001b[0m\u001b[0;32m    365\u001b[0m         \u001b[1;32melse\u001b[0m\u001b[1;33m:\u001b[0m\u001b[1;33m\u001b[0m\u001b[1;33m\u001b[0m\u001b[0m\n\u001b[0;32m    366\u001b[0m             \u001b[0mself\u001b[0m\u001b[1;33m.\u001b[0m\u001b[0m_handle\u001b[0m \u001b[1;33m=\u001b[0m \u001b[0mhandle\u001b[0m\u001b[1;33m\u001b[0m\u001b[1;33m\u001b[0m\u001b[0m\n",
      "\u001b[1;31mOSError\u001b[0m: [WinError 127] The specified procedure could not be found"
     ]
    }
   ],
   "source": [
    "from torch_geometric.datasets import KarateClub\n",
    "dataset = KarateClub()\n",
    "data = dataset[0]"
   ]
  },
  {
   "cell_type": "markdown",
   "metadata": {
    "id": "XVCu4u7JW0Mu"
   },
   "source": [
    "The dataset comes with some statistics about the graph. Take a look and see if you can remember what they mean - otherwise Lecture 3 might be worth a revisit."
   ]
  },
  {
   "cell_type": "code",
   "execution_count": null,
   "metadata": {
    "colab": {
     "base_uri": "https://localhost:8080/"
    },
    "id": "_IFdEGx1SP2b",
    "outputId": "89a5cbb5-3dbc-4cf3-fdc1-9d00d423a4dd"
   },
   "outputs": [
    {
     "name": "stdout",
     "output_type": "stream",
     "text": [
      "Dataset: KarateClub():\n",
      "======================\n",
      "Number of graphs: 1\n",
      "Number of features: 34\n",
      "Number of classes: 4\n",
      "======================\n",
      "Number of nodes: 34\n",
      "Number of edges: 156\n",
      "Average node degree: 4.59\n",
      "Contains isolated nodes: False\n",
      "Contains self-loops: False\n",
      "Is undirected: True\n"
     ]
    }
   ],
   "source": [
    "print(f'Dataset: {dataset}:')\n",
    "print('======================')\n",
    "print(f'Number of graphs: {len(dataset)}')\n",
    "print(f'Number of features: {dataset.num_features}')\n",
    "print(f'Number of classes: {dataset.num_classes}')\n",
    "print('======================')\n",
    "print(f'Number of nodes: {data.num_nodes}')\n",
    "print(f'Number of edges: {data.num_edges}')\n",
    "print(f'Average node degree: {data.num_edges / data.num_nodes:.2f}')\n",
    "print(f'Contains isolated nodes: {data.contains_isolated_nodes()}')\n",
    "print(f'Contains self-loops: {data.contains_self_loops()}')\n",
    "print(f'Is undirected: {data.is_undirected()}')"
   ]
  },
  {
   "cell_type": "markdown",
   "metadata": {
    "id": "t5kH72TYXQX6"
   },
   "source": [
    "Lets take a look at the data itself.\n",
    "The node features of the graph are in `data.x`. The Karate Club graph has no node features so this is just an identity matrix."
   ]
  },
  {
   "cell_type": "code",
   "execution_count": null,
   "metadata": {
    "colab": {
     "base_uri": "https://localhost:8080/",
     "height": 284
    },
    "id": "8nzUDiYIXYuo",
    "outputId": "2dda23af-c929-42c3-9b52-e43d7b7326d6"
   },
   "outputs": [
    {
     "data": {
      "text/plain": [
       "<matplotlib.image.AxesImage at 0x7ff2136c7a50>"
      ]
     },
     "execution_count": 5,
     "metadata": {
      "tags": []
     },
     "output_type": "execute_result"
    },
    {
     "data": {
      "image/png": "[encoded data removed]",
      "text/plain": [
       "<Figure size 432x288 with 1 Axes>"
      ]
     },
     "metadata": {
      "needs_background": "light",
      "tags": []
     },
     "output_type": "display_data"
    }
   ],
   "source": [
    "plt.imshow(data.x)"
   ]
  },
  {
   "cell_type": "markdown",
   "metadata": {
    "id": "BRabm3lEdXku"
   },
   "source": [
    "The information about the connections in the graph is given in the edge list format in `data.edge_index`"
   ]
  },
  {
   "cell_type": "code",
   "execution_count": null,
   "metadata": {
    "colab": {
     "base_uri": "https://localhost:8080/"
    },
    "id": "uUy3bIIUYMWF",
    "outputId": "2a5bb727-3eae-40ea-b45a-bfd453af9e41"
   },
   "outputs": [
    {
     "data": {
      "text/plain": [
       "tensor([[ 0,  1],\n",
       "        [ 0,  2],\n",
       "        [ 0,  3],\n",
       "        [ 0,  4],\n",
       "        [ 0,  5],\n",
       "        [ 0,  6],\n",
       "        [ 0,  7],\n",
       "        [ 0,  8],\n",
       "        [ 0, 10],\n",
       "        [ 0, 11],\n",
       "        [ 0, 12],\n",
       "        [ 0, 13],\n",
       "        [ 0, 17],\n",
       "        [ 0, 19],\n",
       "        [ 0, 21],\n",
       "        [ 0, 31],\n",
       "        [ 1,  0],\n",
       "        [ 1,  2],\n",
       "        [ 1,  3],\n",
       "        [ 1,  7],\n",
       "        [ 1, 13],\n",
       "        [ 1, 17],\n",
       "        [ 1, 19],\n",
       "        [ 1, 21],\n",
       "        [ 1, 30],\n",
       "        [ 2,  0],\n",
       "        [ 2,  1],\n",
       "        [ 2,  3],\n",
       "        [ 2,  7],\n",
       "        [ 2,  8],\n",
       "        [ 2,  9],\n",
       "        [ 2, 13],\n",
       "        [ 2, 27],\n",
       "        [ 2, 28],\n",
       "        [ 2, 32],\n",
       "        [ 3,  0],\n",
       "        [ 3,  1],\n",
       "        [ 3,  2],\n",
       "        [ 3,  7],\n",
       "        [ 3, 12],\n",
       "        [ 3, 13],\n",
       "        [ 4,  0],\n",
       "        [ 4,  6],\n",
       "        [ 4, 10],\n",
       "        [ 5,  0],\n",
       "        [ 5,  6],\n",
       "        [ 5, 10],\n",
       "        [ 5, 16],\n",
       "        [ 6,  0],\n",
       "        [ 6,  4],\n",
       "        [ 6,  5],\n",
       "        [ 6, 16],\n",
       "        [ 7,  0],\n",
       "        [ 7,  1],\n",
       "        [ 7,  2],\n",
       "        [ 7,  3],\n",
       "        [ 8,  0],\n",
       "        [ 8,  2],\n",
       "        [ 8, 30],\n",
       "        [ 8, 32],\n",
       "        [ 8, 33],\n",
       "        [ 9,  2],\n",
       "        [ 9, 33],\n",
       "        [10,  0],\n",
       "        [10,  4],\n",
       "        [10,  5],\n",
       "        [11,  0],\n",
       "        [12,  0],\n",
       "        [12,  3],\n",
       "        [13,  0],\n",
       "        [13,  1],\n",
       "        [13,  2],\n",
       "        [13,  3],\n",
       "        [13, 33],\n",
       "        [14, 32],\n",
       "        [14, 33],\n",
       "        [15, 32],\n",
       "        [15, 33],\n",
       "        [16,  5],\n",
       "        [16,  6],\n",
       "        [17,  0],\n",
       "        [17,  1],\n",
       "        [18, 32],\n",
       "        [18, 33],\n",
       "        [19,  0],\n",
       "        [19,  1],\n",
       "        [19, 33],\n",
       "        [20, 32],\n",
       "        [20, 33],\n",
       "        [21,  0],\n",
       "        [21,  1],\n",
       "        [22, 32],\n",
       "        [22, 33],\n",
       "        [23, 25],\n",
       "        [23, 27],\n",
       "        [23, 29],\n",
       "        [23, 32],\n",
       "        [23, 33],\n",
       "        [24, 25],\n",
       "        [24, 27],\n",
       "        [24, 31],\n",
       "        [25, 23],\n",
       "        [25, 24],\n",
       "        [25, 31],\n",
       "        [26, 29],\n",
       "        [26, 33],\n",
       "        [27,  2],\n",
       "        [27, 23],\n",
       "        [27, 24],\n",
       "        [27, 33],\n",
       "        [28,  2],\n",
       "        [28, 31],\n",
       "        [28, 33],\n",
       "        [29, 23],\n",
       "        [29, 26],\n",
       "        [29, 32],\n",
       "        [29, 33],\n",
       "        [30,  1],\n",
       "        [30,  8],\n",
       "        [30, 32],\n",
       "        [30, 33],\n",
       "        [31,  0],\n",
       "        [31, 24],\n",
       "        [31, 25],\n",
       "        [31, 28],\n",
       "        [31, 32],\n",
       "        [31, 33],\n",
       "        [32,  2],\n",
       "        [32,  8],\n",
       "        [32, 14],\n",
       "        [32, 15],\n",
       "        [32, 18],\n",
       "        [32, 20],\n",
       "        [32, 22],\n",
       "        [32, 23],\n",
       "        [32, 29],\n",
       "        [32, 30],\n",
       "        [32, 31],\n",
       "        [32, 33],\n",
       "        [33,  8],\n",
       "        [33,  9],\n",
       "        [33, 13],\n",
       "        [33, 14],\n",
       "        [33, 15],\n",
       "        [33, 18],\n",
       "        [33, 19],\n",
       "        [33, 20],\n",
       "        [33, 22],\n",
       "        [33, 23],\n",
       "        [33, 26],\n",
       "        [33, 27],\n",
       "        [33, 28],\n",
       "        [33, 29],\n",
       "        [33, 30],\n",
       "        [33, 31],\n",
       "        [33, 32]])"
      ]
     },
     "execution_count": 6,
     "metadata": {
      "tags": []
     },
     "output_type": "execute_result"
    }
   ],
   "source": [
    "data.edge_index.T"
   ]
  },
  {
   "cell_type": "markdown",
   "metadata": {
    "id": "OwALqZRacO0R"
   },
   "source": [
    "The other format to give the connections in a graph is by the adjacancy matrix.\n",
    "The data is exactly the same so you can convert the edge list to an adjacancy matrix"
   ]
  },
  {
   "cell_type": "code",
   "execution_count": null,
   "metadata": {
    "id": "DSWi-40tc4Rs"
   },
   "outputs": [],
   "source": [
    "#adj_matrix = \n",
    "# Your code here\n",
    "\n",
    "# Solution\n",
    "from torch_geometric.utils import to_scipy_sparse_matrix\n",
    "adj_matrix = to_scipy_sparse_matrix(data.edge_index).todense()"
   ]
  },
  {
   "cell_type": "markdown",
   "metadata": {
    "id": "mDEJGuR-eHDd"
   },
   "source": [
    "Since the adjacancy matrix is a matrix (...) we can visualize it with `plt.imshow`"
   ]
  },
  {
   "cell_type": "code",
   "execution_count": null,
   "metadata": {
    "colab": {
     "base_uri": "https://localhost:8080/",
     "height": 284
    },
    "id": "8FM6zkObdE9c",
    "outputId": "298ba429-3ac7-4784-9ac6-b5a1224b575f"
   },
   "outputs": [
    {
     "data": {
      "text/plain": [
       "<matplotlib.image.AxesImage at 0x7ff2131bbe10>"
      ]
     },
     "execution_count": 8,
     "metadata": {
      "tags": []
     },
     "output_type": "execute_result"
    },
    {
     "data": {
      "image/png": "[encoded data removed]",
      "text/plain": [
       "<Figure size 432x288 with 1 Axes>"
      ]
     },
     "metadata": {
      "needs_background": "light",
      "tags": []
     },
     "output_type": "display_data"
    }
   ],
   "source": [
    "plt.imshow(adj_matrix)"
   ]
  },
  {
   "cell_type": "markdown",
   "metadata": {
    "id": "jn2HihfEevjA"
   },
   "source": [
    "The labels of the nodes is saved in `data.y`"
   ]
  },
  {
   "cell_type": "code",
   "execution_count": null,
   "metadata": {
    "colab": {
     "base_uri": "https://localhost:8080/"
    },
    "id": "cpFB2Q7Keyuu",
    "outputId": "3e24cf03-21ef-4e35-8d8c-f03885053367"
   },
   "outputs": [
    {
     "data": {
      "text/plain": [
       "tensor([0, 0, 0, 0, 1, 1, 1, 0, 3, 3, 1, 0, 0, 0, 3, 3, 1, 0, 3, 0, 3, 0, 3, 2,\n",
       "        2, 2, 3, 2, 2, 3, 3, 2, 3, 3])"
      ]
     },
     "execution_count": 9,
     "metadata": {
      "tags": []
     },
     "output_type": "execute_result"
    }
   ],
   "source": [
    "data.y"
   ]
  },
  {
   "cell_type": "markdown",
   "metadata": {
    "id": "qq4x1FJ8f6da"
   },
   "source": [
    "We can then use the graph to visualize the node classification task.\n",
    "First we mask some of the labels.\n"
   ]
  },
  {
   "cell_type": "code",
   "execution_count": null,
   "metadata": {
    "id": "TGyHaeFVe0fZ"
   },
   "outputs": [],
   "source": [
    "import random\n",
    "masked_labels = data.y.clone()\n",
    "random_nodes = random.sample(list(range(len(masked_labels))), 4)\n",
    "for node in random_nodes:\n",
    "    masked_labels[node] = 4"
   ]
  },
  {
   "cell_type": "markdown",
   "metadata": {
    "id": "bIVhyGMogFBT"
   },
   "source": [
    "So the graph we have is semi-labelled, i.e. some nodes are labelled, some are not. (Note that here the \"unlabelled\" nodes are just labelled as a non-existing class 4 for visualizing)"
   ]
  },
  {
   "cell_type": "code",
   "execution_count": null,
   "metadata": {
    "colab": {
     "base_uri": "https://localhost:8080/",
     "height": 575
    },
    "id": "blZVAz-iemvz",
    "outputId": "97534c39-d003-45d1-c5c5-ec6c53430687"
   },
   "outputs": [
    {
     "data": {
      "image/png": "[encoded data removed]",
      "text/plain": [
       "<Figure size 720x720 with 1 Axes>"
      ]
     },
     "metadata": {
      "tags": []
     },
     "output_type": "display_data"
    }
   ],
   "source": [
    "from torch_geometric.utils import to_networkx\n",
    "\n",
    "G = to_networkx(data, to_undirected=True)\n",
    "plt.figure(figsize=(10,10))\n",
    "nx.draw_networkx(G, pos=nx.spring_layout(G, seed=42), with_labels=False, node_color=masked_labels, cmap=\"Set2\")"
   ]
  },
  {
   "cell_type": "markdown",
   "metadata": {
    "id": "0SV8QD6nf1sQ"
   },
   "source": [
    "The goal is then to infer the missing node labels based on the graph and features to get as close as possible to the true labels:"
   ]
  },
  {
   "cell_type": "code",
   "execution_count": null,
   "metadata": {
    "colab": {
     "base_uri": "https://localhost:8080/",
     "height": 575
    },
    "id": "oaifE4BZgoFI",
    "outputId": "c9637472-1dda-42bd-a451-ee20d17a8154"
   },
   "outputs": [
    {
     "data": {
      "image/png": "[encoded data removed]",
      "text/plain": [
       "<Figure size 720x720 with 1 Axes>"
      ]
     },
     "metadata": {
      "tags": []
     },
     "output_type": "display_data"
    }
   ],
   "source": [
    "G = to_networkx(data, to_undirected=True)\n",
    "plt.figure(figsize=(10,10))\n",
    "nx.draw_networkx(G, pos=nx.spring_layout(G, seed=42), with_labels=False, node_color=data.y, cmap=\"Set2\")"
   ]
  },
  {
   "cell_type": "markdown",
   "metadata": {
    "id": "OYoyJYlASB_m"
   },
   "source": [
    "# Node classification on semi-labelled graph"
   ]
  },
  {
   "cell_type": "markdown",
   "metadata": {
    "id": "_gAYeqwxh9Eq"
   },
   "source": [
    "Instead of doing node classification on the small Karate Club graph we will turn to a much larger graph. Namely the [Cora dataset](https://paperswithcode.com/dataset/cora). The dataset consists of 2708 publications, each represented by a node. The edges in the graph are citations (made undirected). The feature of each node is a binary Bag-Of-Word vector using a dictionary of 1433 words."
   ]
  },
  {
   "cell_type": "markdown",
   "metadata": {
    "id": "90Ai1BH0j1d3"
   },
   "source": [
    "Again the dataset available in pytorch_geometric"
   ]
  },
  {
   "cell_type": "code",
   "execution_count": null,
   "metadata": {
    "id": "GUawBwE49wdl"
   },
   "outputs": [],
   "source": [
    "from torch_geometric.datasets import Planetoid\n",
    "from torch_geometric.transforms import NormalizeFeatures\n",
    "\n",
    "dataset = Planetoid(root='data/Planetoid', name='Cora')\n"
   ]
  },
  {
   "cell_type": "markdown",
   "metadata": {
    "id": "BLdhXt-6tGrQ"
   },
   "source": [
    "along with some statistics:"
   ]
  },
  {
   "cell_type": "code",
   "execution_count": null,
   "metadata": {
    "colab": {
     "base_uri": "https://localhost:8080/"
    },
    "id": "s-lcrmzV99HE",
    "outputId": "6016abf1-736d-405d-8a29-79bf03369b13"
   },
   "outputs": [
    {
     "name": "stdout",
     "output_type": "stream",
     "text": [
      "\n",
      "Dataset: Cora():\n",
      "======================\n",
      "Number of graphs: 1\n",
      "Number of features: 1433\n",
      "Number of classes: 7\n",
      "\n",
      "Data(edge_index=[2, 10556], test_mask=[2708], train_mask=[2708], val_mask=[2708], x=[2708, 1433], y=[2708])\n",
      "===========================================================================================================\n",
      "Number of nodes: 2708\n",
      "Number of edges: 10556\n",
      "Average node degree: 3.90\n",
      "Number of training nodes: 140\n",
      "Training node label rate: 0.05\n",
      "Contains isolated nodes: False\n",
      "Contains self-loops: False\n",
      "Is undirected: True\n"
     ]
    }
   ],
   "source": [
    "print()\n",
    "print(f'Dataset: {dataset}:')\n",
    "print('======================')\n",
    "print(f'Number of graphs: {len(dataset)}')\n",
    "print(f'Number of features: {dataset.num_features}')\n",
    "print(f'Number of classes: {dataset.num_classes}')\n",
    "\n",
    "data = dataset[0]  # Get the first graph object.\n",
    "\n",
    "print()\n",
    "print(data)\n",
    "print('===========================================================================================================')\n",
    "\n",
    "# Gather some statistics about the graph.\n",
    "print(f'Number of nodes: {data.num_nodes}')\n",
    "print(f'Number of edges: {data.num_edges}')\n",
    "print(f'Average node degree: {data.num_edges / data.num_nodes:.2f}')\n",
    "print(f'Number of training nodes: {data.train_mask.sum()}')\n",
    "print(f'Training node label rate: {int(data.train_mask.sum()) / data.num_nodes:.2f}')\n",
    "print(f'Contains isolated nodes: {data.contains_isolated_nodes()}')\n",
    "print(f'Contains self-loops: {data.contains_self_loops()}')\n",
    "print(f'Is undirected: {data.is_undirected()}')"
   ]
  },
  {
   "cell_type": "markdown",
   "metadata": {
    "id": "FtMGMh9StLLg"
   },
   "source": [
    "Worth noting here is the \"Training node label rate\" - We are trying to classify all of the nodes using a graph with only 0.05% labels during traning!\n",
    "\n",
    "For this notebook we will use the traning and the test set. In order to get the test and training labels we use a mask to extract the label sets from all of the labels:"
   ]
  },
  {
   "cell_type": "code",
   "execution_count": null,
   "metadata": {
    "colab": {
     "base_uri": "https://localhost:8080/"
    },
    "id": "EP3LJmdeZp-g",
    "outputId": "5b089fd0-37bd-4b2c-ccee-7497924f310e"
   },
   "outputs": [
    {
     "name": "stdout",
     "output_type": "stream",
     "text": [
      "Number of train labels: 140\n",
      "Number of test labels: 1000\n"
     ]
    }
   ],
   "source": [
    "train_labels = data.y[data.train_mask]\n",
    "test_labels = data.y[data.test_mask]\n",
    "\n",
    "print(f\"Number of train labels: {len(train_labels)}\")\n",
    "print(f\"Number of test labels: {len(test_labels)}\")"
   ]
  },
  {
   "cell_type": "markdown",
   "metadata": {
    "id": "3lJUK8LncrB8"
   },
   "source": [
    "So we have 140 train labels that we train on. We will then test the classification accuracy on 1000 test labels."
   ]
  },
  {
   "cell_type": "code",
   "execution_count": null,
   "metadata": {
    "id": "QCRcP1g1lQAi"
   },
   "outputs": [],
   "source": [
    "data = dataset[0] # Select the graph as data."
   ]
  },
  {
   "cell_type": "markdown",
   "metadata": {
    "id": "wtHCtACR-oay"
   },
   "source": [
    "# Classification with a simple MLP network\n"
   ]
  },
  {
   "cell_type": "markdown",
   "metadata": {
    "id": "1BtSs9Mzte6J"
   },
   "source": [
    "First we will create a baseline to compare the GCN model against.\n",
    "\n",
    "If we see each node as a seperate observation, the task becomes classification based on a BoW vector - something that can be done with multiple different ML architectures.\n",
    "Here we will create a simple multi layer perceptron (MLP) model using simple linear layers.\n",
    "\n",
    "The model takes as input the 1433 dimensional BoW vector and returns a 7 dimensional vector of logits for the different clases.\n",
    "\n",
    "Initially, let's try an implementation with 2 layers:"
   ]
  },
  {
   "cell_type": "code",
   "execution_count": null,
   "metadata": {
    "id": "bOWKIf44eoPx"
   },
   "outputs": [],
   "source": [
    "import torch\n",
    "from torch import nn\n",
    "import torch.nn.functional as F"
   ]
  },
  {
   "cell_type": "markdown",
   "metadata": {
    "id": "NPuoNBDMGTgK"
   },
   "source": [
    "If you never implemented a neural network in PyTorch, it is not that complicated. It resembles the functional API of Keras, but we always \"encapsulate\" our neural network models in a Python class that extends the ``nn.Module`` class of PyTorch. Then, all we need to do is define the ``__init__()`` and ``forward()`` methods that initialize the networks layers and define a forward pass through the neural network, respectively. \n",
    "\n",
    "See if the following code makes sense to you. Otherwise, don't be shy to ask for additional clarifications :-)"
   ]
  },
  {
   "cell_type": "code",
   "execution_count": null,
   "metadata": {
    "id": "c08TiYrJelrE"
   },
   "outputs": [],
   "source": [
    "# Implement a simple 2 layer MLP that take in dataset.num_features and returns dataset.num_classes logits\n",
    "\n",
    "class Simple_MLP(nn.Module):\n",
    "    def __init__(self, n_in, n_hid, n_out):\n",
    "        super().__init__()\n",
    "        \n",
    "        # Initialize neural network layers\n",
    "        self.fc1 = nn.Linear(n_in, n_hid)\n",
    "        self.fc2 = nn.Linear(n_hid, n_out)\n",
    "\n",
    "        nn.init.xavier_normal_(self.fc1.weight)\n",
    "        nn.init.xavier_normal_(self.fc2.weight)\n",
    "        \n",
    "    def forward(self, x):\n",
    "        # Define forward pass through the neural network - i.e. the sequence of layers and transformations of the inputs x\n",
    "        x = self.fc1(x)\n",
    "        x = x.relu()\n",
    "        x = F.dropout(x, p=0.5, training=self.training)\n",
    "        x = self.fc2(x)\n",
    "\n",
    "        return x"
   ]
  },
  {
   "cell_type": "markdown",
   "metadata": {
    "id": "Sm4_sQvcuPY3"
   },
   "source": [
    "Next we set up the model, loss function and optimizer.\n",
    "Below init the model with the init arguments you implementation needs.\n",
    "For the loss function we use `nn.CrossEntropyLoss` that calculates the cross entropy from logits, i.e. no need to do softmax of the logits outselves.\n",
    "Lastly we use Adam as optimizer."
   ]
  },
  {
   "cell_type": "code",
   "execution_count": null,
   "metadata": {
    "colab": {
     "base_uri": "https://localhost:8080/"
    },
    "id": "G9EwU-fLhEHt",
    "outputId": "161549f3-62c4-4a47-b7e4-4b5ce6cf764c"
   },
   "outputs": [
    {
     "name": "stdout",
     "output_type": "stream",
     "text": [
      "Simple_MLP(\n",
      "  (fc1): Linear(in_features=1433, out_features=16, bias=True)\n",
      "  (fc2): Linear(in_features=16, out_features=7, bias=True)\n",
      ")\n"
     ]
    }
   ],
   "source": [
    "mlp = Simple_MLP(n_in=dataset.num_features, n_hid=16, n_out=dataset.num_classes) # YOUR CODE HERE\n",
    "print(mlp)\n",
    "\n",
    "loss_func = nn.CrossEntropyLoss()\n",
    "optimizer = torch.optim.Adam(mlp.parameters(), lr=0.01, weight_decay=5e-4)"
   ]
  },
  {
   "cell_type": "markdown",
   "metadata": {
    "id": "hyh-nprRunzC"
   },
   "source": [
    "Next we do the trainning, note here that we need to use the mask on the logit outputs to extract the node labels to compare to the test and training labels."
   ]
  },
  {
   "cell_type": "code",
   "execution_count": null,
   "metadata": {
    "colab": {
     "base_uri": "https://localhost:8080/"
    },
    "id": "Uj3VU5p5hUm6",
    "outputId": "79163764-dc6e-4cfb-ccda-fff4cc0f665a"
   },
   "outputs": [
    {
     "name": "stdout",
     "output_type": "stream",
     "text": [
      "Epoch: 001, Loss: 1.9897\n",
      "Epoch: 002, Loss: 1.8879\n",
      "Epoch: 003, Loss: 1.7667\n",
      "Epoch: 004, Loss: 1.6907\n",
      "Epoch: 005, Loss: 1.6109\n",
      "Epoch: 006, Loss: 1.5364\n",
      "Epoch: 007, Loss: 1.4014\n",
      "Epoch: 008, Loss: 1.3624\n",
      "Epoch: 009, Loss: 1.1554\n",
      "Epoch: 010, Loss: 1.1207\n",
      "Epoch: 011, Loss: 1.0597\n",
      "Epoch: 012, Loss: 0.9734\n",
      "Epoch: 013, Loss: 0.8937\n",
      "Epoch: 014, Loss: 0.8542\n",
      "Epoch: 015, Loss: 0.8246\n",
      "Epoch: 016, Loss: 0.8310\n",
      "Epoch: 017, Loss: 0.7847\n",
      "Epoch: 018, Loss: 0.6820\n",
      "Epoch: 019, Loss: 0.6669\n",
      "Epoch: 020, Loss: 0.6589\n",
      "Epoch: 021, Loss: 0.5445\n",
      "Epoch: 022, Loss: 0.4734\n",
      "Epoch: 023, Loss: 0.5307\n",
      "Epoch: 024, Loss: 0.4215\n",
      "Epoch: 025, Loss: 0.5724\n",
      "Epoch: 026, Loss: 0.4549\n",
      "Epoch: 027, Loss: 0.4962\n",
      "Epoch: 028, Loss: 0.4624\n",
      "Epoch: 029, Loss: 0.4511\n",
      "Epoch: 030, Loss: 0.3837\n",
      "Epoch: 031, Loss: 0.3271\n",
      "Epoch: 032, Loss: 0.3918\n",
      "Epoch: 033, Loss: 0.4360\n",
      "Epoch: 034, Loss: 0.3358\n",
      "Epoch: 035, Loss: 0.3313\n",
      "Epoch: 036, Loss: 0.2991\n",
      "Epoch: 037, Loss: 0.2754\n",
      "Epoch: 038, Loss: 0.2116\n",
      "Epoch: 039, Loss: 0.2745\n",
      "Epoch: 040, Loss: 0.2814\n",
      "Epoch: 041, Loss: 0.2599\n",
      "Epoch: 042, Loss: 0.3147\n",
      "Epoch: 043, Loss: 0.2852\n",
      "Epoch: 044, Loss: 0.2803\n",
      "Epoch: 045, Loss: 0.2421\n",
      "Epoch: 046, Loss: 0.3613\n",
      "Epoch: 047, Loss: 0.3460\n",
      "Epoch: 048, Loss: 0.2357\n",
      "Epoch: 049, Loss: 0.2360\n",
      "Epoch: 050, Loss: 0.2653\n",
      "Epoch: 051, Loss: 0.2608\n",
      "Epoch: 052, Loss: 0.2599\n",
      "Epoch: 053, Loss: 0.2272\n",
      "Epoch: 054, Loss: 0.2810\n",
      "Epoch: 055, Loss: 0.2815\n",
      "Epoch: 056, Loss: 0.1753\n",
      "Epoch: 057, Loss: 0.2172\n",
      "Epoch: 058, Loss: 0.2197\n",
      "Epoch: 059, Loss: 0.2175\n",
      "Epoch: 060, Loss: 0.2738\n",
      "Epoch: 061, Loss: 0.2909\n",
      "Epoch: 062, Loss: 0.2533\n",
      "Epoch: 063, Loss: 0.2117\n",
      "Epoch: 064, Loss: 0.2202\n",
      "Epoch: 065, Loss: 0.2255\n",
      "Epoch: 066, Loss: 0.2393\n",
      "Epoch: 067, Loss: 0.2574\n",
      "Epoch: 068, Loss: 0.2201\n",
      "Epoch: 069, Loss: 0.2721\n",
      "Epoch: 070, Loss: 0.2982\n",
      "Epoch: 071, Loss: 0.1991\n",
      "Epoch: 072, Loss: 0.2299\n",
      "Epoch: 073, Loss: 0.1779\n",
      "Epoch: 074, Loss: 0.1952\n",
      "Epoch: 075, Loss: 0.1030\n",
      "Epoch: 076, Loss: 0.2330\n",
      "Epoch: 077, Loss: 0.2717\n",
      "Epoch: 078, Loss: 0.3212\n",
      "Epoch: 079, Loss: 0.2767\n",
      "Epoch: 080, Loss: 0.2412\n",
      "Epoch: 081, Loss: 0.2134\n",
      "Epoch: 082, Loss: 0.1893\n",
      "Epoch: 083, Loss: 0.2209\n",
      "Epoch: 084, Loss: 0.1604\n",
      "Epoch: 085, Loss: 0.1877\n",
      "Epoch: 086, Loss: 0.2003\n",
      "Epoch: 087, Loss: 0.1862\n",
      "Epoch: 088, Loss: 0.2127\n",
      "Epoch: 089, Loss: 0.1254\n",
      "Epoch: 090, Loss: 0.2235\n",
      "Epoch: 091, Loss: 0.1568\n",
      "Epoch: 092, Loss: 0.2097\n",
      "Epoch: 093, Loss: 0.2143\n",
      "Epoch: 094, Loss: 0.2435\n",
      "Epoch: 095, Loss: 0.2367\n",
      "Epoch: 096, Loss: 0.2017\n",
      "Epoch: 097, Loss: 0.1667\n",
      "Epoch: 098, Loss: 0.2906\n",
      "Epoch: 099, Loss: 0.1813\n",
      "Epoch: 100, Loss: 0.2237\n",
      "Epoch: 101, Loss: 0.2247\n",
      "Epoch: 102, Loss: 0.2076\n",
      "Epoch: 103, Loss: 0.1971\n",
      "Epoch: 104, Loss: 0.1871\n",
      "Epoch: 105, Loss: 0.2384\n",
      "Epoch: 106, Loss: 0.2381\n",
      "Epoch: 107, Loss: 0.1998\n",
      "Epoch: 108, Loss: 0.2133\n",
      "Epoch: 109, Loss: 0.1578\n",
      "Epoch: 110, Loss: 0.2415\n",
      "Epoch: 111, Loss: 0.2407\n",
      "Epoch: 112, Loss: 0.1793\n",
      "Epoch: 113, Loss: 0.2447\n",
      "Epoch: 114, Loss: 0.2151\n",
      "Epoch: 115, Loss: 0.2133\n",
      "Epoch: 116, Loss: 0.1886\n",
      "Epoch: 117, Loss: 0.2566\n",
      "Epoch: 118, Loss: 0.1681\n",
      "Epoch: 119, Loss: 0.1993\n",
      "Epoch: 120, Loss: 0.2098\n",
      "Epoch: 121, Loss: 0.1315\n",
      "Epoch: 122, Loss: 0.1786\n",
      "Epoch: 123, Loss: 0.2685\n",
      "Epoch: 124, Loss: 0.1615\n",
      "Epoch: 125, Loss: 0.1246\n",
      "Epoch: 126, Loss: 0.2296\n",
      "Epoch: 127, Loss: 0.2396\n",
      "Epoch: 128, Loss: 0.2170\n",
      "Epoch: 129, Loss: 0.2332\n",
      "Epoch: 130, Loss: 0.2108\n",
      "Epoch: 131, Loss: 0.1601\n",
      "Epoch: 132, Loss: 0.2390\n",
      "Epoch: 133, Loss: 0.2029\n",
      "Epoch: 134, Loss: 0.1753\n",
      "Epoch: 135, Loss: 0.2476\n",
      "Epoch: 136, Loss: 0.2163\n",
      "Epoch: 137, Loss: 0.1952\n",
      "Epoch: 138, Loss: 0.2543\n",
      "Epoch: 139, Loss: 0.1834\n",
      "Epoch: 140, Loss: 0.2055\n",
      "Epoch: 141, Loss: 0.1673\n",
      "Epoch: 142, Loss: 0.1475\n",
      "Epoch: 143, Loss: 0.2102\n",
      "Epoch: 144, Loss: 0.1538\n",
      "Epoch: 145, Loss: 0.1771\n",
      "Epoch: 146, Loss: 0.2387\n",
      "Epoch: 147, Loss: 0.1721\n",
      "Epoch: 148, Loss: 0.1621\n",
      "Epoch: 149, Loss: 0.1717\n",
      "Epoch: 150, Loss: 0.1563\n",
      "Epoch: 151, Loss: 0.1972\n",
      "Epoch: 152, Loss: 0.2122\n",
      "Epoch: 153, Loss: 0.2394\n",
      "Epoch: 154, Loss: 0.1828\n",
      "Epoch: 155, Loss: 0.2067\n",
      "Epoch: 156, Loss: 0.2557\n",
      "Epoch: 157, Loss: 0.1019\n",
      "Epoch: 158, Loss: 0.2114\n",
      "Epoch: 159, Loss: 0.1675\n",
      "Epoch: 160, Loss: 0.2356\n",
      "Epoch: 161, Loss: 0.2221\n",
      "Epoch: 162, Loss: 0.1457\n",
      "Epoch: 163, Loss: 0.2364\n",
      "Epoch: 164, Loss: 0.1932\n",
      "Epoch: 165, Loss: 0.1970\n",
      "Epoch: 166, Loss: 0.1844\n",
      "Epoch: 167, Loss: 0.2202\n",
      "Epoch: 168, Loss: 0.2564\n",
      "Epoch: 169, Loss: 0.2502\n",
      "Epoch: 170, Loss: 0.2146\n",
      "Epoch: 171, Loss: 0.2134\n",
      "Epoch: 172, Loss: 0.2086\n",
      "Epoch: 173, Loss: 0.1927\n",
      "Epoch: 174, Loss: 0.2163\n",
      "Epoch: 175, Loss: 0.2140\n",
      "Epoch: 176, Loss: 0.1950\n",
      "Epoch: 177, Loss: 0.2547\n",
      "Epoch: 178, Loss: 0.1682\n",
      "Epoch: 179, Loss: 0.2413\n",
      "Epoch: 180, Loss: 0.1501\n",
      "Epoch: 181, Loss: 0.1761\n",
      "Epoch: 182, Loss: 0.2302\n",
      "Epoch: 183, Loss: 0.1886\n",
      "Epoch: 184, Loss: 0.1821\n",
      "Epoch: 185, Loss: 0.1867\n",
      "Epoch: 186, Loss: 0.2191\n",
      "Epoch: 187, Loss: 0.1561\n",
      "Epoch: 188, Loss: 0.2550\n",
      "Epoch: 189, Loss: 0.1779\n",
      "Epoch: 190, Loss: 0.2366\n",
      "Epoch: 191, Loss: 0.2037\n",
      "Epoch: 192, Loss: 0.2395\n",
      "Epoch: 193, Loss: 0.1697\n",
      "Epoch: 194, Loss: 0.1877\n",
      "Epoch: 195, Loss: 0.2309\n",
      "Epoch: 196, Loss: 0.1942\n",
      "Epoch: 197, Loss: 0.1317\n",
      "Epoch: 198, Loss: 0.1639\n",
      "Epoch: 199, Loss: 0.1624\n",
      "Epoch: 200, Loss: 0.2130\n",
      "Epoch: 201, Loss: 0.1923\n",
      "Epoch: 202, Loss: 0.2096\n",
      "Epoch: 203, Loss: 0.1443\n",
      "Epoch: 204, Loss: 0.1762\n",
      "Epoch: 205, Loss: 0.2298\n",
      "Epoch: 206, Loss: 0.2519\n",
      "Epoch: 207, Loss: 0.2131\n",
      "Epoch: 208, Loss: 0.1749\n",
      "Epoch: 209, Loss: 0.2427\n",
      "Epoch: 210, Loss: 0.2063\n",
      "Epoch: 211, Loss: 0.2069\n",
      "Epoch: 212, Loss: 0.1833\n",
      "Epoch: 213, Loss: 0.2127\n",
      "Epoch: 214, Loss: 0.1601\n",
      "Epoch: 215, Loss: 0.2419\n",
      "Epoch: 216, Loss: 0.1761\n",
      "Epoch: 217, Loss: 0.1977\n",
      "Epoch: 218, Loss: 0.1797\n",
      "Epoch: 219, Loss: 0.1774\n",
      "Epoch: 220, Loss: 0.1815\n",
      "Epoch: 221, Loss: 0.1431\n",
      "Epoch: 222, Loss: 0.1752\n",
      "Epoch: 223, Loss: 0.1761\n",
      "Epoch: 224, Loss: 0.1566\n",
      "Epoch: 225, Loss: 0.2651\n",
      "Epoch: 226, Loss: 0.1895\n",
      "Epoch: 227, Loss: 0.2581\n",
      "Epoch: 228, Loss: 0.1826\n",
      "Epoch: 229, Loss: 0.1554\n",
      "Epoch: 230, Loss: 0.1511\n",
      "Epoch: 231, Loss: 0.2281\n",
      "Epoch: 232, Loss: 0.1975\n",
      "Epoch: 233, Loss: 0.2123\n",
      "Epoch: 234, Loss: 0.1579\n",
      "Epoch: 235, Loss: 0.1492\n",
      "Epoch: 236, Loss: 0.1198\n",
      "Epoch: 237, Loss: 0.1699\n",
      "Epoch: 238, Loss: 0.1649\n",
      "Epoch: 239, Loss: 0.2458\n",
      "Epoch: 240, Loss: 0.2611\n",
      "Epoch: 241, Loss: 0.1534\n",
      "Epoch: 242, Loss: 0.1975\n",
      "Epoch: 243, Loss: 0.2403\n",
      "Epoch: 244, Loss: 0.2059\n",
      "Epoch: 245, Loss: 0.1195\n",
      "Epoch: 246, Loss: 0.1730\n",
      "Epoch: 247, Loss: 0.2039\n",
      "Epoch: 248, Loss: 0.1774\n",
      "Epoch: 249, Loss: 0.2303\n",
      "Epoch: 250, Loss: 0.1523\n",
      "Epoch: 251, Loss: 0.1803\n",
      "Epoch: 252, Loss: 0.2680\n",
      "Epoch: 253, Loss: 0.1665\n",
      "Epoch: 254, Loss: 0.1649\n",
      "Epoch: 255, Loss: 0.1756\n",
      "Epoch: 256, Loss: 0.1753\n",
      "Epoch: 257, Loss: 0.1698\n",
      "Epoch: 258, Loss: 0.2043\n",
      "Epoch: 259, Loss: 0.1981\n",
      "Epoch: 260, Loss: 0.1029\n",
      "Epoch: 261, Loss: 0.2147\n",
      "Epoch: 262, Loss: 0.1809\n",
      "Epoch: 263, Loss: 0.1679\n",
      "Epoch: 264, Loss: 0.1869\n",
      "Epoch: 265, Loss: 0.2978\n",
      "Epoch: 266, Loss: 0.2138\n",
      "Epoch: 267, Loss: 0.1694\n",
      "Epoch: 268, Loss: 0.1930\n",
      "Epoch: 269, Loss: 0.2531\n",
      "Epoch: 270, Loss: 0.2626\n",
      "Epoch: 271, Loss: 0.1888\n",
      "Epoch: 272, Loss: 0.1716\n",
      "Epoch: 273, Loss: 0.1981\n",
      "Epoch: 274, Loss: 0.1175\n",
      "Epoch: 275, Loss: 0.2706\n",
      "Epoch: 276, Loss: 0.1398\n",
      "Epoch: 277, Loss: 0.1548\n",
      "Epoch: 278, Loss: 0.2328\n",
      "Epoch: 279, Loss: 0.1839\n",
      "Epoch: 280, Loss: 0.2056\n",
      "Epoch: 281, Loss: 0.2862\n",
      "Epoch: 282, Loss: 0.1938\n",
      "Epoch: 283, Loss: 0.2103\n",
      "Epoch: 284, Loss: 0.2254\n",
      "Epoch: 285, Loss: 0.1913\n",
      "Epoch: 286, Loss: 0.2359\n",
      "Epoch: 287, Loss: 0.2016\n",
      "Epoch: 288, Loss: 0.1288\n",
      "Epoch: 289, Loss: 0.1600\n",
      "Epoch: 290, Loss: 0.2078\n",
      "Epoch: 291, Loss: 0.1586\n",
      "Epoch: 292, Loss: 0.1501\n",
      "Epoch: 293, Loss: 0.1849\n",
      "Epoch: 294, Loss: 0.2029\n",
      "Epoch: 295, Loss: 0.1925\n",
      "Epoch: 296, Loss: 0.2387\n",
      "Epoch: 297, Loss: 0.3047\n",
      "Epoch: 298, Loss: 0.1924\n",
      "Epoch: 299, Loss: 0.2804\n",
      "Epoch: 300, Loss: 0.1776\n",
      "Epoch: 301, Loss: 0.1619\n",
      "Epoch: 302, Loss: 0.2486\n",
      "Epoch: 303, Loss: 0.2271\n",
      "Epoch: 304, Loss: 0.2379\n",
      "Epoch: 305, Loss: 0.1683\n",
      "Epoch: 306, Loss: 0.2563\n",
      "Epoch: 307, Loss: 0.1302\n",
      "Epoch: 308, Loss: 0.1447\n",
      "Epoch: 309, Loss: 0.2908\n",
      "Epoch: 310, Loss: 0.1893\n",
      "Epoch: 311, Loss: 0.1738\n",
      "Epoch: 312, Loss: 0.2017\n",
      "Epoch: 313, Loss: 0.1520\n",
      "Epoch: 314, Loss: 0.1399\n",
      "Epoch: 315, Loss: 0.2306\n",
      "Epoch: 316, Loss: 0.1265\n",
      "Epoch: 317, Loss: 0.1814\n",
      "Epoch: 318, Loss: 0.1417\n",
      "Epoch: 319, Loss: 0.2027\n",
      "Epoch: 320, Loss: 0.1238\n",
      "Epoch: 321, Loss: 0.1915\n",
      "Epoch: 322, Loss: 0.1836\n",
      "Epoch: 323, Loss: 0.2005\n",
      "Epoch: 324, Loss: 0.1978\n",
      "Epoch: 325, Loss: 0.1739\n",
      "Epoch: 326, Loss: 0.2012\n",
      "Epoch: 327, Loss: 0.2054\n",
      "Epoch: 328, Loss: 0.1971\n",
      "Epoch: 329, Loss: 0.1530\n",
      "Epoch: 330, Loss: 0.1825\n",
      "Epoch: 331, Loss: 0.1895\n",
      "Epoch: 332, Loss: 0.1881\n",
      "Epoch: 333, Loss: 0.1899\n",
      "Epoch: 334, Loss: 0.1881\n",
      "Epoch: 335, Loss: 0.1515\n",
      "Epoch: 336, Loss: 0.1239\n",
      "Epoch: 337, Loss: 0.1914\n",
      "Epoch: 338, Loss: 0.1987\n",
      "Epoch: 339, Loss: 0.2204\n",
      "Epoch: 340, Loss: 0.2095\n",
      "Epoch: 341, Loss: 0.2437\n",
      "Epoch: 342, Loss: 0.1868\n",
      "Epoch: 343, Loss: 0.1361\n",
      "Epoch: 344, Loss: 0.1895\n",
      "Epoch: 345, Loss: 0.1067\n",
      "Epoch: 346, Loss: 0.1816\n",
      "Epoch: 347, Loss: 0.1908\n",
      "Epoch: 348, Loss: 0.1431\n",
      "Epoch: 349, Loss: 0.1374\n",
      "Epoch: 350, Loss: 0.1875\n",
      "Epoch: 351, Loss: 0.1409\n",
      "Epoch: 352, Loss: 0.1534\n",
      "Epoch: 353, Loss: 0.2041\n",
      "Epoch: 354, Loss: 0.1499\n",
      "Epoch: 355, Loss: 0.2385\n",
      "Epoch: 356, Loss: 0.2330\n",
      "Epoch: 357, Loss: 0.1692\n",
      "Epoch: 358, Loss: 0.1889\n",
      "Epoch: 359, Loss: 0.1572\n",
      "Epoch: 360, Loss: 0.1419\n",
      "Epoch: 361, Loss: 0.1642\n",
      "Epoch: 362, Loss: 0.2038\n",
      "Epoch: 363, Loss: 0.1783\n",
      "Epoch: 364, Loss: 0.2439\n",
      "Epoch: 365, Loss: 0.1473\n",
      "Epoch: 366, Loss: 0.1658\n",
      "Epoch: 367, Loss: 0.1733\n",
      "Epoch: 368, Loss: 0.2067\n",
      "Epoch: 369, Loss: 0.1672\n",
      "Epoch: 370, Loss: 0.1946\n",
      "Epoch: 371, Loss: 0.1633\n",
      "Epoch: 372, Loss: 0.2497\n",
      "Epoch: 373, Loss: 0.1676\n",
      "Epoch: 374, Loss: 0.3006\n",
      "Epoch: 375, Loss: 0.1032\n",
      "Epoch: 376, Loss: 0.1807\n",
      "Epoch: 377, Loss: 0.1975\n",
      "Epoch: 378, Loss: 0.1700\n",
      "Epoch: 379, Loss: 0.2095\n",
      "Epoch: 380, Loss: 0.2138\n",
      "Epoch: 381, Loss: 0.1801\n",
      "Epoch: 382, Loss: 0.1993\n",
      "Epoch: 383, Loss: 0.2223\n",
      "Epoch: 384, Loss: 0.2374\n",
      "Epoch: 385, Loss: 0.1459\n",
      "Epoch: 386, Loss: 0.2397\n",
      "Epoch: 387, Loss: 0.1646\n",
      "Epoch: 388, Loss: 0.1963\n",
      "Epoch: 389, Loss: 0.1716\n",
      "Epoch: 390, Loss: 0.1295\n",
      "Epoch: 391, Loss: 0.1482\n",
      "Epoch: 392, Loss: 0.1688\n",
      "Epoch: 393, Loss: 0.1757\n",
      "Epoch: 394, Loss: 0.1463\n",
      "Epoch: 395, Loss: 0.1801\n",
      "Epoch: 396, Loss: 0.2241\n",
      "Epoch: 397, Loss: 0.1420\n",
      "Epoch: 398, Loss: 0.2057\n",
      "Epoch: 399, Loss: 0.2008\n",
      "Epoch: 400, Loss: 0.1534\n"
     ]
    }
   ],
   "source": [
    "def train():\n",
    "    mlp.train()\n",
    "    optimizer.zero_grad()\n",
    "    out = mlp(data.x)\n",
    "    loss = loss_func(out[data.train_mask], train_labels) # We use the dataset mask to only base the loss on the training data\n",
    "    loss.backward()\n",
    "    optimizer.step()\n",
    "    return loss\n",
    "\n",
    "def test():\n",
    "    mlp.eval()\n",
    "    out = mlp(data.x)\n",
    "    pred = out.argmax(dim=1) # Go from logits to class prediction\n",
    "    test_correct = pred[data.test_mask] == test_labels  # Check against ground-truth labels.\n",
    "    test_acc = int(test_correct.sum()) / len(test_labels)  # Derive ratio of correct predictions.\n",
    "    return test_acc\n",
    "\n",
    "for epoch in range(1, 401):\n",
    "    loss = train()\n",
    "    print(f'Epoch: {epoch:03d}, Loss: {loss:.4f}')"
   ]
  },
  {
   "cell_type": "code",
   "execution_count": null,
   "metadata": {
    "colab": {
     "base_uri": "https://localhost:8080/"
    },
    "id": "xSLzoflFhhhm",
    "outputId": "99ae2a33-182b-44b3-d4c0-fffd8772211c"
   },
   "outputs": [
    {
     "name": "stdout",
     "output_type": "stream",
     "text": [
      "Test Accuracy: 0.5810\n"
     ]
    }
   ],
   "source": [
    "test_acc = test()\n",
    "print(f'Test Accuracy: {test_acc:.4f}')"
   ]
  },
  {
   "cell_type": "markdown",
   "metadata": {
    "id": "ySKsSGvCjz4Q"
   },
   "source": [
    "Given that there are 16 different classes in the dataset a simple MLP model should be able to achieve a test accuracy around ~0.55 - Not great but it is certainly better than random guessing.\n",
    "\n",
    "However the MLPs classification is only based on node features i.e. the bag-of-word. Hence all of the information in the graph structure is not used at all.\n",
    "\n"
   ]
  },
  {
   "cell_type": "markdown",
   "metadata": {
    "id": "345tOkjSi_pz"
   },
   "source": [
    "# Classification with a GCN [Kipf et al]"
   ]
  },
  {
   "cell_type": "markdown",
   "metadata": {
    "id": "l9Wr-rMznGOz"
   },
   "source": [
    "GN's aim to make proper use of this data. One of the first GN models to do this is the Graph Convolution Network (GCN) from Kipf et al. (https://arxiv.org/abs/1609.02907).\n",
    "\n",
    "The model is a simplifaction spectral convolution but can also be thought of as message passing between the nodes or a generalization of CNN to graphs. See slides from lecture 3 for a recap.\n",
    "\n",
    "The propagation rule in the GCN is defined as\n",
    "\n",
    "$H^{(l+1)}=f(H^{(l)}, A)=\\sigma\\left(\\tilde{D}^{-\\frac{1}{2}} \\tilde{A} \\tilde{D}^{-\\frac{1}{2}} H^{(l)} W^{(l)}\\right)$\n",
    "\n",
    "where $H^{(l)}$ is the embeddings in the $l$'th layer, $\\tilde{A}=A+I_{N}$ where $A$ is the adjacancy matrix and $\\tilde{D}_{i i}=\\sum_{j} \\tilde{A}_{i j}$.\n",
    "\n",
    "The $\\tilde{D}^{-\\frac{1}{2}} \\tilde{A} \\tilde{D}^{-\\frac{1}{2}}$ part of the rule aggregates and normalizes over the nodes 1-hop neighbourhood propagating the signal through the graph. Since each layer propagates to the 1-hop neighbours, what happens if we stack multiple layers?\n",
    "\n",
    "The GCN layer is also implemented in pytorch_geometric in `torch_geometric.nn.GCNConv`, hence implementing a GCN model is no harder than the simple MLP model. All you need to do is to use the ``GCNConv`` class from ``torch_geometric.nn`` instead of \"standard\" fully-connected layers like you did before. Can you now try to adapt the code from the previous fully connected neural network to use ``GCNConv`` layers instead?  \n",
    "\n",
    "Implement a 2-layer GCN model with the same dimension in the hidden layer as your MLP implementation:"
   ]
  },
  {
   "cell_type": "code",
   "execution_count": null,
   "metadata": {
    "id": "pzq9fqNojwyJ"
   },
   "outputs": [],
   "source": [
    "from torch_geometric.nn import GCNConv\n",
    "\n",
    "class GCN(nn.Module):\n",
    "    def __init__(self, n_in, n_hid, n_out):\n",
    "        super().__init__()\n",
    "\n",
    "        self.layer1 = GCNConv(n_in, n_hid)\n",
    "        self.layer2 = GCNConv(n_hid, n_out)\n",
    "\n",
    "    def forward(self, x, edge_index):\n",
    "        x = self.layer1(x, edge_index)\n",
    "        x = x.relu()\n",
    "        x = F.dropout(x, p=0.5, training=self.training)\n",
    "        x = self.layer2(x, edge_index)\n",
    "        \n",
    "        return x"
   ]
  },
  {
   "cell_type": "markdown",
   "metadata": {
    "id": "3wooutAFkhtZ"
   },
   "source": [
    "With the GCN implementation we can use the same training procedure as for the MLP model"
   ]
  },
  {
   "cell_type": "code",
   "execution_count": null,
   "metadata": {
    "colab": {
     "base_uri": "https://localhost:8080/"
    },
    "id": "vP8ruN16Enyu",
    "outputId": "9ca47846-17ff-44e5-dd5f-51394cb93c16"
   },
   "outputs": [
    {
     "name": "stdout",
     "output_type": "stream",
     "text": [
      "GCN(\n",
      "  (layer1): GCNConv(1433, 16)\n",
      "  (layer2): GCNConv(16, 7)\n",
      ")\n"
     ]
    }
   ],
   "source": [
    "gcn = GCN(n_in=dataset.num_features, n_hid=16, n_out=dataset.num_classes) # YOUR CODE HERE init your implementation of GCN\n",
    "print(gcn)\n",
    "\n",
    "loss_func = nn.CrossEntropyLoss()\n",
    "optimizer = torch.optim.Adam(gcn.parameters(), lr=0.01, weight_decay=5e-4)"
   ]
  },
  {
   "cell_type": "code",
   "execution_count": null,
   "metadata": {
    "colab": {
     "base_uri": "https://localhost:8080/"
    },
    "id": "9CRMmfy-E2aZ",
    "outputId": "ec3721e6-7490-46c5-adca-c0a8ff4e474a"
   },
   "outputs": [
    {
     "name": "stdout",
     "output_type": "stream",
     "text": [
      "Epoch: 001, Loss: 1.9452\n",
      "Epoch: 002, Loss: 1.8246\n",
      "Epoch: 003, Loss: 1.6928\n",
      "Epoch: 004, Loss: 1.5460\n",
      "Epoch: 005, Loss: 1.3542\n",
      "Epoch: 006, Loss: 1.2215\n",
      "Epoch: 007, Loss: 1.0898\n",
      "Epoch: 008, Loss: 0.9599\n",
      "Epoch: 009, Loss: 0.8495\n",
      "Epoch: 010, Loss: 0.7506\n",
      "Epoch: 011, Loss: 0.6113\n",
      "Epoch: 012, Loss: 0.5574\n",
      "Epoch: 013, Loss: 0.5015\n",
      "Epoch: 014, Loss: 0.4673\n",
      "Epoch: 015, Loss: 0.3953\n",
      "Epoch: 016, Loss: 0.3492\n",
      "Epoch: 017, Loss: 0.3012\n",
      "Epoch: 018, Loss: 0.2565\n",
      "Epoch: 019, Loss: 0.2329\n",
      "Epoch: 020, Loss: 0.2129\n",
      "Epoch: 021, Loss: 0.2032\n",
      "Epoch: 022, Loss: 0.1692\n",
      "Epoch: 023, Loss: 0.1350\n",
      "Epoch: 024, Loss: 0.1612\n",
      "Epoch: 025, Loss: 0.1317\n",
      "Epoch: 026, Loss: 0.1339\n",
      "Epoch: 027, Loss: 0.0966\n",
      "Epoch: 028, Loss: 0.1042\n",
      "Epoch: 029, Loss: 0.1008\n",
      "Epoch: 030, Loss: 0.1348\n",
      "Epoch: 031, Loss: 0.0946\n",
      "Epoch: 032, Loss: 0.0946\n",
      "Epoch: 033, Loss: 0.0969\n",
      "Epoch: 034, Loss: 0.1064\n",
      "Epoch: 035, Loss: 0.0668\n",
      "Epoch: 036, Loss: 0.0640\n",
      "Epoch: 037, Loss: 0.0531\n",
      "Epoch: 038, Loss: 0.0768\n",
      "Epoch: 039, Loss: 0.0581\n",
      "Epoch: 040, Loss: 0.0497\n",
      "Epoch: 041, Loss: 0.0667\n",
      "Epoch: 042, Loss: 0.0638\n",
      "Epoch: 043, Loss: 0.0528\n",
      "Epoch: 044, Loss: 0.0533\n",
      "Epoch: 045, Loss: 0.0522\n",
      "Epoch: 046, Loss: 0.0575\n",
      "Epoch: 047, Loss: 0.0654\n",
      "Epoch: 048, Loss: 0.0597\n",
      "Epoch: 049, Loss: 0.0321\n",
      "Epoch: 050, Loss: 0.0451\n",
      "Epoch: 051, Loss: 0.0304\n",
      "Epoch: 052, Loss: 0.0346\n",
      "Epoch: 053, Loss: 0.0369\n",
      "Epoch: 054, Loss: 0.0553\n",
      "Epoch: 055, Loss: 0.0407\n",
      "Epoch: 056, Loss: 0.0502\n",
      "Epoch: 057, Loss: 0.0391\n",
      "Epoch: 058, Loss: 0.0461\n",
      "Epoch: 059, Loss: 0.0556\n",
      "Epoch: 060, Loss: 0.0384\n",
      "Epoch: 061, Loss: 0.0432\n",
      "Epoch: 062, Loss: 0.0321\n",
      "Epoch: 063, Loss: 0.0405\n",
      "Epoch: 064, Loss: 0.0377\n",
      "Epoch: 065, Loss: 0.0440\n",
      "Epoch: 066, Loss: 0.0337\n",
      "Epoch: 067, Loss: 0.0396\n",
      "Epoch: 068, Loss: 0.0565\n",
      "Epoch: 069, Loss: 0.0550\n",
      "Epoch: 070, Loss: 0.0412\n",
      "Epoch: 071, Loss: 0.0309\n",
      "Epoch: 072, Loss: 0.0576\n",
      "Epoch: 073, Loss: 0.0495\n",
      "Epoch: 074, Loss: 0.0547\n",
      "Epoch: 075, Loss: 0.0372\n",
      "Epoch: 076, Loss: 0.0373\n",
      "Epoch: 077, Loss: 0.0531\n",
      "Epoch: 078, Loss: 0.0454\n",
      "Epoch: 079, Loss: 0.0385\n",
      "Epoch: 080, Loss: 0.0341\n",
      "Epoch: 081, Loss: 0.0465\n",
      "Epoch: 082, Loss: 0.0322\n",
      "Epoch: 083, Loss: 0.0389\n",
      "Epoch: 084, Loss: 0.0462\n",
      "Epoch: 085, Loss: 0.0306\n",
      "Epoch: 086, Loss: 0.0267\n",
      "Epoch: 087, Loss: 0.0308\n",
      "Epoch: 088, Loss: 0.0227\n",
      "Epoch: 089, Loss: 0.0370\n",
      "Epoch: 090, Loss: 0.0377\n",
      "Epoch: 091, Loss: 0.0346\n",
      "Epoch: 092, Loss: 0.0373\n",
      "Epoch: 093, Loss: 0.0291\n",
      "Epoch: 094, Loss: 0.0454\n",
      "Epoch: 095, Loss: 0.0303\n",
      "Epoch: 096, Loss: 0.0400\n",
      "Epoch: 097, Loss: 0.0394\n",
      "Epoch: 098, Loss: 0.0314\n",
      "Epoch: 099, Loss: 0.0403\n",
      "Epoch: 100, Loss: 0.0390\n",
      "Epoch: 101, Loss: 0.0378\n",
      "Epoch: 102, Loss: 0.0426\n",
      "Epoch: 103, Loss: 0.0358\n",
      "Epoch: 104, Loss: 0.0421\n",
      "Epoch: 105, Loss: 0.0330\n",
      "Epoch: 106, Loss: 0.0349\n",
      "Epoch: 107, Loss: 0.0520\n",
      "Epoch: 108, Loss: 0.0482\n",
      "Epoch: 109, Loss: 0.0333\n",
      "Epoch: 110, Loss: 0.0455\n",
      "Epoch: 111, Loss: 0.0288\n",
      "Epoch: 112, Loss: 0.0290\n",
      "Epoch: 113, Loss: 0.0363\n",
      "Epoch: 114, Loss: 0.0323\n",
      "Epoch: 115, Loss: 0.0379\n",
      "Epoch: 116, Loss: 0.0440\n",
      "Epoch: 117, Loss: 0.0383\n",
      "Epoch: 118, Loss: 0.0337\n",
      "Epoch: 119, Loss: 0.0476\n",
      "Epoch: 120, Loss: 0.0371\n",
      "Epoch: 121, Loss: 0.0313\n",
      "Epoch: 122, Loss: 0.0268\n",
      "Epoch: 123, Loss: 0.0267\n",
      "Epoch: 124, Loss: 0.0389\n",
      "Epoch: 125, Loss: 0.0564\n",
      "Epoch: 126, Loss: 0.0244\n",
      "Epoch: 127, Loss: 0.0387\n",
      "Epoch: 128, Loss: 0.0366\n",
      "Epoch: 129, Loss: 0.0375\n",
      "Epoch: 130, Loss: 0.0222\n",
      "Epoch: 131, Loss: 0.0269\n",
      "Epoch: 132, Loss: 0.0274\n",
      "Epoch: 133, Loss: 0.0442\n",
      "Epoch: 134, Loss: 0.0347\n",
      "Epoch: 135, Loss: 0.0371\n",
      "Epoch: 136, Loss: 0.0395\n",
      "Epoch: 137, Loss: 0.0326\n",
      "Epoch: 138, Loss: 0.0384\n",
      "Epoch: 139, Loss: 0.0325\n",
      "Epoch: 140, Loss: 0.0244\n",
      "Epoch: 141, Loss: 0.0398\n",
      "Epoch: 142, Loss: 0.0408\n",
      "Epoch: 143, Loss: 0.0341\n",
      "Epoch: 144, Loss: 0.0252\n",
      "Epoch: 145, Loss: 0.0235\n",
      "Epoch: 146, Loss: 0.0377\n",
      "Epoch: 147, Loss: 0.0328\n",
      "Epoch: 148, Loss: 0.0248\n",
      "Epoch: 149, Loss: 0.0470\n",
      "Epoch: 150, Loss: 0.0257\n",
      "Epoch: 151, Loss: 0.0340\n",
      "Epoch: 152, Loss: 0.0282\n",
      "Epoch: 153, Loss: 0.0276\n",
      "Epoch: 154, Loss: 0.0297\n",
      "Epoch: 155, Loss: 0.0196\n",
      "Epoch: 156, Loss: 0.0230\n",
      "Epoch: 157, Loss: 0.0345\n",
      "Epoch: 158, Loss: 0.0229\n",
      "Epoch: 159, Loss: 0.0226\n",
      "Epoch: 160, Loss: 0.0262\n",
      "Epoch: 161, Loss: 0.0384\n",
      "Epoch: 162, Loss: 0.0380\n",
      "Epoch: 163, Loss: 0.0279\n",
      "Epoch: 164, Loss: 0.0289\n",
      "Epoch: 165, Loss: 0.0275\n",
      "Epoch: 166, Loss: 0.0291\n",
      "Epoch: 167, Loss: 0.0219\n",
      "Epoch: 168, Loss: 0.0339\n",
      "Epoch: 169, Loss: 0.0228\n",
      "Epoch: 170, Loss: 0.0241\n",
      "Epoch: 171, Loss: 0.0300\n",
      "Epoch: 172, Loss: 0.0255\n",
      "Epoch: 173, Loss: 0.0248\n",
      "Epoch: 174, Loss: 0.0310\n",
      "Epoch: 175, Loss: 0.0219\n",
      "Epoch: 176, Loss: 0.0388\n",
      "Epoch: 177, Loss: 0.0305\n",
      "Epoch: 178, Loss: 0.0252\n",
      "Epoch: 179, Loss: 0.0290\n",
      "Epoch: 180, Loss: 0.0448\n",
      "Epoch: 181, Loss: 0.0256\n",
      "Epoch: 182, Loss: 0.0232\n",
      "Epoch: 183, Loss: 0.0354\n",
      "Epoch: 184, Loss: 0.0357\n",
      "Epoch: 185, Loss: 0.0236\n",
      "Epoch: 186, Loss: 0.0192\n",
      "Epoch: 187, Loss: 0.0302\n",
      "Epoch: 188, Loss: 0.0301\n",
      "Epoch: 189, Loss: 0.0301\n",
      "Epoch: 190, Loss: 0.0335\n",
      "Epoch: 191, Loss: 0.0301\n",
      "Epoch: 192, Loss: 0.0270\n",
      "Epoch: 193, Loss: 0.0203\n",
      "Epoch: 194, Loss: 0.0243\n",
      "Epoch: 195, Loss: 0.0219\n",
      "Epoch: 196, Loss: 0.0180\n",
      "Epoch: 197, Loss: 0.0204\n",
      "Epoch: 198, Loss: 0.0188\n",
      "Epoch: 199, Loss: 0.0287\n",
      "Epoch: 200, Loss: 0.0286\n",
      "Epoch: 201, Loss: 0.0176\n",
      "Epoch: 202, Loss: 0.0427\n",
      "Epoch: 203, Loss: 0.0257\n",
      "Epoch: 204, Loss: 0.0180\n",
      "Epoch: 205, Loss: 0.0181\n",
      "Epoch: 206, Loss: 0.0235\n",
      "Epoch: 207, Loss: 0.0438\n",
      "Epoch: 208, Loss: 0.0192\n",
      "Epoch: 209, Loss: 0.0271\n",
      "Epoch: 210, Loss: 0.0288\n",
      "Epoch: 211, Loss: 0.0247\n",
      "Epoch: 212, Loss: 0.0200\n",
      "Epoch: 213, Loss: 0.0174\n",
      "Epoch: 214, Loss: 0.0226\n",
      "Epoch: 215, Loss: 0.0461\n",
      "Epoch: 216, Loss: 0.0224\n",
      "Epoch: 217, Loss: 0.0248\n",
      "Epoch: 218, Loss: 0.0276\n",
      "Epoch: 219, Loss: 0.0193\n",
      "Epoch: 220, Loss: 0.0186\n",
      "Epoch: 221, Loss: 0.0289\n",
      "Epoch: 222, Loss: 0.0264\n",
      "Epoch: 223, Loss: 0.0272\n",
      "Epoch: 224, Loss: 0.0205\n",
      "Epoch: 225, Loss: 0.0208\n",
      "Epoch: 226, Loss: 0.0204\n",
      "Epoch: 227, Loss: 0.0244\n",
      "Epoch: 228, Loss: 0.0200\n",
      "Epoch: 229, Loss: 0.0347\n",
      "Epoch: 230, Loss: 0.0245\n",
      "Epoch: 231, Loss: 0.0176\n",
      "Epoch: 232, Loss: 0.0285\n",
      "Epoch: 233, Loss: 0.0358\n",
      "Epoch: 234, Loss: 0.0270\n",
      "Epoch: 235, Loss: 0.0176\n",
      "Epoch: 236, Loss: 0.0204\n",
      "Epoch: 237, Loss: 0.0223\n",
      "Epoch: 238, Loss: 0.0229\n",
      "Epoch: 239, Loss: 0.0172\n",
      "Epoch: 240, Loss: 0.0219\n",
      "Epoch: 241, Loss: 0.0356\n",
      "Epoch: 242, Loss: 0.0288\n",
      "Epoch: 243, Loss: 0.0267\n",
      "Epoch: 244, Loss: 0.0304\n",
      "Epoch: 245, Loss: 0.0159\n",
      "Epoch: 246, Loss: 0.0283\n",
      "Epoch: 247, Loss: 0.0181\n",
      "Epoch: 248, Loss: 0.0151\n",
      "Epoch: 249, Loss: 0.0256\n",
      "Epoch: 250, Loss: 0.0266\n",
      "Epoch: 251, Loss: 0.0326\n",
      "Epoch: 252, Loss: 0.0175\n",
      "Epoch: 253, Loss: 0.0223\n",
      "Epoch: 254, Loss: 0.0197\n",
      "Epoch: 255, Loss: 0.0256\n",
      "Epoch: 256, Loss: 0.0140\n",
      "Epoch: 257, Loss: 0.0194\n",
      "Epoch: 258, Loss: 0.0261\n",
      "Epoch: 259, Loss: 0.0277\n",
      "Epoch: 260, Loss: 0.0194\n",
      "Epoch: 261, Loss: 0.0235\n",
      "Epoch: 262, Loss: 0.0246\n",
      "Epoch: 263, Loss: 0.0216\n",
      "Epoch: 264, Loss: 0.0223\n",
      "Epoch: 265, Loss: 0.0211\n",
      "Epoch: 266, Loss: 0.0273\n",
      "Epoch: 267, Loss: 0.0271\n",
      "Epoch: 268, Loss: 0.0251\n",
      "Epoch: 269, Loss: 0.0207\n",
      "Epoch: 270, Loss: 0.0318\n",
      "Epoch: 271, Loss: 0.0306\n",
      "Epoch: 272, Loss: 0.0336\n",
      "Epoch: 273, Loss: 0.0226\n",
      "Epoch: 274, Loss: 0.0139\n",
      "Epoch: 275, Loss: 0.0239\n",
      "Epoch: 276, Loss: 0.0276\n",
      "Epoch: 277, Loss: 0.0278\n",
      "Epoch: 278, Loss: 0.0149\n",
      "Epoch: 279, Loss: 0.0328\n",
      "Epoch: 280, Loss: 0.0193\n",
      "Epoch: 281, Loss: 0.0238\n",
      "Epoch: 282, Loss: 0.0176\n",
      "Epoch: 283, Loss: 0.0345\n",
      "Epoch: 284, Loss: 0.0268\n",
      "Epoch: 285, Loss: 0.0192\n",
      "Epoch: 286, Loss: 0.0173\n",
      "Epoch: 287, Loss: 0.0143\n",
      "Epoch: 288, Loss: 0.0245\n",
      "Epoch: 289, Loss: 0.0291\n",
      "Epoch: 290, Loss: 0.0220\n",
      "Epoch: 291, Loss: 0.0175\n",
      "Epoch: 292, Loss: 0.0107\n",
      "Epoch: 293, Loss: 0.0160\n",
      "Epoch: 294, Loss: 0.0260\n",
      "Epoch: 295, Loss: 0.0264\n",
      "Epoch: 296, Loss: 0.0134\n",
      "Epoch: 297, Loss: 0.0233\n",
      "Epoch: 298, Loss: 0.0244\n",
      "Epoch: 299, Loss: 0.0237\n",
      "Epoch: 300, Loss: 0.0176\n",
      "Epoch: 301, Loss: 0.0257\n",
      "Epoch: 302, Loss: 0.0265\n",
      "Epoch: 303, Loss: 0.0286\n",
      "Epoch: 304, Loss: 0.0315\n",
      "Epoch: 305, Loss: 0.0237\n",
      "Epoch: 306, Loss: 0.0315\n",
      "Epoch: 307, Loss: 0.0332\n",
      "Epoch: 308, Loss: 0.0244\n",
      "Epoch: 309, Loss: 0.0226\n",
      "Epoch: 310, Loss: 0.0246\n",
      "Epoch: 311, Loss: 0.0227\n",
      "Epoch: 312, Loss: 0.0129\n",
      "Epoch: 313, Loss: 0.0325\n",
      "Epoch: 314, Loss: 0.0232\n",
      "Epoch: 315, Loss: 0.0187\n",
      "Epoch: 316, Loss: 0.0250\n",
      "Epoch: 317, Loss: 0.0142\n",
      "Epoch: 318, Loss: 0.0122\n",
      "Epoch: 319, Loss: 0.0340\n",
      "Epoch: 320, Loss: 0.0175\n",
      "Epoch: 321, Loss: 0.0203\n",
      "Epoch: 322, Loss: 0.0115\n",
      "Epoch: 323, Loss: 0.0192\n",
      "Epoch: 324, Loss: 0.0260\n",
      "Epoch: 325, Loss: 0.0123\n",
      "Epoch: 326, Loss: 0.0164\n",
      "Epoch: 327, Loss: 0.0208\n",
      "Epoch: 328, Loss: 0.0198\n",
      "Epoch: 329, Loss: 0.0353\n",
      "Epoch: 330, Loss: 0.0355\n",
      "Epoch: 331, Loss: 0.0225\n",
      "Epoch: 332, Loss: 0.0198\n",
      "Epoch: 333, Loss: 0.0241\n",
      "Epoch: 334, Loss: 0.0282\n",
      "Epoch: 335, Loss: 0.0143\n",
      "Epoch: 336, Loss: 0.0356\n",
      "Epoch: 337, Loss: 0.0362\n",
      "Epoch: 338, Loss: 0.0233\n",
      "Epoch: 339, Loss: 0.0209\n",
      "Epoch: 340, Loss: 0.0186\n",
      "Epoch: 341, Loss: 0.0123\n",
      "Epoch: 342, Loss: 0.0288\n",
      "Epoch: 343, Loss: 0.0133\n",
      "Epoch: 344, Loss: 0.0274\n",
      "Epoch: 345, Loss: 0.0195\n",
      "Epoch: 346, Loss: 0.0374\n",
      "Epoch: 347, Loss: 0.0253\n",
      "Epoch: 348, Loss: 0.0220\n",
      "Epoch: 349, Loss: 0.0136\n",
      "Epoch: 350, Loss: 0.0209\n",
      "Epoch: 351, Loss: 0.0277\n",
      "Epoch: 352, Loss: 0.0252\n",
      "Epoch: 353, Loss: 0.0215\n",
      "Epoch: 354, Loss: 0.0131\n",
      "Epoch: 355, Loss: 0.0210\n",
      "Epoch: 356, Loss: 0.0165\n",
      "Epoch: 357, Loss: 0.0284\n",
      "Epoch: 358, Loss: 0.0294\n",
      "Epoch: 359, Loss: 0.0234\n",
      "Epoch: 360, Loss: 0.0212\n",
      "Epoch: 361, Loss: 0.0267\n",
      "Epoch: 362, Loss: 0.0174\n",
      "Epoch: 363, Loss: 0.0231\n",
      "Epoch: 364, Loss: 0.0172\n",
      "Epoch: 365, Loss: 0.0218\n",
      "Epoch: 366, Loss: 0.0173\n",
      "Epoch: 367, Loss: 0.0366\n",
      "Epoch: 368, Loss: 0.0163\n",
      "Epoch: 369, Loss: 0.0178\n",
      "Epoch: 370, Loss: 0.0177\n",
      "Epoch: 371, Loss: 0.0273\n",
      "Epoch: 372, Loss: 0.0141\n",
      "Epoch: 373, Loss: 0.0158\n",
      "Epoch: 374, Loss: 0.0109\n",
      "Epoch: 375, Loss: 0.0160\n",
      "Epoch: 376, Loss: 0.0136\n",
      "Epoch: 377, Loss: 0.0144\n",
      "Epoch: 378, Loss: 0.0084\n",
      "Epoch: 379, Loss: 0.0174\n",
      "Epoch: 380, Loss: 0.0202\n",
      "Epoch: 381, Loss: 0.0266\n",
      "Epoch: 382, Loss: 0.0190\n",
      "Epoch: 383, Loss: 0.0184\n",
      "Epoch: 384, Loss: 0.0266\n",
      "Epoch: 385, Loss: 0.0243\n",
      "Epoch: 386, Loss: 0.0303\n",
      "Epoch: 387, Loss: 0.0118\n",
      "Epoch: 388, Loss: 0.0191\n",
      "Epoch: 389, Loss: 0.0314\n",
      "Epoch: 390, Loss: 0.0263\n",
      "Epoch: 391, Loss: 0.0139\n",
      "Epoch: 392, Loss: 0.0147\n",
      "Epoch: 393, Loss: 0.0199\n",
      "Epoch: 394, Loss: 0.0210\n",
      "Epoch: 395, Loss: 0.0219\n",
      "Epoch: 396, Loss: 0.0234\n",
      "Epoch: 397, Loss: 0.0268\n",
      "Epoch: 398, Loss: 0.0212\n",
      "Epoch: 399, Loss: 0.0289\n",
      "Epoch: 400, Loss: 0.0265\n"
     ]
    }
   ],
   "source": [
    "def train():\n",
    "    gcn.train()\n",
    "    optimizer.zero_grad()\n",
    "    out = gcn(data.x, data.edge_index)\n",
    "    loss = loss_func(out[data.train_mask], train_labels) # We use the dataset mask to only base the loss on the training data\n",
    "    loss.backward()\n",
    "    optimizer.step()\n",
    "    return loss\n",
    "\n",
    "def test():\n",
    "    gcn.eval()\n",
    "    out = gcn(data.x, data.edge_index)\n",
    "    pred = out.argmax(dim=1) # Go from logits to class prediction\n",
    "    test_correct = pred[data.test_mask] == test_labels  # Check against ground-truth labels.\n",
    "    test_acc = int(test_correct.sum()) / len(test_labels)  # Derive ratio of correct predictions.\n",
    "    return test_acc\n",
    "\n",
    "for epoch in range(1, 401):\n",
    "    loss = train()\n",
    "    print(f'Epoch: {epoch:03d}, Loss: {loss:.4f}')"
   ]
  },
  {
   "cell_type": "code",
   "execution_count": null,
   "metadata": {
    "colab": {
     "base_uri": "https://localhost:8080/"
    },
    "id": "FfeL46E3E9wn",
    "outputId": "fd9c310a-0fe0-47a6-f9f5-74931b66f295"
   },
   "outputs": [
    {
     "name": "stdout",
     "output_type": "stream",
     "text": [
      "Test Accuracy: 0.8000\n"
     ]
    }
   ],
   "source": [
    "test_acc = test()\n",
    "print(f'Test Accuracy: {test_acc:.4f}')"
   ]
  },
  {
   "cell_type": "markdown",
   "metadata": {
    "id": "79Sy4-joHDrV"
   },
   "source": [
    "A GN model takes the graph structure into account and therefore a GN model of simillar size to the MLP model should be able to do much better - here atleast around ~0.80 accuracy."
   ]
  },
  {
   "cell_type": "markdown",
   "metadata": {
    "id": "kJ5tBMSSHWO7"
   },
   "source": [
    "To verify that the models are simillar size we can count the number of trainable parameters:"
   ]
  },
  {
   "cell_type": "code",
   "execution_count": null,
   "metadata": {
    "colab": {
     "base_uri": "https://localhost:8080/"
    },
    "id": "1hROcIm4FSWS",
    "outputId": "b3727742-387a-4434-f63d-3636fdfa1367"
   },
   "outputs": [
    {
     "name": "stdout",
     "output_type": "stream",
     "text": [
      "MLP model parameters: 23063\n",
      "GCN model parameters: 23063\n"
     ]
    }
   ],
   "source": [
    "mlp_num_params = 0\n",
    "for p in mlp.parameters():\n",
    "    count = 1\n",
    "    for s in p.size():\n",
    "        count *= s\n",
    "    mlp_num_params += count\n",
    "\n",
    "gcn_num_params = 0\n",
    "for p in gcn.parameters():\n",
    "    count = 1\n",
    "    for s in p.size():\n",
    "        count *= s\n",
    "    gcn_num_params += count\n",
    "\n",
    "print(f\"MLP model parameters: {mlp_num_params}\")\n",
    "print(f\"GCN model parameters: {gcn_num_params}\")\n"
   ]
  }
 ],
 "metadata": {
  "colab": {
   "collapsed_sections": [],
   "name": "Deep Learning - Graph Networks - solutions.ipynb",
   "provenance": []
  },
  "kernelspec": {
   "display_name": "Python 3 (ipykernel)",
   "language": "python",
   "name": "python3"
  },
  "language_info": {
   "codemirror_mode": {
    "name": "ipython",
    "version": 3
   },
   "file_extension": ".py",
   "mimetype": "text/x-python",
   "name": "python",
   "nbconvert_exporter": "python",
   "pygments_lexer": "ipython3",
   "version": "3.7.9"
  },
  "toc": {
   "base_numbering": 1,
   "nav_menu": {},
   "number_sections": true,
   "sideBar": true,
   "skip_h1_title": false,
   "title_cell": "Table of Contents",
   "title_sidebar": "Contents",
   "toc_cell": false,
   "toc_position": {},
   "toc_section_display": true,
   "toc_window_display": false
  }
 },
 "nbformat": 4,
 "nbformat_minor": 1
}
